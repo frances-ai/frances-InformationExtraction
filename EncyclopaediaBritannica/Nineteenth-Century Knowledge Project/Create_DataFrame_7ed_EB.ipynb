{
 "cells": [
  {
   "attachments": {},
   "cell_type": "markdown",
   "metadata": {},
   "source": [
    "<h1> Creating the DataFrame </h1>\n",
    "\n",
    "\n",
    "This notebook reads in the raw txt files from the [Knowledge Project ](https://tu-plogan.github.io/source/r_releases.html) and converts it to a pandas data frame.\n",
    "\n"
   ]
  },
  {
   "cell_type": "code",
   "execution_count": 3,
   "metadata": {},
   "outputs": [],
   "source": [
    "import glob\n",
    "import regex\n",
    "import pandas as pd"
   ]
  },
  {
   "attachments": {},
   "cell_type": "markdown",
   "metadata": {},
   "source": [
    "<h5>  Dataframe Columns </h5>\n",
    "\n",
    "MMSID<br>\n",
    "editionTitle<br>\n",
    "editor <br>\n",
    "editor_date <br>\n",
    "genre<br>\n",
    "language<br>\n",
    "termsOfAddress<br>\n",
    "physicalDescription<br>\n",
    "place<br>\n",
    "publisher<br>\n",
    "referencedBy<br>\n",
    "shelfLocator<br>\n",
    "editionSubTitle<br>\n",
    "volumeTitle<br>\n",
    "year<br>\n",
    "volumeId<br>\n",
    "permanentURL<br>\n",
    "publisherPersons<br>\n",
    "volumeNum<br>\n",
    "letters<br>\n",
    "part0<br>\n",
    "editionNum<br>\n",
    "numberOfVolumes<br>\n",
    "term<br>\n",
    "definition<br>\n",
    "header<br>\n",
    "startsAt<br>\n",
    "endsAt<br>\n",
    "numberOfTerms<br>\n",
    "numberOfWords<br>\n",
    "position<br>\n",
    "termType<br>\n",
    "filePath"
   ]
  },
  {
   "cell_type": "code",
   "execution_count": 4,
   "outputs": [
    {
     "data": {
      "text/plain": "'\\neditor = \"Stewart, Dugald\"\\neditionTitle = \"Edition 7, 1771\"\\neditor_date = \"1753-1828\"\\ngenre = \"encyclopedia\"\\neditionNum = 7\\nlanguage = \"eng\"\\ntermsOfAddress = \"Sir\"\\nphysicalDescription = \"21 v. in 22 ; 4to.\"\\neditionSubTitle = \"0.0\"\\nplace = \"Edinburgh\"\\npublisher = None\\nreferencedBy = \"0.0\"\\nshelfLocator = \"EB.15Z\"\\npublisherPersons = []\\nheader = None\\nletters = None\\nvolumeTitle = \"Encyclopaedia Britannica\"\\nyear = 1842\\npart = None\\nnumberOfPages = None\\nnumberOfVolumes = 20\\nnumberOfTerms = None\\n\\n# This volumeIds list matches each volume with its volume number from 2 to 21\\nvolumeIds = [192984259, 193057500, 193108322, 193696083, 193322690, 193819043,\\n            193322688, 193696084, 193469090, 193638940, 192693199, 193108323,\\n            193322689, 193819044, 194474782, 193469091, 193469092, 193057501, 193913444, 193819045]\\npermanentURL = [\"https://digital.nls.uk/\"+str(volumeIds[i]) for i in range(len(volumeIds))]\\nMMSID = \"9910796273804340\"\\n'"
     },
     "execution_count": 4,
     "metadata": {},
     "output_type": "execute_result"
    }
   ],
   "source": [
    "#the path to the data\n",
    "data_path = \"./eb07_TXT_v2/\"\n",
    "\n",
    "#---------------------hardcoded columns to match dataframe structure---------------#\n",
    "\"\"\"\n",
    "editor = \"Stewart, Dugald\"\n",
    "editionTitle = \"Edition 7, 1771\"\n",
    "editor_date = \"1753-1828\"\n",
    "genre = \"encyclopedia\"\n",
    "editionNum = 7\n",
    "language = \"eng\"\n",
    "termsOfAddress = \"Sir\"\n",
    "physicalDescription = \"21 v. in 22 ; 4to.\"\n",
    "editionSubTitle = \"0.0\"\n",
    "place = \"Edinburgh\"\n",
    "publisher = None\n",
    "referencedBy = \"0.0\"\n",
    "shelfLocator = \"EB.15Z\"\n",
    "publisherPersons = []\n",
    "header = None\n",
    "letters = None\n",
    "volumeTitle = \"Encyclopaedia Britannica\"\n",
    "year = 1842\n",
    "part = None\n",
    "numberOfPages = None\n",
    "numberOfVolumes = 20\n",
    "numberOfTerms = None\n",
    "\n",
    "# This volumeIds list matches each volume with its volume number from 2 to 21\n",
    "volumeIds = [192984259, 193057500, 193108322, 193696083, 193322690, 193819043,\n",
    "            193322688, 193696084, 193469090, 193638940, 192693199, 193108323,\n",
    "            193322689, 193819044, 194474782, 193469091, 193469092, 193057501, 193913444, 193819045]\n",
    "permanentURL = [\"https://digital.nls.uk/\"+str(volumeIds[i]) for i in range(len(volumeIds))]\n",
    "MMSID = \"9910796273804340\"\n",
    "\"\"\"\n",
    "#----------------------------------------------------------------------------#"
   ],
   "metadata": {
    "collapsed": false
   }
  },
  {
   "cell_type": "code",
   "execution_count": 5,
   "outputs": [],
   "source": [
    "def get_term_description_without_term_name(text, name_ends_at):\n",
    "    description = text[name_ends_at:]\n",
    "    letter_match = regex.search(\"\\p{L}\", description)\n",
    "    if letter_match:\n",
    "        description = description[letter_match.start():]\n",
    "    else:\n",
    "        description = \"\"\n",
    "    return description"
   ],
   "metadata": {
    "collapsed": false
   }
  },
  {
   "cell_type": "code",
   "execution_count": 6,
   "outputs": [],
   "source": [
    "def parse_term_name_without_parenthesis(term_name):\n",
    "    last_or_index = term_name.rfind(\" or\")\n",
    "    if last_or_index == -1:\n",
    "        last_or_index = term_name.rfind(\" Or\")\n",
    "    name = term_name.upper()\n",
    "    alter_names = []\n",
    "    if last_or_index > -1:\n",
    "            text_before_or = term_name[:last_or_index]\n",
    "            name_after_or = term_name[last_or_index + 4:]\n",
    "            if text_before_or[-1] == \",\":\n",
    "                # all names after comma in text_before_or are alternative names\n",
    "                # include the one before \" or\"\n",
    "                indexes_of_comma = [index for index, char in enumerate(text_before_or) if char == ',']\n",
    "                name = text_before_or[:indexes_of_comma[0]].upper()\n",
    "                if len(indexes_of_comma) > 1:\n",
    "                    for i in range(len(indexes_of_comma) - 1):\n",
    "                        alter_name_after_comma = text_before_or[indexes_of_comma[i]+2:indexes_of_comma[i+1]]\n",
    "                        alter_names.append(alter_name_after_comma.upper())\n",
    "                alter_names.append(name_after_or.upper())\n",
    "            else:\n",
    "                # name after \"or\" is only alternative name for last word in text_before_or\n",
    "                name = text_before_or.upper()\n",
    "                index_of_last_white_space = text_before_or.rfind(\" \")\n",
    "                if index_of_last_white_space > -1:\n",
    "                    text_before_last_word_in_text_before_or = text_before_or[:index_of_last_white_space + 1]\n",
    "                    alter_names.append((text_before_last_word_in_text_before_or + name_after_or).upper())\n",
    "                else:\n",
    "                    alter_names.append(name_after_or.upper())\n",
    "    else:\n",
    "        # name = term_name\n",
    "        pass\n",
    "    return name, alter_names"
   ],
   "metadata": {
    "collapsed": false
   }
  },
  {
   "cell_type": "code",
   "execution_count": 7,
   "outputs": [],
   "source": [
    "def parse_term_name(term_name):\n",
    "    \"\"\"\n",
    "    This function extract note about this term name, and term name, and alternative names.\n",
    "    :param term_name: string with names of a term. e.g. ABA (or rather ABAU) HANIFA or HANFA\n",
    "    :return: note: string (None if no note), name: name string (primary name), alter_names: list of alternative names.\n",
    "    \"\"\"\n",
    "    parenthesis_pattern = regex.compile(r'\\s\\([\\p{L}\\p{N}\\s\\,\\.]+\\)')\n",
    "    parenthesis_match = parenthesis_pattern.search(term_name)\n",
    "    name = term_name.upper()\n",
    "    note = None\n",
    "    alter_names = []\n",
    "    if parenthesis_match:\n",
    "        text_without_parenthesis = term_name[:parenthesis_match.start()] + term_name[parenthesis_match.end():]\n",
    "        name, alter_names = parse_term_name_without_parenthesis(text_without_parenthesis)\n",
    "\n",
    "        parenthesis_match_text = parenthesis_match.group()\n",
    "\n",
    "        # extract note, or alternative name in parentheses\n",
    "        or_in_parenthesis_index = parenthesis_match_text.find(\"(or\")\n",
    "        if or_in_parenthesis_index > -1:\n",
    "            first_upper_char_index = regex.search(\"\\p{Lu}\", parenthesis_match_text).start()\n",
    "            alter_name_in_parenthesis = parenthesis_match_text[first_upper_char_index:-1]\n",
    "            alter_names.append((alter_name_in_parenthesis + name[parenthesis_match.start():]).upper())\n",
    "        else:\n",
    "            note = parenthesis_match_text[2:-1]\n",
    "\n",
    "    else:\n",
    "        name, alter_names = parse_term_name_without_parenthesis(term_name)\n",
    "\n",
    "    return note, name, alter_names"
   ],
   "metadata": {
    "collapsed": false
   }
  },
  {
   "cell_type": "code",
   "execution_count": 8,
   "outputs": [
    {
     "name": "stdout",
     "output_type": "stream",
     "text": [
      "(None, 'ANAXIMENES', [])\n",
      "('a sea term', 'ABACK', [])\n",
      "(None, 'AGARIC MINERAL', [])\n",
      "(None, 'ARMSTRONG, JOHN, M.D.', [])\n",
      "('from the principal, chief, or first mover', 'ARCHEUS', [])\n",
      "(None, 'ARUNDELIAN MARBLES', ['OXFORD MARBLES', 'PARIAN'])\n",
      "(None, 'ARAUSIO, CIVITAS ARAUSIENSIS', ['ARAUSIO, CIVITAS ARAUSICORUM'])\n",
      "(None, 'ANTIOCHIAN SECT', ['ANTIOCHIAN ACADEMY'])\n",
      "(None, 'ABA HANIFA', ['ABA HANFA', 'ABAU HANIFA'])\n",
      "(None, 'ASPHALTITES', ['LAKE OF BITUMEN'])\n",
      "(None, 'ANTIPAS HEROD', ['HEROD'])\n"
     ]
    }
   ],
   "source": [
    "# test parse_term_name function\n",
    "parse_term_name__tests = [\"ANAXIMENES\", \"ABACK (a sea term)\", \"AGARIC Mineral\", \"ARMSTRONG, John, M.D.\", \"ARCHEUS (from the principal, chief, or first mover)\", \"ARUNDELIAN Marbles, Oxford Marbles, or Parian\", \"ARAUSIO, Civitas Arausiensis or Arausicorum\", \"ANTIOCHIAN Sect or Academy\", \"ABA (or rather ABAU) HANIFA or HANFA\", \"ASPHALTITES, or Lake of Bitumen\", \"ANTIPAS Herod, or Herod\"]\n",
    "for test_text in parse_term_name__tests:\n",
    "    print(parse_term_name(test_text))"
   ],
   "metadata": {
    "collapsed": false
   }
  },
  {
   "cell_type": "code",
   "execution_count": 9,
   "outputs": [],
   "source": [
    "def extract_page_num(description):\n",
    "    \"\"\"\n",
    "    This function extract page number from term description, and remove metadata from the description, return it back.\n",
    "    :param description: description of a term, it might contain strings with \"[edition_num:volume_num:page_num]\"\n",
    "    :return: clean description without metadata, the last page number found, -1 if none found, ends_with_page_num.\n",
    "    \"\"\"\n",
    "    metadata_pattern = regex.compile(r'\\[\\d+:\\d+:\\d+\\]')\n",
    "    last_page_num = -1\n",
    "    ends_with_page_num = False\n",
    "    all_match = metadata_pattern.findall(description)\n",
    "    if len(all_match) > 0:\n",
    "        last_match = all_match[-1]\n",
    "        last_colon_index = last_match.rfind(\":\")\n",
    "        last_page_num = int(last_match[last_colon_index+1:-1])\n",
    "        if last_match == description[-(len(last_match)):]:\n",
    "            ends_with_page_num = True\n",
    "        description = metadata_pattern.sub(\"\", description)\n",
    "    return description, last_page_num, ends_with_page_num"
   ],
   "metadata": {
    "collapsed": false
   }
  },
  {
   "cell_type": "code",
   "execution_count": 10,
   "outputs": [
    {
     "name": "stdout",
     "output_type": "stream",
     "text": [
      "('no match', -1, False)\n",
      "('A ', 12, True)\n",
      "('A B C \\n  \\n another ', 261, True)\n"
     ]
    }
   ],
   "source": [
    "# test extract_page_num function\n",
    "extract_page_num_test_texts = [\"no match\", \"A [7:2:12]\", \"A B C \\n [7:2:260] \\n another [7:2:261]\"]\n",
    "for test_text in extract_page_num_test_texts:\n",
    "    print(extract_page_num(test_text))"
   ],
   "metadata": {
    "collapsed": false
   }
  },
  {
   "cell_type": "code",
   "execution_count": 11,
   "outputs": [],
   "source": [
    "def extract_reference_term_name(description):\n",
    "    \"\"\"\n",
    "    This function extracts reference terms after the word \"See\". If there are same reference name occurs multiple times, this function will only return one.\n",
    "    :param description: description of a term\n",
    "    :return: a list of reference term names\n",
    "    \"\"\"\n",
    "    # Find all matches and their end indices using re.finditer\n",
    "    matches = [(match.end()) for match in regex.finditer(\"(?i:see)[\\,\\. ]\", description)]\n",
    "    reference_term_names = set()\n",
    "    for i in range(len(matches)):\n",
    "        part_after_match = \"\"\n",
    "        if i == len(matches) - 1:\n",
    "            part_after_match = description[matches[i]:]\n",
    "        else:\n",
    "            part_after_match = description[matches[i]:matches[i+1]]\n",
    "        part_after_match = part_after_match.strip()\n",
    "        words_pattern_str = \"\\p{Lu}[\\p{L}\\-\\']*\"\n",
    "        prefix = \"the articles \"\n",
    "        reference_term_pattern_str = \"(\" + prefix + \")?\" + words_pattern_str +  \"(,?\\s\"+ words_pattern_str +\")*(\\sof(\\s(the))?(\\s\"+  words_pattern_str +\")*)?(\\s(and)\\s\" + words_pattern_str + \")?(\\sof(\\s(the))?(\\s\"+  words_pattern_str +\")*)?(?:[\\.\\,]|$)\"\n",
    "        reference_term_name_pattern = regex.compile(r\"^\" + reference_term_pattern_str)\n",
    "        reference_term_name_match = reference_term_name_pattern.match(part_after_match)\n",
    "        if reference_term_name_match:\n",
    "            reference_term_name = reference_term_name_match.group()\n",
    "            found_prefix = True\n",
    "            if prefix == reference_term_name[:len(prefix)]:\n",
    "                reference_term_name = reference_term_name[len(prefix):]\n",
    "            else:\n",
    "                found_prefix = False\n",
    "            if not reference_term_name[-1].isupper():\n",
    "                reference_term_name = reference_term_name[:-1]\n",
    "            and_index = reference_term_name.find(\" and \")\n",
    "            if found_prefix:\n",
    "                if and_index > -1:\n",
    "                    reference_term_names.add(reference_term_name[:and_index].upper())\n",
    "                    reference_term_names.add(reference_term_name[and_index+5:].upper())\n",
    "                else:\n",
    "                    reference_term_names.add(reference_term_name.upper())\n",
    "            else:\n",
    "                # Ignore reference Part, Index, Table, Figure, Plate\n",
    "                if reference_term_name.find(\"Part\") > -1:\n",
    "                    continue\n",
    "                if reference_term_name.find(\"Index\") > -1:\n",
    "                    continue\n",
    "                if reference_term_name.find(\"Table\") > -1:\n",
    "                    continue\n",
    "                if reference_term_name.find(\"Plate\") > -1:\n",
    "                    continue\n",
    "                if reference_term_name.find(\"Figure\") > -1:\n",
    "                    continue\n",
    "                reference_term_names.add(reference_term_name.upper())\n",
    "    return list(reference_term_names)\n"
   ],
   "metadata": {
    "collapsed": false
   }
  },
  {
   "cell_type": "code",
   "execution_count": 12,
   "outputs": [
    {
     "name": "stdout",
     "output_type": "stream",
     "text": [
      "[]\n",
      "[]\n",
      "['ANATOMY']\n",
      "['ANATOMY']\n",
      "['ABDUCTION']\n",
      "['MILK, RUNNET']\n",
      "['SCHOOLS', 'UNIVERSITIES']\n",
      "['ENGLAND, FUNDING SYSTEM, POLITICAL ECONOMY']\n",
      "['FIGURE OF THE EARTH']\n",
      "['GRAPTING AND GARDENINCIS']\n",
      "['CHEMISTRY']\n",
      "['VOLCANO', 'OPTICS']\n"
     ]
    }
   ],
   "source": [
    "# test function extract_reference_term_name\n",
    "extract_reference_term_name_test_texts = [\n",
    "    \"by the same name. See plate I. fig. I. \",\n",
    "    \"Fructification. See Plate LIV. FIG. 1. Spatha, a species of calix openin\",\n",
    "    \"which is nou termed diarthrosis. See ANATOMY,\",\n",
    "    \"which is nou termed diarthrosis. See ANATOMY. Something else, SEE ANATOMY \",\n",
    "    \"in surgery. See ABDUCTION\",\n",
    "    \" or lambs. See MILK, RUNNET.\",\n",
    "    \"persons employed in conducting the education of the young. See the articles Schools and Universities.\",\n",
    "    \"See the articles England, Funding System, Political Economy, and Taxation.\",\n",
    "    \"in Astronomy and Geography, one of the primary planets, bci□g the terraqueous globe which we inhabit. (See the articles Figure of the Earth, and Geology.)\",\n",
    "    \" in gardening, signifies grafting by approach. See GRAPTING and GARDENINCIS, of\",\n",
    "    \"otherwise they despise it. See CHEMISTRY, Of fermentation.\",\n",
    "    \"being put, will be set on fire. See OPTICS. BURNING-mountains. See VOLCANO.\"\n",
    "]\n",
    "\n",
    "for test_text in extract_reference_term_name_test_texts:\n",
    "    print(extract_reference_term_name(test_text))"
   ],
   "metadata": {
    "collapsed": false
   }
  },
  {
   "cell_type": "code",
   "execution_count": 13,
   "outputs": [],
   "source": [
    "def create_term_info(start_page_num, term_name, description, position):\n",
    "    note, name, alter_names = parse_term_name(term_name)\n",
    "    description = description.strip()\n",
    "    reference_terms = extract_reference_term_name(description)\n",
    "    description, end_page_num, ends_with_page_num = extract_page_num(description)\n",
    "    if end_page_num == -1:\n",
    "        end_page_num = start_page_num\n",
    "\n",
    "    if ends_with_page_num:\n",
    "        end_page_num -= 1\n",
    "\n",
    "    # 0\n",
    "    term_type = \"Article\"\n",
    "    number_of_words = len(description.split())\n",
    "    if end_page_num > start_page_num + 2 or (end_page_num == start_page_num + 2 and position == 1):\n",
    "        term_type = \"Topic\"\n",
    "    term_info = {\n",
    "        \"note\": note,\n",
    "        \"name\": name,\n",
    "        \"alter_names\": alter_names,\n",
    "        \"description\": description,\n",
    "        \"starts_at\": start_page_num,\n",
    "        \"ends_at\": end_page_num,\n",
    "        \"term_type\": term_type,\n",
    "        \"position\": position,\n",
    "        \"number_of_words\": number_of_words,\n",
    "        \"reference_terms\": reference_terms,\n",
    "        \"last_complete_term_in_page\": ends_with_page_num\n",
    "    }\n",
    "    return term_info"
   ],
   "metadata": {
    "collapsed": false
   }
  },
  {
   "cell_type": "code",
   "execution_count": 14,
   "outputs": [],
   "source": [
    "def min_index(arg1, arg2, *args):\n",
    "    \"\"\"\n",
    "    This function returns the minimal non-negative index, or -1 if all arguments are -1.\n",
    "    :param arg1:\n",
    "    :param arg2:\n",
    "    :param args:\n",
    "    :return:\n",
    "    \"\"\"\n",
    "    minial = arg1\n",
    "    if arg2 > -1 and minial > -1:\n",
    "        minial = min(minial, arg2)\n",
    "    else:\n",
    "        minial = max(minial, arg2)\n",
    "\n",
    "    if args:\n",
    "        for arg in args:\n",
    "            if arg > -1 and minial > -1:\n",
    "               minial = min(minial, arg)\n",
    "            else:\n",
    "                minial = max(minial, arg)\n",
    "    return minial"
   ],
   "metadata": {
    "collapsed": false
   }
  },
  {
   "cell_type": "code",
   "execution_count": 15,
   "outputs": [
    {
     "name": "stdout",
     "output_type": "stream",
     "text": [
      "-1\n",
      "1\n",
      "1\n",
      "0\n",
      "9\n"
     ]
    }
   ],
   "source": [
    "# test min_index\n",
    "print(min_index(-1, -1, -1, -1))\n",
    "print(min_index(1, -1, -1, -1))\n",
    "print(min_index(1, -1, 5, -1))\n",
    "print(min_index(1, -1, 0, 2,0, 5))\n",
    "print(min_index(9, -1, 20))"
   ],
   "metadata": {
    "collapsed": false
   }
  },
  {
   "cell_type": "code",
   "execution_count": 16,
   "outputs": [],
   "source": [
    "# parse term information from text\n",
    "def parse_term_from_text(text, page_num=-1, position = -1):\n",
    "    \"\"\"\n",
    "    This function will extract terms information (term name, alternative name, description, page number where a term description ends) from given text.\n",
    "    :param page_num: page number where the first term information starts.\n",
    "    :param text: text content includes metadata in the first few lines, followed by descriptions of terms with same name. The metadata was inside two lines of \"+==============+\".\n",
    "    :return: a list of object term with format of {name: str, alter_name: str, endsAtPageNum: int, description: str}\n",
    "    \"\"\"\n",
    "    # get entry text\n",
    "    entry_text = text.split(\"==+\")[2].strip()\n",
    "    lines = entry_text.split(\"\\n\")\n",
    "    # get name of this entry\n",
    "    # capital_pattern = regex.compile(r\"^[\\p{Lu}\\s\\’]+(?![a-z])\")\n",
    "    # case 1: ANAXIMENES, an eminent Greek philosopher ...\n",
    "    # case 2: AAM, or Haλm, a liquid measure in common ...\n",
    "    # case 3: AHOLIB ΛH and Aπolah are two feigned names made use\n",
    "    # case 4: ABA (or rather ABAU) HANIFA or HANFA, surnamed Al-Nooma, was the son of .....\n",
    "    # case 5: ABACK (a sea term), the situation of the sails when the surfaces .....\n",
    "    # case 6: ABA, Abas, Abos, or Abus, in Ancient Geography, the name .....\n",
    "    # case 7: A. The first letter of the alphabet in every kn\n",
    "    # case 8: ABBOTS-BROMLEY, a town in Staffordshire. ....\n",
    "    # case 9: AGARIC Mineral, a marly earth, resembling the vegetable of that name in\n",
    "    # case 10: ACCISMUS denotes a feigned refusal of something which\n",
    "    # case 11: ARC, Joan of, generally called the Maid of Orleans\n",
    "    # case 12: ARMSTRONG, John, M.D. an eminent physician, poet, and miscellaneous writer\n",
    "    # case 13: ACCOUNTANT-general, a new officer in the court of chancery,\n",
    "    # case 14: See Bangog, a small island in the Eastern Seas, near ...\n",
    "    # case 15: ADANSONIA, Ethiopian Sour-gourd, Monkeys-bread, or African Calabash-tree.\n",
    "    # case 16: AiD-de-Camp, in military affairs, an officer employed\n",
    "    # case 17: TELEGRAPH. \\nTelegraph, so named from two Greek words,\n",
    "    # case 18: Aaron and Julius, Saints, were brothers who suffered martyrdom together, during the\n",
    "    entry_name_pattern = regex.compile(r\"^\\p{Lu}+\")\n",
    "    entry_name = entry_name_pattern.match(lines[0]).group()\n",
    "    capitalised_entry_name = entry_name[0] + entry_name[1:].lower()\n",
    "    #print(f\"entry name: {entry_name}\")\n",
    "\n",
    "    words_pattern_str = \"\\p{Lu}[\\p{L}\\-\\’]*\"\n",
    "    #first_term_pattern_str = words_pattern_str +  \"(\\s\\([\\p{L}\\p{N}\\s\\,\\.]+\\))?(,?\\s\"+ words_pattern_str +\")*(\\s(and)\\s\" + words_pattern_str + \")?(,?\\s(or)\\s\" + words_pattern_str + \")?(\\sof(\\s\"+  words_pattern_str +\")?)?\"\n",
    "\n",
    "    first_term_pattern_str = words_pattern_str +  \"(\\s\\([\\p{L}\\p{N}\\s\\,\\.]+\\))?(,?\\s\"+ words_pattern_str +\")*(((\\sand)|(,?\\sor))(\\s\" + words_pattern_str + \")+)?(\\sof(\\s\"+  words_pattern_str +\")*)?(,?\\s\"+ words_pattern_str +\")*\"\n",
    "\n",
    "    term_name_pattern = regex.compile(r\"^\" + first_term_pattern_str)\n",
    "    term_name = term_name_pattern.match(lines[0])\n",
    "    parsed_info = None\n",
    "    if term_name:\n",
    "        parsed_info = []\n",
    "        #print(term_name)\n",
    "        # Get description\n",
    "        #description = lines[0]\n",
    "        description = get_term_description_without_term_name(lines[0], term_name.end())\n",
    "        #print(description)\n",
    "        term_name = term_name.group()\n",
    "        parse_term_name(term_name)\n",
    "\n",
    "        # For each of rest lines, check if it belongs to previous term, or new term starting with the same entry name.\n",
    "        start_page_num = page_num\n",
    "        for line in lines[1:]:\n",
    "            if len(line.strip()) == 0:\n",
    "                continue\n",
    "            # Make all text before first comma, period, or uppercase\n",
    "            first_hyphen_index = line.find(\"-\")\n",
    "            first_comma_index = line.find(\",\")\n",
    "            first_period_index = line.find(\".\")\n",
    "            first_hyphen_comma_period_index = min_index(first_hyphen_index, first_comma_index, first_period_index)\n",
    "\n",
    "            tmp_line = line\n",
    "            if first_hyphen_comma_period_index > -1:\n",
    "                text_before_first_comma_period = line[:first_hyphen_comma_period_index].upper()\n",
    "                if text_before_first_comma_period == entry_name:\n",
    "                    tmp_line = text_before_first_comma_period + line[first_hyphen_comma_period_index:]\n",
    "            entry_name_pattern = \"((\"+ entry_name + \")|\" + \"(\" +  capitalised_entry_name + \"))\"\n",
    "            first_term_pattern_str_remove_first_upper = first_term_pattern_str[6:]\n",
    "            term_name_pattern = regex.compile(r\"^\" + entry_name_pattern +  first_term_pattern_str_remove_first_upper + \"[\\,\\.]\")\n",
    "            tmp_term_name = term_name_pattern.match(tmp_line)\n",
    "            if tmp_term_name:\n",
    "                tmp_term_name_ends_at = tmp_term_name.end()\n",
    "                tmp_term_name = tmp_term_name.group()[:-1]\n",
    "                if description == \"\" and (tmp_term_name[:len(entry_name)].upper() == entry_name):\n",
    "                    # previous description was empty, create new description based on this line\n",
    "                    pass\n",
    "                else:\n",
    "                    # create and add term_info to parsed_info\n",
    "                    term_info = create_term_info(start_page_num, term_name, description, position)\n",
    "                    parsed_info.append(term_info)\n",
    "                    end_page_num = term_info[\"ends_at\"]\n",
    "                    last_complete_term_in_page = term_info[\"last_complete_term_in_page\"]\n",
    "                    position += 1\n",
    "                    if last_complete_term_in_page:\n",
    "                        position = 1\n",
    "                    else:\n",
    "                        if end_page_num > start_page_num:\n",
    "                            # If previous term continues in this page, then this term is the second term in this page\n",
    "                            position = 2\n",
    "                    start_page_num = end_page_num\n",
    "\n",
    "                # create new term name\n",
    "                term_name = tmp_term_name\n",
    "                description = get_term_description_without_term_name(tmp_line, tmp_term_name_ends_at)\n",
    "\n",
    "            else:\n",
    "                description += \"\\n\" + line\n",
    "\n",
    "        term_info = create_term_info(start_page_num, term_name, description, position)\n",
    "        parsed_info.append(term_info)\n",
    "    return parsed_info"
   ],
   "metadata": {
    "collapsed": false
   }
  },
  {
   "cell_type": "code",
   "execution_count": 17,
   "outputs": [
    {
     "name": "stdout",
     "output_type": "stream",
     "text": [
      "<regex.Match object; span=(0, 14), match='AGARIC Mineral'>\n"
     ]
    }
   ],
   "source": [
    "# test regex pattern\n",
    "pattern = regex.compile(r\"^\\p{Lu}+(\\s\\([\\p{L}\\s]+\\))?(\\s\\p{Lu}\\p{L}*)*\")\n",
    "test_text = \"AGARIC Mineral,\"\n",
    "print(pattern.match(test_text))"
   ],
   "metadata": {
    "collapsed": false
   }
  },
  {
   "cell_type": "code",
   "execution_count": 18,
   "outputs": [],
   "source": [
    "def assert_terms(input_terms, expected_terms):\n",
    "    if len(input_terms) != len(expected_terms):\n",
    "        return False\n",
    "    for index in range(len(expected_terms)):\n",
    "        expected_term = expected_terms[index]\n",
    "        for key in expected_term.keys():\n",
    "            if input_terms[index][key] != expected_term[key]:\n",
    "                return False\n",
    "    return True"
   ],
   "metadata": {
    "collapsed": false
   }
  },
  {
   "cell_type": "code",
   "execution_count": 19,
   "outputs": [
    {
     "name": "stdout",
     "output_type": "stream",
     "text": [
      "This test case failed, it gets -> [{'note': None, 'name': 'ANIMALCULE', 'alter_names': [], 'description': 'a diminutive term (from the word animal), applied by naturalists to those minute beings which become apparent in various fluids when subjected to the microscope. They were named infusory animals (Infusoria) by Müller, one of the most celebrated observers in this department of zoology; and the appellation, however inapplicable, now occurs in the majority of scientific publications. Of course it applies with propriety only to such species as arc developed through the medium of infused substances. Now we know, that of 400 species of Infusoria (commonly so called) described by Müller himself, not a sixth part were observed in any kind of infusions; whilst the remainder inhabited the most translucent waters, and speedily died when placed in impure or corrupted liquids. Even the word animalcule (or little animal) does not convey a positive or sufficiently restricted idea in relation to this particular class; because mites and certain polypi are extremely minute in their dimensions, and equally require the aid of microscopical investigation; and thus the term microscopies (microscopiques), recently proposed by Μ. Bory de St Vincent, is not less faulty than its predecessors. The size of an animal, in fact, bears no essential relation to the other conditions of its organization; and therefore we cannot infer its nature with any certainty from a knowledge of its dimensions. At the same time it must be admitted, that the most simply organized, both of plants and animals, are also the most minute; and thus the Infusoria may be regarded as possessed of certain characters in common. We here adopt the word Animalcule, chiefly because it is the most familiar to the English reader.\\nThe subjects of our present observations may be thus defined :— Animals invisible to the naked eye; The Volvox globator, and a few others, which are just discernible without the aid of a microscope, form exceptions to the above character. more or less translucent ; unprovided with members (the caudal, and other appendices, with which certain species are furnished, being scarcely regardable as such); no perceptible eyes; contractile in whole or in part ; endowed with the sense of touch ; deriving nourishment by absorption ; generation (when not apparently spontaneous, and consequently incomprehensible) effected by division, or by the emission of gemmules or oviform bodies ; inhabitants of liquids. They are the smallest and most simple of living creatures, but not less perfect than the other tribes; for though they possess the fewest faculties, their means are in every way adequate to their wants, and their vital energies proportioned to their sphere of enjoyment.\\nAmong microscopical animals we find many species which, in their aspect and structure, present no analogy to other forms of animal life: they are merely moving molecules of the simplest organization, the exact nature of which it is sometimes difficult to determine, and which involve in deeper obscurity the mysterious line of demarcation by which we so often seek in vain to separate the animal from the vegetable kingdom. If, however, the true distinction between plants and animals consists chiefly in the irritability and power of contraction possessed by the latter, then the Infusoria, which are strongly endowed with these attributes, are indeed so far removed from the vegetable kingdom, that the name of Zoophytes, or animal plants, is inapplicable to the class to which they belong. In the extreme simplicity of their structure, they no doubt present some analogy to the least complicated tribes of plants, such as the algae and others; but it is a mere analogy, and not a connection of affinity,—for no alliance beween these kingdoms has ever been demonstrated, although certain obscure phenomena may have presented difficulties in the way of our investigations. “We need not be surprised,” Mr Macleay observes in his Horoe Entomologicae, “that several of the Linnaean algae should be still hovering in a state of uncertainty between the two kingdoms; but, on the contrary, be prepared to expect additional proofs of the analogy which the two great divisions of organized matter bear to each other. The Agastria, or Agastraires of De Blainville, are indeed animals, though they have neither distinet organs of sense, alimentary canal, nor even mouth,—though they have, in short, so far as our present knowledge of them would lead us to believe, no internal digestion whatever to execute, but trust for nourishment, like plants, to the absorption of their external pores. They must be esteemed animals on account of their peculiar irritability; but are vegetables in almost every other respect.”\\nOur knowledge of the history of animalcules resulted from the improvement of the microscope by Hartzoeker and Leeuwenhoeek. The ancients were consequently unacquainted with the mysteries of this “invisible world ;” and we are thus saved the tedium of a lengthened bibliographical investigation. Notwithstanding the observations of Hill, Baker, Ledermuller, Goeze, Gleichen, Roësel, Pallas, Needham, Spallanzani, and several other minute and laborious inquirers, it may be said that this branch of zoology only assumed a truly seientific form in consequence of the labours of a distinguished Danish naturalist, Otho Frederic Müller. His earlier works, such as the Vermium Terrestrium, et Fluviatilium, Historia, and the Zoologiae Danicae Prodromus, presented very decided improvements in the knowledge and classification of animalcules. These emendations were transferred by Gmelin to the 13th edition of the Systema Natures of Linnaeus, in which animalcules form the fifth order of the class of Vermes. But the work which, had the rest been wanting, would alone have immortalized the name of Müller, appeared (posthumously) in 1786, under the title of Animalcula Infusoria, Fluviatilia et Marina. It is illustrated by 50 plates, containing figures of 360 species variously represented. A later and very useful compendium of knowledge regarding microscopical animals forms a portion of the Encyclopédie Méthodique (46th livraison), in which Bruguière has reproduced the plates of Müller, with the addition of several others of equal accuracy from the third volume of Roësel\\'s lnsecten-belustigungen. The reader will there find descriptions of 28 plates, containing nearly 1100 figures representing 385 animalcular species.\\nBefore proceeding further, we shall present a brief view of the system of Müller, as of high importance in itself, and the fondamental basis of the more recent and improved arrangements. It includes, however, several genera which are not now classed among the animalcular tribes. He divides the Class of Animalcula Infusoria as follows:\\n[table]\\nIn the year 1815 Lamarck published the first part of his Animaux sans Vertèbres, a work which forms an epoch in the history of the inferior tribes. In this signal publication the author adopts a different course from that usually followed by systematic writers; and pursuing an ascending rather than a descending scale, he commences with the lowest and least complex species, viz. the Infusoria. From this class, however, he rejects all those species in which any kind of complication of organs is apparent. All the genera so distinguished are referred by him to the first order of the second class of the animal kingdom, called Polypi, under the title of Polypi ciliati; and the true and restricted Infusoria are thus defined: Microscopical animals, gelatinous, transparent, polymorphous, contractile ; having no distinct mouth, nor constant, determinable, internal organs ; generation fissiparous or sub-gemmiparous. The genus Kerona, it may be further remarked, is in this system united to the Himantopus of Müller, while the genus Ccrcaria of that author is divided into two. Thus the class Infusoria of Lamarck, composed of two great sections, the naked and the appendiculated, may be said to correspond to the first 14 genera of the Danish naturalists.\\nCuvier, in the Pègne Animal (1817), places the Infusoria as a part of his fourth great division, the zoophytical or radiated animals. The term radiated was originally bestowed on a numerous tribe of animals, such as the Asterias and others, on account of their arms or tentacula being extended in a radiated or star-like form; but it certainly applies unfitly to the true Infusoria of Lamarck, which possess nothing resembling a radiated structure. It cannot, however, be always expected that a general term of wide import should apply with etymological accuracy to every part of the extensive series which it is intended to embrace. Cuvier then divides his Infusoria into two orders, Les Rotifères, and Les Infusoires homogènes, the former of which correspond to the ciliated polypi of La-march, the latter to the Infusoria properly so called of that author.\\n\\' According to Μ. de Blainville, the class Infusoria can scarcely be regarded as established upon a natural foundation. The organization of its component tribes is so various , as to lead to the belief that a more precise knowledge would show that several of those tribes belong to different types of the animal kingdom. Some, as the genus Brachionus, are symmetrically formed both as regards their bodies and appendages, and are protected by a homy or crustaceous covering. Others, as Vibrio, Paramaecium, &c. have the body elongated, depressed, vermiform, and without appendages. A third division exhibit a radiated structure, as for example the Vorticellae, which, however, we have already stated, are now seldom classed among the Infusoria. Many genera, such as Proteus, Volvox, Monas, are amorphous, or without determinate form, and cannot be referred to any other known type of the animal kingdom. They are regarded by many as the elementary molecules of all animal life, and in their structure no other than the cellular tissue is observable. They may be said to be dependent on external circumstances, instead of being able, like other animals, to modify or control them; and their usually spherical form is the necessary result of an equal pressure of water .on all sides of a frail and yielding texture. Μ. de Blainville considers the genera Brachionus, Urcelaria, Cercaria, Fur-cularĩa, Kerona, Trichocerca, and Himantopus, as belonging to the type of Enlomozoaires or articulated animals, and especially to the class Heteropoda, order Entomostraca. Many species of Vibrio he regards as Apodes, as well as Paramoecium and Kolpoda. Other species of the genera Vibrio and Cyclidium ought rather to be ranged with the Planaria; and in the genus Leucophra there is even a species which Μ. de Blainville is inclined to look upon as an Ascidia! Finally, the genera Gonium, Proteus, Volvox, and Monas, if they are really animals, appear to form a distinct type, which may be called Amorphes or Agastraires; so named from the circumstance of their having neither determinate form nor reduplication of the external envelope for the formation of a stomach, as in all other true animals.\\nSuch is a brief exposition of the views of one of the most distinguished physiological inquirers of the present day. It may serve, if for nothing more, at least to show the unsettled state of opinion concerning these extraordinary creatures. In regard to this, however, we may rest assured that, in the future progress of science, the class Infusoria, as at present constituted, will suffer an entire dismemberment, and its component parts will be referred to various groups of the animal kingdom, some of them widely distant from each other.\\nIn the year 1826 a full and most elaborate classification of microscopical animals was given to the world by Μ. Bory de St Vincent. As it is the singular mode of existence of animalcular beings, their general economy in the field of nature, the actual conditions of their organization, and the state of their limited faculties so far as these can be ascertained, with which we are chiefly interested—so, in our systematic view of this extraordinary class, we shall merely present to our readers the characters of the principal genera, and of a few of the most remarkable species which they contain. But, as some may be desirous to possess at least a sketch of the full extent and condition of this intricate subject, we have constructed the accompanying tabular scheme of the orders, families, and genera of microscopical animals, according to the views of Μ. Bory de St Vincent, the latest and most assiduous writer on this department with whose labours we are acquainted. We have thought it advisable to retain the terms of the original language,\\'lest, by inadvertence or misconception on the part of the translator, any additional obscurity should rise around a subject already sufficiently encumbered. (See Tabular View on the opposite page.) J\\nThe order Gymnodes of Bory de St Vincent nearly cor. responds to the entire class Infusoria of Lamarck; and although the observations by which he illustrates his arrangement partake of the accustomed defects of the French philosophy, the facts which he details, if not the theore∙ tĩcal views which he inculcates, are worthy of an atte∏. tive consideration. These mysterious creatures are observed to swim with astonishing rapidity; and although their bodies are usually diaphanous, it has hitherto proved impossible, even by the aid of the most powerful glasses, to ascertain by what natural mechanism these movements are effected. They direçt their courses by a discretionary power, in one direction rather than another, avoiding and turning round opposing obstacles, according to the necessities of the case—discerning, as the process of evaporation proceeds, the points in which they may prolong their existence, and flocking in crowds to those places where they are best screened from the overpowering bril· liancy of the reflecting mirror. They thus appear to possess volition, which we are accustomed to regard as a result dependent on the faculties of perception and comparison.\\nThe principal obstacle to our understanding the essential nature of animalcules results from their want of a nervous system, which, in ourselves, and in all the intermediate classes of the nature of whose’ consciousness we have even a vague idea, we regard as the sine qua non of sensation and intelligence. Voluntary motion without muscular action is also a circumstance which we cannot very clearly comprehend. But as there may be “more things in heaven and earth than are dream’t of in our philosophy,” we must not reject facts, that is to say appearances which present themselves under the same determinate and uniform aspect to various unprejudiced observers, merely because they do not coincide, or may possibly controvert or interfere, with a previous hypothesis. On the other hand, the extreme softness of texture, and excessive minuteness, of most of the animalcular species, render anatomical investigation almost impossible; and naturalists may have erred in suppo⅞ing the absence of what they are merely unable to perceive and demonstrate.\\nIt is in truth impossible to discover any traces of the nervous system, even among several tribes of animals in other respects much more highly organized than the subjects of our present inquiry. Trembley’s examination of the Polypus threw no positive light upon the matter; nor did Gade’s dissections of the larger Medusae enable him to discover either muscular or nervous fibres. According to Μ. Bory de St Vincent, the nervous system is one of the last to be developed. To the perfect simplicity of the Monads, the first perceptible addition is that of a central cavity, or rudimentary intestinal sac, which we find to occur even before the existence of a mouth. Next appears an opening to this canal, which serves both for the reception of nourishment, and the rejection of excrementitious parts where such exist. The hairs andcirrated appendages which ensue in still more complicated species have been regarded as the early rudiments of the respiratory system; and even a heart, or central organ of a circulating fluid, is partly developed before the appearance of any nervous chords. The earliest, most general, and perhaps the only indispensable function of animal life, is that of nutrition· But the materials of nutrition are so different, and their modes of reception so various, that the exercise of this\\n\\n[table]\\n\\nfunction by no means necessitates the existence of a mouth, a stomach, or an alimentary\\' canal; for an increase of parts may be effected even through the medium of imponderable or elastic fluids, and by imperceptible and superficial pores.\\nThe exterior of an infusory animal may be compared to the interior of one of the higher classes, in which nutrition is carried on by the reception of the chyle by the absorbent pores. These pores are external among the Infusoria, and the process of absorption is with them analogous to that of plants, in which there is a direct reception and appropriation of fluids from the earth and air, without any previous preparation in a central cavity or stomach. Zoophytes in general have indeed been called the cryptogamia of the animal kingdom. According to Carus, the Infusoria ought to be regarded merely as little cells, partially filled with lymph, and possessed of the powers of nutrition and locomotion; and thus the infinite changes and variations perceptible in their forms may be supposed to be produced by the various degrees in which this fluid is collected at one or other of the points of their bodies. In the opinion of that anatomist, a more complete development of the organs of motion, and indeed of the whole organization, is inseparably united with the appearance of a distinct nervous system. This may be true as a general rule, but not as a universal principle; for the Medusa has more apparent voluntary motion than the Asterias, though the former is destitute of those nerves which in the latter make their first appearance in the shape of a pale thread-like ring surrounding the oesophagus. It is this ring around the upper extremity of the alimentary canal which, in the molluscous and articulated classes, we shall afterwards find to constitute the most uniform and most essential portion of the nervous system. The Medusae, just referred to, being almost of the same specific gravity with water, are easily carried by currents, and moved about from place to place by the action of the waves, or even (as in the case of Holoťhuria physalis) by the winds; but Carus and other writers have assuredly erred in doubting that they execute a voluntary locomotion; for that they do so in a very decided and graceful manner must be obvious to all who have attended to these animals in their native haunts along the shores, or among the land-locked waters of the beautiful firths of Scotland.\\nThe mysteries revealed by the glasses of Leeuwenhoeck were at first regarded as beyond belief. The uncertainty of microscopical investigations, in consequence of which so much was supposed to depend on the imagination of the beholder, was alleged against them; and even at an after-period, when men of sober judgment and the most industrious application had confirmed the experience of the indefatigable Dutchman, the wit of Voltaire did not disdain to throw its cutting sarcasm over the disciples of the “anguilles de la pâte et du vinaigre.” We hope it is now admitted, that however frequently those who endeavour to expound the mysteries of nature may fail in their attempts at elucidation, yet that there is nothing in the manifold works of Omnipotent Wisdom which, if duly studied and rightly understood, would not conduce to our wellbeing and happiness; and that a single square inch of water, with its many millions of animalcular atoms, is in truth as wonderful a work of divine intelligence, and as interesting a field for human investigation, as the starry galaxy of heaven.\\nIn his tam parvis, atque tam nullis, quae ratio! Quanta vis! quam inextricabilis perfectio!\\nAnd if a heathen philosopher (Pliny) has so expressed his almost reverential admiration, is it pot to be deplored that those whose labours might be carried on under the ⅛fl u . ence of a purer light, seem as often degraded as exalted\\'\\' by the contemplation of their Creator’s works; and, referring all to the powers of nature, or some other indefinite abstraction, refuse to recognise, amid so many wonders, the “Good Supreme” from whom these and other mightier wonders have proceeded? It is in the study of the subject with which we are now engaged, and the analogous pursuits of physiology, where the completion of the most perfect design and the happiest results of superhuman forethought are so constantly manifested, that w e frequently meet, where we should least expect it, with the sneer of the sceptic, or the impious ridicule of the unbeliever. \\' How different are the sentiments ∙ of one who combines the piety of the Christian with the genius of the poet and philosopher. “But about the time of its invention (the invention of the telescope), another instrument was formed, which laid open a scene no less wonderful, and rewarded the inquisitive spirit of man with a discovery which serves to neutralize the whole of this argument. This was the microscope. The one led me to see a system in every star; the other leads me to see a world in every atom. The one taught me that this mighty globe, with the whole burden of its people and of its countries, is but a grain of sand on the high field of immensity; the other teaches me that every grain of sand may harbour within it the tribes and the families of a busy population. The one told me of the insignificance of the world I tread upon; the other redeems it from all its insignificance; for it tells me, that in the leaves of every forest, and in the flowers of every garden, and in the waters of every rivulet, there are worlds teeming with life, and numberless as are the glories of the firmament. The one has suggested to me, that beyond and above all that is visible to man, there may lie fields of creation which sweep immeasurably along, and carry the impress of the Almighty’s hand to the remotest scenes of the universe; the other suggests to me, that within and beneath all that minuteness which the aided eye of man has been able to explore, there may be a region of invisibles; and that, could we draw aside the mysterious curtain which shrouds it from our senses, we might then see a theatre of as many wonders as astronomy has unfolded, a universe within the compass of a point so small as to elude all the powers of the microscope, but where the wonder-working God finds room for the exercise of all his attributes, where he can raise another mechanism of worlds, and fill and animate them all with the evidence of his glory.”^[2. Chalmers’s Astronomical Discourses, p. 112. ]\\nAlthough we cannot hope to derive the same amusement or advantage from the study of each of the animalcular species considered separately, as we do from the consideration of the history of many of the higher animals, yet, in a philosophical point of view, a knowledge of the general attributes of the class presents several highly important objects; and their obscure origin, their singular organization, and more singular mode of existence, cannot fail to excite our unfeigned wonder and admiration. They can scarcely be described otherwise than by a negation of all those characters which constitute the life, power, and activity of other beings; they have no head, no eyes, no muscles, no blood-vessels, no nerves, no determinate organs for respiration, generation, or digestion—and yet they are endowed with life.\\nThe animal nature of the Infusoria has indeed been denied by many; but such is the regular gradation from the most simply organized of the monadal forms to the much more complicated structure of the Polypi, which present, under a remarkable aspeet, sueh unequivoeal charaeters of animality, that it is impossible to draw the line of demarcation; and if we admit the life of the one we can scarcely doubt that of the other. Yet many of the Infusoria appear to present the very lowest coneeivable point to which animal life can be reduced.\\nThe structure of an animal, the individual existence of which is preserved by the absorption of a circumambient fluid, and the eontinuance of whose species is effected by the division or separation of a part of its own body, might, a priori, be supposed to be of the most simple kind. “We may rest assured,” observes Lamarck, “that whenever an organic function is itself unnecessary, the special organ by which it is usually performed will not be found to exist.” It is indeed by eonsidering the nature of the Infusoria that we are enabled to form a proper idea of the simplest condition of animal life; and the invention of the telescope was not of higher importance to the astronomer, than that of the microscope to the physiological naturalist. There are few subjeets of refleetion more interesting than the uses whieh philosophers of an enlightened age have deduced and matured from the scanty knowledge of a barbarous people. Glass, a material known it an early period to the Asiatie nations, and once estimated at its weight in gold, has become in the hands of Europeans of more value than the finest gold. Whoever polished the first lens may be said to have laid the foundation of an instrument destined to discover thousands of celestial worlds above and around us, and an unseen world of wonders beneath our feet. “Indeed,” says Cuvier, “it could not be expected that those Phoenician sailors vho saw the sand of the shores of Boetica transformed by fire into a transparent glass, should have at once foreseen that this new substanee would prolong the pleasures of sight to the old; that it would one day assist the astronomer in penetrating the depths of the heavens, and in numbering the stars of the milky way; that it would lay open to the naturalist a miniature world as populous, as rich in wonders, as that whieh alone seemed to have been granted to his senses and his eontemplation; in fine, that the most simple and direct use of it would enable the inhabitants of the coast of the Baltic Sea to build palaces more magnificent than those of Tyre and Memphis, and to cultivate, almost under the frost of the polar eircle, the most delicious fruits of the torrid zone.”^[3. Réflexions sur la Marche actuelle des Sciences, &c. read to the Institute of France in April 1816. ]\\nThe faculties of the most simple infusory animals, it has been observed, are reduced to such as are eommon to all living beings, and to that irritability whieh results from their animal nature; and their bodies are destitute of special organs, precisely beeause their extremely limited faeulties neither require nor admit of such organs being exercised. The chief interest to be derived from the study of this class of beings results, aeeording to Lamarck, from the view with which such study presents us of the ultimate point to which the organization of an animal is capable of being reduced; and, among all the the wonders of the creation, he regards as the most surprising the existence of animal life in such inconceivably frail and simple bodies as the least complicated of the animalcular speeies. It is not, however, to be said that “nature was incapable of forming special organs from the naterials of these frail gelatinous bodies,” but rather that he all-wise Author and Ruler of Nature has seen fit to form them in what to us may appear a destitute and incomplete condition, merely because their strueture does not fulfil those other conditions which, erroneously, we have sought to establish as the indispensable bases of animal life. They truly show how confined a knowledge our limited faeulties enable us to gain of His unlimited power; for they not only present no analogy to other more aceustomed forms of life, but almost seem to exist in direct opposition to those laws in accordance with which we “live, move, and have our being.”\\nInfusory animals, eommonly so called, are found in the fresh and saline waters of all countries. They occur both naturally, if we may use the term in a contradistinctive sense, and as the apparent result of infused animal and vegetable substanees. According to Leeuwenhoeck, the milt of a eod-fish contains more animalcules than there are individuals of the human race existing on the face of the earth; and he ealeulated that 10,000 might be held within the bulk of a grain of sand. The size of many bears the same relation to that of a mite as the dimensions of a bee do to those of an elephant; and the most powerful microscopes frequently discover nothing more than merely perceptible points in motion. Flour and water made to the consistenee of book-binders’ paste, exposed in an open vessel, and frequently stirred to prevent the surface from growing hard, will in a few days be found to contain millions of animalcules. The thin pellicle whieh grows on the surface of an infusion of common black pepper also produees an innumerable congregation of minute beings. Of these and others the real origin is still exceedingly obseure; and both Müller and Spallanzani maintained the improbable opinion that they fell from the air. Their subsequent inerease or multiplication is obviously effected in different and very singular ways. Such as are spherical are usually propagated by minute portions, whieh, though they burst from the anterior of the animalcule itself, cannot be called eggs; and sueh as are of a depressed or flattened form eontinue their raee by cuttings or divisions of their own bodies. We first observe a line or groove, longitudinal or transverse, according to the species; and ere long a notch or incision is perceptible at one or other or both of the ends of that apparent line. This notch increases across or longitudinally, till at last a portion is separated or eut off, or the original animal is divided into two, and each assumes the form and nature of their mutual predecessor. These new objects retain for some time their natural shape, and then in their turn give rise to one or more individuals by a similar separation of parts. Lamarek seems to be of opinion (Philosophie Zoologique, tome ii. p. 120 and 150) that this multiplication by division, and that by the emission of gemmules or oviform portions, are modifications of one and the same natural process ;—that substantially eaeh is the result of an extension and separation of parts, whieh take place when the parent individual has reached the final term of its increase. It is in faet the same exeess of nourishment’ and growth of partieular parts that, even in the higher classes, give rise to the germ of separate life, physically considered, although in regard to these the additional proeess of fecundation is required. It is the new light whieh may be gathered from the observation of the minutest of the animaleular tribes that renders their study both interesting and important to the physiologist; and it is the belief of some, that a persevering study of the history of microscopical animals will one day enable us to withdraw the mysterious veil whieh still eoneeals from our view the most important secrets of nature.\\nThe systematic arrangement of animalcules which we propose to follow in this place is nearly that of Lamarck, which is itself founded on the systems of. Müller and Bruguičre. The French naturalist includes in his system only such species of the same class described by Müller as are destitute of a mouth.\\nOrder I.— Naked Infusoria. Body extremely simple, apparently homogeneous, unprovided with organs or external appendages.\\nThe naked Infusoria are the smallest and simplest of those animals which are cognizable by the senses of man. When we expose water to air and light, especially if it contains an infusion of animal or vegetable remains, we speedily perceive, by the assistance of the microscope, a variety of animalcules. These are divided into two sections.\\nSection I.— Body Thick. Of this section the bodies present such a perceptible degree of thickness as removes them from the simply membranous state. Genus Monas. —Body extremely small, of the simplest construction, transparent, punctiform.\\nThe Monads are the smallest and least organized of living creatures. We have indeed scarcely any proof of their animal life, except that they are moving corpuscles, allied to the genus Volvox, the animality of which is undoubted. They have neither mouth nor alimentary canal, nor any apparent organs. They live by absorption, and arc found in tranquil, but rarely in limpid waters. They are produced in infusions of animal and vegetable substances.\\nSp. 1. Monas termo. — An extremely minute gelatinous point, scarcely perceptible even with the aid of a powerful lens, and frequently disappearing under a strong light in consequence of its perfect transparency. This species is common in ditch-water, and in numerous infusions. See Plate XLVI. fig. 1. These minute creatures being the earliest discernible evidence of animal life, and the last result to which the higher and more perfect forms can be reduced by infusion, have been called the alpha and omega of all organized existence. Their history has given rise to many curious views, and more absurd speculations.\\nSp. 2. Monas atomus. — White, with a variable darkcoloured spot, which appears to change its position. This species was found in sea-water which had been kept an entire winter, but was not very fetid. See Plate XLVI. fig. 2 and 3.\\nSp. 3. Monas punctum. — Nearly black, of a sub-cylindrical form. Found in the infusion of the pulp of a pear.\\nSp. 4. Monas lens. — Hyaline, of an ovoid form. Found in all kinds of waters. Multiplies by spontaneous incision.\\nBp. 5. Monas pulvisculus. — Hyaline, with a greenish margin. Found in the waters of marshes. This species has been lately regarded as an enchelis. Indeed, so great is the difficulty of microscopical investigation, and such indefatigable patience is required in order to see things as, they really are, that the species and genera of this class of beings are frequently transposed and altered in their relative position and arrangement, in consequence of the very dissimilar views which different observers have taken of the same object.\\nAs it would be inconsistent with our present limits to describe more than a few species of each genus, we shall content ourselves with the preceding Monads. “How many kinds,” observes Mr Adams, « there may be of these invisibles, is yet unknown, as they are discerned of all sizes, from those which are barely invisible to the naked eye, to such as resist the force of the microscope, as the fixed stars do that of the telescope, and, with the greatest powers hitherto invented, appear only as so many moviι√ points.”\\nGenus Volvox. —Body very simple, transparent, spherical or ovoid, revolving on itself as on an axis.\\nWith the exception of one species (V. globator) the vol-voces are invisible to the naked eye. Under the micro· scope they assume the aspect of small gelatinous masses, which sometimes present an oval form. In some the body seems composed of numerous smaller globules united in one common mass. There is reason to suppose that these interior bodies are afterwards propelled outwardly, and become separate individuals. The species occur both in fresh and salt waters, and in vegetable infusions. They derive their generic name from the manner in which they turn or revolve upon their axis. Leeuweņhoeck describes an animalcule “a thousand times smaller than a louse’s eye, which exceeded all the rest in briskness,” and turned itself round as it were upon a point, with the celerity of a spinning-top. The genus is divisible into two sections.\\n* Interior of the body apparently simple and homogeneous. Sp. 1. Volvox punctum. — Spherical, blackish, with a central lucid point. Of this species many are sometimes seen together in their passage through the water. They occasionally move as if subjected to the influence of a whirlpool, and then separate. Numerous in fetid seawater.\\nSp. 2. Volvox granulum. — Spherical, green, periphery hyaline. Dwells in the water of marshes.\\nSp. 3. Volvox globulus. — Globular, sub-obscure behind. This species is ten times larger than the Monas lens. It occurs in most vegetable infusions, and moves with a slow fluttering motion. Plate XLVI. fig. 4.\\n* * Interior of the body exhibiting smaller corpuscles. Sp. 4. Volvox pilula. — Spherical, with greenish internal globules. In those pure waters which nourish the Lenina minor. Plate XLVI. fig. 5.\\n>Sp. 5. Volvox lunula. — Roundish and transparent, and composed of an innumerable assemblage of homogeneous crescent-shaped molecules, without any common margin. Its movements are of two kinds, that of the molecules among themselves, and that of the whole revolving mass. It occurs in marshy places in the early spring. Plate XLVI. fig. 6.\\nSρ. 6. Volvox globator. — Commonly called the globeanimal. Spherical, membranous, the internal globules distant or scattered. Abundant in the infusions of hemp and tremella, and in stagnant pools during spring and summer. The following is an account of it by Mr Baker. “There is no appearance of either head, tail, or fins, and yet it moves in every direction, backwards, forwards, up or down, rolling over and over like a bowl, spinning horizontally like a top, or gliding along smoothly without turning itself at all; sometimes its motions are very slow, sometimes very swift; and, when it pleases, it can turn round as upon an axis very nimbly, without moving out of its place. The body is transparent, except where the circular spots are placed, which are probably its young.” Another authority states that this species is at first very small, but increases to such a size that it may be discerned by the naked eye, and that its interior is filled with small globules, which are smaller animalcules, each of which contains within itself a still smaller generation, all perceptible by means of powerful glasses. The lesser globules may be seen escaping from the parent, and increasing ® size.\\n\\nGenus Proteus.— Body very small, simple, transparent, of varying form, changing itself instantaneously into ». different lobated shapes.\\nThis genus is more obviously contractile than the preceding. It is seldom seen above a minute under the same form, but is continually passing from a simple oval or oblong to an irregular or sinuated shape, and vice versa. A species described by Roësel is so remarkable for this faculty, that it has been compared to a drop of water thrown upon oil. Hence also the generic name.\\nSp. 1. Proteus diffluens. — Body diverging into branches. Occurs in the water of marshes. Plate XLVI. fig. 7, 8, ad 9.\\nSp. 2. Proteus tenax. — Body prolonged to a fine point. Occurs in rivers and in sea-water. There are only two species described as belonging to this genus.\\nGenus Enciielis. —Body very small, simple, oblong, cylindrical, slightly variable.\\nThere is a marked analogy between this genus and the following. The Enchelides are, however, short and thick compared with the Vibriones, which are slender and lengthened. To the genus now under consideration belong those animals which, if the recorded observations on the subject have been accurately made and faithfully reported, more than any other confound our preconceived ideas regarding the distinction between animal and vegetable life. The species alluded to are named Zoocarpes by M. Boryde St Vincent, or animated seeds, whieh appear reciprocally to give rise to and proceed from certain aquatic plants of the confervae kind. They are formed in a bulbous-shaped part or swelling of the plant, are ejected when ripe, swim about for some time with a voluntary motion, throw out a root and a branch, become genuine vegetables, poduce living seeds, and give birth to animals which, after a similar change of form, speedily return again to the vegetable state. These facts are vouched for by Μ. Bory de St Vincent, andare credited and confirmed by M. Dutrochet and several other continental inquirers, some of whom declare that they kept so watchful an eye upon the same individual as never to lose sight of it for a moment till they had witnessed the singular transformation above mentioned. We recommend it to our readers’ consideration.\\nSp. 1. Enchelis viridis. — Sub cylindrical, obliquely truncated anteriorly. This species has an obtuse tail or terminal part. It continually varies its motion, turning from right to left. Occurs in long-kept water.\\nSp. 2. Enehelis pimctifera. — Subcylindrical, green, obtuse anteriorly, pointed posteriorly. This species is opaque, with a small pellucid spot in the fore part, in which two black points are seen, and a kind of double band crosses the middle of the body. It occurs in marshes. Plate XLVI.fig. 10, 11.\\nSp. 3. Enchelis pulvisculus. — This species bears a great resemblance to the Monas pulvisculus of Müller, which is the E. monadina of Bory de St Vincent. It is, however, double the size, deeper tinted, and more ovoid. It is found in the waters of marshes, and accumulates around the sides of jars or vases in which confervae have been kept. It forms on the surface of water a slight pellicle of a delicate green colour, which is supposed to have been erroneously regarded by many botanists as a egetable production, and described under the name of /Byssus flos aquae. On dying it becomes more lengthened nd pellucid, or at least retains only a slight central spot of green. Plate XL VI. fig. 12.\\nSp. 4. Enchelis amcena. — This is a new species, of a lively green colour, discovered by Bory de St Vincent. In swimming it appears to elongate itself, and advances with the more slender end foremost. Two individuals are sometimes observed to unite and form one animal, of a perfectly spherical form, and similar in aspect to a Volvox.\\nSp. 5. Enchelis tìrcsias. — This species was also discovered by the above-named writer, and led to his peculiar views regarding those apparently animated seeds which he has named Zoocarpes. He asserts that he has seen this animalcule formed in the articulations of a true conferva; that it burst from its vegetable envelope with a gyration or circular movement; that it soon produced a translucent prolongation of its body, which may be called anterior, as it then swam in the direction of that new organ, which, with the body itself, became visibly longer, till the creature finally acquired the exact form of the Encĩielis deses of Müller. The chief difference seemed to be that it always moved with the slender end foremost, whereas the species just mentioned swims with its blunt end in advance. It is described by recent French writers as an “animal extraordinaire qui n’est certainement que la grain vivante d’un végétal.” (See Diet. Class. (IHist. Nat. tome vi. p. 156.)\\nSp. 6. Enchelis deses. — This species is of an obseure green, much elongated, and moves with the thick end anteriorly. “Celui-ci (the obtuse portion) paraît comme tronqué dans certains aspects; et en examinant attentivement cette sorte de troncature, on la reconnaît formée par un cercle en forme de disque moins foncé que le reste de l’animal. La pointe postérieure est parfaitement hyaline. Dans la pensée où nous sommes que les Enchelides vertes ne sont que des Zoocarpes, ou propagules animés de quelques genres d’Arthrodiées, nous croyons que le disque obscurément transparent de la partie antérieure n’est que la marque du point sur lequel doit se développer l’article par lequel doit s’allonger en filament confervoïde le Zoocarpe, lorsque, arrivé au terme de sa carrière animale, il doit se fixer et prendre racine par le point hyalin de la partie postérieure.” (Loc. cit. p. 157.) We present the above passage to our readers without note or comment, as we do not ourselves understand the zoocarpal nature of an Enchelis.\\nGenus Vibrio. —Body very small, simple, cylindrical, elongated.\\nAnimalcules have been described as constituents of this genus, which probably do not at all belong to it, being too complicated in their structure. If the V. aceti, for example, commonly called the vinegar eel, is furnished with a mouth, lips, and alimentary canal, it docs not even pertain to the class Infusoria, however small its dimensions. But many of the species are undoubtedly of the simplest construction; and although they may present some appearance of an internal cavity or sac, they yet exhibit neither mouth nor other external orifice of any kind.\\nSp. 1. Vibrio lineola. — Body linear, extremely minute. Occurs in many vegetable infusions in such numbers as apparently to occupy their entire space. It is so small, that with the best magnifiers little more can be discerned than an obscure tremulous motion. It is supposed to exceed even the Monas tcrmo in tenuity. Plate XLVI. fig. 13.\\nSp. 2. Vibrio spirillum. — Filiform, and twisted spirally, which seems to be its natural shape, as it is never observed to unbend, but moves forwards with a vibratory motion at both ends. Found in an infusion of Sonchus arveĭisis. Plate XLVI. fig. 14.\\nSρ. 3. Vibrio vermiculus. — Presents a milky aspect, with a blunt apex, and moves with a languid vermicular motion. It has been found in marshy water in November, but is seldom seen. It agrees with the animal mentioned by Leeuwenhoeck as occurring in the dung of frogs.\\nSp. 4. Vibrio paxillifer. — “Animal culum,” says Mül- 1er, a vel congeries animalculorum mirabilis. Pluries in guttulis aquae marinae vidi corpuscula linearia flavescentia (solitaria paleas, in quadrangula disposita scobes referebant), granulaque seminalia qualiscunque vegetabilis diu credidi; demum nocte inter 6 et 7 Octobrem 1781 as-spectu fili flavescentis, sese in longum producentis et m breve contrahentis, ac ex his paxillis compositi, obstupefactus, novoque phaenomeno gavisus, ejusdem variis evolutionibus incubui.” A salt-water species, abundant in ulva latissima. Observed during the months of September and October. Plate XLVI. fig. 15, 16, 17, 18, 19.\\nSp. 5. Vibrio serpens.— Slender and gelatinous, with obtuse windings or flexures, resembling a serpentine line. It is rare, and occurs in river-water.\\nSection II.— Body Membranaceous. Of scarcely perceptible thickness, whether flat or concave.\\nThe organization of the animalcules of this section is scarcely less simple than that of the preceding; but their form, being in a small degree resistant, is less subject to variation from the pressure or other action of the surrounding fluids, which has been regarded as the proof of a certain progress or advance in the scale of structure. Genus Gonium. —Body very small and simple, flattened, short, angular. Some species of this genus appear to be composed of several corpuscles united together under a common membrane. This appearance probably results from their cellular tissue, or from certain lines which are the rudiments of those spontaneous divisions formerly mentioned, by which their propagation is affected. Their movements are oscillatory.\\nSp. 1. Gonium pectorale. — Quadrangular and pellucid, with sixteen globules of a greenish colour set in a quadrangular membrane, “like jewels in the breast-plate of the high-priest, reflecting light on both sides.” Occurs in pure waters. Plate XLVI. fig. 20.\\nSp. 2. Gonium pulvinatum. — Quadrangular and opaque. Found in dunghills.\\nSp. 3. G onium corrugatum. — Sub-quadrangular, whitish, marked by a longitudinal line. This species is found in various infusions, particularly that of the pear.\\nSp. 4 ι . G onium truncatum. — Internal molecules dark green. Anterior extremity forming a straight line, with which the sides produce an obtuse angle, terminated posteriorly by a curved line. This species exhibits a languid motion. It is much larger than the preceding, and occurs, though rarely, in pure water.\\nGenus Cyclidium. —Body very small and simple, transparent, flattened, orbicular or oval.\\nThe motions of this genus are oscillatory, circulatory, or demi-circulatory, more or less interrupted, and languid or lively, according to the species.\\n⅛. 1. Cyclidium bulla.— Orbicular and hyaline. General appearance pale and pellucid, with the edges somewhat darker than the rest. It moves slowly in a semicircular direction, and occurs in the infusion of hay.\\nSp. 2. Cyclidium hyalinum. — Oval, depressed, perfectly transparent, terminated by a tail-like elongation. This species is very common, and is produced in many infusions, particularly in those of the cerealia. It swims ™ a filiating manner, and as if continually trembling. Plate XLVI. fig. 21. j fe Sp. 3. Cyclidium Nucleus. — Of a brownish tinge, deeper behind, and shaped exactly like an apple pippinĩ\\nGenus Paramaecium.— Body very small, simple, transparent, membranous, oblong.\\nThe species of this genus, according to Lamarck, scarcely differ from those of the preceding, except in their more lengthened forms and a slight increase of animal development. They appear to. vary instantaneously according to their position in relation to the eye of the observer; but their real form is tolerably determinate. The mode of increasing the species by transverse and longitudinal divisions, or natural cuttings, is very obvious in this genus. They are nearly related to the following, but are less sinuous and irregular. Their movements are for the most part slow and indefinite. They swim horizontally on one of their flattened surfaces, after the manner of flounders.\\nSp. 1. Paramaecium aurelia. — Body compressed, with a kind of plait or fold towards the apex, acute behind. Very common in water where confervae grow. Plate XLV1. fig. 22, 23, 24.\\nSp. 2. Paramaecvum chrysalis. — Plicated anteriorly, obtuse behind. Occurs during the autumn in sea-water.\\nSp. 3. Paramaecium versutum. — Cylindrical, thickened posteriorly, obtuse at both ends. Found in ditches.\\nGenus Kolpoda. —Body very small, simple, flattened, oblong, sinuous, irregular, transparent.\\nThis genus is nearly allied to the preceding, and differs from it chiefly in its more varied forms. It is also less subject to the influence of pressure by the medium in which it lives. An Italian naturalist of the name ofLosanahas lately published a monograph on Kolpoda; but his figures are somewhat exaggerated, and not very naturally expressed.\\nSp. 1. Kolpoda lamella. — Elongated, membranaceous, curved anteriorly. This species is seldom met with. It has a singular vacillatory mode of movement, and advances on its sharp edge, instead of its flattened side, the more usual position.\\nSp. 2. Kolρoda gallinula. — Oblong, the anterior por. tion of the back membranaceous and hyaline. In cor. rupted sea-water.\\nSp. 3. Kolpoda crassa. —Yellow, thickish, somewhat opaque, curved a little in the centre, kidney-shaped. This species has a quick vacillatory motion, and becomes apparent in the infusion of hay generally in about 13 hours. When the water is nearly evaporated it assumes an oval form, becomes compressed, and bursts.\\nSp. 4. Kolpoda rostrum. —Oblong, hooked anteriorly. The movements of this species are slow and horizontal. It is found, but not frequently, in water where the lemna grows.\\nSp. 5. Kolpoda cucullus. — Ovate, ventricose, the top bent into a kind of beak, and an oblique incision beneath the apex. This species is found in vegetable infusions, and in fetid hay, and usually moves with great velocity. It is pellucid, and appears as if filled with little bright vesicles, which differ in size. Some have supposed them to be lesser animalcules which the Kolpoda has swallowed; but as it has no mouth wherewith to swallow, Müller is more probably right in regarding them in the light of germs. When about to die in consequence of evaporation, it protrudes its contents, whether food or offspring, with great violence. Plate XLVII. fig. 25, 26, 27, 28.\\nGenus Bursa ria. —Body simple, membranaceous, concave.\\nThis genus occurs in fresh, saline, and stagnant waters-It appears to vary its form beneath the eye of the observer, and, from a rounded flattened shape, assumes a concave or somewhat purse-shaped aspect.\\nSp. 1. Bursaria truncatella. — Follicular, with a tru∏∙ cated apex. This species is visible to the naked eye-It moves from left to right, and from right to left; ascends to the surface in a straight line, and sometimes rolls about as it descends.\\n\\nSp. 2. Bursaria butina.— Boat-shaped, labiated anteriorly. This species is pellucid and crystalline, with brilliant globules within it. It is concave on the upper side, and convex below.\\nSp. 3. Bursaria hirundella. —With two small wing-like projections, which give it somewhat of the appearance of a bird. It is invisible to the naked eye, but appears under the microscope like a pellucid hollow membrane. Recent micrographical observers doubt if this species really pertains to the present genus. Plate XLVII. fig. 29.\\nOrder II.— Appendiculated Infusoria. Furnished exteriorly with projecting parts.\\nThe animalcules of this second principal order or divsion, though still infinitely small, gelatinous, and transparent, are so far less simply organized than their predecessors, inasmuch as they are furnished with salient parts, such as hairs, horns, or tail-like appendages, or at least with such projecting organs as, for want of more appropriate terms, we are obliged to designate by those names. They multiply both by division and by the bursting forth of internal germs. Though their essential fluids, and the living tissue which contains them, are probably of a more compound nature than those of the naked Infusoria, they have not yet reached that point of organization in which special organs are developed for the performance of particular functions; and it is not till we reach the higher class of Polypi that these are distinctly perceptible.\\n“Il paraît,” observes Lamarck, “par les nombreuses espèces déjà connues et publiées, que les Infusoires de cet ordre sont bien plus nombreux dans la nature que les Infusoires nus. Cela doit être ainsi d’après les principes que je me suis cru fondé à établir.\\n“En effet, dans les Infusoires nus, l’origine encore trop récente des races qui proviennent de celles, en petit nombre, qui furent générées spontanément, n’a permis à la durée de la vie et aux circonstances qui ont influé sur ces races, qu’une diversité peu considérable. Mais à mesure que la durée de la vie, que sa transmission dans les individus qui se sont succédés en se multipliant, et que les circonstances ont eu plμs de temps pour exercer leurs influences, les races se sont diversifiées de plus en plus, et sont devenues plus nombreuses.\\n“Cet ordre des choses, qu’il est facile de reconnoitre pour celui même de la nature, nous fait sentir pourquoi les Infusoires sont bien moins diversifiés et moins nombreux que les Polypes. Effectivement, quoique nous ne connaissions pas probablement tous les Infusoires, et que nous connaissions bien moins encore tous les Polypes, ce qui est déjà connu de part et d’autre indique que la diversité des Polypes est considérablement plus grande que des Infusoires. Aussi les Polypes sont plus éloignés de leur origine que les Infusoires.” (Animaux sans Vertèbres, tome i. p. 433.)\\nThe first genus of this order (Trichoda), as constituted by Müller, contains several species which manifest the rudiments of a mouth and the commencement of an alimentary canal: these, according to the negative characters of the class, do not belong to the Infusoria.\\nGenus Trichoda. —Body very small, transparent, diversiform, without caudal appendage, but garnished with soft hairs either on the whole or on part of its surface.\\nAccording to the views of Lamarck, this genus contains not only a great proportion of the genus Tricloda of Müller, but also the whole of the genus Leucophra of the Danish author. It is distinguished from Kerona by the want of the long, stiff, distant, corniform hairs which characterize the latter.\\nA. Body ciliated over its entire surface. (Leucophra of Müller.)\\nSp. 1. Trichoda viridiscens. — Greenish, cylindrical, opaque, thicker posteriorly. Found in sea-water.\\nSp. 2. Trichoda dilata.— Body flattened, variable, with sinuated margins. Inhabits sea-water, and swims like a Planaria. It scarcely differs from the genus Kolpoda, except in being ciliated.\\nSp. 3. Trichoda scintillans. —Of a green colour, oval, slender, and opaque. Occurs in stagnant water. A doubtful species, closely allied to Volvox. Sp. 4. Trichoda acuta. — Ovate, with a sharpened point. Colour yellowish. Of this species the form is very variable. It occurs in sea-water among ulvae. Plate XLVII. fig. 30, 31, 32.\\nSp. 5. Trichoda signata. — Oblong, sub-depressed, with a blackish margin. Common in sea-water. This species is distinguished by a curved line in its centre, shaped like the letter S, one end of which sometimes assumes a spiral form.\\nSp. 6. Trichoda mammilla. — Spherical, opaque, with an exsertile papilla. Occurs in the waters of marshes. It is of a dark colour, its short hairs are curved inwards, and it occasionally appears to project and draw in a little white protuberance.\\nB. Body ciliated, or covered with short hair only over a part of its surface.\\n(The greater proportion of the genus Trichoda of Müller.)\\nSp. 7. Trichoda grandinella. — Spherical, pellucid, haired above. The minute ciliary appendages of this species are not easily discovered, as it seems to possess the power of withdrawing them at pleasure and instantaneously. It occurs both in pure water and that of infusions.\\nSp. 8. Trichoda cometa. — Spherical, ciliated anteriorly, with one or more globular appendages behind. Found in pure water in the autumnal season. Plate XLVII. fig. 33, 34.\\nSp. 9. Trichoda solaris. — Spherical and crystalline, its edges beset with diverging rays, which exceed in length the diameter of the body. This animalcule contracts and dilates, but is stationary in the same spot. In marine infusions. Plate XLVII. fig. 35.\\nSp. 10. Trichoda pubes. — Oval oblong, gibbous, depressed anteriorly. The apex of this species is furnished with hairs, which are seldom visible till it is about to expire, when it protrudes and extends them vehemently, as if in a vain attempt to secure and detain a remaining particle of water.\\nSp. 11. Trichodaproteus. — Oval, obtuse behind, with an elongated retractile neck. Apex haired. This species, according to Müller and Lamarck, is found in river water. It appears, however, to agree in general character and appearance with the Proteus described by Mr Baker, which usually occurs in the slimy matter adhering to the sides of vessels in which either animal or vegetable substances have been some time kept. That of which an account is given by Mr Adams was found in the slime produced by water containing small fishes, snails, <⅛c. The body was something similar to that of a snail, but pointed at one end, while from the other proceeded a long, slender, “and finely proportioned neck, of a size suitable to the rest of the animal.” If we credit Mr Baker, this animalcule, though its eyes are not discernible, plainly demonstrates by its actions that it can see; for though multitudes swim about in the same water, and its own progressive motion is very swift, it never strikes against its neighbours, but directs its course with a dexterity “wholly unaccountable should we suppose it destitute of sight. Its entire shape bears a resemblance to that of a swan. See Plate XLVII. fig. 36 and 37. When alarmed, it draws in its supposed neck, becomes more opaque, and moves about slowly with the large end foremost. See fig. 38. After continuing for some time under this form, it will put forth a kind of wheel machinery, the motions of which arc alleged to draw a current of water towards it from a considerable distance. After frequently pushing out and pulling in this shorter head, sometimes with and sometimes without the wheel-work, it will remain motionless, as if wearied or worn out; and then its long head and neck or apex will be again slowly protruded, after which it generally resumes its accustomed agility.\\nGenus Kerona. —Body very small, diversiform, without tail-like prolongation, and furnished with scattered, stiff, corniform hairs on some parts of its body.\\nTo this genus Lamarck has united the Himantopus of Müller. The species are rare. They seldom occur in infusions, and are most frequent in the purer kinds of fresh and salt waters.\\nSp. I. Kerona rostellum. — Orbicular and membranaceous; one side angulated, the other furnished with a series of triple horns. Inhabits sea and river water. This species is alleged by Bory de St Vincent to be entirely destitute of hairs and cirri, and he therefore proposes to remove it to the order Gymnodes, which corresponds with our first order, the naked Infusoria. It is sometimes difficult to identify species in this department, or to ascertain, in a doubtful or contested case, that the same animalcule has been the subject of observation by two or more disputants. Plate XLVII. fig. 39.\\nSp. 2. Kerona cypris. — Somewhat pear-shaped, compressed, the front furnished with hairs or vibrating points, inserted beneath the edge, shorter behind, and partly extended straight forward, partly bent downwards. Motion retrograde. Inhabits fresh water.\\nSρ. 3. Kerona ludia. — Smooth, pellucid, full of small points, the fore part clubbed and a little bent, the hinder part narrow; the base obliquely truncated, and terminating in a tail stretched out transversely. The top of that part which may be called the head, and the centre of the back, are furnished with long hairs. When this animalcule is at rest, its tail is curled; when in motion it is drawn tight and extended upwards. The movements of this species are lively and diverting.\\nGenus Cercaria. —Body very small, transparent, diversiform, furnished with a distinct but very simple\\nThis genus, as constituted by Müller, contains many species which bear no natural relation to each other; but his characters are precise and definite, and strictly applicable to those species which now form the genus as limited by modern observers. They occur more rarely among annual and vegetable infusions than in running streams and the waters of marshes. Their movements are for the most part circular and very rapid. With the exception of a well-marked tail, their organization is in every other respect extremely simple. If a mouth and the rudiment of a stomach or alimentary canal exist in any of these animals, such characters would remove them not only from the genus Cercaria, but from the class Infusoria, as defined at the commencement of this treatise. A fortiori, the existence of eyes (a fact assumed by some inaccurate observers) in any of the animalcular species, would entirely alter their position and arrangement in the animal kingdom. We cannot do better than report the observations of the venerable Lamarck (himself unfortunately now deprived of sight) on this obscure subject \"Ici, comme dans le genre suivant, ľon est expose, d’après la petitesse extreme des individus, à rapporter à la classe des Infusoires des animaux qui, par leur organisation, appar tiennent à d’autres points de l’échelle animale.”\\n“Une bouche, quoique d’abord inaperçue, et conséquemment l’ébauchc d’un sac alimentaire, peuvent exister dans certains de ces animaux, et dès-lors ils appartiennent au premier ordre des Polypes; mais des yeux, comme on en a supposé dans certains Cercaires, cela est impossible.\\n“Avant de dire que le fait lui-même vaut mieux que la raisonnement, il faut, Imo, constater que les points que l’on a pris pour des yeux, en sont réellement, et qu’ils ont chacun un nerf optique qui se rend à une massc médullaire, centre de rapports pour des sensations; 2do, il faut ensuite établir positivement que des animalcules réellement pourvus d’yeux, sont néanmoins, par leur organisation, de la même classe que les Infusoires.” (Animaux sans Vertèbres, tome i. p. 444.)\\nThis genus forms the nucleus of the new family of Infusoria proposed by Μ. Bory de St Vincent under the name of Cercariées, and which contains in all seven genera, the names and nature of which will be seen by referring to the tabular view. Müller, who was not practically acquainted with the spermatic animalcules, was attracted by the resemblance which some of the Cercariae bore to the figures of those organic molecules in the works of his predecessors. He did not, however, assert their identity; and probably perceived that, although in their general aspect and mode of movement they resembled each other, their peculiar and very different localities, and even the details of their structure, rendered it advisable that they should be assigned to separate genera.^[4. The following are the characters of the genus Zoosperma, as recently established: “Corps non contractile, ovoïde, très-conn- primé, avec une queue ssetiforme, aussi longue ou beaucoup plus longue, implantée a la partie postérieure, qui est peu ou point amincie. Ce genre, dont nous possédons un trés-grand nombre d\\'especes, se compose d\\'animaux spermatiques.\" (Dict. Class d\\'Hist. Nat. tome iii. p. 356) The production and existence of these animals, their nature and uses, are still among the many inscrutabler mysteries of nature. ] Sp. 1. Cercaria inquieta. — Changeable, convex, with a slender tail. This species occurs in salt water, and is remarkable for assuming a variety of different forms. It is sometimes oval, sometimes cylindrical, sometimes shaped like a sphere. Plate XLVII. fig. 40.\\nSp. 2. Cercaria gyrinus. —Body of a rounded form, with an acuminated tail. In swimming, this animalcule moves its tail like a tadpole.\\nSp. 3. Cercaria lemna. — Changeable, sub-depressed, with an annulated tail. The C. lemna varies the form of its body in a manner almost as singular as that exhibited by the Proteus, already described. The body is triangular, or oblong, or kidney-shaped. Its tail is at times thick, short, annulated; at others it is long, cylindrical, and without rings; and when stretched out it sometimes vibrates with such velocity as to appear double. A small pellucid globule, which Müller regarded as the mouth, is perceptible near the apex; and there are also two excessively minute black points, which, whatever they may really be, are by some called eyes. It advances slowly by a few steps or movements at a time, and frequently shakes and bends its tail, in which position it bears a great resemblance to a lemna leaf in, miniature. This animalcule exhibits an advanced organization. Plate XLVH. fig. 41, 42, 43.\\nGenus Fuhcocerca.- Body very small, transparent, rarely ciliated, furnished with a bipartite tail.\\nThis terminal genus, according to the views of Lamarck, conducts us to the limits of the infusorial class, and we become thus more liable to deception in regard to the non-existence of a mouth than in the preceding genera. It is a dismemberment of the Cercaria of Müller, and probably contains many species which will be placed else-where when future and more continuous observation shall have thrown additional light upon their nature and atributes.\\nSp. 1. Furcocerca podura.— Cylindrical, acuminated posteriorly. This species is pellucid, and seems to consist of a head, trunk, and tail, the first of which, in the view of some observers, “resembles that of a herring.” It turns round as if upon an axis when it moves, and is usually found in the months of November and December, in places where the lemna abounds. The tail frequently, but not always, appears to be divided into two. One of Müller’s figures of this species is probably erroneous. He represents it as covered with short hairs; whereas, to more recent observers, it appears perfectly smooth. Plate XLVII. fig.44, 45.\\nSp. 2. Furcocerca viridis. — Cylindrical, variable, divided and acuminated behind. Occurs in spring in ditches and standing pools. It frequently contracts its anterior and posterior portions, so as to assume a spherical form. It is difficult to determine the genus to which this species belongs. Lamarck is supposed to have erred in placing it where it now stands. In truth, the genus appears to have been rather established provisionally, than upon an assured and natural foundation. The varying forms of the species which it contains render it extremely difficult either to discern or describe them with precision. Plate XLVII. fig, 46, 47, 48.\\nWe have now endeavoured to present a general view, and a systematic exposition, of the principal features of the animalcular world; and if our statements have been less explicit, and our arrangement less complete and methodical, than accords with the reader’s expectation, these defects must in part be attributed to the uncertainty which still prevails regarding a subject of which many of the essential characters scarcely lie within the limits of human intelligence. The observations and experiments of the English microscopical observers of last century, thouugh they might amuse the general student, are too vague and fanciful to be now regarded as parts of the assured history of animalcules. The ultra-analogical reasoning on subjects of natural science with which we have been lately favoured by such men as Oken and Geoffroy St Hilaire, are tame in comparison with the inferences deduced by some of our older observers, who describe with minuteness the head, eyes, mouth, jaws, throat, stomach, intestines, and other parts of animalcules, which the improved glasses of modern times do not reveal to the vision of not less patient inquirers. The recent observations on the motions of the pollen of plants, which have puzzled the modern philosophers, would have opposed but feeble barriers in the way of our predecessors. “To discover,” says Buffon, “whether all the parts of animals, and all the seeds of plants, contained moving organic particles, I made infusions of the flesh of different animals, and of the seeds of more than twenty different species of vegetables; and after remaining some days in close glasses, I had the pleasure of seeing organic moving particles in all of them. In some they appeared sooner, in others later; some preserved their motions for months, and others soon lost it. Some at first produced large moving globules resembling animals, which changed their figure, split, and became gradually smaller; others produced only small globules, whose motions were extremely rapid; and others produced filaments, which grew longer, seemed to vegetate, and then swelled and poured forth torrents of moving globules.” It was from these and similar observations that the theory arose proposed by Baron Munchausen (an ominous name !). The Baron perceiving that these moving globules, after taking a little exercise, began again to vegetate, drew the conclusion that they were first animals and then plants; thus anticipating by more than half a century the supposed discoveries of some modern physiologists. Which of them was first in error it is perhaps of little consequence to inquire; and we allude to the subject here rather in connection with some singular observations by Mr Ellis, recorded in the 59th volume of the Philosophical Transactions, than from its own intrinsic importance. His object was to overturn Munchausen’s hypothesis, by showing that the supposed Zoo-carpes were nothing more than “the seeds of that genus of fungi called mucor or mouldiness, ” and that their motions were caused by the attacks of myriads of animalcules! “Having at the request of Dr Linnaeus made several experiments on the infusion of mushrooms in water, in order to prove the theory of Baron Munchausen, that these seeds are first animals and then plants, it appeared evidently that the seeds were put in motion by very minute animalcules, which proceeded from the putrefaction of the mushroom: for by pecking at these seeds, which are reddish, light, round bodies, they moved them about with great agility in a variety of directions; while the little .animals themselves were scarcely visible till the food they had eaten had discovered them. The satisfaction I received from clearing up this point led me into many other curious and interesting experiments. The ingenious Mr Needham supposes these little transparent ramified filaments, and jointed or coralloid bodies, which the microscope discovers to us on the surface of most animal and vegetable infusions when they become putrid, to be zoophytes, or branched animals; but to me they appear, after a careful scrutiny with the best glasses, to be of that genus of fungi called mucor or mouldiness, many of which Michellius has figured, and Linnaeus has accurately described. Their vegetation is so amazingly quick, that they may be perceived in the microscope even to grow and feed under the eye of the observer. Mr Needham has pointed out to us a species that is very remarkable for its parts of fructification (See Phil. Trans. vol. xlv. tab. 5, fig. 3, a, A). This, he says, proceeds from an infusion of bruised wheat. I have seen the same species proceed from the body of a dead fly, which was become putrid by lying floating for some time in a glass of water where some flowers had been, in the month of August 1768. This species of mucor sends forth a mass of transparent filamentous roots; from whence arise hollow stems, that support little oblong oval seed-vessels, with a hole on the top of each. From these I could plainly see minute globular seeds issue forth in great abundance, with an elastic force, and turn about in the water as if they were animated. Continuing to view them with some attention, I could just discover that the putrid water which surrounded them was full of the minutest animalcula; and that these little creatures began to attack the seeds of the mucor for food, as I have observed before in the experiment on the seeds of the larger kind of fungi or mushrooms. This new motion continued the appearance of their being alive for some time longer; but soon after many of them arose to the surface of the water, remaining there without motion; and a succession of them afterwards coming up, they united together in little thin masses, and floated to \\'the edge of the water, remaining there quite inactive during the time of observation.” In like manner, the movements of the jointed coralloid bodies which Mr Needham has named chaplets and pearl necklaces are attributed to the attacks of their animalcular enemies. “When a small portion of these branches and seeds are put into a drop oí the same putrid water upon which the scum floats, many of these millions of little animalcula with which it abounds immediately seize them as food, and turn them about with a variety of motions, as in the experiments on the seeds of the common mushrooms, either singly, or two or three seeds connected together; answering exactly to Mr Needham’s description, but evidently without any motion of their own, and consequently not animated !”\\nWe shall conclude this subject with a short notice of another view of the matter, which has resulted from some recent experiments and observations by our celebrated botanist Robert Brown. While engaged in some inquiries regarding the structure of the pollen of plants, and its mode of action on the pistillum of phaenogamous tribes, that accurate observer had occasion to immerse in water some particles taken from the full-grown anthers (previous to bursting) of Clarkia pulchella. Of these, he perceived by the microscope that many were evidently in motion, and that their motion consisted not only of a change of place in the fluid, but of a change of form in themselves; that is to say, a contraction or curvature about the middle of one side, accompanied by a corresponding enlargement or convexity on the other, frequently occurred. The particles were seen, in a few instances, to turn on their longer axis; and their general motions were of such a nature as to produce the conviction in Mr Brown’s mind that they did not arise either from currents or evaporation of the fluid, but were proper to the particles themselves. Having ascertained that motion existed in the pollen of all the living plants which he examined, he next inquired whether, and for what length of time, this singular property was retained after the death of the plant. Specimens were experimented on, which had been dried and preserved in an herbarium for 100 years, and the moving molecules or small spherical bodies were still perceived in considerable numbers. “The very unexpected fact,” says Mr Brown, “of seeming vitality retained by those minute particles so long after the death of the plant, would not perhaps have materially lessened my confidence in the supposed peculiarity; but I at the same time observed, that on bruising the ovula or seeds of Equisetum, which at first happened accidentally, I so greatly increased the number of moving particles, that the source of the added quantity could not be doubted. I found also, on bruising first the floral •leaves of mosses, and then aU other parts of those plants, that I readily obtained similar particles, not in equal quantity indeed, but equally in motion. My supposed test of the male organ was therefore necessarily abandoned. Reflecting on all the facts with which I had now become acquainted, I was disposed to believe that the minute spherical particles or molecules of apparently uniform size, first seen in the advanced state of the pollen of Onagrariae, and most other phaenogamous plants,—then in the antherae of mosses, and on the surfaces of the bodies regarded as the stamina of Equisetum,—and, lastly, in bruised portions of other parts of the same plants,—were in reality the supposed constituent or elementary molecules of organic bodies, first so considered by Buffon and Needham, then by Wrisberg with greater precision, soon after and still more particularly by Müller, and very recently by Dr Müne Edwards, who has revived the doctrine, and supported it with much interesting detail. I now, therefore, expected to find these molecules in all organic bodies; and accordingly, on examining the var i.∖ ous animal and vegetable tissues, whether living or dead, they were always found to exist; and merely by bruis, ing these substances in water, I never failed to disengage the molecules in sufficient numbers to ascertain their apparent identity in size, form, and motion, with the smaller particles of the grains of the pollen. I e χ. amined also various products of organic bodies, particularly the gum raisins, and substances of vegetable origin, extending my inquiry even to pit-coal; and in all these bodies molecules were found in abundance. I remark here also, partly as a caution to those who may hereafter engage in the same inquiry, that the duct or soot deposited on all bodies in such quantity, especiallyiu London, is entirely composed of these molecules. One of the substances examined was a specimen of fossil wood, found in Wiltshire oolite, in a state to burn with flame; and as I found these molecules abundantly and in motion in this specimen, I supposed that their existence, though in smaller quantity, might be ascertained in mineralized vegetable remains. With this view, a minute portion of silicified wood, which exhibited the structure of coniferas, was bruised, and spherical particles, or molecules in all respects like those so frequently mentioned, were readily obtained from it; in such quantity, however, that the whole substance of the petrifaction seemed to be formed of them. But hence I inferred that these molecules were not limited to organic bodies, nor even to their products. To establish the correctness of the inference, and to ascertain to what extent the molecules existed in mineral bodies, became the next object of inquiry. The first substance examined was a minute fragment of window-glass, from which, when merely bruised on the stage of the microscope, I readily and copiously obtained molecules, agreeing in size, form, and motion, with those which I had already seen. I then proceeded to examine, and with similar results, such minerals as I either had at hand or could readily obtain, including several of the simple earths and metals, with many of their combinations. Rocks of all ages, including those in which organic remains have never been found, yielded the molecules in abundance. Their existence was ascertained in each of the constituent minerals of granite, a fragment of the sphinx being one of the specimens examined. To mention all the mineral substances in which I have found these molecules would be tedious; and I shall confine myself, in this summary, to an enumeration of a few of the most remarkable. These were both of aqueous and igneous origin, as travertine, stalactites, lava, obsidian, pumice, volcanic ashes, andme-teorites from various localities. Of metals I may mention manganese, nickel, plumbago, bismuth, antimony, and arsenic. In a word, in every mineral which I could reduce to powder sufficiently fine to be temporarily suspended in water, I found these molecules more or less copiously; and in some cases, more particularly in siliceous crystals, the whole body submitted to examination appeared to be composed of them.”\\nThere were three points of importance which ΙVIr Brown was anxious to ascertain regarding these molecules, viz. their form, whether they were of uniform size, and their absolute magnitude. He seems, however, not to have been entirely satisfied with his determination on any of these points. As to form, he states the molecules to be spherical. ∙ His manner of estimating the absolute magnitude and uniformity of size of the molecules found in ⅛ e various bodies submitted to examination, γvas l da 9 π ≡ them on a micrometer divided to five thousandths of an inch, the lines of which were very distinct; or, more rarely, on one divided to ten thousandths, with fainter lines, not readily visible without the application of plumbago, as emplyed by Dr Wollaston, but which in this case was inadmissible. The results can only be regarded as approximate, but Mr Brown is disposed to believe that the molecule is of uniform size, though, as existing in various substances, and examined in circumstances more or less favourable, he regards it necessary to state that its diameter appeared to vary from ⅟ 15000 th to ⅟ 20000 th of an inch.^[5. The following summary from the pen of Mr Brown contains the renewed expression of that gentleman’s opinion, matured by some recent experiments on the subject of active molecules. “That extremely minute particles of solid matter, whether obtained from organic or inorganic substances, when suspended in pure water or in some other aqueous fluids, exhibit motions for which I am unable to account, and which, from their irregularity and seeming independence, resemble in a remarkable degree the less rapid motions of some of the simplest animalcules of infusions. That the smallest moving particles observed, and which I have termed Active Molecules, appear to be spherical, or nearly so, and to be between ⅟ 20000 th and ⅟ 30000 th of an inch in diameter; and that other particles of considerably greater and various size, and either of similar or of very different figure, also present analogous motions in like circumstances. I have formerly stated my belief that these motions of the particles neither arose from currents in the fluid containing them, nor depended on that intestine motion which may be supposed to accompany its evaporation. These causes of motion, however, either singly or combined with others,—as the attractions and repulsions among the particles themselves, their unstable equilibrium in the fluid in which they are suspended, their hygrometrical or capillary action, and in some cases the disengagement of volatile matter, or of minute air-bubbles,—have been considered by several writers as sufficiently accounting for the appearances. Some of the alleged causes here stated, with others which I have considered it unnecessary to mention, are not likely to be overlooked, or to deceive observers of any experience in microscopical researches; and the insufficiency of those enumerated may, I think, be satisfactorily shown by means of a very simple experiment. This experiment consists in reducing the drop of water containing the particles to microscopic minuteness, and prolonging its existence by immersing it in a transparent, fluid of inferior specific gravity, with which it is not miscible, and in which evaporation is extremely slow. If to almond oil, which is a fluid having these properties, a considerably smaller proportion of water, duly impregnated with particles, be added, and the two fluids shaken or triturated together, drops of water of various sizes, from ⅟th to ⅟ 2000 th of an inch in diameter, will be immediately produced. Of these, the most minute necessarily contain but few particles, and some may be occasionally observed with one particle only. In this manner minute drops, which, if exposed to the air, would be dissipated in less than a minute, may be retained for more than an hour. But in all the drops thus formed and protected, the motion of the particles takes place with undiminished activity, while the principal causes assigned for that motion, namely, evaporation and their mutual attraction and repulsion, are either materially reduced or absolutely null.” ] (T.)', 'starts_at': -1, 'ends_at': 193, 'term_type': 'Topic', 'position': -1, 'number_of_words': 14011, 'reference_terms': ['PHIL', 'DIET'], 'last_complete_term_in_page': False}] \n",
      " ------- It should be [{'note': None, 'name': 'ANIMALCULE', 'alter_names': [], 'number_of_words': 14011, 'reference_terms': []}]\n",
      "Total test cases: 19, passed: 18, failed: 1\n"
     ]
    }
   ],
   "source": [
    "# test function parse_term_from_text\n",
    "test_text_paths = [\n",
    "    \"./eb07_TXT_v2/a3/kp-eb0703-010204-6887-v2.txt\",\n",
    "    \"./eb07_TXT_v2/a2/kp-eb0702-000304-9848-v2.txt\",\n",
    "    \"./eb07_TXT_v2/a2/kp-eb0702-036301-4528-v2.txt\",\n",
    "    \"./eb07_TXT_v2/a2/kp-eb0702-000501-9874-v2.txt\",\n",
    "    \"./eb07_TXT_v2/a2/kp-eb0702-000504-9874-v2.txt\",\n",
    "    \"./eb07_TXT_v2/a2/kp-eb0702-000101-9822-v2.txt\",\n",
    "    \"./eb07_TXT_v2/a2/kp-eb0702-001601-0017-v2.txt\",\n",
    "    \"./eb07_TXT_v2/a2/kp-eb0702-024103-2942-v2.txt\",\n",
    "    \"./eb07_TXT_v2/a2/kp-eb0702-008704-0940-v2.txt\",\n",
    "    \"./eb07_TXT_v2/a3/kp-eb0703-037701-0462-v2.txt\",\n",
    "    \"./eb07_TXT_v2/a3/kp-eb0703-057804-3075-v2.txt\",\n",
    "    \"./eb07_TXT_v2/a2/kp-eb0702-009002-0979-v2.txt\",\n",
    "    \"./eb07_TXT_v2/s20/kp-eb0720-007502-0089-v2.txt\",\n",
    "    \"./eb07_TXT_v2/a2/kp-eb0702-014301-1668-v2.txt\",\n",
    "    \"./eb07_TXT_v2/a2/kp-eb0702-036401-4541-v2.txt\",\n",
    "    \"./eb07_TXT_v2/t21/kp-eb0721-013705-0155-v2.txt\",\n",
    "    \"./eb07_TXT_v2/a3/kp-eb0703-018001-7901-v2.txt\",\n",
    "    \"./eb07_TXT_v2/d7/kp-eb0707-058804-4916-v2.txt\",\n",
    "    \"./eb07_TXT_v2/a2/kp-eb0702-000313-9848-v2.txt\"\n",
    "]\n",
    "\n",
    "expected_results = [\n",
    "    [{\"note\": None, 'name': 'ANAXIMENES', 'alter_names': [], 'number_of_words': 126, 'reference_terms': []},\n",
    "    {'note': None, 'name': 'ANAXIMENES', 'alter_names': [], 'number_of_words': 90, 'reference_terms': []},],\n",
    "    [{'note': None, 'name': 'AAM', 'alter_names': ['HAΛM'], 'number_of_words': 31, 'reference_terms': []}],\n",
    "    [{'note': None, 'name': 'AHOLIB ΛH AND AΠOLAH', 'alter_names': [], 'number_of_words': 101, 'reference_terms': []}],\n",
    "    [{'note': None, 'name': 'ABA', 'alter_names': ['ABAU'], 'number_of_words': 171, 'reference_terms': []},\n",
    "    {'note': None, 'name': 'ABA', 'alter_names': ['ABAS', 'ABOS', 'ABUS'], 'number_of_words': 190, 'reference_terms': ['ABAE']}],\n",
    "    [{'note': \"a sea term\", 'name': 'ABACK', 'alter_names': [], 'number_of_words': 153, 'reference_terms': []}],\n",
    "    [{'note': None, 'name': 'A', 'alter_names': [], 'number_of_words': 1446, 'reference_terms': []},\n",
    "    {'note': None, 'name': 'A', 'alter_names': [], 'number_of_words': 135, 'reference_terms': []}],\n",
    "    [{'note': None, 'name': 'ABBOTS-BROMLEY', 'alter_names': [], 'number_of_words': 50, 'reference_terms': []}],\n",
    "    [{'note': None, 'name': 'AGARIC MINERAL', 'alter_names': [], 'number_of_words': 13, 'reference_terms': []}],\n",
    "    [{'note': None, 'name': 'ACCISMUS', 'alter_names': [], 'number_of_words': 42, 'reference_terms': []}],\n",
    "    [{'note': None, 'name': 'ARC, JOAN OF', 'alter_names': [], 'number_of_words': 1323, 'reference_terms': []}],\n",
    "    [{'note': None, 'name': 'ARMSTRONG, JOHN, M', 'alter_names': [], 'number_of_words': 590, 'reference_terms': []}],\n",
    "    [{'note': None, 'name': 'ACCOUNTANT', 'alter_names': ['ACCOMPTANT'], 'number_of_words': 47, 'reference_terms': []},\n",
    "    {'note': None, 'name': 'ACCOUNTANT-GENERAL', 'alter_names': [], 'number_of_words': 35, 'reference_terms': []}],\n",
    "    [{'note': None, 'name': 'SEE BANGOG', 'alter_names': [], 'number_of_words': 21, 'reference_terms': []}],\n",
    "    [{'note': None, 'name': 'ADANSONIA', 'alter_names': ['ETHIOPIAN SOUR-GOURD', 'MONKEYS-BREAD', 'AFRICAN CALABASH-TREE'], 'number_of_words': 0, 'reference_terms': []}],\n",
    "    [{'note': None, 'name': 'AID, AUXILIUM', 'alter_names': [], 'number_of_words': 14, 'reference_terms': []},\n",
    "    {'note': None, 'name': 'AID-DE-CAMP', 'alter_names': [], 'number_of_words': 15, 'reference_terms': []}],\n",
    "    [{'note': None, 'name': 'TELEGRAPH', 'alter_names': [], 'number_of_words': 5519, 'reference_terms': []}],\n",
    "    [{'note': None, 'name': 'ANIMALCULE', 'alter_names': [], 'number_of_words': 14011, 'reference_terms': []}],\n",
    "    [{'note': None, 'name': 'DAIRY', 'alter_names': [\"DAIRYING\"], 'number_of_words': 7582, 'reference_terms': []}],\n",
    "    [{'note': None, 'name': 'AARON', 'alter_names': [], 'number_of_words': 354, 'reference_terms': []},\n",
    "     {'note': None, 'name': 'AARON', 'alter_names': [], 'number_of_words': 52, 'reference_terms': []},\n",
    "     {'note': None, 'name': 'AARON', 'alter_names': [], 'number_of_words': 27, 'reference_terms': []},\n",
    "     {'note': None, 'name': 'AARON AND JULIUS, SAINTS', 'alter_names': [], 'number_of_words': 100, 'reference_terms': []},\n",
    "     {'note': None, 'name': 'AARON', 'alter_names': ['HAROUN, AL RASCHID'], 'number_of_words': 18, 'reference_terms': []},]\n",
    "]\n",
    "\n",
    "test_count = 0\n",
    "pass_count = 0\n",
    "fail_count = 0\n",
    "for path in test_text_paths:\n",
    "    test_text = open(path, \"r\").read()\n",
    "    terms = parse_term_from_text(test_text)\n",
    "    if not assert_terms(terms, expected_results[test_count]):\n",
    "        fail_count += 1\n",
    "        print(f\"This test case failed, it gets -> {terms} \\n ------- It should be {expected_results[test_count]}\")\n",
    "    else:\n",
    "        pass_count += 1\n",
    "    test_count += 1\n",
    "\n",
    "print(f\"Total test cases: {test_count}, passed: {pass_count}, failed: {fail_count}\")\n",
    "#    (r\\\"^\\p{Lu}[\\p{L}\\-\\’]*(\\s\\([\\p{L}\\p{N}\\s\\,\\.]+\\))?(,?\\s\\p{Lu}[\\p{L}\\-\\’]*)*(\\\\s(and)\\\\sp{Lu}[\\\\p{L}\\\\-\\\\’]*)?(,?\\\\sor\\\\sp{Lu}[\\\\p{L}\\\\-\\\\’]*)?(\\\\sof(\\\\s\\\\p{Lu}[\\\\p{L}\\\\-\\\\’]*)?)?\\\")\\n\",\n"
   ],
   "metadata": {
    "collapsed": false
   }
  },
  {
   "cell_type": "code",
   "execution_count": 1,
   "outputs": [],
   "source": [
    "# load metadata\n",
    "import pandas as pd\n",
    "metadata_df = pd.read_json(\"../nls_metadata_dataframe\", orient=\"index\")"
   ],
   "metadata": {
    "collapsed": false
   }
  },
  {
   "cell_type": "code",
   "execution_count": 6,
   "outputs": [
    {
     "data": {
      "text/plain": "0       832\n1      1018\n2       872\n3       844\n4      1032\n       ... \n135     858\n136     874\n137     846\n138    1062\n139     832\nName: numberOfPages, Length: 140, dtype: int64"
     },
     "execution_count": 6,
     "metadata": {},
     "output_type": "execute_result"
    }
   ],
   "source": [
    "metadata_df"
   ],
   "metadata": {
    "collapsed": false
   }
  },
  {
   "cell_type": "code",
   "execution_count": 22,
   "outputs": [],
   "source": [
    "# Get each text file\n",
    "# parse text data in each file\n",
    "\n",
    "import os\n",
    "# List all directories in data folder\n",
    "\n",
    "all_info_list = []\n",
    "\n",
    "edition_num = 7\n",
    "year_published = 1842\n",
    "page_offset = 10\n",
    "header = None\n",
    "numberOfTerms = None\n",
    "\n",
    "for folder_file in sorted(os.scandir(data_path), key=lambda e: e.name):\n",
    "    position = 1\n",
    "    if folder_file.is_dir():\n",
    "        # folder_file is sub folder of the data folder: e.g. a2, a3 ....\n",
    "        #print(folder_file.path)\n",
    "        volume_num = int(folder_file.name[1:])\n",
    "        vol_metadata_df = metadata_df[(metadata_df['editionNum'] == edition_num) & (metadata_df['year'] == year_published) & (metadata_df['volumeNum'] == volume_num)].iloc[0]\n",
    "        # List all text files in each directory\n",
    "        for txt_file in sorted(os.scandir(folder_file.path), key=lambda e: e.name):\n",
    "            if txt_file.name[-3:] == \"txt\":\n",
    "\n",
    "                # parse volume and page number from filename\n",
    "                txt_file_name_parts = txt_file.name.split(\"-\")\n",
    "                volume_num = int(txt_file_name_parts[1][-2:])\n",
    "                page_num = int(txt_file_name_parts[2][0:-2])\n",
    "                #print(f\"text file path: {txt_file.path}, volume number: {volume_num}, page number: {page_num}\")\n",
    "                # get text from the file\n",
    "                text = open(txt_file.path, 'r').read()\n",
    "                #print(len(text))\n",
    "                # parse term information from the text\n",
    "                parsed_terms = parse_term_from_text(text, page_num, position)\n",
    "\n",
    "                for term_info in parsed_terms:\n",
    "                    all_info_list.append([term_info[\"name\"], term_info[\"note\"], term_info[\"alter_names\"], term_info[\"reference_terms\"], term_info[\"description\"], term_info[\"starts_at\"], term_info[\"ends_at\"],term_info[\"position\"],term_info[\"term_type\"], txt_file.path, term_info[\"number_of_words\"], header, vol_metadata_df[\"letters\"], vol_metadata_df[\"part\"], vol_metadata_df[\"MMSID\"], vol_metadata_df[\"editionTitle\"], vol_metadata_df[\"editor\"], vol_metadata_df[\"editor_date\"], vol_metadata_df[\"genre\"], vol_metadata_df[\"language\"], vol_metadata_df[\"termsOfAddress\"], vol_metadata_df[\"numberOfPages\"], vol_metadata_df[\"physicalDescription\"], vol_metadata_df[\"place\"], vol_metadata_df[\"publisher\"], vol_metadata_df[\"referencedBy\"], vol_metadata_df[\"shelfLocator\"], vol_metadata_df[\"editionSubTitle\"], vol_metadata_df[\"volumeTitle\"], vol_metadata_df[\"year\"], vol_metadata_df[\"volumeId\"], vol_metadata_df[\"permanentURL\"], vol_metadata_df[\"publisherPersons\"], vol_metadata_df[\"volumeNum\"], vol_metadata_df[\"editionNum\"], vol_metadata_df[\"numberOfVolumes\"], vol_metadata_df[\"supplementTitle\"], vol_metadata_df[\"supplementSubTitle\"], vol_metadata_df[\"supplementsTo\"], numberOfTerms])\n",
    "                # update the position\n",
    "                last_term_info = parsed_terms[-1]\n",
    "                position = last_term_info[\"position\"] + 1\n",
    "                if last_term_info[\"ends_at\"] > last_term_info[\"starts_at\"]:\n",
    "                    position = 1\n",
    "\n",
    "\n",
    "# create pandas dataframe for information list\n",
    "df = pd.DataFrame(all_info_list, columns=[\"term\", \"note\", \"alter_names\", \"reference_terms\", \"definition\",  \"startsAt\", \"endsAt\", \"position\", \"termType\", \"filePath\", \"numberOfWords\", \"header\",\"letters\", \"part\", \"MMSID\", \"editionTitle\", \"editor\", \"editor_date\", \"genre\", \"language\", \"termsOfAddress\", \"numberOfPages\", \"physicalDescription\", \"place\", \"publisher\", \"referencedBy\", \"shelfLocator\", \"editionSubTitle\", \"volumeTitle\", \"year\", \"volumeId\", \"permanentURL\", \"publisherPersons\", \"volumeNum\", \"editionNum\", \"numberOfVolumes\", \"supplementTitle\", \"supplementSubTitle\", \"supplementsTo\", \"numberOfTerms\"])"
   ],
   "metadata": {
    "collapsed": false
   }
  },
  {
   "cell_type": "code",
   "execution_count": 23,
   "metadata": {},
   "outputs": [
    {
     "name": "stdout",
     "output_type": "stream",
     "text": [
      "  term  note alter_names reference_terms  \\\n",
      "0    A  None          []              []   \n",
      "1    A  None          []              []   \n",
      "2   AA  None          []              []   \n",
      "3   AA  None          []              []   \n",
      "4   AA  None          []              []   \n",
      "\n",
      "                                          definition  startsAt  endsAt  \\\n",
      "0  The first letter of the alphabet in every know...         1       2   \n",
      "1  as an abbreviation, is likewise of frequent oc...         2       2   \n",
      "2  a river of the province of Groningen, in the k...         2       2   \n",
      "3  a river in the province of Overyssel. in the N...         2       2   \n",
      "4  a river of the province of Antwerp, in the Net...         2       2   \n",
      "\n",
      "   position termType                                       filePath  ...  \\\n",
      "0         1  Article  ./eb07_TXT_v2/a2/kp-eb0702-000101-9822-v2.txt  ...   \n",
      "1         2  Article  ./eb07_TXT_v2/a2/kp-eb0702-000101-9822-v2.txt  ...   \n",
      "2         3  Article  ./eb07_TXT_v2/a2/kp-eb0702-000201-9835-v2.txt  ...   \n",
      "3         4  Article  ./eb07_TXT_v2/a2/kp-eb0702-000201-9835-v2.txt  ...   \n",
      "4         5  Article  ./eb07_TXT_v2/a2/kp-eb0702-000201-9835-v2.txt  ...   \n",
      "\n",
      "    volumeId                      permanentURL publisherPersons  volumeNum  \\\n",
      "0  192984259  https://digital.nls.uk/192984259               []          2   \n",
      "1  192984259  https://digital.nls.uk/192984259               []          2   \n",
      "2  192984259  https://digital.nls.uk/192984259               []          2   \n",
      "3  192984259  https://digital.nls.uk/192984259               []          2   \n",
      "4  192984259  https://digital.nls.uk/192984259               []          2   \n",
      "\n",
      "   editionNum numberOfVolumes supplementTitle supplementSubTitle  \\\n",
      "0           7              22                                      \n",
      "1           7              22                                      \n",
      "2           7              22                                      \n",
      "3           7              22                                      \n",
      "4           7              22                                      \n",
      "\n",
      "  supplementsTo numberOfTerms  \n",
      "0            []          None  \n",
      "1            []          None  \n",
      "2            []          None  \n",
      "3            []          None  \n",
      "4            []          None  \n",
      "\n",
      "[5 rows x 40 columns]\n"
     ]
    }
   ],
   "source": [
    "print(df.head(5))"
   ]
  },
  {
   "cell_type": "code",
   "execution_count": 24,
   "metadata": {},
   "outputs": [
    {
     "data": {
      "text/plain": "term                                                                   A\nnote                                                                None\nalter_names                                                           []\nreference_terms                                                       []\ndefinition             The first letter of the alphabet in every know...\nstartsAt                                                               1\nendsAt                                                                 2\nposition                                                               1\ntermType                                                         Article\nfilePath                   ./eb07_TXT_v2/a2/kp-eb0702-000101-9822-v2.txt\nnumberOfWords                                                       1446\nheader                                                              None\nletters                                                        A-Anatomy\npart                                                                   0\nMMSID                                                   9910796273804340\neditionTitle                        Seventh edition, Volume 2, A-Anatomy\neditor                                                   Stewart, Dugald\neditor_date                                                    1753-1828\ngenre                                                       encyclopedia\nlanguage                                                             eng\ntermsOfAddress                                                       Sir\nnumberOfPages                                                        974\nphysicalDescription                                   21 v. in 22 ; 4to.\nplace                                                          Edinburgh\npublisher                                                  A. & C. Black\nreferencedBy                                                        None\nshelfLocator                                                       EB.15\neditionSubTitle                                                     None\nvolumeTitle                                     Encyclopaedia Britannica\nyear                                                                1842\nvolumeId                                                       192984259\npermanentURL                            https://digital.nls.uk/192984259\npublisherPersons                                                      []\nvolumeNum                                                              2\neditionNum                                                             7\nnumberOfVolumes                                                       22\nsupplementTitle                                                         \nsupplementSubTitle                                                      \nsupplementsTo                                                         []\nnumberOfTerms                                                       None\nName: 0, dtype: object"
     },
     "execution_count": 24,
     "metadata": {},
     "output_type": "execute_result"
    }
   ],
   "source": [
    "df.loc[0]"
   ]
  },
  {
   "cell_type": "code",
   "execution_count": 25,
   "metadata": {},
   "outputs": [
    {
     "name": "stdout",
     "output_type": "stream",
     "text": [
      "Number of files:  21024\n",
      "Number of terms:  23970\n",
      "Number of topics:  959\n",
      "Number of articles:  23011\n"
     ]
    }
   ],
   "source": [
    "# Statistic analysis of dataframe from this work.\n",
    "print(\"Number of files: \", len(sorted(glob.glob(data_path + \"*/*.txt\"))))\n",
    "print(\"Number of terms: \", df.shape[0])\n",
    "print(\"Number of topics: \", df[df[\"termType\"] == \"Topic\"].shape[0])\n",
    "print(\"Number of articles: \", df[df[\"termType\"] == \"Article\"].shape[0])"
   ]
  },
  {
   "cell_type": "code",
   "execution_count": 26,
   "outputs": [
    {
     "name": "stdout",
     "output_type": "stream",
     "text": [
      "            term  note                                        alter_names  \\\n",
      "481    ACHILLAEA  None           [YARROW, MILFOIL, NOSEBLEED, SNEEZEWORT]   \n",
      "530     ACONITUM  None                   [ACONITE, WOLFSBANE, MONKS-HOOD]   \n",
      "583  ACROSTICHUM  None                   [RUSTYBACK, WALL-RUE, FORK-FERN]   \n",
      "598       ACTAEA  None                   [HERB-CHRISTOPHER, BANE-BERRIES]   \n",
      "662    ADANSONIA  None  [ETHIOPIAN SOUR-GOURD, MONKEYS-BREAD, AFRICAN ...   \n",
      "\n",
      "    reference_terms definition  startsAt  endsAt  position termType  \\\n",
      "481              []                   96      96        10  Article   \n",
      "530              []                  107     107         7  Article   \n",
      "583              []                  129     129         4  Article   \n",
      "598              []                  131     131         4  Article   \n",
      "662              []                  143     143         1  Article   \n",
      "\n",
      "                                          filePath  ...   volumeId  \\\n",
      "481  ./eb07_TXT_v2/a2/kp-eb0702-009608-1057-v2.txt  ...  192984259   \n",
      "530  ./eb07_TXT_v2/a2/kp-eb0702-010705-1200-v2.txt  ...  192984259   \n",
      "583  ./eb07_TXT_v2/a2/kp-eb0702-012904-1486-v2.txt  ...  192984259   \n",
      "598  ./eb07_TXT_v2/a2/kp-eb0702-013102-1512-v2.txt  ...  192984259   \n",
      "662  ./eb07_TXT_v2/a2/kp-eb0702-014301-1668-v2.txt  ...  192984259   \n",
      "\n",
      "                         permanentURL publisherPersons  volumeNum  editionNum  \\\n",
      "481  https://digital.nls.uk/192984259               []          2           7   \n",
      "530  https://digital.nls.uk/192984259               []          2           7   \n",
      "583  https://digital.nls.uk/192984259               []          2           7   \n",
      "598  https://digital.nls.uk/192984259               []          2           7   \n",
      "662  https://digital.nls.uk/192984259               []          2           7   \n",
      "\n",
      "    numberOfVolumes supplementTitle supplementSubTitle supplementsTo  \\\n",
      "481              22                                               []   \n",
      "530              22                                               []   \n",
      "583              22                                               []   \n",
      "598              22                                               []   \n",
      "662              22                                               []   \n",
      "\n",
      "    numberOfTerms  \n",
      "481          None  \n",
      "530          None  \n",
      "583          None  \n",
      "598          None  \n",
      "662          None  \n",
      "\n",
      "[5 rows x 40 columns]\n",
      "       term  note alter_names        reference_terms  \\\n",
      "9513  EARTH  None          []                     []   \n",
      "9514  EARTH  None          []  [FIGURE OF THE EARTH]   \n",
      "\n",
      "                                             definition  startsAt  endsAt  \\\n",
      "9513  amongst ancient philosophers, owe of the four ...       391     391   \n",
      "9514  in Astronomy and Geography, one of the primary...       391     391   \n",
      "\n",
      "      position termType                                       filePath  ...  \\\n",
      "9513        13  Article  ./eb07_TXT_v2/e8/kp-eb0708-039107-8218-v2.txt  ...   \n",
      "9514        14  Article  ./eb07_TXT_v2/e8/kp-eb0708-039107-8218-v2.txt  ...   \n",
      "\n",
      "       volumeId                      permanentURL publisherPersons  volumeNum  \\\n",
      "9513  193322688  https://digital.nls.uk/193322688               []          8   \n",
      "9514  193322688  https://digital.nls.uk/193322688               []          8   \n",
      "\n",
      "      editionNum numberOfVolumes supplementTitle supplementSubTitle  \\\n",
      "9513           7              22                                      \n",
      "9514           7              22                                      \n",
      "\n",
      "     supplementsTo numberOfTerms  \n",
      "9513            []          None  \n",
      "9514            []          None  \n",
      "\n",
      "[2 rows x 40 columns]\n"
     ]
    }
   ],
   "source": [
    "# Check terms with empty description\n",
    "# Result shows these terms all have alternative names, and it's the fact that they don't have description in EB except alternative names.\n",
    "print(df[df[\"definition\"] == \"\"])\n",
    "print(df[df[\"term\"] == \"EARTH\"])"
   ],
   "metadata": {
    "collapsed": false
   }
  },
  {
   "cell_type": "code",
   "execution_count": 27,
   "outputs": [
    {
     "name": "stdout",
     "output_type": "stream",
     "text": [
      "[['ABAE'], ['ADY'], ['PHILOSOPH'], ['SALADIN', 'ABDOLLATIPHI HISTORIAE AEGYPTI COMPENDIUM'], ['AVENZOAR'], ['PARALLAX', 'ASTRONOMY'], ['OPTICS'], ['NILE'], ['PERROT'], ['TRIAL OF WILLIAM FIZZY'], ['CONIC SECTIONS'], ['IRELAND'], ['ABSTRACTION'], ['INSTITUTE', 'SOCIETY'], ['ATWOOĎS MACHINE, DYNAMICS, MECHANICS'], ['READING'], ['ACCOMMODATION'], ['TABOUROT, STEPHEN'], ['ACHAEANS'], ['STATIUS'], ['TATIUS'], ['CHEMISTRY'], ['HARMONICS, MUSIC, TEMPERAMENT', 'WIND-INSTRUMENTS, ORGAN, TRUMPET'], ['AGRIGENTUM'], ['VAN'], ['BIBLIOGRAPHY', 'DRAMA'], ['DIAMOND'], ['ADIRBEITSAN'], ['HELL'], ['NAVY'], ['NAVY'], ['ADONIA'], ['ACCLAMATION'], ['DIVORCE'], ['PIUS II'], ['ACOUSTICS'], ['AERONAUTICS'], ['ATHELSTAN'], ['ABYSSINIA'], ['AETIUS'], ['COMPANY'], ['BIOGRAPHIE UNIVERSELLE'], ['V', 'B B', 'DAIRY', 'PASTURES', 'CHAP', 'A', 'TURNIPS', 'SECT'], ['GIRGENTI'], ['COLOGNE'], ['HISTORY OF PERSIA'], ['ATMOSPHERE, METEOROLOGY'], ['PNEUMATICS'], ['PNEUMATICS', 'VENTILATORS'], ['ALBIGENSES'], ['PRUSSIA'], ['ARAEOMETER'], ['ALCOR'], ['BREWING'], ['CHIGĪ', 'BORGIA'], ['BIBL'], ['MEM'], ['CRYPTOGAMIA'], ['REUSS, REPERTORIUM COMMENTATIONUM', 'COMMERCIUM EPISTOLICUM'], ['GOOD HOPE, CAPE OF'], ['ANATOMY'], ['DIETETICS'], ['CHEMISTRY'], ['ALCMAER'], ['ALCORAN'], ['ALUM'], ['ALMUCANTARS'], ['ALMUGGIM'], ['TOSTATUS'], ['ALDSTON-MOOR'], ['TAYF'], ['GEOMETRY'], ['RELIEVO'], ['AMAK'], ['HAMADAN'], ['UNITED STATES', 'VESPUCCI'], ['HALLER, BIBL'], ['MORTMAIN'], ['AMBRESBURY'], ['LOGIC'], ['NATOLIΛ'], ['ORGANOG'], ['REPERTORY OF ARTS'], ['ICHTHYOLOGY'], ['ANTIQUITIES'], ['HERMAPHRODITE'], ['AUTOMATON'], ['ANTHROPOPHAGI'], ['WIND-GAGE'], ['BUONAROTI, MICHAEL ANGELO'], ['BRITISH BIBLIOGRAPHY'], ['WHITE, THOMAS'], ['CONGO'], ['MASSANIELLO'], ['ZOOPHYTES', 'HOROE ENTOMOLOGĨCOE', 'ANIMAL KINGDOM', 'DESMOULINS, RECH'], ['PHIL', 'DIET'], ['NOS', 'DEBT, NATIONAL'], ['BIBLIOGRAPHY'], ['MADAGASCAR'], ['BIOGRAPHI'], ['ENTOMOLOGY'], ['ANTIGUA'], ['PETRIFACTION'], ['MAN'], ['SACRIFICE'], ['HYPOPHORA'], ['ANTIOCHIAN SECT'], ['ALLEGANY MOÜNTAINS'], ['ITALY'], ['MEDICINE'], ['HORTICULTURE'], ['THANE'], ['J'], ['FABRICIUS'], ['JULIUS FRONTINUS', 'RAILWAY'], ['NIEBUHR'], ['ARRACAN'], ['O', 'LINN', 'RÈGNE ANIMAI'], ['ARRACK'], ['ATTICA'], ['AMERICA'], ['CROSS-BOW'], ['ABERBROTΠICK'], ['ACCOUNT OF THE FAMILY OF WREN'], ['ARCΠEUS'], ['COURT OF ARCHES'], ['PRONAOS', 'PORTICUS AND PORTICO', 'STRING-COURSE', 'TRIGLYPH', 'STEREOBATE', 'PERISTYLE', 'PSEUDO-PROSTYLE', 'BAND', 'FOLIATIONS', 'TORUS', 'PROSTYLE', 'MONOPTEROS', 'ANTAE', 'MONOTRIGLYPH AND DITRI-GLYPII', 'APOPHYGE', 'ELEVATION', 'PERIPTEROS', 'GROINING', 'COLUMN', 'DISTYLE, TETRASTYLE, HEXASTYLE, OCTASTYLE', 'CUPOLA', 'PLAN', 'MONOTRIGLYPH', 'PSEUDOPROSTYLE', 'HYPAETHROS', 'ORTIIOSTYLE', 'PERIPTERAL', 'EUSTYLE', 'DIPTEROS'], ['BIOGRAPHIE MODERNE'], ['THUE'], ['BISHOP BUTLER, SERM'], ['ESQUIRE'], ['HERALDRY'], ['R', 'PÈRE DANIEL'], ['ARAGON'], ['VINCENT, DR WILLIAM'], ['ARCHERY'], ['PERSIA'], ['GRAMMAR'], ['MAGNETS', 'PYROTECHNY'], ['DEGREES, ACADEMICAL'], ['MINERALOGY'], ['CARTHAGE'], ['REPTILIA'], ['LONG'], ['MAMMALIA'], ['METAPHYSICS'], ['INSURANCE'], ['BAILLY'], ['MEMOIRS OF THE ASTRONOMICAL SOCIETY', 'THEORETICAL ASTRONOMY, CHAP', 'LALANDE, ASTRONOMIE', 'MÉCANIQUE CELESTE', 'HEVELIUS', 'PHYSICAL ASTRONOMY', 'EXAMPLE II', 'DELAMBRE', 'CALENDAR'], ['ACHROMATIC GLASSES', 'MEM', 'CIRCLE, COLLIMATOR, DYNAMETER, LEVEL, MICROMETER, OBSERVATORY, SECTOR, TELESCOPE, VERNIER'], ['SANCTUARY'], ['ATTICA'], ['METEOROLOGY'], ['CLIMATE, METEOROLOGY, PNEUMATICS'], ['CHEMISTRY'], ['EXPIATION'], ['ELEMENTS OF THE PHILOSOPHY OF THE HUMAN MIND'], ['THUCYDIDES'], ['MOUNTAINS'], ['AUGSBURG CONFESSION'], ['ORNITHOLOGY'], ['GELLIUS'], ['ENTOMOLOGY'], ['VICTOR'], ['COOK, LABILLARDIĔRE', 'DALRYMPLE, BURNEY, COOK', 'COLLINS, FLINDERS, TURNBULL', 'SCHOUTEN, DAMPIER, CARTERET, LABILLARDIÈRE'], ['ACT OF FAITH'], ['ANDROÏDES'], ['HEGEMONE'], ['BAHREIN'], ['AVOIRDUPOIS'], ['ORNITHOLOGY'], ['ANATOMY'], ['HISTORY OF ASTRONOMY'], ['DEGREES, ACADEMICAL'], ['VERULAM, FRANCIS BACON'], ['GERMANY'], ['INVERNESS-SHIRE'], ['LONG'], ['EULER, COMMENT'], ['POLITICAL ECONOMY'], ['MAJORCA AND MINORCA'], ['BELLENDEN, SIR JOHN'], ['GUNNERY'], ['AERONAUTICS'], ['BIOGRAPHIE UNIVERSELLE'], ['EMBANKMENT'], ['HERALDRY'], ['COLOMESII OPUSCULA'], ['CINCHONA', 'ANATOMY, VEGETABLE'], ['AGRICULTURE AND BREWING'], ['BAKING AND BREWING'], ['AGRICULTURE'], ['BROACH'], ['CLIMATE', 'METEOROLOGY'], ['CLIMATE, HYGROMETRY'], ['BARRAY'], ['BARRETRY'], ['BARRETRY'], ['ANATOMY'], ['BUR SALUM'], ['BASSO- RELIEVO'], ['GEOLOGY'], ['BUSSORAH'], ['FORTIFICATION'], ['BATENITES'], ['BASTON'], ['BATAVORUM INSULA'], ['BATNEARS'], ['JOMINI'], ['ASTRONOMY'], ['BOOKBINDING'], ['NOVI COMMENTARII SOC'], ['ARABIA'], ['BREWING'], ['ENTOMOLOGY'], ['MENDICITY'], ['BOEHMEN'], ['NETHERLANDS'], ['BLOWING MACHINERY'], ['ASTRONOMY'], ['BAMBA'], ['COMMERCIUM PHILOSOPHICUM', 'VIIΑ Λ'], ['BAIROUT'], ['BERIA'], ['BEIROUT'], ['RUSSIA'], ['SULLY'], ['BIOGRAPHIE UNIVERSELLE'], ['BOULARD'], ['BEYKANEER'], ['BLED-EL-JEREEDE'], ['MORTALITY, BILLS OF'], ['CYRENAICA'], ['ALGEBRA'], ['HISTORY'], ['ALGEBRA'], ['TAXIDERMY', 'ORNITHOLOGY'], ['BIJANAGUR'], ['BISSAGOS'], ['EDINBURGH REVIEW, NO'], ['EXCHEQUER'], ['ALPS'], ['HORTICULTURE'], ['TREATISE OF ARTILLERY'], ['ANNALS OF PHILOSOPHY'], ['SURGERY'], ['BLANCH'], ['BRITAIN'], ['PLANTS, DISEASES OF'], ['BLIND', 'FARRIERY', 'PLIIL'], ['DOCKYARD', 'DOCK-YARD, PORTSMOUTH'], ['ANATOMY AND PHYSIOLOGY'], ['JOURNAL OF SCIENCE', 'BERG-MANI OPUSCULA'], ['GLASS'], ['MAMMALIA'], ['BOYCE, HECTOR'], ['BOGOMILI'], ['TEA'], ['AUSTRIA'], ['BUKHARIA'], ['GUNNERY'], ['NAPOLEON'], ['ANATOMY', 'GEOLOGY'], ['HINDOSTAN'], ['BIBLIOGRAPHY'], ['BIBLIOGRAPHY'], ['CHEMISTRY AND MINERALOGY'], ['RINMAN, EERG-ΙVERHS LEXICON', 'REPERTORY OF ARTS'], ['BORROMEUS'], ['ARTICLE BANKS, SIR JOSEPH'], ['AUSTRALASIA'], ['RUSSIA'], ['SURGERY'], ['POLITICAL ECONOMY'], ['BOOTON'], ['SHIP-BUILDING'], ['POPE URBAN VIII'], ['NETHERLANDS'], ['BRAMINS'], ['SHORT HAND'], ['ABERDEENSHIRE'], ['ABBÉ DUBOIS'], ['BRAHMINS'], ['ATTICA'], ['HORTICULTURE'], ['BAKING'], ['GERMANY'], ['PHILOSOPHICAL MAGAZINE', 'PHILOSOPHICAL TRANSACTIONS'], ['BUILDING'], ['CHAIN BRIDGES'], ['BARBADOES'], ['MR CANNING'], ['AUSTRALASIA'], ['HORTICULTURE'], ['BROACH'], ['HORTICULTURE'], ['ROSYCRUCIANS'], ['SCOTLAND', 'ABYSSINIA'], ['BRINDISI'], ['GERMANY'], ['BURNTISLAND'], ['ANDROÏDES AND AUTOMATON', 'MAMMALIA'], ['ROME'], ['BIOGRAPHIE UNIVERSELLE'], ['VILLIERS', 'SHEFFIELD'], ['ENTOMOLOGY'], ['NO', 'CARPENTRY', 'GLASS, MANUFACTURE OF'], ['BISSAGOS'], ['ANATOMY, VEGETABLE'], ['DECURIO'], ['BALK'], ['MAMMALIA', 'SPAIN'], ['CECIL'], ['BUFFON', 'OPTICS', 'NOV'], ['BURIAL'], ['WEIGHTS AND MEASURES'], ['KING RICHARD III'], ['BRITAIN'], ['HORTICULTURE'], ['ANGOLA'], ['JOINERY'], ['ROPE-MAKING'], ['ROME'], ['MIDWIFERY'], ['CHINA'], ['MINERALOGY'], ['NAVIGATION INLAND', 'AUSTRALASIA', 'SCOTLAND'], ['MAMMALIA'], ['COMPASSES'], ['DYEING'], ['ARABIA'], ['KALMUCKS'], ['CHEMISTRY'], ['THEOLOGY'], ['BOTANY'], ['UNIVERSITIES'], ['PERSIA'], ['MAMMALIA'], ['CAMALODUNUM'], ['MAMMALIA', 'CAMAÏEU'], ['WAR'], ['WAR'], ['BACKWOODSMAN', 'PARLIAMENTARY REPORT', 'HOUSE OF COMMONS PAPERS', 'J', 'MACGREGOR'], ['NAVIGATION, INLAND'], ['LIFE OF SIR THOMAS MUNRO'], ['ORNITHOLOGY'], ['AFGHANISTAN'], ['KHANDESH'], ['MEDICINE'], ['MAMMALIA'], ['ROME'], ['MINERALOGY'], ['ARTILLERY AND GUNNERY'], ['GUNNERY AND WAR'], ['KANO'], ['BIBLE'], ['MUSIC'], ['CHINA'], ['EVIDENCE OF C'], ['GOOD HOPE', 'VERD', 'BRETON', 'COAST'], ['LONG'], ['ORNITHOLOGY'], ['HOSEA'], ['CARACT'], ['CHEMISTRY'], ['WOOLLEN MANUFACTURE'], ['ICHTHYOLOGY'], ['HORACE AND OVID'], ['STRENGTH OF MATERIALS', 'NOTE KK', 'NOTE AA', 'NOTE LL', 'ART', 'NOTE EE', 'NOTE CC', 'NOTE FF', 'NOTE II', 'STEAM-ENGINE', 'NOTE HH', 'NOTE DD', 'ROOF, NO', 'NOTE GG'], ['MECHANICS'], ['CARRUCATE'], ['MECHANICS'], ['DUEL'], ['BIOGRAPHIE UNIVERSELLE'], ['COLOMBIA'], ['ARCHITECTURE'], ['PRINTING'], ['HERALDRY'], ['CASHMERE'], ['CASTALIUS'], ['FOUNDERY'], ['CASTING'], ['ASTRONOMY', 'BIBLIOGRAPHY'], ['CATANIA'], ['ENTOMOLOGY'], ['PARR'], ['CAITHNESS'], ['ROMAN CATHOLIC'], ['OPTICS'], ['GASTROMANCY'], ['HORTICULTURE'], ['METAPHYSICS'], ['ROAD'], ['ARMY'], ['ATHENS AND ATTICA'], ['HORTICULTURE'], ['PΑTTLE-AXE'], ['LIME'], ['COENOBITE'], ['CAPITE CENS'], ['BIBLIOGRAPHY'], ['ENGLAND'], ['CARPENTRY', 'ARCH'], ['ARMY'], ['IONIAN ISLES'], ['ANATOMY'], ['ANATOMY'], ['IONIAN ISLANDS'], ['CHEMISTRY'], ['ORNITHOLOGY'], ['SAAVEDRA'], ['MAMMALIA'], ['BANKRUPT'], ['MAMMALIA'], ['ORNITHOLOGY'], ['PUMP', 'SUSPENSION BRIDGES'], ['CALCEDONY'], ['BABYLONIA'], ['DUEL'], ['JURY AND TRIAL'], ['MAMMALIA'], ['CHEMISTRY'], ['BRITAIN'], ['ICHTHYOLOGY'], ['CARTHUSIANS'], ['CHARTO- PHYLAX'], ['ANATOMY'], ['AGRICULTURE AND DAIRY'], ['ART'], ['STANHOPE'], ['CHEVAL-DE-FRISE'], ['CLARO OBSCURO'], ['CHILE'], ['HISTORY OF INVENT'], ['PORCELAIN'], ['SCIO'], ['KHIVA'], ['CHEMISTRY'], ['MEDICINE'], ['KHORASSΛN'], ['TROCHEE'], ['ENHARMONIC'], ['CHEMISTRY'], ['JBIBLIOTHECA GRAECA'], ['NAVIGATION'], ['CIRCONCELLIONES'], ['CIVILITY'], ['RUHNKENII OPUSCULA', 'ECKHARDI IIERMENEUTIEA JURIS', 'BACHII HISTORIA JURISPRUÀENTIOE ROMANCE'], ['CLARO OBSCURO'], ['IIYDE'], ['WINE'], ['PAINTING'], ['ANIMAL KINGDOM AND BOTANY'], ['MR WESTWOOD', 'SUCH', 'ALSO', 'EDINBURGH PHIL'], ['HERRING'], ['MINERALOGY'], ['DICTIONARY OF COMMERCE'], ['SAXE-COBURG'], ['ORNITHOLOGY'], ['FRANCE AND NAPOLEON'], ['LEGISLATION'], ['ALGEBRA'], ['CEMETERY'], ['AS', 'DRACHMA AND DFNARIUS'], ['SCOTLAND'], ['BOLIVIA'], ['DYEING', 'CHROMATICS AND OPTICS'], ['COMPLEXION', 'PAINTING'], ['FARRIERY'], ['IONA'], ['ORNITHOLOGY'], ['CABOT'], ['ARCHITECTURE'], ['GEOGRAPHY'], ['BATTLE'], ['DELAMBRE, ΛSTR'], ['INTERVAL', 'PUNCTUATION'], ['SCOTLAND'], ['FACTORAGE', 'SCOTLAND', 'BANKRUPTCY', 'LUNACY'], ['LITURGY'], ['BACHELOR', 'CIVIL STATE', 'BARONET'], ['ENGLAND AND PARLIAMENT'], ['HUNDRED'], ['ACTA SS'], ['INDIA'], ['ANATOMY'], ['DIALING'], ['BIBLE'], ['ARCHITECTURE'], ['PAINTING', 'PRINTING'], ['METAPHYSICS'], ['MOLLUSCA'], ['GRAMMAR'], ['CLOUD, EVAPORATION'], ['CONIC SECTIONS'], ['UNITED STATES'], ['APOLLONIUS'], ['CAMBDEN'], ['MORAL PHILOSOPHY'], ['METAPHYSICS'], ['CONSTANTINOPLE'], ['ASTRONOMY'], ['GRAMMAR AND LANGUAGE'], ['DISEASE'], ['GEOGRAPHY'], ['ORNITHOLOGY'], ['PAINTING'], ['MONK'], ['MINERALOGY', 'DIOPTASE'], ['ALCORAN'], ['CORDAGE'], ['ROPE-MAKING'], ['ARCHITECTURE'], ['MEMOIRS OF WOOL'], ['HORN'], ['MINING'], ['INCORPOREAL'], ['PUNISHMENTS'], ['ALLEGRI'], ['MINERALOGY'], ['ORNITHOLOGY'], ['CURZOLA'], ['KOSFELD'], ['PRIVY COUNCIL'], ['CUPAR OF FIFE', 'CUPAR OF ANGUS'], ['POST'], ['DR LINGARĎS HIST'], ['VOLCANO'], ['CRIMEA'], ['PENAL JURISPRUDENCE'], ['MINERALOGY'], ['ASTRONOMY'], ['ORNITHOLOGY'], ['HORTICULTURE'], ['DISSERTATION SECOND'], ['BUTESHIRE'], ['METALLURGY'], ['SURGERY'], ['DAIRY'], ['ORNITHOLOGY'], ['MONEY'], ['TANNING'], ['ENGLAND AND TAXATION'], ['ORNITHOLOGY'], ['HORTICULTURE'], ['CROESUS'], ['ALEMBERT'], ['ORIGINAL LETTERS'], ['SAFETY LAMP'], ['PERSIA'], ['ASPHALTITES'], ['MEDICINE'], ['ENGLAND'], ['ARITHMETIC'], ['CIPHER'], ['SHIP-BUILDING'], ['GRAMMAR'], ['DIALING'], ['CHEMISTRY'], ['MAMMALIA'], ['PROTECTOR'], ['LONGITUDE', 'LATITUDE'], ['UNIVERSITIES'], ['DOMAIN'], ['LOGIC'], ['DEEMSTER'], ['REPERTORY OF ARTS'], ['CHEMISTRY'], ['DEPOSITION', 'DEGRADATION'], ['RESORT'], ['CARTES'], ['DESCENT'], ['PERSPECTIVE'], ['BOILEAU'], ['FATE'], ['MECHANICS'], ['METEOROLOGY'], ['LIBRA'], ['DEVIL'], ['ACOUSTICS'], ['CROWN'], ['DIALLING'], ['LOGIC'], ['FLAMEN'], ['GEOMETRY'], ['EPHESUS'], ['ANATOMY'], ['PRESENTLY', 'WIDE', 'TIGHT', 'MORE', 'NARROW', 'HIGH AND TALL', 'TALL', 'TALL AND HIGH', 'MAIR', 'BROAD, WIDE', 'FOREST', 'HIGH'], ['AUSTRALASIA'], ['FLUXIONS'], ['FLUXIONS'], ['CIVIL LAW'], ['PARISH'], ['OPTICS'], ['CALMET, DICTION'], ['MINING', 'MAGNETISM'], ['CHORD'], ['MINERALOGY'], ['MEDICINE'], ['DISCORD'], ['ΛU-GURY'], ['HALLEY, PHIL'], ['ARITHMETIC'], ['MUSIC'], ['MARINES', 'NAVY', 'NΛVY'], ['DODONA'], ['CANIS', 'CANICULA'], ['MONEY'], ['DOMESDAY BOOK'], ['TOURNAI'], ['ARCHITECTURE'], ['MONSTER'], ['ORNITHOLOGY'], ['DOWER'], ['DRACO'], ['ARMY'], ['COMMERCE'], ['DIETETICS'], ['MAMMALIA'], ['BEE'], ['MEDICINE'], ['NAY'], ['DUKE'], ['MONEY'], ['MONEY'], ['ORNITHOLOGY'], ['BIOG'], ['CHIVALRY'], ['DEAF AND DUMB'], ['DUN'], ['AS', 'POUND AND LIBRA'], ['DUCHY'], ['POLITICAL ECONOMY'], ['BLEACHING', 'KUHLMANN, ANN'], ['NO', 'LCCT', 'FLUXIONS'], ['MEDICINE'], ['ORNITHOLOGY'], ['AQUILA'], ['ANATOMY'], ['FIGURE OF THE EARTH'], ['POTTER, ARCH'], ['MOUNT ORONTES'], ['ZOOPHYTES'], ['ASTRONOMY'], ['ASTRONOMY'], ['GEOGRAPHY'], ['POLITICAL ECONOMY'], ['EXTASY'], ['LIGHT-HOUSES'], ['PARADISE'], ['EDINBURGHSHIRE', 'GUILD', 'LEITH'], ['ENGLAND'], ['ICHTHYOLOGY'], ['CRYSTALLIZATION'], ['HATCHING'], ['GYPSIES', 'EGYPTIANS'], ['ORNITHOLOGY'], ['GYMNASIUM'], ['PARLIAMENT'], ['CHEMISTRY'], ['GERMANY'], ['GALVANISM, MAGNETO-ELECTRICITY'], ['ELECTRICITY'], ['MAMMALIA'], ['MORAYSHIRE'], ['MAMMALIA'], ['WEIGHTS AND MEASURES'], ['MECHANICAL EXERCISES'], ['INDORSEMENT'], ['BOLEYN', 'ACRE', 'AGINCOURT', 'CROMWELL', 'MARY', 'WOLSEY', 'SCOTLAND', 'CRUSADES', 'CRANMER', 'WICKLIFF', 'BECKET'], ['EXCHANGE'], ['WOOD', 'AQUATINTA', 'GLASS', 'MEZZOTINTO', 'CUTLERY'], ['MUSIC'], ['AENIGMA'], ['TAILZIE'], ['DUFOUR', 'OLIVIER, COLÉOPTÈRES, NO', 'MACLEAY, HΟR', 'ENTOMOLOΕIA EÃÌNENSĨS', 'RÉGNE ANIMAL', 'DEGEER, MÉMOIRES', 'BIBLIA NATURAE', 'ENT', 'ΕNTOMOLOGIA EDINENSÌS', 'GRAVENHORSŤS COLEOPTCRA MICROPTERA, GYLLENHAĽS INSECTA SUECICA', 'REGNE ANIMAL', 'RÈGNE ANIMAL', 'LINN', 'DEGEER', 'ENCYCLOP', 'NOV', 'HOT', 'NΟUΝ', 'GEOFFROY, HIST', 'ILÈGNE ANIMAL'], ['CHRONOLOGY'], ['PLUTARCH'], ['BÖCKH'], ['POETRY'], ['MILLIN, GALERIE MYTHOLOGIQUE'], ['EPICUREAN PHILOSOPHY'], ['MEDICINE'], ['ANATOMY'], ['POETRY'], ['CIC'], ['INDEPENDENTS AND PRESBYTERIANS', 'BISHOP', 'ACTS'], ['POETRY'], ['SPONDEUS, TROCHEUS'], ['ARBITRATOR'], ['POETRY'], ['DIAL'], ['CHRONOLOGY'], [\"DR DIBDIN'S TYPOGRAPHICAL ANTIQUITIES\"], ['REPTILIA'], ['HORTICULTURE'], ['GLADIATOR'], ['ENGRAVING'], ['CHEMISTRY'], ['MORAL PHILOSOPHY'], ['AETNA'], ['DEMPSTER, DE AETRURIA REGALI, FLORENCE'], ['NEGROPONT'], ['MURHARD'], ['MARLBOROUGH'], ['SEVIN'], ['MEINECKE, E EUPOLIDI'], ['VOSS'], ['MEDICINE'], ['EDINBURGH REVIEW, NO'], ['SCOTLAND'], ['TAXATION'], ['METAPHYSICS'], ['ANNUITIES'], ['PHILOSOPHY AND PHYSICS'], ['METAPHYSICS'], ['ALGEBRA AND ARITHMETIC'], ['ANATOMY AND OPTICS'], ['AUSTRIA', 'ITALY', 'SPAIN', 'BRITAIN'], ['MAURITIUS', 'COSTAZ'], ['ST DOMINGO'], ['POST OFFICE'], ['INCENSE'], ['MINERALOGY'], ['TOLERATION', 'METAPHYSICS'], ['ARCHITECTURE'], ['COLD AND CONGELATION'], ['PAINTING'], ['MECHANICS'], ['POLYNESIA'], ['SHIP-BUILDING'], ['GEOGRAPHY'], ['GLASS MAKING'], ['WOOLLEN MANUFACTURE'], ['REPTILIA'], ['ROTH'], ['CLIMATE, COLD'], ['BOTANY'], ['HORTICULTURE'], ['FEBONI HISTOR'], ['MUSIC'], ['BOTANY'], ['SMOKE AND STEAM-ENGINE'], ['FUSEI'], ['GRAMMAR'], ['POETRY'], ['CAREY'], ['STAR', 'MEDICINE'], ['IMAGINATION'], ['AGRICULTURE'], ['DRAMA'], ['AGRICULTURE'], ['VETERINARY MEDICINE'], ['FUST'], ['FEVERSHAM'], ['FEUDAL LAW'], ['HAT-MAKING'], ['BOSSUET'], ['FEUDAL LAW'], ['HERALDRY'], ['BREWING AND CHEMISTRY'], ['JUAN FERNANDES'], ['FAROE'], ['F'], ['ANATOMY'], ['VIOLIN'], ['FORTIFICATION'], ['FORTH', 'TAY'], ['FICUS'], ['LOGIC'], ['DELAMBRE', 'DELAMBRE, ASTRONOMIE', 'ALGEBRA'], ['PHILIBEG'], ['WATER-WORKS'], ['TAXATION'], ['VENEERING'], ['OSSIAN'], ['ELATOR, LAMPYRIS', 'STEAM-ENGINE', 'METEOROLOGY', 'FURNACE'], ['WEIGHTS AND MEASURES'], ['PRIMOGENITURE'], ['ICHTHYOLOGY'], ['ANGLING AND FISHERIES'], ['NAVY'], ['PYROTECHNICS', 'HEAT'], ['NETHERLANDS'], ['INTERVAL'], ['LONDON'], ['ANATOMY'], ['BEAUMONT AND FLETCHER'], ['MINERALOGY'], ['SHIP-BUILDING'], ['BUILDING'], ['MONEY'], ['TITZE'], ['ICHTHYOLOGY'], ['FLUXIONS'], ['HYDRODYNAMICS'], ['TIDES', 'MEDICINE'], ['BOSSUT'], ['MECHANICS', 'DIPTERA'], ['ICHTHYOLOGY'], ['ANATOMY'], ['METEOROLOGY'], ['FENCING'], ['FOLCLANDS AND FOLCMOTE'], ['FOUNT'], ['ANATOMY'], ['GARDEN'], ['MECHANICS AND PHYSICS'], ['TREASON'], ['ENTOMOLOGY'], ['FURNACE'], ['MINERALOGY'], ['ENTOMOLOGY'], ['NAVIGATION, INLAND'], ['MINANO, DICCIONARIO GEOGRAFIE'], ['MINERALOGY'], ['MAMMALIA'], ['BRASS-MAKING'], ['CANNON-MAKING'], ['PRINTING AND TYPE-MAKING'], ['SPRING'], ['HERALDRY'], ['MAMMALIA'], ['ALGEBRA AND ARITHMETIC'], ['SURGERY'], ['METEOROLOGY'], ['ASTRONOMY'], ['BIOGRAPHIE UNIVERSELLE'], ['ABYSSINIA'], ['KIRKCUDBRIGHT AND WIGTONSHIRE'], ['PROBABILITY'], ['MUSIC'], ['PRISONS'], ['PRACTICAL TREATISE OF GARDENING'], ['KING-AT-ABMS'], ['PHOTOMETER'], ['MENSURATION'], ['FRANCE'], ['HIERO'], ['ARMY'], ['PHYSIOLOGY'], ['GÉNÉRATION HARMONIQUE'], ['SWITZERLAND'], ['ESQUIRE'], ['HINDUSTAN'], ['ASTRONOMY'], ['POLYNESIA', 'BRITAIN'], ['MADRAS', 'GARTER'], ['GERMANY'], ['GRAMMAR'], ['AURUNGABAD'], ['NOTICE OF THE LIFE'], ['GUILD'], ['LAQUER'], ['BARRY'], ['BAROMETER', 'MIRROR', 'HARMONICA', 'BURNING GLASS'], ['DIAL AND DIALLING'], ['KENT'], ['GUINEA', 'MINES'], ['ARITHMETIC', 'CHRONOLOGY'], ['ABYSSINIA'], ['RETZ'], ['MORAL PHILOSOPHY'], ['GAMA'], ['ORNITHOLOGY'], ['HERALDRY'], ['GOTEBORG AND GOTTENBURG'], ['ARCHITECTURE'], ['RUDDIMAN, GRAMMATICA INSTITUTIONES', 'THE PRINCIPLES OF HUMAN KNOWLEDGE', \"DR CAMPBELL'S TRANSLATION OF THE GOSPELS\", 'HERMES'], ['KÜSTER DE VOCE MEDIA', 'EDINBURGH TRANSACTIONS', 'MISCELLANEA CRITICA'], ['SCOTLAND'], ['GRENADA'], ['VENEZUELA'], ['MINERALOGY'], ['MINERALOGY'], ['VINE AND WINE'], ['MORAL PHILOSOPHY'], ['ENGRAVING'], ['DYEING', 'GREY'], ['CHRONOLOGY'], ['GBAEVIUS'], ['MAMMALIA'], ['GREENLAND'], ['ORNITHOLOGY'], ['JOSHUA'], ['PROVOST'], ['LONG'], ['ICHTHYOLOGY', 'GABRES'], ['GHIBELINS'], ['BARBIERI'], ['ROME'], ['ARETIN'], ['AUSTRALASIA', 'COAST CASTLE, CAPE', 'ΛSHANTEE'], ['GISBOROUGH'], ['HERALDRY'], ['GUN-MAKING'], ['SWEDEN'], ['HADDINGTON', 'DUNBAR'], ['METEOROLOGY'], ['SAVILLE'], ['DISCUS'], ['HALMOTE'], ['CATULLUS, CARM'], ['LIFE OF HAMPDEN'], ['YORK'], ['MAMMALIA'], ['HARRIOT'], ['HARLEIAN COLLECTION'], ['HERLING'], ['ALCMAEON, ERIPHYLE'], ['MUSIC'], ['WHALE FISHERY'], ['DISSERTATIONS THIRD AND FOURTH'], ['MAMMALIA'], ['ORNITHOLOGY'], ['ANATOMY'], ['EVAPORATION AND DISTILLATION', 'THERMOMETER AND PYROMETER', 'EDIN'], ['PHYSIOLOGY'], ['AUSTRALASIA'], ['HECATAEI ABDERITAE PHILOSOPH'], ['DIANA'], ['SHIP-BUILDING'], ['RÈGNE ANIMAL', 'MÍM', 'Μ', 'SAVIGNY', 'ANIMAL KINGDOM'], ['ABELARD'], ['ORNITHOLOGY'], ['ENGLAND, FRANCE'], ['BRITAIN'], ['NOS'], ['LEONTJUM'], ['FABRICII JBIBLIOTH'], ['EDINBURGH REVIEW'], ['ORNITHOLOGY'], ['FISHERIES'], ['ETRURIA'], ['SPAIN'], ['SYRACUSE'], ['PRÉCIS', 'RECHERCHES', 'HIEROGLYPHICS', 'HORUS APOLLO, HIEROGLYPHICΑ', 'LETRONNE', 'FIRST KINGS', 'YOUNG', 'SUMMARY OF EGYPTIAN MYTHOLOGY'], ['SCOTLAND'], ['BABYLON'], [\"MOORCROFT'S JOURNAL\"], ['HAMILTON'], ['FIFTH REPORT', 'INDIAN RECREATIONS', 'FIFTH REPORT, APPENDIX', \"HASTINGS' TRIAL\", 'ANNALS AND ANTIQUITIES OF RAJASŤHAN', 'EVIDENCE OF T', 'FIFTH REPORT OF SELECT COMMITTEE'], ['DELAMBRE'], ['MAMMALIA'], ['ST DOMINGO'], ['ARABIA'], ['NATURAL HISTORY'], ['HETH', 'BEE'], ['MAMMALIA'], ['TRINITY'], ['CROSS AND EXALTATION'], ['BIOGRAPHIE UNIVERSELLE', 'CRITHEIS', 'CORUS AND MEASURE'], ['PENAL JURISPRUDENCE'], ['BEE'], ['HERALDRY'], ['FALCONRY'], ['ANGLING'], ['BENTLEY, PRAFAT'], ['ASTRONOMY AND GEOGRAPHY'], ['PERSPECTIVE'], ['CHRONOMETER'], ['OLD SPORTING MAGAZINE'], ['VIRGIL', 'SILICUS ITAL', 'ENCY'], ['SALLIER'], ['HOST'], ['HORTICULTURE'], ['ARCHITECTURE AND BUILDING'], ['GUNNERY'], ['ORKNEY ISLANDS'], ['COMPANY'], ['CHRISTINA'], ['WIT'], ['HORSE'], ['FROISSART'], ['AGRICULTURE'], ['LIFE OF CLARENDON'], ['HYDRODYNAMICS'], ['BRONZITE', 'BARYTES, CARBONATE OF', 'SPODUMENE', 'CHABASIE', 'SIDERO- CALCITE', 'D', 'HORNSTONE', 'SCAPOLITE', 'IOLITE', 'DIPYRE', 'SMARAGDITE', 'ZOISITE', 'IRONSTONE', 'RUBY', 'SAPPHIRE', 'OSMIUM', 'LEVELLING', 'CYMOPHANE', 'PYCNITE', 'LEAD-GLANCE', 'ELEMENTS OF NAT', 'ROCK-CRYSTAL', 'TITANITE', 'HOCH CRYSTAL', 'CYANITE', 'BERYL', 'FISH EYE STONE', 'MALLET', 'SPAR', 'JADE', 'CEYLONITE', 'HAUYNE', 'HARMOTOME', 'FELSPAR', 'HISTORY OF HYDRODYNAMICS', 'KESSEHIL', 'NEPHELINE', 'LEUCITE', 'PHOSPHORITE', 'STRΟNTIAN', 'HELIOTROPE', 'PLUMBAGO', 'AHHYDRITE', 'PORPHYRY HORNBLENDE', 'CORUNDUM', 'ANALCIME', 'IRON', 'SLATE WHET', 'ALÇOLIOL', 'MECHANICS, RESISTANCE OF FLUIDS', 'SLATE, HONE, STONE', 'WAVELLITE', 'MECHANICS', 'MACLE', 'AUTOMALITE', 'STAUROTIDE', 'PERIDOT', 'COPPER AND IRON', 'HORNBLENDE LABRADOR', 'JENΙTE', 'REALGAR', 'VESUVIAN', 'RUTΙLITE', 'AUGITE', 'BAROLITE', 'BLENDE', 'ARGILLITE'], ['HYDRODYNAMICS'], ['HEALTH'], ['EDINBURGH PHIL', 'REPERTORY OF PATENT INVENTIONS'], ['CONIC SECTIONS'], ['IAMBUS'], ['RÈGNE ANIMAL', 'HIST', 'HASE, GERM', 'MEM', 'AMER', 'GENERAL ZOOLOGY', 'WERNERIAN MEMOIRS', 'MAGAXINE OF NATURAL HISTORY', 'RLGNE ANIMAL'], ['IONA'], ['ICONOCLASTES'], ['BOTANY'], ['IDIOCY'], ['IMAGE'], ['EDOM'], ['IGNATIA, BOTANY'], ['CHEMISTRY'], ['JUS IMAGINIS'], ['SCOTLAND'], ['BOTANY'], ['MEDICINE'], ['BOTANY'], ['BOTANY'], ['ILLUMINATING'], ['ROSY- CRUCIAN'], ['APPARITIONS'], ['EMPEROR'], ['GERMANY'], ['SURGERY'], ['FORTH'], ['FORTH'], ['OPTICS AND MECHANICS'], ['MINERALOGY'], ['ASBESTOS'], ['OPTICS'], ['DEED'], ['GLOBE', 'ALGEBRA'], ['COMPANY', 'CAOUTCHOUC'], ['GRAMMAR'], ['PHYSICS'], ['PHYSICS'], ['ARMY'], ['FLUXIONS'], ['GRAMMAR'], ['CHEMISTRY'], ['OPTICS'], ['SYCOPHANT'], ['HORTICULTURE'], ['SURGERY'], ['MYSTERY'], ['COLOUR MAKING'], ['NAVIGATION, INLAND'], ['METAPHYSICS'], ['HORTICULTURE', 'SURGERY AND VACCINATION'], ['LLORENTE, HIST'], ['ENTOMOLOGY'], ['BANKRUPTCY'], ['CIVIL LAW'], ['FLUXIONS'], ['LOGIC AND METAPHYSICS'], ['REPORT'], ['GRAMMAR'], ['MUSIC'], ['METAPHYSICS'], ['HERALDRY'], ['ARITHMETIC'], ['ALGEBRA'], ['IONIA'], ['ARCHITECTURE'], ['DOWDAL'], ['AUSTRALASIA'], ['MAHOMMEDΛNISM'], ['ANTINOMIANS'], ['STEPHEN', 'THEODORA'], ['ORNITHOLOGY'], ['MAMMALIA'], ['JUGGERNAUT'], ['SANTIAGO'], ['VERDE ISLANDS'], ['JAGHIRE'], ['JAGHIREDAR'], ['ASIATIC ANNUAL REGISTER'], ['AFRICA'], ['POETICAL REMAINS OF JAMES I'], ['RIO JANEIRO'], ['TURKEY'], ['MINERALOGY'], ['HISTORY OF JAVA'], ['ANATOMY'], ['CALENDAR AND CHRONOLOGY'], ['MAMMALIA'], ['JOSEPH'], ['EARS'], ['SAIL'], ['OXUS'], ['GENII'], ['KAJAAGO'], ['FRANCE'], ['BROKER'], ['HINZOUAN'], ['APOCALYPSE'], ['FORDUN'], ['NEWFOUNDLAND'], ['PHIL', 'TRΑΗS', 'BLOCK-MACHINERY', 'ACCOUNT OF THE TRIG'], ['ANATOMY'], ['JESTING'], ['BOOK-KEEPING', 'DIARY'], ['CONSTANTINOPLE'], ['JEWS'], ['PALESTINE'], ['METAPHYSICS AND LOGIC'], ['BOTANY'], ['ANATOMY'], ['ICHTHYOLOGY'], ['RHAMNUS'], ['CHRONOLOGY'], ['ROMANO'], ['CAESAR'], ['POLLUX'], ['DIANTHUS, BOTANY'], ['HELMINTHOLOGY'], ['BOTANY'], ['ASTRONOMY'], ['SCOTLAND'], ['CHIVALRY AND TOURNAMENT'], ['SCOTLAND'], ['CIVIL LAW'], ['DENMARK'], ['EDINBURGH REVIEW'], ['CALENDAR'], ['IDES AND NONES'], ['ALEUTIAN ISLANDS'], ['CANDAHAR'], ['KAARTA'], ['HOUND AND HUNTING'], ['CUMBERLAND'], ['ENGLAND'], ['KIRKCALDY'], ['JAMAICA'], ['HULL'], ['BEAUTIES OF SCOTLAND'], ['AGRICULTURE'], ['CHIVALRY'], ['POLAND'], ['KISTNA'], ['AYRSHIRE'], ['SESTERCE'], ['FABRICIUS, BIBUOTH'], ['CHEMISTRY'], ['SPARTA'], ['POLAND'], ['LACCA'], ['MAMMALIA'], ['TESSIER'], ['MOLLER, DISS'], ['TAXATION'], ['PAINTING', 'GARDENING'], ['INDAA, NU, NAM, MONUNG', 'ETRURIA AND ETRUSCANS'], ['LAVENHAM'], ['ORNITHOLOGY'], ['ORNITHOLOGY'], ['TURNING'], ['LANGUAGE AND PHILOLOGY'], ['ASTRONOMY'], ['PRINTING'], ['AETNA AND VESUVIUS'], ['FEUDAL LAW', 'MILITARY LAW', 'CANON LAW', 'MERCANTILE LAW', 'MOSAIC LAW', 'CIVIL LAW', 'MARITIME LAW'], ['PHYSIOLOGY, VEGETABLE'], ['WINCKELMANN, OP'], ['LEAF'], ['BOOK-KEEPING'], ['GLASS'], ['ARMY'], ['OPERA OMNIA', 'MIΙCCLL'], ['DUMBARTONSHIRE'], ['VINCI'], ['MAMMALIA'], ['LEVIT'], ['EDINBURGH REVIEW', 'REPORT OF THE DEBATE'], ['TONE'], ['LEITRIM'], ['FOUNT', 'EPISTLE'], ['MARQUE'], ['SPARTA'], ['LEVELLING STAVES'], ['KENTUCKY'], ['METAPHYSICS', 'GOVERNMENT', 'LEGISLATION'], ['FUNERAL'], ['BALANCE'], ['AFRICA'], ['BIBLIOGRAPHY'], ['LOO-CHOO'], ['NAVY'], ['MORTALITY', 'PHYSIOLOGY'], ['SURGERY'], ['OPTICS', 'OPTICS AND POLARIZATION'], ['HOLY-ISLAND'], ['NAVAL TACTICS'], ['FLAX AND LINEN'], ['BAYLE'], ['ENGLAND'], ['COPYRIGHT'], ['SURGERY'], ['LONDON'], ['LACHMANN, F'], ['MONEY'], ['MAGNET'], ['FUNDING SYSTEM'], ['INVERNESS-SHIRE'], ['NAVIGATION, INLAND'], ['NAVIGATION'], ['METAPHYSICS', 'EDINBURGH REVIEW'], ['LOMBARDS'], ['MIRROR AND OPTICS'], ['VEGA'], ['ARGYLESHIRE'], ['FRANCE'], ['IGNATIUS'], ['BÄHR'], ['CALENDAR AND YEAR', 'MONTH'], ['ANATOMY'], ['LAUSATIA'], ['LUTHER'], ['SURGERY'], ['ETHIOPIA'], ['HERALDRY'], ['CALLISTHENES'], ['MÜLLER'], ['BLANKOF'], ['TYRE'], ['EDINBURGH REVIEW'], ['MECHANICS'], ['EDINBURGH REVIEW', 'MEMOIRS'], [\"BLACKWOOD'S MAGAZINE\"], ['MENTAL DISEASES'], ['FABRICIUS, BIBLIOTHECA LATINA'], ['MARY'], ['CHAPTER V', 'PHILOSOPHICAL TRANSACTIONS'], ['OPTICS'], ['BOTANY'], ['MAHOMMED'], ['BOTANY'], ['SERJEANT', 'GENERAL'], ['LOGIC', 'MUSIC'], ['PHYSIOLOGY AND SEX'], ['MALEBRANCHE', 'FIRST PRELIMINARY DISSERTATION'], ['ORNITHOLOGY'], ['BREWING AND DISTILLATION'], ['EGYPT'], ['DIET', 'MEM', 'ANNALS OF THE NEW YORK LYCEUM OF NATURAL HISTORY', 'THE HISTORY OF FOUR-FOOTED BEASTS AND SERPENTS', 'MONOGRAPH', 'MAGAZINE OF ZOOLOGY AND BOTANY', 'DESMARESŤS MAMMALOGIE', 'TIEĐEMAN, ICON', 'PERSONAL NARRATIVE', 'LESSON AND FR', 'LINN', 'PL', 'OSS', 'QUARTERLY REVIEW', 'OSSEMENS FOSSILES', 'PHILAD', 'PHIL', 'NOUV', 'FAUNA BOREALI-AMERICANA', 'LESS'], ['ANATOMY'], ['TATLEΤ'], ['AGRICULTURE'], ['RENOUARD'], ['MAIIRATTAS'], ['MINERALOGY'], ['MINERALOGY'], ['AMMIANUS'], ['C'], ['PAULO'], ['LADRONES'], ['LONDON'], ['NAVIGATION'], ['LEG'], ['METELLUS', 'JUGURTHA'], ['AGRICULTURE'], ['ASTRONOMY'], ['ROSENMÜLLER'], ['LARDNER, CREDIBILITY'], ['SCOTLAND', 'ENGLAND'], ['LONDON'], ['CAVENDISH', 'MECHAIN'], ['GÉOMÉTRIE DESCRIPTIVE', 'JOINERY', 'PHILOSOPHICAL MAGAZINE', 'HYDROSTATICS', 'DREDGING-MACHINE', 'EDINBURGH REVIEW', 'FRÉZIER', 'IRON-MAKING'], ['NAPLES'], ['SHIP-BUILDING'], ['ORDNANCE'], ['MAMMALIA'], ['METAPHYSICS'], ['METAPHYSICS'], ['METAPHYSICS'], ['PARIS'], ['AGRICULTURE'], ['WEIGHTS AND MEASURES'], ['GEOMETRY, LEVELLING, MENSURATION, TRIGONOMETRY'], ['DIETETICS'], ['MEKKA'], ['MECHANICS'], ['PHIL', 'MINI', 'SCHOLIUM', 'NO', 'HYDRODYNAMICS', 'ΡHIL MAG', 'DR T', 'EDINBURGH JOURNAL OF SCIENCE', \"YOUNG'S NATURAL PHILOSOPHY\", 'ROTATION'], ['LALANDE'], ['TZSCHUCKE DISS'], ['CHRYSOSTOM HORNÍL'], ['FABRICIUS, BIBLIOTH'], ['METAPHYSICS'], ['POOR LAWS'], ['BELSHAZZAR'], ['EDINBURGH REVIEW'], ['HERMES'], ['ASTRONOMY'], ['KINCARDINESHIRE'], ['ETHIOPIAN NATIONS'], ['BERWICKSHIRE'], ['BOTANY'], ['JESUS CHRIST'], ['INSTINCT', 'GRAMMAR', 'MEMORY', 'PHILOSOPHY OF RHETORIC', \"BUFFER'S FIRST TRUTH\", 'MECHANICS, MOTION', 'SECT', 'OPTICS AND ANATOMY'], ['BAROMETER, CLIMATE, COLD', 'FIG'], ['LOGIC'], ['ENGRAVING'], ['MICROSCOPIC OBJECTS'], ['PHIL', 'EDINBURGH JOURNAL OF SCIENCE'], ['PHIL', 'MICROSCOPIC CABINET'], ['POLYNESIA'], ['ORNITHOLOGY'], ['AZORES'], ['WEIGHTS AND MEASURES'], ['FEΘDAL SYSTEM'], ['IRISH STATE PAPERS'], ['ASTRONOMY'], ['MECHANICS'], ['MILLENNIUM'], ['AUGUSTINE', 'PLUTARCH DE DID'], ['MILLE PASSUS'], ['LIFE OF MILTON'], ['MAGINDANAO'], ['DIAGRAM NO', 'GEOLOGY OF YORKSHIRE', 'DIAG', 'GEOL'], ['MINING REVIEW, NO'], ['MINING REVIEW, NO'], ['COINING'], ['METAPHYSICS'], ['MARY'], ['BURNING MIRRORS'], ['RELIGIOUS MISSIONS'], ['FORTIFICATION'], ['RIVER'], ['PERPETUAL MOTION'], ['MEASURE'], ['HINDUSTAN'], ['DESCRIPTIVE CATALOGUE, TIN'], ['BOTANY'], ['RUDING'], ['LA FRANCE LITTÉRAIRE'], ['POLYGAMY'], ['MOTAPA'], ['JAMAICA'], ['MEXICO'], ['CHRONOLOGY AND CALENDAR'], ['ASTRONOMY', 'NUMB'], ['METAPHYSICS'], ['MORAL PHILOSOPHY'], ['MORESQUE-DANCES'], ['MR', 'LAW OF HUMAN MORTALITY'], ['GUNNERY', 'ARTILLERY'], ['NUMB'], ['HONDURAS', 'GUATEMALA'], ['METAPHYSICS'], ['ARITHMETIC'], ['EMBALMING'], ['MANDINGO'], ['IRELAND'], ['MORAYSHIRE'], ['NO', 'MELODY'], ['MAMMALIA'], ['COTTON AND MANUFACTURE'], ['EL ESPANOL'], ['ANATOMY'], ['MACROB', 'ELEUSIS', 'EUSEB'], ['MEXICO', 'MYSTERIES'], ['POGGY ISLES'], ['ENGLAND, FUNDING SYSTEM, POLITICAL ECONOMY'], ['TACTICS, NAVAL'], ['COMMERCE, COMPANY', 'ASTRONOMY', 'PROB', 'GIOIA', 'ASTRONOMY AND QUADRANT', 'HANSE TOWNS', 'MAGNETISM'], ['TRENT AND MERSEY', 'LARKE', 'ANCHOLM', 'LEOMINSTER', 'NARR', 'URE', 'DRIFFIELD', 'ELLESMERE', 'ASHTON', 'OUSE RIVER, SUSSEX', 'SHROPSHIRE', 'WILTS AND BERKS', 'OUSE', 'GLAMORGANSHIRE', 'LEEDS AND LIVERPOOL', 'ROTHER RIVER'], ['DOCK-YARDS'], ['ANNEALING'], ['METAPHYSICS'], ['DICTIONNAIRE UNIVERSELLE'], ['LOGIC'], ['NIGRITIA'], ['CAPTAIN HARDY'], ['PETERSBURG'], ['AUSTRALASIA'], ['ASTRONOMY, ATTRACTION, DYNAMICS'], ['OSWEGO'], ['NEAS ISLE'], ['ORNITHOLOGY'], ['ASTRONOMY'], ['NICOLAIEV'], ['MERGE'], ['SOMNAMBULA'], ['ASTRONOMY'], ['DIALLING'], ['TOLERATION'], ['WESTERN TERRITORY'], ['AURORA BOREALIS'], ['POLAR SEAS'], ['DENMARK, FRANCE'], ['ANATOMY'], ['ARITHMETIC AND ALGEBRA'], ['PADRE MARTINI, HAWKINS', 'MUSIC'], ['METAPHYSICS'], ['CIVIL LAW'], ['NOWOGOROD'], ['HENNIKER, NOTES'], ['ARITHMETIC'], ['ARITHMETIC'], ['MYRISTICA'], ['ENTOMOLOGY'], ['PLANTING'], ['METAPHYSICS'], ['PHYSICAL GEOGRAPHY'], ['INTERVAL'], ['RIVER'], ['JONATHAN BEN UZZIEL'], ['OSWEGO'], ['MUSIC'], ['REPTILIA'], ['ASTRONOMY', 'POGGENDORPS AΗΗΑLEΗ', 'IRISH TRANSACTIONS', 'DR', 'EDINBURGH TRANSACTIONS', 'PHIL', 'EDINBURGH PHILOSOPHICAL JOURNAL', 'PHIL TRΑΗS', 'LAND AND EDIN', 'EDIN', 'EDINBURGH JOURNAL OF SCIENCE', 'METEOROLOGY', 'CHROMATICS', 'CONIC SECTIONS', 'ABERRATION'], ['RHETORIC'], ['HORTICULTURE'], ['ARCHITECTURE'], ['GERBERT', 'PHILOSOPHICAL MAGAZINE'], ['THEOLOGY'], ['LOUISIANA'], ['ZOOLOGICAL GARDENS', 'FΑWΙΑ BAREALI-AMERICANA', 'PLANCHES COL', 'ZOOL', 'Μ', 'S', 'ALABAMA'], ['ACCORDINGLY'], ['HINDUSTAN'], ['ORFA'], ['CHEMISTRY'], ['CHEMISTRY'], ['CHEMISTRY'], ['ASSIZE'], ['SIR W', 'PLINY', 'JOURNALS OF THE HOUSE', 'GORIUS'], ['CONSTAN- TINOPOLITAN HLSTORY'], ['SPINOZA'], ['ROME'], ['EDINBURGH REVIEW, NO', 'LETTER OF THE SECRETARY OF THE TREASURY', 'STORCH'], ['EXCHANGE'], ['ADELUNG'], ['ASTRONOMY'], ['ARUNDELIAN MARBLES'], ['HINDUSTAN'], ['ZEUXÏS'], ['ORNITHOLOGY'], ['FENCING'], ['MORAL PHILOSOPHY'], ['LEO OF MODENA'], ['ARCHITECTURE'], ['POTOWMACK'], ['BISHOP STILLINGFLEET, ANTIQUITY OF THE BRITISH CHURCHES', 'BLOMFIELD, RECENSIO SYNOPTICA', 'MIRACLE'], ['AEMILIUS, PAULUS'], ['DORSCH, CHARDON-LAROCHETTE'], ['BROKER'], ['DERBYSHIRE'], ['PARLIAMENT'], ['NO', 'MEMOIRS OF THE ASTRONOMICAL SOCIETY'], ['PRISON AND PRISON-DISCIPLINE'], ['METAPHYSICS'], ['DYNAMICS AND MECHANICS'], ['ANATOMY'], ['ASPASIA'], ['ASTRONOMY'], ['CHRONOLOGY'], ['GRAMMAR'], ['PROB'], ['LIBRARIES'], ['MINERALOGY AND GEOLOGY'], ['METAPHYSICS'], ['METAPHYSICS'], ['MATERIA MEDICA'], ['SEA-LIGHTS'], ['ROME'], ['ASTRONOMY'], ['MÉM'], ['MENANDER'], ['JESUS CHRIST'], ['FRANCE AND SPAIN', 'GREECE AND MACEDONIA'], ['JOSEPHUS, AΗTIQ', 'CHARPENTIER', 'EÜSTAT', 'AMMIANUS MARCELLINUS, EXPEDITIO JULIANA', 'POLYTHEISM', 'HEROD', 'STRABO CΑSΑUB', 'SYNCELLUS', 'ASTLE, POSTELLUS, MONTFAUCON', 'MR', 'DION', 'PHOEDRUS', 'FOED'], ['TRANSACTIONS OF THE ROYAL SOCIETY OF EDINBURGH'], ['SURGERY'], ['ACOUSTICS'], ['METEOROLOGY AND OPTICS'], ['CATAPHHYGIANS AND MONTANISTS'], ['CHARDEL'], ['BAROMETER, ATMOSPHERE'], ['BRIDGEWATER TREATISE', 'BERARD', \"BOSTOCK'S ELEMENTARY SYSTEM OF PHYSIOLOGY\", 'BEDARD', \"ΜΑYΟ'S OUTLINES OF HUMAN PHYSIOLOGY\", 'MAGNETISM, ANIMAL'], ['ANATOMY'], ['PIAZENZA'], ['AZORES'], ['NOVA SCOTIA'], ['THUCYDIDES'], ['PAINTING'], ['ORNITHOLOGY'], ['ICHTHYOLOGY'], ['AERONAUTICS'], ['ICHTHYOLOGY'], ['MECHANICS'], ['PLANTATION'], ['ORGAN', 'MUSIC'], ['BORING'], ['ATHENS'], ['ANTS'], ['BOTANY'], ['HYDRODYNAMICS'], ['HORTICULTURE'], ['EDINBURGH REVIEW'], ['ANGLE AND GEOMETRY'], ['ASTRONOMY'], ['ANATOMY VEGETABLE, BOTANY, PHYSICAL GEOGRAPHY'], ['HERODOT', 'PLAT'], ['PHAEDO', 'DIODORUS SICULUS', 'THEOETET', 'MENO', 'PLATO, REP'], ['MORAL PHILOSOPHY', 'PASSION'], ['AGRICULTURE'], ['ALGEBRA'], ['NEW ENGLAND'], ['PHYSICAL GEOGRAPHY', 'GUNNERY', 'SCHOTTI TECHNICA CURIOSA', 'FURNACE'], ['NASSAU ISLES'], ['POITIERS'], ['PUNCTUATION'], ['PARLIAMENTARY RETURN'], ['INSURANCE, MORTALITY'], ['BOTANY'], ['BIBLIOGRAPHY'], ['SKETCHES OF THE HISTORY OF MAN'], ['ROME'], ['LIST OF OFFICERS'], ['ENGLAND, SCOTLAND'], ['POTTERY'], ['GEOLOGY AND MINERALOGY'], ['BREWING'], ['POMPEII'], ['MAINE'], ['JAMAICA'], ['PANAMA'], ['MADEIRA'], ['BRAZIL'], [\"GENTLEMAN'S MAGAZINE\"], ['GLASS, SOAP'], ['AGRICULTURE', 'BOTANY'], ['AGRICULTURE'], ['FLUXIONS'], ['METAPHYSICS'], ['MONEY, WEIGHTS AND MEASURES'], ['PRINTING'], ['METAPHYSICS'], ['ORGAN'], ['DYEING', 'TYPE-FOUNDING', 'LITHOGRAPHY'], ['ENGRAVING'], ['DIGEST OF GAOL RETURNS', 'EDINBURGH REVIEW, NO', 'APPENDIX, NO'], ['LACROIX, CALCUL PIFF', 'MORTALITY', 'LEGENDRE', 'LACROIX'], ['UNIVERSITIES'], ['UNIVERSITIES'], ['LOGAKITHMS', 'GUNNERY', 'SCHOL'], ['MORAL PHILOSOPHY'], ['GEOGRAPHY'], ['COPY-RIGHT'], ['THEOLOGY'], ['THEOLOGY'], ['PROGRESSION'], ['HARDION'], ['JOMINI', 'MEMOIRS OF THE HOUSE OF BRANDENBURG'], ['PSALM'], ['PRINCE OF WALES ISLAND', 'GEERE', 'BOORO'], ['PNEUMATICS'], ['MINERALOGY'], ['GUSKERY, GUSPOTDEK, PROJECTILES, WAS'], ['EPIRUS'], ['SEXTANT'], ['ORNITHOLOGY'], ['PLAGUE'], ['ARMY'], ['MUSIC AND PRINCIPAL'], ['CHEMISTRY'], ['ARITHMETIC'], ['BIOGRAPHIE UNIVERSELLE'], ['MAMMALIA'], ['DESCENT'], ['HOKSE'], ['METEOROLOGY AND OPTICS'], ['AGRICULTURE'], ['PAINTING'], ['MAMMALIA'], ['FORTIFICATION'], ['OPTICS'], ['METAPHYSICS', 'OPTICS'], ['OPTICS'], ['OPTICS'], ['DIETETICS'], ['ATMOSPHERE'], ['THEOLOGY'], ['PARLIAMENT'], ['ERPÉTOLOGIE GÉNÉRALE', 'NEW YORK MED', 'ANNALS OF THE LYCEUM OF NERS YORK', \"ROGET'S BRIDGETRATER TREATISE\", \"JENYNS'S BRITISH VERTEBRATE ANIMALS\", 'PHIL, TRANS', 'ERPITOLOGIE GIITIRALE'], ['MECHANICS, HYDRODYNAMICS', 'FOURTH PRELIMINARY DISSERTATION', 'NEWT'], ['THEOLOGY'], ['NO'], ['GONDI'], ['THEOLOGY'], ['ENGLAND, FUNDING SYSTEM, POLITICAL ECONOMY'], ['ANNUITIES'], ['PAINTING'], ['HOMER'], ['MAMMALTA'], ['THOMAS OF EKCELDOUN'], ['MUSIC'], ['HORSEMANSHIP'], ['PNEUMATICS', 'PHYSICAL GEOGRAPHY', 'RESISTANCE OF FLUIDS', 'NILE'], ['PYROTECHNY'], ['ICHTHYOLOGY'], ['ARNOLD', 'LA RÉPUBLIQUE ROMAINE', 'NIEBUHR', 'CLEOPATRA', 'OCTAVIA', 'TACITUS'], ['ORNITHOLOGY'], ['ALGEBRA, ARITHMETIC'], ['ROSA'], ['NEW ROSS'], ['PENDULUM'], ['BUTE'], ['CAOUTCHOUC'], ['THOMPSON, SIR BENJAMIN'], ['SCOTLAND'], ['ALEUTIAN ISLANDS', 'POLAND', 'NAVIGATION, INLAND', 'PERSIA'], ['POLYTHEISM'], ['MAMMALIA'], ['SUGAR'], ['MURVΙEDRO'], ['SEAMANSHIP'], ['VERD CAPE', 'VERD CAPE, ISLANDS OF', 'AZORES', 'ANDREWS, ST'], ['ICHTHYOLOGY'], ['FISHERY'], ['CHEMISTRY', 'GUNPOWDER'], ['THEOLOGY'], ['GEOLOGY AND MINERALOGY'], ['VEGETABLE PHYSIOLOGY'], ['ZARAGOZA'], ['SART'], ['SATURN'], ['PROFESSOR SAUNDERSON'], ['JESUS'], ['SCARRON'], ['SHIRAZ'], ['MINERALOGY'], ['EDUCATΙON AND UNIVERSITIES'], ['SECEDERS', 'LEG', 'AS'], [\"COLLYER'S DICTIONARY\"], ['ARISTEAE', 'EICHHORN, EINL', \"COSIN'S SCHOLASTICAL HISTORY OF THE CANON OF THE HOLY SCRIPTURE\", 'JAMES, BELLUM PAPALE'], ['AGRICULTURE'], ['ROTATION, NO', 'ROLLING AND PITCHINO'], ['AGRICULTURE'], ['BURNET'], [\"PALEY'S MORAL PHILOSOPHY\"], ['SAGHALIEN'], ['BAMBARRA'], ['COINAGE'], [\"CALVIN'S LETTERS\", 'PELAGIANS'], ['MUSTC'], ['METAPHYSICS'], ['METAPHYSICS', 'MORAL PHILOSOPHY'], ['JUDGMENT'], ['ALGEBRA'], ['SCHEUCHZER, ΒIBLIA SACRA', 'ENCYCLOPAEDIA BRITANNICA', \"SHAW'S GENERAL ZOOLOGY\", 'HELMANN', 'RÈGNE ANIMAT', 'ENCYC', 'NOUR'], ['MUSIC'], ['SCOTLAND'], ['SEISTAN'], ['WEAVING'], ['CHERIBON'], ['ZETUAND'], ['B'], ['STENOGRAPHY'], ['SALOP'], ['NAPLES'], ['TRANSYLVANIA'], ['MUSIC'], ['FUNDING SYSTEM'], ['INTERVAL'], ['DREAMS, PHISIOLOGY'], ['CALMAR'], ['DR'], ['SERPENTS'], ['ORNITHOLOGY'], ['POLYNESIA'], ['THUCYD', 'PAX', 'DEMOSTHENES'], ['AGRICULTURE'], ['ΑRΜΥ'], ['SOLOTHURN'], ['AFRICA'], ['MUSIC'], ['POLYNESIA'], ['PORTUGAL'], ['FABRICII BIBLIOTHECA LATINA'], ['CHEMISTRY AND HYDRODYNAMICS'], ['APPARITIONS'], ['OPTICS AND TELESCOPE'], ['HORTICULTURE'], ['GALL, F'], ['FLUXIONS'], ['PLAYHOUSE AND ΤΗΕΑΤRΕ'], ['ARCHITECTURE'], ['SCÜLPTURE'], ['ARTS'], ['ART'], ['WEIGHING-MACHINES'], ['SEAMANSHIP'], ['PRINTING'], [\"DR FERRIAR'S ILLUSTRATIONS OF STERNE\"], ['FUNDING SYSTEM'], ['MINERALOGY AND GEOLOGY'], ['MINERALOGY AND GEOLOGY'], ['ROOF', 'MR EMERSON'], ['CHRONOLOGY', 'RHETORIC'], ['MUSIC'], ['MUSIC'], [\"LISTON'S PRACTICAL SURGERY\", 'FABRICII BIBLIOTHECA LATINA'], ['GUIANA'], ['ANNUΠΙES AND MORTALITY'], ['MUSIC'], ['ABACUS'], ['RUSSIA', 'PATKUL'], ['ALPS'], ['ROMAN HISTORY'], ['SLUR'], ['ASTRONOMY'], ['STENOGRAPHY'], ['WAR'], ['PALMYRA'], ['TAGUACOZZI'], ['ΡΙΡΕ'], ['APPENDIX B'], ['TABRIZ'], ['ZEALAND, NEW'], ['VOLNEY'], ['SCHOOLS', 'UNIVERSITIES'], [\"MAYNE'S SILLER GUN\"], ['HOSPINIAN DE ORIGINE TEMPLORUM'], ['CANARIES'], ['COLLEGE', 'RIVER'], ['DU PIN'], ['CROESUS'], ['EGYPT'], ['PROPHECY', 'ST', 'MIRACLE', 'METAPHYSICS', 'METAPHYSICS AND PROVIDENCE', 'BOCHART, HIERΟZΟICΟN', 'EPISCOPACY, INDEFENDENTS, METHODISTS, PRESBYTERIANS, POPE, QUAKERS', 'STAPFERI THEOLOGIAE POLEMICAE INSTITUTIONES'], ['TRANSACTIONS OF ROYAL SOCIETY OF EDINBURGH', 'PHILOSOPHICAL TRANSACTIONS', 'PHIL'], ['ELECTRICITY'], ['MAMMALIA'], ['QUARTERLY JOURNAL OF SCIENCE'], ['NO'], ['MUSIC'], ['MUSIC'], ['LONG'], ['ΝICΟΤΙΑΝA'], ['MULL'], ['TIMBUCTOO'], ['MUSIC'], ['TUNQUIN'], ['REPTILIA'], ['DRAMA AND POETRY'], ['MUSIC'], ['MUSIC'], ['TRIER'], ['PROBABILITY'], ['PRACTICAL ASTRONOMY'], ['BARBARY STATES'], ['MUSIC'], ['AYRSHIRE'], ['GEOGRAPHY'], ['WEIGHTS AND MEASURES'], ['VEGETABLE PHYSIOLOGY'], ['BUENOS AYRES'], ['MUSIC, ORGAN, SONG, TEMPERAMENT'], ['AFRICA'], ['TURKEY'], ['ALBANIA, BOSNIA, BULGARIA, CROATIA, MOLDAVIA, WALLACHIA', 'FOREIGN REVIEW', 'RUSSIA AND SWEDEN', 'SVRIA, PALESTINE, ΑRAΒΙΑ, ARMENIA, KURDISTAN', 'DANUBE', 'GREECE', 'SYRIA, PALESTINE, EGYPT, TRIPOLI'], ['ARCHITECTURE'], ['PEEBLESSHIRE'], ['PRINTING'], ['SUPPER OF THE LORD'], ['RUSSIA'], ['SOCIETY ISLANDS'], ['ΒRITIAIN'], ['HOLLAND AND NETHERLANDS'], ['ARKANSAS', 'AMERICAN RAILROAD JOURNAL', 'THE RICHMOND, FREDERICKSBURG', 'KENTUCKY, OHIO, MICHIGAN', 'DOCUMENT NO', 'KENTUCKY', 'VIRGINIA', 'CUMBERLAND', 'MELLISH', 'LETTER OF THE SECRETARY OF WAR'], ['METAPHYSICS'], ['ASTRONOMY AND GEOGRAPHY'], ['CIVIL LAW', 'LIBRARIES AND OXFORD', 'CANON LAW'], ['ZETLAND'], ['OUROOMIA'], ['ORDERS OF THE HOUSE OF COMMONS', 'MS', \"MORLAND'S CHURCHES OF PIEDMONT\", 'DUNGALI EPISR', \"GILLY'S WALDENSIAN RESEARCHES\", 'PRAEF', 'SCLOPIS'], ['BOUQUET', 'GUALT'], ['FLACCUS'], ['PROB', 'MAGNETISM'], ['FABRICII BIBLIOTHECA LATINA'], ['FEUDAL SYSTEM'], ['WALDENSES'], ['ANDES', 'BOGOTA, SANTA MARTA', 'ORINOCO'], ['LOMBARDY'], ['MEXICO'], ['CYBELE'], ['GEOLOGY'], ['EPIST', 'SULP'], ['BRITAIN'], ['ΒΟΤΑΝΥ'], ['MUSIC'], ['SOLΓA'], ['GRAMMAR'], ['ΑΝΑΤΟΜΥ AND PHYSIOLOGY'], ['METAPHYSICS'], ['LOND', 'EDINBURGH ENCYCLOPAEDIA', \"BECQUEREL'S TRAITÉ\", 'LOUD', 'LEND', 'MARIANINI', 'PHIL', 'ANN', \"NICHOLSON'S JOURNAL\"], ['BIBLIOGRAPHY'], ['ΤAΧΑΤΙΟΝ'], ['MECHANICS'], ['VALDENSES'], ['VALDO'], ['HISTORY OF AUSTRALASIA'], ['LONDON'], ['RESISTANCE OF FLUIDS'], ['FEUDAL SYSTEM'], ['BREWERY'], ['CLOCK AND WATCH WORK'], ['PHYSICAL GEOGRAPHY'], ['PHYSICAL GEOGRAPHY'], ['RIVER'], ['WΛGEEO'], ['CHRONOLOGY'], ['OURAL MOUNTAINS'], ['LONDON'], [\"BUTTON'S BEAUTIES OF ENGLAND\"], ['ΟRΚΝΕΥ'], ['AGRICULTURE'], ['MECHANICS'], ['WYCLIFFE'], ['METAPHYSICS'], ['PHYSICAL GEOGRAPHY', 'METEOROLOGY'], ['GEOLOGY', 'PLANTING'], ['STEAM-ENGINE'], ['POOR-LAWS'], ['BREWING'], ['SURGERY'], ['SHIP-BUILDING'], ['LONG'], ['BREWING'], ['INCA'], ['NEW YORK'], ['MEXICO'], ['SAHARA'], ['CONGO'], ['ΙΟΝΙΑΝ ISLANDS'], ['HINDUSTAN'], ['CHEMISTRY'], ['ASTRONOMY', 'ASIATIC RESEARCHES'], ['DU CANGE'], ['ANIMAL KINGDOM'], ['R', 'LINCK', 'BESTER, OPUSC', 'ATHENTRUM, SEPT', 'RUDOLPHI ENTOZ', 'CUVIER', 'PROC', 'J', \"BOSTOCK'S PHYSIOLOGY\", 'EDIN', 'MAG']]\n"
     ]
    }
   ],
   "source": [
    "# List all reference terms extracted\n",
    "reference_terms_df = df[df['reference_terms'].apply(lambda x: len(x) > 0)]\n",
    "print(reference_terms_df[\"reference_terms\"].values.tolist())"
   ],
   "metadata": {
    "collapsed": false
   }
  },
  {
   "cell_type": "code",
   "execution_count": 28,
   "metadata": {},
   "outputs": [],
   "source": [
    "df.to_json(r'./final_eb_7_dataframe_clean_Damon', orient=\"index\")"
   ]
  },
  {
   "cell_type": "code",
   "execution_count": 29,
   "metadata": {},
   "outputs": [],
   "source": [
    "# load dataframe from Alex's work\n",
    "old_df= pd.read_json('./final_eb_7_dataframe_clean_Alex', orient=\"index\")"
   ]
  },
  {
   "cell_type": "code",
   "execution_count": 30,
   "metadata": {},
   "outputs": [
    {
     "name": "stdout",
     "output_type": "stream",
     "text": [
      "Number of terms:  23121\n",
      "Number of topics:  2021\n",
      "Number of articles:  21100\n"
     ]
    }
   ],
   "source": [
    "# Statistic analysis of dataframe from Alex's work\n",
    "print(\"Number of terms: \", old_df.shape[0])\n",
    "print(\"Number of topics: \", old_df[old_df[\"typeTerm\"] == \"Topic\"].shape[0])\n",
    "print(\"Number of articles: \", old_df[old_df[\"typeTerm\"] == \"Article\"].shape[0])"
   ]
  },
  {
   "cell_type": "code",
   "execution_count": 31,
   "outputs": [
    {
     "data": {
      "text/plain": "            term                                         definition  \\\n21608  TELEGRAPH                                                  .   \n21609  TELEGRAPH  so named from two Greek words τέλος end or dis...   \n\n                  MMSID                         edTitle           editor  \\\n21608  9910796273804340  Seventh edition, General index  Stewart, Dugald   \n21609  9910796273804340  Seventh edition, General index  Stewart, Dugald   \n\n      editor_date         genre language termsOfAddress  numberOfPages  ...  \\\n21608   1753-1828  encyclopedia      eng            Sir            184  ...   \n21609   1753-1828  encyclopedia      eng            Sir            184  ...   \n\n      numberOfVolumes   relatedTerms         header  startsAt endsAt  \\\n21608              20  Not specified  Not specified       137    137   \n21609              20  Not specified  Not specified       137    137   \n\n       numberOfTerms numberOfWords  positionPage  typeTerm  \\\n21608  Not specified             1             1   Article   \n21609  Not specified          5473             2     Topic   \n\n                                              altoXML  \n21608  eb07-v1.2-TXT/t21/kp-eb0721-013705-0155-v1.txt  \n21609  eb07-v1.2-TXT/t21/kp-eb0721-013705-0155-v1.txt  \n\n[2 rows x 39 columns]",
      "text/html": "<div>\n<style scoped>\n    .dataframe tbody tr th:only-of-type {\n        vertical-align: middle;\n    }\n\n    .dataframe tbody tr th {\n        vertical-align: top;\n    }\n\n    .dataframe thead th {\n        text-align: right;\n    }\n</style>\n<table border=\"1\" class=\"dataframe\">\n  <thead>\n    <tr style=\"text-align: right;\">\n      <th></th>\n      <th>term</th>\n      <th>definition</th>\n      <th>MMSID</th>\n      <th>edTitle</th>\n      <th>editor</th>\n      <th>editor_date</th>\n      <th>genre</th>\n      <th>language</th>\n      <th>termsOfAddress</th>\n      <th>numberOfPages</th>\n      <th>...</th>\n      <th>numberOfVolumes</th>\n      <th>relatedTerms</th>\n      <th>header</th>\n      <th>startsAt</th>\n      <th>endsAt</th>\n      <th>numberOfTerms</th>\n      <th>numberOfWords</th>\n      <th>positionPage</th>\n      <th>typeTerm</th>\n      <th>altoXML</th>\n    </tr>\n  </thead>\n  <tbody>\n    <tr>\n      <th>21608</th>\n      <td>TELEGRAPH</td>\n      <td>.</td>\n      <td>9910796273804340</td>\n      <td>Seventh edition, General index</td>\n      <td>Stewart, Dugald</td>\n      <td>1753-1828</td>\n      <td>encyclopedia</td>\n      <td>eng</td>\n      <td>Sir</td>\n      <td>184</td>\n      <td>...</td>\n      <td>20</td>\n      <td>Not specified</td>\n      <td>Not specified</td>\n      <td>137</td>\n      <td>137</td>\n      <td>Not specified</td>\n      <td>1</td>\n      <td>1</td>\n      <td>Article</td>\n      <td>eb07-v1.2-TXT/t21/kp-eb0721-013705-0155-v1.txt</td>\n    </tr>\n    <tr>\n      <th>21609</th>\n      <td>TELEGRAPH</td>\n      <td>so named from two Greek words τέλος end or dis...</td>\n      <td>9910796273804340</td>\n      <td>Seventh edition, General index</td>\n      <td>Stewart, Dugald</td>\n      <td>1753-1828</td>\n      <td>encyclopedia</td>\n      <td>eng</td>\n      <td>Sir</td>\n      <td>184</td>\n      <td>...</td>\n      <td>20</td>\n      <td>Not specified</td>\n      <td>Not specified</td>\n      <td>137</td>\n      <td>137</td>\n      <td>Not specified</td>\n      <td>5473</td>\n      <td>2</td>\n      <td>Topic</td>\n      <td>eb07-v1.2-TXT/t21/kp-eb0721-013705-0155-v1.txt</td>\n    </tr>\n  </tbody>\n</table>\n<p>2 rows × 39 columns</p>\n</div>"
     },
     "execution_count": 31,
     "metadata": {},
     "output_type": "execute_result"
    }
   ],
   "source": [
    "old_df[old_df[\"term\"]==\"TELEGRAPH\"]"
   ],
   "metadata": {
    "collapsed": false
   }
  },
  {
   "cell_type": "code",
   "execution_count": 32,
   "outputs": [
    {
     "data": {
      "text/plain": "            term  note alter_names reference_terms  \\\n22423  TELEGRAPH  None          []              []   \n\n                                              definition  startsAt  endsAt  \\\n22423  so named from two Greek words, τέλος, end or d...       137     142   \n\n       position termType                                        filePath  ...  \\\n22423         5    Topic  ./eb07_TXT_v2/t21/kp-eb0721-013705-0155-v2.txt  ...   \n\n        volumeId                      permanentURL publisherPersons  \\\n22423  193819045  https://digital.nls.uk/193819045               []   \n\n       volumeNum  editionNum numberOfVolumes supplementTitle  \\\n22423         21           7              22                   \n\n      supplementSubTitle supplementsTo numberOfTerms  \n22423                               []          None  \n\n[1 rows x 40 columns]",
      "text/html": "<div>\n<style scoped>\n    .dataframe tbody tr th:only-of-type {\n        vertical-align: middle;\n    }\n\n    .dataframe tbody tr th {\n        vertical-align: top;\n    }\n\n    .dataframe thead th {\n        text-align: right;\n    }\n</style>\n<table border=\"1\" class=\"dataframe\">\n  <thead>\n    <tr style=\"text-align: right;\">\n      <th></th>\n      <th>term</th>\n      <th>note</th>\n      <th>alter_names</th>\n      <th>reference_terms</th>\n      <th>definition</th>\n      <th>startsAt</th>\n      <th>endsAt</th>\n      <th>position</th>\n      <th>termType</th>\n      <th>filePath</th>\n      <th>...</th>\n      <th>volumeId</th>\n      <th>permanentURL</th>\n      <th>publisherPersons</th>\n      <th>volumeNum</th>\n      <th>editionNum</th>\n      <th>numberOfVolumes</th>\n      <th>supplementTitle</th>\n      <th>supplementSubTitle</th>\n      <th>supplementsTo</th>\n      <th>numberOfTerms</th>\n    </tr>\n  </thead>\n  <tbody>\n    <tr>\n      <th>22423</th>\n      <td>TELEGRAPH</td>\n      <td>None</td>\n      <td>[]</td>\n      <td>[]</td>\n      <td>so named from two Greek words, τέλος, end or d...</td>\n      <td>137</td>\n      <td>142</td>\n      <td>5</td>\n      <td>Topic</td>\n      <td>./eb07_TXT_v2/t21/kp-eb0721-013705-0155-v2.txt</td>\n      <td>...</td>\n      <td>193819045</td>\n      <td>https://digital.nls.uk/193819045</td>\n      <td>[]</td>\n      <td>21</td>\n      <td>7</td>\n      <td>22</td>\n      <td></td>\n      <td></td>\n      <td>[]</td>\n      <td>None</td>\n    </tr>\n  </tbody>\n</table>\n<p>1 rows × 40 columns</p>\n</div>"
     },
     "execution_count": 32,
     "metadata": {},
     "output_type": "execute_result"
    }
   ],
   "source": [
    "df[df[\"term\"]==\"TELEGRAPH\"]"
   ],
   "metadata": {
    "collapsed": false
   }
  },
  {
   "cell_type": "code",
   "execution_count": 33,
   "outputs": [
    {
     "name": "stdout",
     "output_type": "stream",
     "text": [
      "676 topics have been recognised by both dataframe.\n",
      "1303 topics have only been recognised by Alex's work.\n",
      "['eb07-v1.2-TXT/a2/kp-eb0702-000101-9822-v1.txt', 'eb07-v1.2-TXT/a2/kp-eb0702-001306-9978-v1.txt', 'eb07-v1.2-TXT/a2/kp-eb0702-002007-0069-v1.txt', 'eb07-v1.2-TXT/a2/kp-eb0702-002305-0108-v1.txt', 'eb07-v1.2-TXT/a2/kp-eb0702-002702-0160-v1.txt', 'eb07-v1.2-TXT/a2/kp-eb0702-002901-0186-v1.txt', 'eb07-v1.2-TXT/a2/kp-eb0702-004002-0329-v1.txt', 'eb07-v1.2-TXT/a2/kp-eb0702-004308-0368-v1.txt', 'eb07-v1.2-TXT/a2/kp-eb0702-004506-0394-v1.txt', 'eb07-v1.2-TXT/a2/kp-eb0702-008117-0862-v1.txt', 'eb07-v1.2-TXT/a2/kp-eb0702-008706-0940-v1.txt', 'eb07-v1.2-TXT/a2/kp-eb0702-009314-1018-v1.txt', 'eb07-v1.2-TXT/a2/kp-eb0702-010711-1200-v1.txt', 'eb07-v1.2-TXT/a2/kp-eb0702-012510-1434-v1.txt', 'eb07-v1.2-TXT/a2/kp-eb0702-012510-1434-v1.txt', 'eb07-v1.2-TXT/a2/kp-eb0702-012909-1486-v1.txt', 'eb07-v1.2-TXT/a2/kp-eb0702-013407-1551-v1.txt', 'eb07-v1.2-TXT/a2/kp-eb0702-013407-1551-v1.txt', 'eb07-v1.2-TXT/a2/kp-eb0702-013407-1551-v1.txt', 'eb07-v1.2-TXT/a2/kp-eb0702-013901-1616-v1.txt', 'eb07-v1.2-TXT/a2/kp-eb0702-014103-1642-v1.txt', 'eb07-v1.2-TXT/a2/kp-eb0702-014411-1681-v1.txt', 'eb07-v1.2-TXT/a2/kp-eb0702-014808-1733-v1.txt', 'eb07-v1.2-TXT/a2/kp-eb0702-015107-1772-v1.txt', 'eb07-v1.2-TXT/a2/kp-eb0702-015601-1837-v1.txt', 'eb07-v1.2-TXT/a2/kp-eb0702-016003-1889-v1.txt', 'eb07-v1.2-TXT/a2/kp-eb0702-016215-1915-v1.txt', 'eb07-v1.2-TXT/a2/kp-eb0702-016612-1967-v1.txt', 'eb07-v1.2-TXT/a2/kp-eb0702-016701-1980-v1.txt', 'eb07-v1.2-TXT/a2/kp-eb0702-017406-2071-v1.txt', 'eb07-v1.2-TXT/a2/kp-eb0702-020802-2513-v1.txt', 'eb07-v1.2-TXT/a2/kp-eb0702-021011-2539-v1.txt', 'eb07-v1.2-TXT/a2/kp-eb0702-024105-2942-v1.txt', 'eb07-v1.2-TXT/a2/kp-eb0702-024706-3020-v1.txt', 'eb07-v1.2-TXT/a2/kp-eb0702-025006-3059-v1.txt', 'eb07-v1.2-TXT/a2/kp-eb0702-035703-4450-v1.txt', 'eb07-v1.2-TXT/a2/kp-eb0702-035811-4463-v1.txt', 'eb07-v1.2-TXT/a2/kp-eb0702-036011-4489-v1.txt', 'eb07-v1.2-TXT/a2/kp-eb0702-036505-4554-v1.txt', 'eb07-v1.2-TXT/a2/kp-eb0702-038203-4775-v1.txt', 'eb07-v1.2-TXT/a2/kp-eb0702-039306-4918-v1.txt', 'eb07-v1.2-TXT/a2/kp-eb0702-039706-4970-v1.txt', 'eb07-v1.2-TXT/a2/kp-eb0702-039906-4996-v1.txt', 'eb07-v1.2-TXT/a2/kp-eb0702-040701-5100-v1.txt', 'eb07-v1.2-TXT/a2/kp-eb0702-041506-5204-v1.txt', 'eb07-v1.2-TXT/a2/kp-eb0702-041802-5243-v1.txt', 'eb07-v1.2-TXT/a2/kp-eb0702-051205-6465-v1.txt', 'eb07-v1.2-TXT/a2/kp-eb0702-051403-6491-v1.txt', 'eb07-v1.2-TXT/a2/kp-eb0702-051703-6530-v1.txt', 'eb07-v1.2-TXT/a2/kp-eb0702-052101-6582-v1.txt', 'eb07-v1.2-TXT/a2/kp-eb0702-052501-6634-v1.txt', 'eb07-v1.2-TXT/a2/kp-eb0702-052605-6647-v1.txt', 'eb07-v1.2-TXT/a2/kp-eb0702-052913-6686-v1.txt', 'eb07-v1.2-TXT/a2/kp-eb0702-053102-6712-v1.txt', 'eb07-v1.2-TXT/a2/kp-eb0702-053410-6751-v1.txt', 'eb07-v1.2-TXT/a2/kp-eb0702-053807-6803-v1.txt', 'eb07-v1.2-TXT/a2/kp-eb0702-053901-6816-v1.txt', 'eb07-v1.2-TXT/a2/kp-eb0702-055201-6985-v1.txt', 'eb07-v1.2-TXT/a2/kp-eb0702-056603-7167-v1.txt', 'eb07-v1.2-TXT/a2/kp-eb0702-056816-7193-v1.txt', 'eb07-v1.2-TXT/a2/kp-eb0702-057107-7232-v1.txt', 'eb07-v1.2-TXT/a2/kp-eb0702-057702-7310-v1.txt', 'eb07-v1.2-TXT/a2/kp-eb0702-058110-7362-v1.txt', 'eb07-v1.2-TXT/a2/kp-eb0702-058302-7388-v1.txt', 'eb07-v1.2-TXT/a2/kp-eb0702-059005-7479-v1.txt', 'eb07-v1.2-TXT/a2/kp-eb0702-059202-7505-v1.txt', 'eb07-v1.2-TXT/a2/kp-eb0702-059901-7596-v1.txt', 'eb07-v1.2-TXT/a2/kp-eb0702-060004-7609-v1.txt', 'eb07-v1.2-TXT/a2/kp-eb0702-065404-8311-v1.txt', 'eb07-v1.2-TXT/a2/kp-eb0702-065902-8376-v1.txt', 'eb07-v1.2-TXT/a2/kp-eb0702-066603-8467-v1.txt', 'eb07-v1.2-TXT/a2/kp-eb0702-066806-8493-v1.txt', 'eb07-v1.2-TXT/a2/kp-eb0702-067801-8623-v1.txt', 'eb07-v1.2-TXT/a3/kp-eb0703-011004-6991-v1.txt', 'eb07-v1.2-TXT/a3/kp-eb0703-011109-7004-v1.txt', 'eb07-v1.2-TXT/a3/kp-eb0703-011109-7004-v1.txt', 'eb07-v1.2-TXT/a3/kp-eb0703-012007-7121-v1.txt', 'eb07-v1.2-TXT/a3/kp-eb0703-012305-7160-v1.txt', 'eb07-v1.2-TXT/a3/kp-eb0703-012501-7186-v1.txt', 'eb07-v1.2-TXT/a3/kp-eb0703-012807-7225-v1.txt', 'eb07-v1.2-TXT/a3/kp-eb0703-012807-7225-v1.txt', 'eb07-v1.2-TXT/a3/kp-eb0703-015103-7524-v1.txt', 'eb07-v1.2-TXT/a3/kp-eb0703-019601-8109-v1.txt', 'eb07-v1.2-TXT/a3/kp-eb0703-023603-8629-v1.txt', 'eb07-v1.2-TXT/a3/kp-eb0703-024513-8746-v1.txt', 'eb07-v1.2-TXT/a3/kp-eb0703-025001-8811-v1.txt', 'eb07-v1.2-TXT/a3/kp-eb0703-025202-8837-v1.txt', 'eb07-v1.2-TXT/a3/kp-eb0703-027001-9071-v1.txt', 'eb07-v1.2-TXT/a3/kp-eb0703-027201-9097-v1.txt', 'eb07-v1.2-TXT/a3/kp-eb0703-027402-9123-v1.txt', 'eb07-v1.2-TXT/a3/kp-eb0703-027602-9149-v1.txt', 'eb07-v1.2-TXT/a3/kp-eb0703-027801-9175-v1.txt', 'eb07-v1.2-TXT/a3/kp-eb0703-028017-9201-v1.txt', 'eb07-v1.2-TXT/a3/kp-eb0703-028216-9227-v1.txt', 'eb07-v1.2-TXT/a3/kp-eb0703-028610-9279-v1.txt', 'eb07-v1.2-TXT/a3/kp-eb0703-028702-9292-v1.txt', 'eb07-v1.2-TXT/a3/kp-eb0703-031003-9591-v1.txt', 'eb07-v1.2-TXT/a3/kp-eb0703-031209-9617-v1.txt', 'eb07-v1.2-TXT/a3/kp-eb0703-031506-9656-v1.txt', 'eb07-v1.2-TXT/a3/kp-eb0703-037004-0371-v1.txt', 'eb07-v1.2-TXT/a3/kp-eb0703-037301-0410-v1.txt', 'eb07-v1.2-TXT/a3/kp-eb0703-037604-0449-v1.txt', 'eb07-v1.2-TXT/a3/kp-eb0703-037701-0462-v1.txt', 'eb07-v1.2-TXT/a3/kp-eb0703-040403-0813-v1.txt', 'eb07-v1.2-TXT/a3/kp-eb0703-047913-1788-v1.txt', 'eb07-v1.2-TXT/a3/kp-eb0703-048607-1879-v1.txt', 'eb07-v1.2-TXT/a3/kp-eb0703-056802-2945-v1.txt', 'eb07-v1.2-TXT/a3/kp-eb0703-062513-3686-v1.txt', 'eb07-v1.2-TXT/a3/kp-eb0703-062803-3725-v1.txt', 'eb07-v1.2-TXT/a3/kp-eb0703-064303-3920-v1.txt', 'eb07-v1.2-TXT/a3/kp-eb0703-065901-4128-v1.txt', 'eb07-v1.2-TXT/a3/kp-eb0703-066304-4180-v1.txt', 'eb07-v1.2-TXT/a3/kp-eb0703-070307-4700-v1.txt', 'eb07-v1.2-TXT/a3/kp-eb0703-071702-4882-v1.txt', 'eb07-v1.2-TXT/a4/kp-eb0704-011102-0758-v1.txt', 'eb07-v1.2-TXT/a4/kp-eb0704-014002-1135-v1.txt', 'eb07-v1.2-TXT/a4/kp-eb0704-014201-1161-v1.txt', 'eb07-v1.2-TXT/a4/kp-eb0704-018401-1707-v1.txt', 'eb07-v1.2-TXT/a4/kp-eb0704-018501-1720-v1.txt', 'eb07-v1.2-TXT/a4/kp-eb0704-018706-1746-v1.txt', 'eb07-v1.2-TXT/a4/kp-eb0704-019415-1837-v1.txt', 'eb07-v1.2-TXT/a4/kp-eb0704-026203-2721-v1.txt', 'eb07-v1.2-TXT/b4/kp-eb0704-027001-2825-v1.txt', 'eb07-v1.2-TXT/b4/kp-eb0704-027505-2890-v1.txt', 'eb07-v1.2-TXT/b4/kp-eb0704-028111-2968-v1.txt', 'eb07-v1.2-TXT/b4/kp-eb0704-028604-3033-v1.txt', 'eb07-v1.2-TXT/b4/kp-eb0704-028901-3072-v1.txt', 'eb07-v1.2-TXT/b4/kp-eb0704-029204-3111-v1.txt', 'eb07-v1.2-TXT/b4/kp-eb0704-030801-3319-v1.txt', 'eb07-v1.2-TXT/b4/kp-eb0704-031303-3384-v1.txt', 'eb07-v1.2-TXT/b4/kp-eb0704-031901-3462-v1.txt', 'eb07-v1.2-TXT/b4/kp-eb0704-033205-3631-v1.txt', 'eb07-v1.2-TXT/b4/kp-eb0704-033503-3670-v1.txt', 'eb07-v1.2-TXT/b4/kp-eb0704-033601-3683-v1.txt', 'eb07-v1.2-TXT/b4/kp-eb0704-034202-3761-v1.txt', 'eb07-v1.2-TXT/b4/kp-eb0704-034407-3787-v1.txt', 'eb07-v1.2-TXT/b4/kp-eb0704-034705-3826-v1.txt', 'eb07-v1.2-TXT/b4/kp-eb0704-034801-3839-v1.txt', 'eb07-v1.2-TXT/b4/kp-eb0704-035902-3982-v1.txt', 'eb07-v1.2-TXT/b4/kp-eb0704-036711-4086-v1.txt', 'eb07-v1.2-TXT/b4/kp-eb0704-037206-4151-v1.txt', 'eb07-v1.2-TXT/b4/kp-eb0704-037206-4151-v1.txt', 'eb07-v1.2-TXT/b4/kp-eb0704-037701-4216-v1.txt', 'eb07-v1.2-TXT/b4/kp-eb0704-038015-4255-v1.txt', 'eb07-v1.2-TXT/b4/kp-eb0704-038401-4307-v1.txt', 'eb07-v1.2-TXT/b4/kp-eb0704-040201-4541-v1.txt', 'eb07-v1.2-TXT/b4/kp-eb0704-040501-4580-v1.txt', 'eb07-v1.2-TXT/b4/kp-eb0704-040804-4619-v1.txt', 'eb07-v1.2-TXT/b4/kp-eb0704-041001-4645-v1.txt', 'eb07-v1.2-TXT/b4/kp-eb0704-041002-4645-v1.txt', 'eb07-v1.2-TXT/b4/kp-eb0704-041505-4710-v1.txt', 'eb07-v1.2-TXT/b4/kp-eb0704-041801-4749-v1.txt', 'eb07-v1.2-TXT/b4/kp-eb0704-042307-4814-v1.txt', 'eb07-v1.2-TXT/b4/kp-eb0704-043304-4944-v1.txt', 'eb07-v1.2-TXT/b4/kp-eb0704-043404-4957-v1.txt', 'eb07-v1.2-TXT/b4/kp-eb0704-043605-4983-v1.txt', 'eb07-v1.2-TXT/b4/kp-eb0704-043804-5009-v1.txt', 'eb07-v1.2-TXT/b4/kp-eb0704-044103-5048-v1.txt', 'eb07-v1.2-TXT/b4/kp-eb0704-044801-5139-v1.txt', 'eb07-v1.2-TXT/b4/kp-eb0704-044907-5152-v1.txt', 'eb07-v1.2-TXT/b4/kp-eb0704-045111-5178-v1.txt', 'eb07-v1.2-TXT/b4/kp-eb0704-045304-5204-v1.txt', 'eb07-v1.2-TXT/b4/kp-eb0704-046302-5334-v1.txt', 'eb07-v1.2-TXT/b4/kp-eb0704-046603-5373-v1.txt', 'eb07-v1.2-TXT/b4/kp-eb0704-046804-5399-v1.txt', 'eb07-v1.2-TXT/b4/kp-eb0704-047107-5438-v1.txt', 'eb07-v1.2-TXT/b4/kp-eb0704-047504-5490-v1.txt', 'eb07-v1.2-TXT/b4/kp-eb0704-047806-5529-v1.txt', 'eb07-v1.2-TXT/b4/kp-eb0704-048003-5555-v1.txt', 'eb07-v1.2-TXT/b4/kp-eb0704-048104-5568-v1.txt', 'eb07-v1.2-TXT/b4/kp-eb0704-050207-5841-v1.txt', 'eb07-v1.2-TXT/b4/kp-eb0704-050207-5841-v1.txt', 'eb07-v1.2-TXT/b4/kp-eb0704-050901-5932-v1.txt', 'eb07-v1.2-TXT/b4/kp-eb0704-051002-5945-v1.txt', 'eb07-v1.2-TXT/b4/kp-eb0704-051203-5971-v1.txt', 'eb07-v1.2-TXT/b4/kp-eb0704-051603-6023-v1.txt', 'eb07-v1.2-TXT/b4/kp-eb0704-053712-6296-v1.txt', 'eb07-v1.2-TXT/b4/kp-eb0704-054808-6439-v1.txt', 'eb07-v1.2-TXT/b4/kp-eb0704-054808-6439-v1.txt', 'eb07-v1.2-TXT/b4/kp-eb0704-056005-6595-v1.txt', 'eb07-v1.2-TXT/b4/kp-eb0704-057105-6738-v1.txt', 'eb07-v1.2-TXT/b4/kp-eb0704-057305-6764-v1.txt', 'eb07-v1.2-TXT/b4/kp-eb0704-057402-6777-v1.txt', 'eb07-v1.2-TXT/b4/kp-eb0704-057803-6829-v1.txt', 'eb07-v1.2-TXT/b4/kp-eb0704-058304-6894-v1.txt', 'eb07-v1.2-TXT/b4/kp-eb0704-058404-6907-v1.txt', 'eb07-v1.2-TXT/b4/kp-eb0704-058602-6933-v1.txt', 'eb07-v1.2-TXT/b4/kp-eb0704-058703-6946-v1.txt', 'eb07-v1.2-TXT/b4/kp-eb0704-059703-7076-v1.txt', 'eb07-v1.2-TXT/b4/kp-eb0704-060107-7128-v1.txt', 'eb07-v1.2-TXT/b4/kp-eb0704-060314-7154-v1.txt', 'eb07-v1.2-TXT/b4/kp-eb0704-060402-7167-v1.txt', 'eb07-v1.2-TXT/b4/kp-eb0704-060714-7206-v1.txt', 'eb07-v1.2-TXT/b4/kp-eb0704-061901-7362-v1.txt', 'eb07-v1.2-TXT/b4/kp-eb0704-063308-7544-v1.txt', 'eb07-v1.2-TXT/b4/kp-eb0704-063704-7596-v1.txt', 'eb07-v1.2-TXT/b4/kp-eb0704-063903-7622-v1.txt', 'eb07-v1.2-TXT/b4/kp-eb0704-064004-7635-v1.txt', 'eb07-v1.2-TXT/b4/kp-eb0704-064206-7661-v1.txt', 'eb07-v1.2-TXT/b4/kp-eb0704-064502-7700-v1.txt', 'eb07-v1.2-TXT/b4/kp-eb0704-065109-7778-v1.txt', 'eb07-v1.2-TXT/b4/kp-eb0704-065502-7830-v1.txt', 'eb07-v1.2-TXT/b4/kp-eb0704-066304-7934-v1.txt', 'eb07-v1.2-TXT/b4/kp-eb0704-066503-7960-v1.txt', 'eb07-v1.2-TXT/b4/kp-eb0704-066805-7999-v1.txt', 'eb07-v1.2-TXT/b4/kp-eb0704-067203-8051-v1.txt', 'eb07-v1.2-TXT/b4/kp-eb0704-069311-8324-v1.txt', 'eb07-v1.2-TXT/b4/kp-eb0704-070401-8467-v1.txt', 'eb07-v1.2-TXT/b4/kp-eb0704-070906-8532-v1.txt', 'eb07-v1.2-TXT/b4/kp-eb0704-071202-8571-v1.txt', 'eb07-v1.2-TXT/b4/kp-eb0704-071701-8636-v1.txt', 'eb07-v1.2-TXT/b4/kp-eb0704-072801-8779-v1.txt', 'eb07-v1.2-TXT/b4/kp-eb0704-073002-8805-v1.txt', 'eb07-v1.2-TXT/b4/kp-eb0704-073907-8922-v1.txt', 'eb07-v1.2-TXT/b4/kp-eb0704-074101-8948-v1.txt', 'eb07-v1.2-TXT/b4/kp-eb0704-077001-9325-v1.txt', 'eb07-v1.2-TXT/b4/kp-eb0704-077306-9364-v1.txt', 'eb07-v1.2-TXT/b4/kp-eb0704-077501-9390-v1.txt', 'eb07-v1.2-TXT/b4/kp-eb0704-079705-9676-v1.txt', 'eb07-v1.2-TXT/b5/kp-eb0705-000702-3154-v1.txt', 'eb07-v1.2-TXT/b5/kp-eb0705-001602-3271-v1.txt', 'eb07-v1.2-TXT/b5/kp-eb0705-001906-3310-v1.txt', 'eb07-v1.2-TXT/b5/kp-eb0705-002401-3375-v1.txt', 'eb07-v1.2-TXT/b5/kp-eb0705-002605-3401-v1.txt', 'eb07-v1.2-TXT/b5/kp-eb0705-014301-4922-v1.txt', 'eb07-v1.2-TXT/b5/kp-eb0705-014403-4935-v1.txt', 'eb07-v1.2-TXT/b5/kp-eb0705-014802-4987-v1.txt', 'eb07-v1.2-TXT/b5/kp-eb0705-014901-5000-v1.txt', 'eb07-v1.2-TXT/b5/kp-eb0705-015102-5026-v1.txt', 'eb07-v1.2-TXT/b5/kp-eb0705-015606-5091-v1.txt', 'eb07-v1.2-TXT/b5/kp-eb0705-015807-5117-v1.txt', 'eb07-v1.2-TXT/b5/kp-eb0705-016101-5156-v1.txt', 'eb07-v1.2-TXT/b5/kp-eb0705-016201-5169-v1.txt', 'eb07-v1.2-TXT/b5/kp-eb0705-016201-5169-v1.txt', 'eb07-v1.2-TXT/b5/kp-eb0705-016802-5247-v1.txt', 'eb07-v1.2-TXT/b5/kp-eb0705-017106-5286-v1.txt', 'eb07-v1.2-TXT/b5/kp-eb0705-017405-5325-v1.txt', 'eb07-v1.2-TXT/b5/kp-eb0705-018105-5416-v1.txt', 'eb07-v1.2-TXT/b5/kp-eb0705-018504-5468-v1.txt', 'eb07-v1.2-TXT/b5/kp-eb0705-021404-5845-v1.txt', 'eb07-v1.2-TXT/b5/kp-eb0705-022401-5975-v1.txt', 'eb07-v1.2-TXT/b5/kp-eb0705-022803-6027-v1.txt', 'eb07-v1.2-TXT/b5/kp-eb0705-028809-6807-v1.txt', 'eb07-v1.2-TXT/b5/kp-eb0705-029003-6833-v1.txt', 'eb07-v1.2-TXT/b5/kp-eb0705-029301-6872-v1.txt', 'eb07-v1.2-TXT/b5/kp-eb0705-058513-0668-v1.txt', 'eb07-v1.2-TXT/b5/kp-eb0705-058807-0707-v1.txt', 'eb07-v1.2-TXT/b5/kp-eb0705-059303-0772-v1.txt', 'eb07-v1.2-TXT/b5/kp-eb0705-059303-0772-v1.txt', 'eb07-v1.2-TXT/b5/kp-eb0705-059303-0772-v1.txt', 'eb07-v1.2-TXT/b5/kp-eb0705-059303-0772-v1.txt', 'eb07-v1.2-TXT/b5/kp-eb0705-059303-0772-v1.txt', 'eb07-v1.2-TXT/b5/kp-eb0705-060503-0928-v1.txt', 'eb07-v1.2-TXT/b5/kp-eb0705-060904-0980-v1.txt', 'eb07-v1.2-TXT/b5/kp-eb0705-061803-1097-v1.txt', 'eb07-v1.2-TXT/b5/kp-eb0705-063409-1305-v1.txt', 'eb07-v1.2-TXT/b5/kp-eb0705-063604-1331-v1.txt', 'eb07-v1.2-TXT/b5/kp-eb0705-063901-1370-v1.txt', 'eb07-v1.2-TXT/b5/kp-eb0705-070008-2164-v1.txt', 'eb07-v1.2-TXT/b5/kp-eb0705-070707-2255-v1.txt', 'eb07-v1.2-TXT/b5/kp-eb0705-070903-2281-v1.txt', 'eb07-v1.2-TXT/b5/kp-eb0705-071204-2320-v1.txt', 'eb07-v1.2-TXT/b5/kp-eb0705-071605-2372-v1.txt', 'eb07-v1.2-TXT/b5/kp-eb0705-072101-2437-v1.txt', 'eb07-v1.2-TXT/b5/kp-eb0705-072501-2489-v1.txt', 'eb07-v1.2-TXT/b5/kp-eb0705-074003-2684-v1.txt', 'eb07-v1.2-TXT/b5/kp-eb0705-074702-2775-v1.txt', 'eb07-v1.2-TXT/b5/kp-eb0705-075003-2814-v1.txt', 'eb07-v1.2-TXT/b5/kp-eb0705-075602-2892-v1.txt', 'eb07-v1.2-TXT/c5/kp-eb0705-076209-2970-v1.txt', 'eb07-v1.2-TXT/c5/kp-eb0705-076512-3009-v1.txt', 'eb07-v1.2-TXT/c5/kp-eb0705-076904-3061-v1.txt', 'eb07-v1.2-TXT/c5/kp-eb0705-077202-3100-v1.txt', 'eb07-v1.2-TXT/c5/kp-eb0705-077402-3126-v1.txt', 'eb07-v1.2-TXT/c5/kp-eb0705-077706-3165-v1.txt', 'eb07-v1.2-TXT/c5/kp-eb0705-077901-3191-v1.txt', 'eb07-v1.2-TXT/c5/kp-eb0705-078004-3204-v1.txt', 'eb07-v1.2-TXT/c5/kp-eb0705-079204-3360-v1.txt', 'eb07-v1.2-TXT/c6/kp-eb0706-000104-7016-v1.txt', 'eb07-v1.2-TXT/c6/kp-eb0706-002802-7367-v1.txt', 'eb07-v1.2-TXT/c6/kp-eb0706-003502-7458-v1.txt', 'eb07-v1.2-TXT/c6/kp-eb0706-003604-7471-v1.txt', 'eb07-v1.2-TXT/c6/kp-eb0706-003805-7497-v1.txt', 'eb07-v1.2-TXT/c6/kp-eb0706-004204-7549-v1.txt', 'eb07-v1.2-TXT/c6/kp-eb0706-004407-7575-v1.txt', 'eb07-v1.2-TXT/c6/kp-eb0706-004804-7627-v1.txt', 'eb07-v1.2-TXT/c6/kp-eb0706-005301-7692-v1.txt', 'eb07-v1.2-TXT/c6/kp-eb0706-007506-7978-v1.txt', 'eb07-v1.2-TXT/c6/kp-eb0706-007703-8004-v1.txt', 'eb07-v1.2-TXT/c6/kp-eb0706-008116-8056-v1.txt', 'eb07-v1.2-TXT/c6/kp-eb0706-008904-8160-v1.txt', 'eb07-v1.2-TXT/c6/kp-eb0706-009508-8238-v1.txt', 'eb07-v1.2-TXT/c6/kp-eb0706-010605-8381-v1.txt', 'eb07-v1.2-TXT/c6/kp-eb0706-012304-8602-v1.txt', 'eb07-v1.2-TXT/c6/kp-eb0706-012504-8628-v1.txt', 'eb07-v1.2-TXT/c6/kp-eb0706-012809-8667-v1.txt', 'eb07-v1.2-TXT/c6/kp-eb0706-013205-8719-v1.txt', 'eb07-v1.2-TXT/c6/kp-eb0706-013503-8758-v1.txt', 'eb07-v1.2-TXT/c6/kp-eb0706-013504-8758-v1.txt', 'eb07-v1.2-TXT/c6/kp-eb0706-013702-8784-v1.txt', 'eb07-v1.2-TXT/c6/kp-eb0706-013801-8797-v1.txt', 'eb07-v1.2-TXT/c6/kp-eb0706-014304-8862-v1.txt', 'eb07-v1.2-TXT/c6/kp-eb0706-014504-8888-v1.txt', 'eb07-v1.2-TXT/c6/kp-eb0706-014707-8914-v1.txt', 'eb07-v1.2-TXT/c6/kp-eb0706-017202-9239-v1.txt', 'eb07-v1.2-TXT/c6/kp-eb0706-017503-9278-v1.txt', 'eb07-v1.2-TXT/c6/kp-eb0706-017702-9304-v1.txt', 'eb07-v1.2-TXT/c6/kp-eb0706-020910-9720-v1.txt', 'eb07-v1.2-TXT/c6/kp-eb0706-021210-9759-v1.txt', 'eb07-v1.2-TXT/c6/kp-eb0706-021504-9798-v1.txt', 'eb07-v1.2-TXT/c6/kp-eb0706-021803-9837-v1.txt', 'eb07-v1.2-TXT/c6/kp-eb0706-022715-9954-v1.txt', 'eb07-v1.2-TXT/c6/kp-eb0706-023301-0032-v1.txt', 'eb07-v1.2-TXT/c6/kp-eb0706-024205-0149-v1.txt', 'eb07-v1.2-TXT/c6/kp-eb0706-024703-0214-v1.txt', 'eb07-v1.2-TXT/c6/kp-eb0706-024703-0214-v1.txt', 'eb07-v1.2-TXT/c6/kp-eb0706-025002-0253-v1.txt', 'eb07-v1.2-TXT/c6/kp-eb0706-025214-0279-v1.txt', 'eb07-v1.2-TXT/c6/kp-eb0706-025502-0318-v1.txt', 'eb07-v1.2-TXT/c6/kp-eb0706-025502-0318-v1.txt', 'eb07-v1.2-TXT/c6/kp-eb0706-025801-0357-v1.txt', 'eb07-v1.2-TXT/c6/kp-eb0706-025901-0370-v1.txt', 'eb07-v1.2-TXT/c6/kp-eb0706-026702-0474-v1.txt', 'eb07-v1.2-TXT/c6/kp-eb0706-026803-0487-v1.txt', 'eb07-v1.2-TXT/c6/kp-eb0706-027306-0552-v1.txt', 'eb07-v1.2-TXT/c6/kp-eb0706-029702-0864-v1.txt', 'eb07-v1.2-TXT/c6/kp-eb0706-030802-1007-v1.txt', 'eb07-v1.2-TXT/c6/kp-eb0706-031705-1124-v1.txt', 'eb07-v1.2-TXT/c6/kp-eb0706-032706-1254-v1.txt', 'eb07-v1.2-TXT/c6/kp-eb0706-032906-1280-v1.txt', 'eb07-v1.2-TXT/c6/kp-eb0706-033505-1358-v1.txt', 'eb07-v1.2-TXT/c6/kp-eb0706-033601-1371-v1.txt', 'eb07-v1.2-TXT/c6/kp-eb0706-050807-3607-v1.txt', 'eb07-v1.2-TXT/c6/kp-eb0706-054606-4101-v1.txt', 'eb07-v1.2-TXT/c6/kp-eb0706-062901-5180-v1.txt', 'eb07-v1.2-TXT/c6/kp-eb0706-063005-5193-v1.txt', 'eb07-v1.2-TXT/c6/kp-eb0706-068701-5934-v1.txt', 'eb07-v1.2-TXT/c6/kp-eb0706-069009-5973-v1.txt', 'eb07-v1.2-TXT/c6/kp-eb0706-069009-5973-v1.txt', 'eb07-v1.2-TXT/c6/kp-eb0706-069604-6051-v1.txt', 'eb07-v1.2-TXT/c6/kp-eb0706-069804-6077-v1.txt', 'eb07-v1.2-TXT/c6/kp-eb0706-070105-6116-v1.txt', 'eb07-v1.2-TXT/c6/kp-eb0706-070702-6194-v1.txt', 'eb07-v1.2-TXT/c6/kp-eb0706-072305-6402-v1.txt', 'eb07-v1.2-TXT/c6/kp-eb0706-072803-6467-v1.txt', 'eb07-v1.2-TXT/c6/kp-eb0706-072803-6467-v1.txt', 'eb07-v1.2-TXT/c6/kp-eb0706-073502-6558-v1.txt', 'eb07-v1.2-TXT/c6/kp-eb0706-076505-6974-v1.txt', 'eb07-v1.2-TXT/c7/kp-eb0707-000204-7272-v1.txt', 'eb07-v1.2-TXT/c7/kp-eb0707-000410-7298-v1.txt', 'eb07-v1.2-TXT/c7/kp-eb0707-000703-7337-v1.txt', 'eb07-v1.2-TXT/c7/kp-eb0707-001101-7389-v1.txt', 'eb07-v1.2-TXT/c7/kp-eb0707-001101-7389-v1.txt', 'eb07-v1.2-TXT/c7/kp-eb0707-001402-7428-v1.txt', 'eb07-v1.2-TXT/c7/kp-eb0707-001714-7467-v1.txt', 'eb07-v1.2-TXT/c7/kp-eb0707-003005-7662-v1.txt', 'eb07-v1.2-TXT/c7/kp-eb0707-005603-8000-v1.txt', 'eb07-v1.2-TXT/c7/kp-eb0707-006806-8156-v1.txt', 'eb07-v1.2-TXT/c7/kp-eb0707-008501-8377-v1.txt', 'eb07-v1.2-TXT/c7/kp-eb0707-012702-8923-v1.txt', 'eb07-v1.2-TXT/c7/kp-eb0707-013402-9014-v1.txt', 'eb07-v1.2-TXT/c7/kp-eb0707-015102-9235-v1.txt', 'eb07-v1.2-TXT/c7/kp-eb0707-015203-9248-v1.txt', 'eb07-v1.2-TXT/c7/kp-eb0707-017709-9573-v1.txt', 'eb07-v1.2-TXT/c7/kp-eb0707-018503-9677-v1.txt', 'eb07-v1.2-TXT/c7/kp-eb0707-018802-9716-v1.txt', 'eb07-v1.2-TXT/c7/kp-eb0707-019206-9768-v1.txt', 'eb07-v1.2-TXT/c7/kp-eb0707-019801-9846-v1.txt', 'eb07-v1.2-TXT/c7/kp-eb0707-020102-9885-v1.txt', 'eb07-v1.2-TXT/c7/kp-eb0707-020305-9911-v1.txt', 'eb07-v1.2-TXT/c7/kp-eb0707-020305-9911-v1.txt', 'eb07-v1.2-TXT/c7/kp-eb0707-020802-9976-v1.txt', 'eb07-v1.2-TXT/c7/kp-eb0707-021202-0028-v1.txt', 'eb07-v1.2-TXT/c7/kp-eb0707-021402-0054-v1.txt', 'eb07-v1.2-TXT/c7/kp-eb0707-021605-0080-v1.txt', 'eb07-v1.2-TXT/c7/kp-eb0707-026311-0691-v1.txt', 'eb07-v1.2-TXT/c7/kp-eb0707-026701-0743-v1.txt', 'eb07-v1.2-TXT/c7/kp-eb0707-027002-0782-v1.txt', 'eb07-v1.2-TXT/c7/kp-eb0707-027101-0795-v1.txt', 'eb07-v1.2-TXT/c7/kp-eb0707-029503-1107-v1.txt', 'eb07-v1.2-TXT/c7/kp-eb0707-030406-1224-v1.txt', 'eb07-v1.2-TXT/c7/kp-eb0707-030802-1276-v1.txt', 'eb07-v1.2-TXT/c7/kp-eb0707-031005-1302-v1.txt', 'eb07-v1.2-TXT/c7/kp-eb0707-032206-1458-v1.txt', 'eb07-v1.2-TXT/c7/kp-eb0707-032406-1484-v1.txt', 'eb07-v1.2-TXT/c7/kp-eb0707-032608-1510-v1.txt', 'eb07-v1.2-TXT/c7/kp-eb0707-032804-1536-v1.txt', 'eb07-v1.2-TXT/c7/kp-eb0707-036901-2069-v1.txt', 'eb07-v1.2-TXT/c7/kp-eb0707-037101-2095-v1.txt', 'eb07-v1.2-TXT/c7/kp-eb0707-037805-2186-v1.txt', 'eb07-v1.2-TXT/c7/kp-eb0707-038003-2212-v1.txt', 'eb07-v1.2-TXT/c7/kp-eb0707-042409-2784-v1.txt', 'eb07-v1.2-TXT/c7/kp-eb0707-043003-2862-v1.txt', 'eb07-v1.2-TXT/c7/kp-eb0707-043505-2927-v1.txt', 'eb07-v1.2-TXT/c7/kp-eb0707-043601-2940-v1.txt', 'eb07-v1.2-TXT/c7/kp-eb0707-043904-2979-v1.txt', 'eb07-v1.2-TXT/c7/kp-eb0707-044003-2992-v1.txt', 'eb07-v1.2-TXT/c7/kp-eb0707-044408-3044-v1.txt', 'eb07-v1.2-TXT/c7/kp-eb0707-045005-3122-v1.txt', 'eb07-v1.2-TXT/c7/kp-eb0707-045102-3135-v1.txt', 'eb07-v1.2-TXT/c7/kp-eb0707-046707-3343-v1.txt', 'eb07-v1.2-TXT/c7/kp-eb0707-047104-3395-v1.txt', 'eb07-v1.2-TXT/c7/kp-eb0707-047401-3434-v1.txt', 'eb07-v1.2-TXT/c7/kp-eb0707-047603-3460-v1.txt', 'eb07-v1.2-TXT/c7/kp-eb0707-048003-3512-v1.txt', 'eb07-v1.2-TXT/c7/kp-eb0707-052709-4123-v1.txt', 'eb07-v1.2-TXT/c7/kp-eb0707-053203-4188-v1.txt', 'eb07-v1.2-TXT/c7/kp-eb0707-054410-4344-v1.txt', 'eb07-v1.2-TXT/c7/kp-eb0707-055205-4448-v1.txt', 'eb07-v1.2-TXT/c7/kp-eb0707-055804-4526-v1.txt', 'eb07-v1.2-TXT/c7/kp-eb0707-057704-4773-v1.txt', 'eb07-v1.2-TXT/d7/kp-eb0707-058306-4851-v1.txt', 'eb07-v1.2-TXT/d7/kp-eb0707-058401-4864-v1.txt', 'eb07-v1.2-TXT/d7/kp-eb0707-058705-4903-v1.txt', 'eb07-v1.2-TXT/d7/kp-eb0707-059502-5007-v1.txt', 'eb07-v1.2-TXT/d7/kp-eb0707-059502-5007-v1.txt', 'eb07-v1.2-TXT/d7/kp-eb0707-061001-5202-v1.txt', 'eb07-v1.2-TXT/d7/kp-eb0707-061703-5293-v1.txt', 'eb07-v1.2-TXT/d7/kp-eb0707-061901-5319-v1.txt', 'eb07-v1.2-TXT/d7/kp-eb0707-062403-5384-v1.txt', 'eb07-v1.2-TXT/d7/kp-eb0707-062502-5397-v1.txt', 'eb07-v1.2-TXT/d7/kp-eb0707-063101-5475-v1.txt', 'eb07-v1.2-TXT/d7/kp-eb0707-063301-5501-v1.txt', 'eb07-v1.2-TXT/d7/kp-eb0707-063506-5527-v1.txt', 'eb07-v1.2-TXT/d7/kp-eb0707-063701-5553-v1.txt', 'eb07-v1.2-TXT/d7/kp-eb0707-066308-5891-v1.txt', 'eb07-v1.2-TXT/d7/kp-eb0707-066607-5930-v1.txt', 'eb07-v1.2-TXT/d7/kp-eb0707-066809-5956-v1.txt', 'eb07-v1.2-TXT/d7/kp-eb0707-067904-6099-v1.txt', 'eb07-v1.2-TXT/d7/kp-eb0707-067904-6099-v1.txt', 'eb07-v1.2-TXT/d7/kp-eb0707-068206-6138-v1.txt', 'eb07-v1.2-TXT/d7/kp-eb0707-068302-6151-v1.txt', 'eb07-v1.2-TXT/d7/kp-eb0707-068302-6151-v1.txt', 'eb07-v1.2-TXT/d7/kp-eb0707-068605-6190-v1.txt', 'eb07-v1.2-TXT/d7/kp-eb0707-068901-6229-v1.txt', 'eb07-v1.2-TXT/d7/kp-eb0707-070906-6489-v1.txt', 'eb07-v1.2-TXT/d7/kp-eb0707-071001-6502-v1.txt', 'eb07-v1.2-TXT/d7/kp-eb0707-071608-6580-v1.txt', 'eb07-v1.2-TXT/d7/kp-eb0707-071902-6619-v1.txt', 'eb07-v1.2-TXT/d7/kp-eb0707-073809-6866-v1.txt', 'eb07-v1.2-TXT/d7/kp-eb0707-074308-6931-v1.txt', 'eb07-v1.2-TXT/d8/kp-eb0708-000102-3148-v1.txt', 'eb07-v1.2-TXT/d8/kp-eb0708-000802-3239-v1.txt', 'eb07-v1.2-TXT/d8/kp-eb0708-001404-3317-v1.txt', 'eb07-v1.2-TXT/d8/kp-eb0708-001404-3317-v1.txt', 'eb07-v1.2-TXT/d8/kp-eb0708-002806-3499-v1.txt', 'eb07-v1.2-TXT/d8/kp-eb0708-003008-3525-v1.txt', 'eb07-v1.2-TXT/d8/kp-eb0708-003402-3577-v1.txt', 'eb07-v1.2-TXT/d8/kp-eb0708-003611-3603-v1.txt', 'eb07-v1.2-TXT/d8/kp-eb0708-004204-3681-v1.txt', 'eb07-v1.2-TXT/d8/kp-eb0708-005710-3876-v1.txt', 'eb07-v1.2-TXT/d8/kp-eb0708-007102-4058-v1.txt', 'eb07-v1.2-TXT/d8/kp-eb0708-007501-4110-v1.txt', 'eb07-v1.2-TXT/d8/kp-eb0708-009108-4318-v1.txt', 'eb07-v1.2-TXT/d8/kp-eb0708-009404-4357-v1.txt', 'eb07-v1.2-TXT/d8/kp-eb0708-009501-4370-v1.txt', 'eb07-v1.2-TXT/d8/kp-eb0708-009901-4422-v1.txt', 'eb07-v1.2-TXT/d8/kp-eb0708-010001-4435-v1.txt', 'eb07-v1.2-TXT/d8/kp-eb0708-011604-4643-v1.txt', 'eb07-v1.2-TXT/d8/kp-eb0708-011906-4682-v1.txt', 'eb07-v1.2-TXT/d8/kp-eb0708-012204-4721-v1.txt', 'eb07-v1.2-TXT/d8/kp-eb0708-012409-4747-v1.txt', 'eb07-v1.2-TXT/d8/kp-eb0708-014201-4981-v1.txt', 'eb07-v1.2-TXT/d8/kp-eb0708-019902-5722-v1.txt', 'eb07-v1.2-TXT/d8/kp-eb0708-020103-5748-v1.txt', 'eb07-v1.2-TXT/d8/kp-eb0708-021002-5865-v1.txt', 'eb07-v1.2-TXT/d8/kp-eb0708-021002-5865-v1.txt', 'eb07-v1.2-TXT/d8/kp-eb0708-021601-5943-v1.txt', 'eb07-v1.2-TXT/d8/kp-eb0708-022102-6008-v1.txt', 'eb07-v1.2-TXT/d8/kp-eb0708-025802-6489-v1.txt', 'eb07-v1.2-TXT/d8/kp-eb0708-027501-6710-v1.txt', 'eb07-v1.2-TXT/d8/kp-eb0708-027905-6762-v1.txt', 'eb07-v1.2-TXT/d8/kp-eb0708-028001-6775-v1.txt', 'eb07-v1.2-TXT/d8/kp-eb0708-028101-6788-v1.txt', 'eb07-v1.2-TXT/d8/kp-eb0708-028403-6827-v1.txt', 'eb07-v1.2-TXT/d8/kp-eb0708-028606-6853-v1.txt', 'eb07-v1.2-TXT/d8/kp-eb0708-028705-6866-v1.txt', 'eb07-v1.2-TXT/d8/kp-eb0708-028903-6892-v1.txt', 'eb07-v1.2-TXT/d8/kp-eb0708-028903-6892-v1.txt', 'eb07-v1.2-TXT/d8/kp-eb0708-029302-6944-v1.txt', 'eb07-v1.2-TXT/e8/kp-eb0708-039208-8231-v1.txt', 'eb07-v1.2-TXT/e8/kp-eb0708-039617-8283-v1.txt', 'eb07-v1.2-TXT/e8/kp-eb0708-043104-8738-v1.txt', 'eb07-v1.2-TXT/e8/kp-eb0708-045003-8985-v1.txt', 'eb07-v1.2-TXT/e8/kp-eb0708-045003-8985-v1.txt', 'eb07-v1.2-TXT/e8/kp-eb0708-066403-1767-v1.txt', 'eb07-v1.2-TXT/e8/kp-eb0708-066705-1806-v1.txt', 'eb07-v1.2-TXT/e8/kp-eb0708-067107-1858-v1.txt', 'eb07-v1.2-TXT/e8/kp-eb0708-069311-2144-v1.txt', 'eb07-v1.2-TXT/e8/kp-eb0708-069402-2157-v1.txt', 'eb07-v1.2-TXT/e8/kp-eb0708-070101-2248-v1.txt', 'eb07-v1.2-TXT/e8/kp-eb0708-070101-2248-v1.txt', 'eb07-v1.2-TXT/e9/kp-eb0709-005707-0067-v1.txt', 'eb07-v1.2-TXT/e9/kp-eb0709-030215-9184-v1.txt', 'eb07-v1.2-TXT/e9/kp-eb0709-030406-9210-v1.txt', 'eb07-v1.2-TXT/e9/kp-eb0709-030706-9249-v1.txt', 'eb07-v1.2-TXT/e9/kp-eb0709-031201-9314-v1.txt', 'eb07-v1.2-TXT/e9/kp-eb0709-035310-9847-v1.txt', 'eb07-v1.2-TXT/e9/kp-eb0709-036109-9951-v1.txt', 'eb07-v1.2-TXT/e9/kp-eb0709-036306-9977-v1.txt', 'eb07-v1.2-TXT/e9/kp-eb0709-036406-9990-v1.txt', 'eb07-v1.2-TXT/e9/kp-eb0709-037208-0094-v1.txt', 'eb07-v1.2-TXT/e9/kp-eb0709-039101-0341-v1.txt', 'eb07-v1.2-TXT/e9/kp-eb0709-039302-0367-v1.txt', 'eb07-v1.2-TXT/e9/kp-eb0709-039801-0432-v1.txt', 'eb07-v1.2-TXT/e9/kp-eb0709-042106-0731-v1.txt', 'eb07-v1.2-TXT/e9/kp-eb0709-043301-0887-v1.txt', 'eb07-v1.2-TXT/e9/kp-eb0709-046310-1277-v1.txt', 'eb07-v1.2-TXT/e9/kp-eb0709-046609-1316-v1.txt', 'eb07-v1.2-TXT/f10/kp-eb0710-022208-6853-v1.txt', 'eb07-v1.2-TXT/f10/kp-eb0710-022702-6918-v1.txt', 'eb07-v1.2-TXT/f10/kp-eb0710-023217-6983-v1.txt', 'eb07-v1.2-TXT/f10/kp-eb0710-023410-7009-v1.txt', 'eb07-v1.2-TXT/f10/kp-eb0710-024204-7113-v1.txt', 'eb07-v1.2-TXT/f10/kp-eb0710-025702-7308-v1.txt', 'eb07-v1.2-TXT/f10/kp-eb0710-027710-7568-v1.txt', 'eb07-v1.2-TXT/f9/kp-eb0709-047104-1381-v1.txt', 'eb07-v1.2-TXT/f9/kp-eb0709-047104-1381-v1.txt', 'eb07-v1.2-TXT/f9/kp-eb0709-047606-1446-v1.txt', 'eb07-v1.2-TXT/f9/kp-eb0709-047702-1459-v1.txt', 'eb07-v1.2-TXT/f9/kp-eb0709-047702-1459-v1.txt', 'eb07-v1.2-TXT/f9/kp-eb0709-048110-1511-v1.txt', 'eb07-v1.2-TXT/f9/kp-eb0709-048507-1563-v1.txt', 'eb07-v1.2-TXT/f9/kp-eb0709-048902-1615-v1.txt', 'eb07-v1.2-TXT/f9/kp-eb0709-049206-1654-v1.txt', 'eb07-v1.2-TXT/f9/kp-eb0709-049401-1680-v1.txt', 'eb07-v1.2-TXT/f9/kp-eb0709-049607-1706-v1.txt', 'eb07-v1.2-TXT/f9/kp-eb0709-049911-1745-v1.txt', 'eb07-v1.2-TXT/f9/kp-eb0709-050401-1810-v1.txt', 'eb07-v1.2-TXT/f9/kp-eb0709-050801-1862-v1.txt', 'eb07-v1.2-TXT/f9/kp-eb0709-051001-1888-v1.txt', 'eb07-v1.2-TXT/f9/kp-eb0709-052803-2122-v1.txt', 'eb07-v1.2-TXT/f9/kp-eb0709-053707-2239-v1.txt', 'eb07-v1.2-TXT/f9/kp-eb0709-057503-2733-v1.txt', 'eb07-v1.2-TXT/f9/kp-eb0709-057602-2746-v1.txt', 'eb07-v1.2-TXT/f9/kp-eb0709-057802-2772-v1.txt', 'eb07-v1.2-TXT/f9/kp-eb0709-058603-2876-v1.txt', 'eb07-v1.2-TXT/f9/kp-eb0709-061507-3253-v1.txt', 'eb07-v1.2-TXT/f9/kp-eb0709-061703-3279-v1.txt', 'eb07-v1.2-TXT/f9/kp-eb0709-061906-3305-v1.txt', 'eb07-v1.2-TXT/f9/kp-eb0709-062101-3331-v1.txt', 'eb07-v1.2-TXT/f9/kp-eb0709-062206-3344-v1.txt', 'eb07-v1.2-TXT/f9/kp-eb0709-062901-3435-v1.txt', 'eb07-v1.2-TXT/f9/kp-eb0709-071010-4488-v1.txt', 'eb07-v1.2-TXT/f9/kp-eb0709-071403-4540-v1.txt', 'eb07-v1.2-TXT/f9/kp-eb0709-071702-4579-v1.txt', 'eb07-v1.2-TXT/f9/kp-eb0709-071902-4605-v1.txt', 'eb07-v1.2-TXT/f9/kp-eb0709-073603-4826-v1.txt', 'eb07-v1.2-TXT/f9/kp-eb0709-073703-4839-v1.txt', 'eb07-v1.2-TXT/f9/kp-eb0709-074106-4891-v1.txt', 'eb07-v1.2-TXT/f9/kp-eb0709-074403-4930-v1.txt', 'eb07-v1.2-TXT/f9/kp-eb0709-074705-4969-v1.txt', 'eb07-v1.2-TXT/f9/kp-eb0709-075201-5034-v1.txt', 'eb07-v1.2-TXT/f9/kp-eb0709-076306-5177-v1.txt', 'eb07-v1.2-TXT/f9/kp-eb0709-079105-5541-v1.txt', 'eb07-v1.2-TXT/f9/kp-eb0709-079801-5632-v1.txt', 'eb07-v1.2-TXT/g10/kp-eb0710-028504-7672-v1.txt', 'eb07-v1.2-TXT/g10/kp-eb0710-028701-7698-v1.txt', 'eb07-v1.2-TXT/g10/kp-eb0710-029603-7815-v1.txt', 'eb07-v1.2-TXT/g10/kp-eb0710-029802-7841-v1.txt', 'eb07-v1.2-TXT/g10/kp-eb0710-030106-7880-v1.txt', 'eb07-v1.2-TXT/g10/kp-eb0710-030701-7958-v1.txt', 'eb07-v1.2-TXT/g10/kp-eb0710-030904-7984-v1.txt', 'eb07-v1.2-TXT/g10/kp-eb0710-031103-8010-v1.txt', 'eb07-v1.2-TXT/g10/kp-eb0710-031304-8036-v1.txt', 'eb07-v1.2-TXT/g10/kp-eb0710-031506-8062-v1.txt', 'eb07-v1.2-TXT/g10/kp-eb0710-034401-8439-v1.txt', 'eb07-v1.2-TXT/g10/kp-eb0710-034504-8452-v1.txt', 'eb07-v1.2-TXT/g10/kp-eb0710-034801-8491-v1.txt', 'eb07-v1.2-TXT/g10/kp-eb0710-036908-8764-v1.txt', 'eb07-v1.2-TXT/g10/kp-eb0710-037303-8816-v1.txt', 'eb07-v1.2-TXT/g10/kp-eb0710-037503-8842-v1.txt', 'eb07-v1.2-TXT/g10/kp-eb0710-038301-8946-v1.txt', 'eb07-v1.2-TXT/g10/kp-eb0710-046701-0038-v1.txt', 'eb07-v1.2-TXT/g10/kp-eb0710-046902-0064-v1.txt', 'eb07-v1.2-TXT/g10/kp-eb0710-047102-0090-v1.txt', 'eb07-v1.2-TXT/g10/kp-eb0710-049105-0350-v1.txt', 'eb07-v1.2-TXT/g10/kp-eb0710-049607-0415-v1.txt', 'eb07-v1.2-TXT/g10/kp-eb0710-049809-0441-v1.txt', 'eb07-v1.2-TXT/g10/kp-eb0710-049901-0454-v1.txt', 'eb07-v1.2-TXT/g10/kp-eb0710-050204-0493-v1.txt', 'eb07-v1.2-TXT/g10/kp-eb0710-051505-0662-v1.txt', 'eb07-v1.2-TXT/g10/kp-eb0710-051701-0688-v1.txt', 'eb07-v1.2-TXT/g10/kp-eb0710-052401-0779-v1.txt', 'eb07-v1.2-TXT/g10/kp-eb0710-052503-0792-v1.txt', 'eb07-v1.2-TXT/g10/kp-eb0710-053003-0857-v1.txt', 'eb07-v1.2-TXT/g10/kp-eb0710-053302-0896-v1.txt', 'eb07-v1.2-TXT/g10/kp-eb0710-058205-1533-v1.txt', 'eb07-v1.2-TXT/g10/kp-eb0710-058403-1559-v1.txt', 'eb07-v1.2-TXT/g10/kp-eb0710-058802-1611-v1.txt', 'eb07-v1.2-TXT/g10/kp-eb0710-058901-1624-v1.txt', 'eb07-v1.2-TXT/g10/kp-eb0710-059205-1663-v1.txt', 'eb07-v1.2-TXT/g10/kp-eb0710-059301-1676-v1.txt', 'eb07-v1.2-TXT/g10/kp-eb0710-060505-1832-v1.txt', 'eb07-v1.2-TXT/g10/kp-eb0710-060601-1845-v1.txt', 'eb07-v1.2-TXT/g10/kp-eb0710-061007-1897-v1.txt', 'eb07-v1.2-TXT/g10/kp-eb0710-063502-2222-v1.txt', 'eb07-v1.2-TXT/g10/kp-eb0710-063701-2248-v1.txt', 'eb07-v1.2-TXT/g10/kp-eb0710-068301-2846-v1.txt', 'eb07-v1.2-TXT/g10/kp-eb0710-070303-3106-v1.txt', 'eb07-v1.2-TXT/g10/kp-eb0710-070602-3145-v1.txt', 'eb07-v1.2-TXT/g10/kp-eb0710-070704-3158-v1.txt', 'eb07-v1.2-TXT/g10/kp-eb0710-071210-3223-v1.txt', 'eb07-v1.2-TXT/g10/kp-eb0710-071505-3262-v1.txt', 'eb07-v1.2-TXT/g10/kp-eb0710-071703-3288-v1.txt', 'eb07-v1.2-TXT/g10/kp-eb0710-076503-3912-v1.txt', 'eb07-v1.2-TXT/g10/kp-eb0710-076503-3912-v1.txt', 'eb07-v1.2-TXT/g10/kp-eb0710-077105-3990-v1.txt', 'eb07-v1.2-TXT/g10/kp-eb0710-077911-4094-v1.txt', 'eb07-v1.2-TXT/g11/kp-eb0711-000101-9108-v1.txt', 'eb07-v1.2-TXT/g11/kp-eb0711-001006-9225-v1.txt', 'eb07-v1.2-TXT/g11/kp-eb0711-001306-9264-v1.txt', 'eb07-v1.2-TXT/g11/kp-eb0711-002202-9381-v1.txt', 'eb07-v1.2-TXT/g11/kp-eb0711-002401-9407-v1.txt', 'eb07-v1.2-TXT/g11/kp-eb0711-002501-9420-v1.txt', 'eb07-v1.2-TXT/g11/kp-eb0711-002707-9446-v1.txt', 'eb07-v1.2-TXT/g11/kp-eb0711-002903-9472-v1.txt', 'eb07-v1.2-TXT/g11/kp-eb0711-003504-9550-v1.txt', 'eb07-v1.2-TXT/g11/kp-eb0711-008902-0252-v1.txt', 'eb07-v1.2-TXT/g11/kp-eb0711-009705-0356-v1.txt', 'eb07-v1.2-TXT/h11/kp-eb0711-009905-0382-v1.txt', 'eb07-v1.2-TXT/h11/kp-eb0711-010201-0421-v1.txt', 'eb07-v1.2-TXT/h11/kp-eb0711-010701-0486-v1.txt', 'eb07-v1.2-TXT/h11/kp-eb0711-010909-0512-v1.txt', 'eb07-v1.2-TXT/h11/kp-eb0711-011001-0525-v1.txt', 'eb07-v1.2-TXT/h11/kp-eb0711-011304-0564-v1.txt', 'eb07-v1.2-TXT/h11/kp-eb0711-011806-0629-v1.txt', 'eb07-v1.2-TXT/h11/kp-eb0711-012203-0681-v1.txt', 'eb07-v1.2-TXT/h11/kp-eb0711-012305-0694-v1.txt', 'eb07-v1.2-TXT/h11/kp-eb0711-012802-0759-v1.txt', 'eb07-v1.2-TXT/h11/kp-eb0711-013101-0798-v1.txt', 'eb07-v1.2-TXT/h11/kp-eb0711-013306-0824-v1.txt', 'eb07-v1.2-TXT/h11/kp-eb0711-014001-0915-v1.txt', 'eb07-v1.2-TXT/h11/kp-eb0711-014106-0928-v1.txt', 'eb07-v1.2-TXT/h11/kp-eb0711-014511-0980-v1.txt', 'eb07-v1.2-TXT/h11/kp-eb0711-014904-1032-v1.txt', 'eb07-v1.2-TXT/h11/kp-eb0711-015001-1045-v1.txt', 'eb07-v1.2-TXT/h11/kp-eb0711-015501-1110-v1.txt', 'eb07-v1.2-TXT/h11/kp-eb0711-015902-1162-v1.txt', 'eb07-v1.2-TXT/h11/kp-eb0711-016401-1227-v1.txt', 'eb07-v1.2-TXT/h11/kp-eb0711-016902-1292-v1.txt', 'eb07-v1.2-TXT/h11/kp-eb0711-017305-1344-v1.txt', 'eb07-v1.2-TXT/h11/kp-eb0711-017602-1383-v1.txt', 'eb07-v1.2-TXT/h11/kp-eb0711-017802-1409-v1.txt', 'eb07-v1.2-TXT/h11/kp-eb0711-019901-1682-v1.txt', 'eb07-v1.2-TXT/h11/kp-eb0711-019902-1682-v1.txt', 'eb07-v1.2-TXT/h11/kp-eb0711-020704-1786-v1.txt', 'eb07-v1.2-TXT/h11/kp-eb0711-021105-1838-v1.txt', 'eb07-v1.2-TXT/h11/kp-eb0711-023206-2111-v1.txt', 'eb07-v1.2-TXT/h11/kp-eb0711-023206-2111-v1.txt', 'eb07-v1.2-TXT/h11/kp-eb0711-023206-2111-v1.txt', 'eb07-v1.2-TXT/h11/kp-eb0711-023701-2176-v1.txt', 'eb07-v1.2-TXT/h11/kp-eb0711-024103-2228-v1.txt', 'eb07-v1.2-TXT/h11/kp-eb0711-027204-2631-v1.txt', 'eb07-v1.2-TXT/h11/kp-eb0711-027401-2657-v1.txt', 'eb07-v1.2-TXT/h11/kp-eb0711-027801-2709-v1.txt', 'eb07-v1.2-TXT/h11/kp-eb0711-027902-2722-v1.txt', 'eb07-v1.2-TXT/h11/kp-eb0711-028103-2748-v1.txt', 'eb07-v1.2-TXT/h11/kp-eb0711-028401-2787-v1.txt', 'eb07-v1.2-TXT/h11/kp-eb0711-028702-2826-v1.txt', 'eb07-v1.2-TXT/h11/kp-eb0711-029005-2865-v1.txt', 'eb07-v1.2-TXT/h11/kp-eb0711-046604-5153-v1.txt', 'eb07-v1.2-TXT/h11/kp-eb0711-050004-5595-v1.txt', 'eb07-v1.2-TXT/h11/kp-eb0711-050305-5634-v1.txt', 'eb07-v1.2-TXT/h11/kp-eb0711-050702-5686-v1.txt', 'eb07-v1.2-TXT/h11/kp-eb0711-053602-6063-v1.txt', 'eb07-v1.2-TXT/h11/kp-eb0711-053701-6076-v1.txt', 'eb07-v1.2-TXT/h11/kp-eb0711-055403-6297-v1.txt', 'eb07-v1.2-TXT/h11/kp-eb0711-055403-6297-v1.txt', 'eb07-v1.2-TXT/h11/kp-eb0711-055902-6362-v1.txt', 'eb07-v1.2-TXT/h11/kp-eb0711-056201-6401-v1.txt', 'eb07-v1.2-TXT/h11/kp-eb0711-056311-6414-v1.txt', 'eb07-v1.2-TXT/h11/kp-eb0711-062604-7233-v1.txt', 'eb07-v1.2-TXT/h11/kp-eb0711-069205-8091-v1.txt', 'eb07-v1.2-TXT/h11/kp-eb0711-071102-8338-v1.txt', 'eb07-v1.2-TXT/h11/kp-eb0711-071402-8377-v1.txt', 'eb07-v1.2-TXT/h11/kp-eb0711-071704-8416-v1.txt', 'eb07-v1.2-TXT/h11/kp-eb0711-072004-8455-v1.txt', 'eb07-v1.2-TXT/h11/kp-eb0711-073101-8598-v1.txt', 'eb07-v1.2-TXT/h11/kp-eb0711-073303-8624-v1.txt', 'eb07-v1.2-TXT/h11/kp-eb0711-075702-8936-v1.txt', 'eb07-v1.2-TXT/h11/kp-eb0711-075802-8949-v1.txt', 'eb07-v1.2-TXT/h11/kp-eb0711-076303-9014-v1.txt', 'eb07-v1.2-TXT/h11/kp-eb0711-076402-9027-v1.txt', 'eb07-v1.2-TXT/h11/kp-eb0711-076607-9053-v1.txt', 'eb07-v1.2-TXT/i12/kp-eb0712-014006-9622-v1.txt', 'eb07-v1.2-TXT/i12/kp-eb0712-014902-9739-v1.txt', 'eb07-v1.2-TXT/i12/kp-eb0712-024006-0922-v1.txt', 'eb07-v1.2-TXT/i12/kp-eb0712-024410-0974-v1.txt', 'eb07-v1.2-TXT/i12/kp-eb0712-024702-1013-v1.txt', 'eb07-v1.2-TXT/i12/kp-eb0712-024903-1039-v1.txt', 'eb07-v1.2-TXT/i12/kp-eb0712-025004-1052-v1.txt', 'eb07-v1.2-TXT/i12/kp-eb0712-025004-1052-v1.txt', 'eb07-v1.2-TXT/i12/kp-eb0712-025811-1156-v1.txt', 'eb07-v1.2-TXT/i12/kp-eb0712-026501-1247-v1.txt', 'eb07-v1.2-TXT/i12/kp-eb0712-026905-1299-v1.txt', 'eb07-v1.2-TXT/i12/kp-eb0712-027111-1325-v1.txt', 'eb07-v1.2-TXT/i12/kp-eb0712-027407-1364-v1.txt', 'eb07-v1.2-TXT/i12/kp-eb0712-027509-1377-v1.txt', 'eb07-v1.2-TXT/i12/kp-eb0712-029302-1611-v1.txt', 'eb07-v1.2-TXT/i12/kp-eb0712-032903-2079-v1.txt', 'eb07-v1.2-TXT/i12/kp-eb0712-033401-2144-v1.txt', 'eb07-v1.2-TXT/i12/kp-eb0712-033802-2196-v1.txt', 'eb07-v1.2-TXT/i12/kp-eb0712-042801-3366-v1.txt', 'eb07-v1.2-TXT/i12/kp-eb0712-046105-3795-v1.txt', 'eb07-v1.2-TXT/j12/kp-eb0712-053503-4757-v1.txt', 'eb07-v1.2-TXT/j12/kp-eb0712-054203-4848-v1.txt', 'eb07-v1.2-TXT/j12/kp-eb0712-056601-5160-v1.txt', 'eb07-v1.2-TXT/j12/kp-eb0712-058502-5407-v1.txt', 'eb07-v1.2-TXT/j12/kp-eb0712-058903-5459-v1.txt', 'eb07-v1.2-TXT/j12/kp-eb0712-059001-5472-v1.txt', 'eb07-v1.2-TXT/j12/kp-eb0712-059402-5524-v1.txt', 'eb07-v1.2-TXT/j12/kp-eb0712-059901-5589-v1.txt', 'eb07-v1.2-TXT/j12/kp-eb0712-061901-5849-v1.txt', 'eb07-v1.2-TXT/j12/kp-eb0712-061901-5849-v1.txt', 'eb07-v1.2-TXT/j12/kp-eb0712-062801-5966-v1.txt', 'eb07-v1.2-TXT/j12/kp-eb0712-063206-6018-v1.txt', 'eb07-v1.2-TXT/j12/kp-eb0712-064901-6239-v1.txt', 'eb07-v1.2-TXT/j12/kp-eb0712-065403-6304-v1.txt', 'eb07-v1.2-TXT/k12/kp-eb0712-065903-6369-v1.txt', 'eb07-v1.2-TXT/k12/kp-eb0712-066108-6395-v1.txt', 'eb07-v1.2-TXT/k12/kp-eb0712-067005-6512-v1.txt', 'eb07-v1.2-TXT/k12/kp-eb0712-067501-6577-v1.txt', 'eb07-v1.2-TXT/k12/kp-eb0712-068801-6746-v1.txt', 'eb07-v1.2-TXT/k12/kp-eb0712-068901-6759-v1.txt', 'eb07-v1.2-TXT/k12/kp-eb0712-069201-6798-v1.txt', 'eb07-v1.2-TXT/k12/kp-eb0712-070002-6902-v1.txt', 'eb07-v1.2-TXT/k12/kp-eb0712-070713-6993-v1.txt', 'eb07-v1.2-TXT/k12/kp-eb0712-071704-7123-v1.txt', 'eb07-v1.2-TXT/k12/kp-eb0712-072304-7201-v1.txt', 'eb07-v1.2-TXT/k12/kp-eb0712-072601-7240-v1.txt', 'eb07-v1.2-TXT/k12/kp-eb0712-073202-7318-v1.txt', 'eb07-v1.2-TXT/k12/kp-eb0712-073302-7331-v1.txt', 'eb07-v1.2-TXT/k12/kp-eb0712-073802-7396-v1.txt', 'eb07-v1.2-TXT/k12/kp-eb0712-074701-7513-v1.txt', 'eb07-v1.2-TXT/k12/kp-eb0712-074701-7513-v1.txt', 'eb07-v1.2-TXT/k12/kp-eb0712-075805-7656-v1.txt', 'eb07-v1.2-TXT/k12/kp-eb0712-076002-7682-v1.txt', 'eb07-v1.2-TXT/k12/kp-eb0712-076201-7708-v1.txt', 'eb07-v1.2-TXT/l13/kp-eb0713-000302-1444-v1.txt', 'eb07-v1.2-TXT/l13/kp-eb0713-000601-1483-v1.txt', 'eb07-v1.2-TXT/l13/kp-eb0713-001108-1548-v1.txt', 'eb07-v1.2-TXT/l13/kp-eb0713-001901-1652-v1.txt', 'eb07-v1.2-TXT/l13/kp-eb0713-002003-1665-v1.txt', 'eb07-v1.2-TXT/l13/kp-eb0713-002504-1730-v1.txt', 'eb07-v1.2-TXT/l13/kp-eb0713-002701-1756-v1.txt', 'eb07-v1.2-TXT/l13/kp-eb0713-003104-1808-v1.txt', 'eb07-v1.2-TXT/l13/kp-eb0713-003302-1834-v1.txt', 'eb07-v1.2-TXT/l13/kp-eb0713-004901-2042-v1.txt', 'eb07-v1.2-TXT/l13/kp-eb0713-005506-2120-v1.txt', 'eb07-v1.2-TXT/l13/kp-eb0713-009805-2679-v1.txt', 'eb07-v1.2-TXT/l13/kp-eb0713-011401-2887-v1.txt', 'eb07-v1.2-TXT/l13/kp-eb0713-011605-2913-v1.txt', 'eb07-v1.2-TXT/l13/kp-eb0713-012708-3056-v1.txt', 'eb07-v1.2-TXT/l13/kp-eb0713-015302-3394-v1.txt', 'eb07-v1.2-TXT/l13/kp-eb0713-015302-3394-v1.txt', 'eb07-v1.2-TXT/l13/kp-eb0713-020206-4031-v1.txt', 'eb07-v1.2-TXT/l13/kp-eb0713-020901-4122-v1.txt', 'eb07-v1.2-TXT/l13/kp-eb0713-021003-4135-v1.txt', 'eb07-v1.2-TXT/l13/kp-eb0713-022607-4361-v1.txt', 'eb07-v1.2-TXT/l13/kp-eb0713-023002-4413-v1.txt', 'eb07-v1.2-TXT/l13/kp-eb0713-023305-4452-v1.txt', 'eb07-v1.2-TXT/l13/kp-eb0713-024001-4543-v1.txt', 'eb07-v1.2-TXT/l13/kp-eb0713-024001-4543-v1.txt', 'eb07-v1.2-TXT/l13/kp-eb0713-025302-4712-v1.txt', 'eb07-v1.2-TXT/l13/kp-eb0713-026309-4842-v1.txt', 'eb07-v1.2-TXT/l13/kp-eb0713-026505-4868-v1.txt', 'eb07-v1.2-TXT/l13/kp-eb0713-027004-4933-v1.txt', 'eb07-v1.2-TXT/l13/kp-eb0713-032107-5596-v1.txt', 'eb07-v1.2-TXT/l13/kp-eb0713-034302-5882-v1.txt', 'eb07-v1.2-TXT/l13/kp-eb0713-034802-5947-v1.txt', 'eb07-v1.2-TXT/l13/kp-eb0713-035102-5986-v1.txt', 'eb07-v1.2-TXT/l13/kp-eb0713-035302-6012-v1.txt', 'eb07-v1.2-TXT/l13/kp-eb0713-036204-6129-v1.txt', 'eb07-v1.2-TXT/l13/kp-eb0713-036401-6155-v1.txt', 'eb07-v1.2-TXT/l13/kp-eb0713-036901-6220-v1.txt', 'eb07-v1.2-TXT/l13/kp-eb0713-037104-6246-v1.txt', 'eb07-v1.2-TXT/l13/kp-eb0713-037505-6298-v1.txt', 'eb07-v1.2-TXT/l13/kp-eb0713-037703-6324-v1.txt', 'eb07-v1.2-TXT/l13/kp-eb0713-040003-6623-v1.txt', 'eb07-v1.2-TXT/l13/kp-eb0713-040801-6727-v1.txt', 'eb07-v1.2-TXT/l13/kp-eb0713-056508-8768-v1.txt', 'eb07-v1.2-TXT/l13/kp-eb0713-056901-8820-v1.txt', 'eb07-v1.2-TXT/l13/kp-eb0713-057403-8885-v1.txt', 'eb07-v1.2-TXT/l13/kp-eb0713-057603-8911-v1.txt', 'eb07-v1.2-TXT/l13/kp-eb0713-057908-8950-v1.txt', 'eb07-v1.2-TXT/l13/kp-eb0713-058203-8989-v1.txt', 'eb07-v1.2-TXT/l13/kp-eb0713-058303-9002-v1.txt', 'eb07-v1.2-TXT/l13/kp-eb0713-058905-9080-v1.txt', 'eb07-v1.2-TXT/l13/kp-eb0713-059003-9093-v1.txt', 'eb07-v1.2-TXT/l13/kp-eb0713-059608-9171-v1.txt', 'eb07-v1.2-TXT/l13/kp-eb0713-059608-9171-v1.txt', 'eb07-v1.2-TXT/l13/kp-eb0713-059608-9171-v1.txt', 'eb07-v1.2-TXT/l13/kp-eb0713-060205-9249-v1.txt', 'eb07-v1.2-TXT/l13/kp-eb0713-061106-9366-v1.txt', 'eb07-v1.2-TXT/l13/kp-eb0713-061302-9392-v1.txt', 'eb07-v1.2-TXT/l13/kp-eb0713-061503-9418-v1.txt', 'eb07-v1.2-TXT/m13/kp-eb0713-064401-9795-v1.txt', 'eb07-v1.2-TXT/m13/kp-eb0713-065007-9873-v1.txt', 'eb07-v1.2-TXT/m13/kp-eb0713-065801-9977-v1.txt', 'eb07-v1.2-TXT/m13/kp-eb0713-067002-0133-v1.txt', 'eb07-v1.2-TXT/m13/kp-eb0713-067205-0159-v1.txt', 'eb07-v1.2-TXT/m13/kp-eb0713-067205-0159-v1.txt', 'eb07-v1.2-TXT/m13/kp-eb0713-067401-0185-v1.txt', 'eb07-v1.2-TXT/m13/kp-eb0713-067907-0250-v1.txt', 'eb07-v1.2-TXT/m14/kp-eb0714-004003-0342-v1.txt', 'eb07-v1.2-TXT/m14/kp-eb0714-004704-0433-v1.txt', 'eb07-v1.2-TXT/m14/kp-eb0714-004801-0446-v1.txt', 'eb07-v1.2-TXT/m14/kp-eb0714-004905-0459-v1.txt', 'eb07-v1.2-TXT/m14/kp-eb0714-005102-0485-v1.txt', 'eb07-v1.2-TXT/m14/kp-eb0714-005304-0511-v1.txt', 'eb07-v1.2-TXT/m14/kp-eb0714-005501-0537-v1.txt', 'eb07-v1.2-TXT/m14/kp-eb0714-006601-0680-v1.txt', 'eb07-v1.2-TXT/m14/kp-eb0714-006701-0693-v1.txt', 'eb07-v1.2-TXT/m14/kp-eb0714-007002-0732-v1.txt', 'eb07-v1.2-TXT/m14/kp-eb0714-023001-2812-v1.txt', 'eb07-v1.2-TXT/m14/kp-eb0714-023211-2838-v1.txt', 'eb07-v1.2-TXT/m14/kp-eb0714-023707-2903-v1.txt', 'eb07-v1.2-TXT/m14/kp-eb0714-024003-2942-v1.txt', 'eb07-v1.2-TXT/m14/kp-eb0714-024802-3046-v1.txt', 'eb07-v1.2-TXT/m14/kp-eb0714-024804-3046-v1.txt', 'eb07-v1.2-TXT/m14/kp-eb0714-025001-3072-v1.txt', 'eb07-v1.2-TXT/m14/kp-eb0714-025209-3098-v1.txt', 'eb07-v1.2-TXT/m14/kp-eb0714-025803-3176-v1.txt', 'eb07-v1.2-TXT/m14/kp-eb0714-026403-3254-v1.txt', 'eb07-v1.2-TXT/m14/kp-eb0714-027701-3423-v1.txt', 'eb07-v1.2-TXT/m14/kp-eb0714-030706-3813-v1.txt', 'eb07-v1.2-TXT/m14/kp-eb0714-031001-3852-v1.txt', 'eb07-v1.2-TXT/m14/kp-eb0714-032501-4047-v1.txt', 'eb07-v1.2-TXT/m14/kp-eb0714-032705-4073-v1.txt', 'eb07-v1.2-TXT/m14/kp-eb0714-032904-4099-v1.txt', 'eb07-v1.2-TXT/m14/kp-eb0714-033001-4112-v1.txt', 'eb07-v1.2-TXT/m14/kp-eb0714-033501-4177-v1.txt', 'eb07-v1.2-TXT/m14/kp-eb0714-034005-4242-v1.txt', 'eb07-v1.2-TXT/m14/kp-eb0714-046001-5802-v1.txt', 'eb07-v1.2-TXT/m14/kp-eb0714-046204-5828-v1.txt', 'eb07-v1.2-TXT/m14/kp-eb0714-048803-6166-v1.txt', 'eb07-v1.2-TXT/m14/kp-eb0714-053001-6712-v1.txt', 'eb07-v1.2-TXT/m14/kp-eb0714-053405-6764-v1.txt', 'eb07-v1.2-TXT/m14/kp-eb0714-053705-6803-v1.txt', 'eb07-v1.2-TXT/m14/kp-eb0714-054303-6881-v1.txt', 'eb07-v1.2-TXT/m14/kp-eb0714-054303-6881-v1.txt', 'eb07-v1.2-TXT/m14/kp-eb0714-055803-7076-v1.txt', 'eb07-v1.2-TXT/m14/kp-eb0714-056003-7102-v1.txt', 'eb07-v1.2-TXT/m14/kp-eb0714-059105-7505-v1.txt', 'eb07-v1.2-TXT/m14/kp-eb0714-059307-7531-v1.txt', 'eb07-v1.2-TXT/m14/kp-eb0714-070201-8948-v1.txt', 'eb07-v1.2-TXT/m14/kp-eb0714-071701-9143-v1.txt', 'eb07-v1.2-TXT/m14/kp-eb0714-075510-9637-v1.txt', 'eb07-v1.2-TXT/m15/kp-eb0715-000204-9235-v1.txt', 'eb07-v1.2-TXT/m15/kp-eb0715-000411-9261-v1.txt', 'eb07-v1.2-TXT/m15/kp-eb0715-006306-0028-v1.txt', 'eb07-v1.2-TXT/m15/kp-eb0715-006605-0067-v1.txt', 'eb07-v1.2-TXT/m15/kp-eb0715-007701-0210-v1.txt', 'eb07-v1.2-TXT/m15/kp-eb0715-008001-0249-v1.txt', 'eb07-v1.2-TXT/m15/kp-eb0715-008403-0301-v1.txt', 'eb07-v1.2-TXT/m15/kp-eb0715-028206-2875-v1.txt', 'eb07-v1.2-TXT/m15/kp-eb0715-028407-2901-v1.txt', 'eb07-v1.2-TXT/m15/kp-eb0715-029302-3018-v1.txt', 'eb07-v1.2-TXT/m15/kp-eb0715-029815-3083-v1.txt', 'eb07-v1.2-TXT/m15/kp-eb0715-030801-3213-v1.txt', 'eb07-v1.2-TXT/m15/kp-eb0715-031004-3239-v1.txt', 'eb07-v1.2-TXT/m15/kp-eb0715-031106-3252-v1.txt', 'eb07-v1.2-TXT/m15/kp-eb0715-031301-3278-v1.txt', 'eb07-v1.2-TXT/m15/kp-eb0715-032102-3382-v1.txt', 'eb07-v1.2-TXT/m15/kp-eb0715-037904-4136-v1.txt', 'eb07-v1.2-TXT/m15/kp-eb0715-041304-4578-v1.txt', 'eb07-v1.2-TXT/m15/kp-eb0715-041505-4604-v1.txt', 'eb07-v1.2-TXT/m15/kp-eb0715-041702-4630-v1.txt', 'eb07-v1.2-TXT/m15/kp-eb0715-041914-4656-v1.txt', 'eb07-v1.2-TXT/m15/kp-eb0715-042105-4682-v1.txt', 'eb07-v1.2-TXT/m15/kp-eb0715-042301-4708-v1.txt', 'eb07-v1.2-TXT/m15/kp-eb0715-042501-4734-v1.txt', 'eb07-v1.2-TXT/m15/kp-eb0715-043304-4838-v1.txt', 'eb07-v1.2-TXT/m15/kp-eb0715-043502-4864-v1.txt', 'eb07-v1.2-TXT/m15/kp-eb0715-043703-4890-v1.txt', 'eb07-v1.2-TXT/m15/kp-eb0715-043803-4903-v1.txt', 'eb07-v1.2-TXT/m15/kp-eb0715-043901-4916-v1.txt', 'eb07-v1.2-TXT/m15/kp-eb0715-044104-4942-v1.txt', 'eb07-v1.2-TXT/m15/kp-eb0715-044301-4968-v1.txt', 'eb07-v1.2-TXT/m15/kp-eb0715-044901-5046-v1.txt', 'eb07-v1.2-TXT/m15/kp-eb0715-045001-5059-v1.txt', 'eb07-v1.2-TXT/m15/kp-eb0715-049003-5579-v1.txt', 'eb07-v1.2-TXT/m15/kp-eb0715-049101-5592-v1.txt', 'eb07-v1.2-TXT/m15/kp-eb0715-049301-5618-v1.txt', 'eb07-v1.2-TXT/m15/kp-eb0715-049301-5618-v1.txt', 'eb07-v1.2-TXT/m15/kp-eb0715-049502-5644-v1.txt', 'eb07-v1.2-TXT/m15/kp-eb0715-049802-5683-v1.txt', 'eb07-v1.2-TXT/m15/kp-eb0715-051301-5878-v1.txt', 'eb07-v1.2-TXT/m15/kp-eb0715-056301-6528-v1.txt', 'eb07-v1.2-TXT/m15/kp-eb0715-056803-6593-v1.txt', 'eb07-v1.2-TXT/m15/kp-eb0715-057001-6619-v1.txt', 'eb07-v1.2-TXT/m15/kp-eb0715-057202-6645-v1.txt', 'eb07-v1.2-TXT/m15/kp-eb0715-058108-6762-v1.txt', 'eb07-v1.2-TXT/m15/kp-eb0715-058302-6788-v1.txt', 'eb07-v1.2-TXT/m15/kp-eb0715-058507-6814-v1.txt', 'eb07-v1.2-TXT/m15/kp-eb0715-058811-6853-v1.txt', 'eb07-v1.2-TXT/m15/kp-eb0715-059214-6905-v1.txt', 'eb07-v1.2-TXT/m15/kp-eb0715-059405-6931-v1.txt', 'eb07-v1.2-TXT/m15/kp-eb0715-059601-6957-v1.txt', 'eb07-v1.2-TXT/m15/kp-eb0715-059803-6983-v1.txt', 'eb07-v1.2-TXT/m15/kp-eb0715-064708-7620-v1.txt', 'eb07-v1.2-TXT/m15/kp-eb0715-064811-7633-v1.txt', 'eb07-v1.2-TXT/m15/kp-eb0715-065611-7737-v1.txt', 'eb07-v1.2-TXT/n15/kp-eb0715-068701-8140-v1.txt', 'eb07-v1.2-TXT/n15/kp-eb0715-068806-8153-v1.txt', 'eb07-v1.2-TXT/n15/kp-eb0715-069111-8192-v1.txt', 'eb07-v1.2-TXT/n15/kp-eb0715-073605-8777-v1.txt', 'eb07-v1.2-TXT/n15/kp-eb0715-073804-8803-v1.txt', 'eb07-v1.2-TXT/n15/kp-eb0715-074301-8868-v1.txt', 'eb07-v1.2-TXT/n16/kp-eb0716-000101-6878-v1.txt', 'eb07-v1.2-TXT/n16/kp-eb0716-006707-7736-v1.txt', 'eb07-v1.2-TXT/n16/kp-eb0716-007001-7775-v1.txt', 'eb07-v1.2-TXT/n16/kp-eb0716-007203-7801-v1.txt', 'eb07-v1.2-TXT/n16/kp-eb0716-007801-7879-v1.txt', 'eb07-v1.2-TXT/n16/kp-eb0716-008003-7905-v1.txt', 'eb07-v1.2-TXT/n16/kp-eb0716-008105-7918-v1.txt', 'eb07-v1.2-TXT/n16/kp-eb0716-010206-8191-v1.txt', 'eb07-v1.2-TXT/n16/kp-eb0716-015601-8893-v1.txt', 'eb07-v1.2-TXT/n16/kp-eb0716-017502-9140-v1.txt', 'eb07-v1.2-TXT/n16/kp-eb0716-017502-9140-v1.txt', 'eb07-v1.2-TXT/n16/kp-eb0716-019702-9426-v1.txt', 'eb07-v1.2-TXT/n16/kp-eb0716-019805-9439-v1.txt', 'eb07-v1.2-TXT/n16/kp-eb0716-020002-9465-v1.txt', 'eb07-v1.2-TXT/n16/kp-eb0716-020302-9504-v1.txt', 'eb07-v1.2-TXT/n16/kp-eb0716-020808-9569-v1.txt', 'eb07-v1.2-TXT/n16/kp-eb0716-022904-9842-v1.txt', 'eb07-v1.2-TXT/n16/kp-eb0716-023504-9920-v1.txt', 'eb07-v1.2-TXT/n16/kp-eb0716-023717-9946-v1.txt', 'eb07-v1.2-TXT/n16/kp-eb0716-025001-0115-v1.txt', 'eb07-v1.2-TXT/n16/kp-eb0716-025101-0128-v1.txt', 'eb07-v1.2-TXT/n16/kp-eb0716-025304-0154-v1.txt', 'eb07-v1.2-TXT/n16/kp-eb0716-027801-0479-v1.txt', 'eb07-v1.2-TXT/n16/kp-eb0716-028004-0505-v1.txt', 'eb07-v1.2-TXT/n16/kp-eb0716-028201-0531-v1.txt', 'eb07-v1.2-TXT/n16/kp-eb0716-029002-0635-v1.txt', 'eb07-v1.2-TXT/n16/kp-eb0716-029905-0752-v1.txt', 'eb07-v1.2-TXT/o16/kp-eb0716-031402-0947-v1.txt', 'eb07-v1.2-TXT/o16/kp-eb0716-031508-0960-v1.txt', 'eb07-v1.2-TXT/o16/kp-eb0716-032108-1038-v1.txt', 'eb07-v1.2-TXT/o16/kp-eb0716-033804-1259-v1.txt', 'eb07-v1.2-TXT/o16/kp-eb0716-034208-1311-v1.txt', 'eb07-v1.2-TXT/o16/kp-eb0716-034503-1350-v1.txt', 'eb07-v1.2-TXT/o16/kp-eb0716-034602-1363-v1.txt', 'eb07-v1.2-TXT/o16/kp-eb0716-052307-3664-v1.txt', 'eb07-v1.2-TXT/o16/kp-eb0716-052801-3729-v1.txt', 'eb07-v1.2-TXT/o16/kp-eb0716-053502-3820-v1.txt', 'eb07-v1.2-TXT/o16/kp-eb0716-053605-3833-v1.txt', 'eb07-v1.2-TXT/o16/kp-eb0716-053804-3859-v1.txt', 'eb07-v1.2-TXT/o16/kp-eb0716-054202-3911-v1.txt', 'eb07-v1.2-TXT/o16/kp-eb0716-054304-3924-v1.txt', 'eb07-v1.2-TXT/o16/kp-eb0716-065405-5368-v1.txt', 'eb07-v1.2-TXT/o16/kp-eb0716-065601-5394-v1.txt', 'eb07-v1.2-TXT/o16/kp-eb0716-066801-5550-v1.txt', 'eb07-v1.2-TXT/o16/kp-eb0716-067010-5576-v1.txt', 'eb07-v1.2-TXT/o16/kp-eb0716-067204-5602-v1.txt', 'eb07-v1.2-TXT/o16/kp-eb0716-067402-5629-v1.txt', 'eb07-v1.2-TXT/o16/kp-eb0716-067908-5694-v1.txt', 'eb07-v1.2-TXT/o16/kp-eb0716-068601-5785-v1.txt', 'eb07-v1.2-TXT/o16/kp-eb0716-068702-5798-v1.txt', 'eb07-v1.2-TXT/o16/kp-eb0716-068809-5811-v1.txt', 'eb07-v1.2-TXT/p16/kp-eb0716-076002-6753-v1.txt', 'eb07-v1.2-TXT/p16/kp-eb0716-076910-6871-v1.txt', 'eb07-v1.2-TXT/p16/kp-eb0716-077101-6897-v1.txt', 'eb07-v1.2-TXT/p16/kp-eb0716-077814-6988-v1.txt', 'eb07-v1.2-TXT/p16/kp-eb0716-078001-7014-v1.txt', 'eb07-v1.2-TXT/p16/kp-eb0716-078102-7027-v1.txt', 'eb07-v1.2-TXT/p16/kp-eb0716-079101-7159-v1.txt', 'eb07-v1.2-TXT/p17/kp-eb0717-000101-1100-v1.txt', 'eb07-v1.2-TXT/p17/kp-eb0717-001901-1334-v1.txt', 'eb07-v1.2-TXT/p17/kp-eb0717-004811-1711-v1.txt', 'eb07-v1.2-TXT/p17/kp-eb0717-005403-1789-v1.txt', 'eb07-v1.2-TXT/p17/kp-eb0717-006601-1945-v1.txt', 'eb07-v1.2-TXT/p17/kp-eb0717-006806-1971-v1.txt', 'eb07-v1.2-TXT/p17/kp-eb0717-007004-1997-v1.txt', 'eb07-v1.2-TXT/p17/kp-eb0717-008302-2166-v1.txt', 'eb07-v1.2-TXT/p17/kp-eb0717-009306-2296-v1.txt', 'eb07-v1.2-TXT/p17/kp-eb0717-009306-2296-v1.txt', 'eb07-v1.2-TXT/p17/kp-eb0717-010703-2478-v1.txt', 'eb07-v1.2-TXT/p17/kp-eb0717-011101-2530-v1.txt', 'eb07-v1.2-TXT/p17/kp-eb0717-011206-2543-v1.txt', 'eb07-v1.2-TXT/p17/kp-eb0717-012101-2660-v1.txt', 'eb07-v1.2-TXT/p17/kp-eb0717-014002-2907-v1.txt', 'eb07-v1.2-TXT/p17/kp-eb0717-014203-2933-v1.txt', 'eb07-v1.2-TXT/p17/kp-eb0717-015901-3154-v1.txt', 'eb07-v1.2-TXT/p17/kp-eb0717-016503-3232-v1.txt', 'eb07-v1.2-TXT/p17/kp-eb0717-016901-3284-v1.txt', 'eb07-v1.2-TXT/p17/kp-eb0717-017110-3310-v1.txt', 'eb07-v1.2-TXT/p17/kp-eb0717-017404-3349-v1.txt', 'eb07-v1.2-TXT/p17/kp-eb0717-017502-3362-v1.txt', 'eb07-v1.2-TXT/p17/kp-eb0717-017606-3375-v1.txt', 'eb07-v1.2-TXT/p17/kp-eb0717-017906-3414-v1.txt', 'eb07-v1.2-TXT/p17/kp-eb0717-018212-3453-v1.txt', 'eb07-v1.2-TXT/p17/kp-eb0717-021903-3934-v1.txt', 'eb07-v1.2-TXT/p17/kp-eb0717-023109-4090-v1.txt', 'eb07-v1.2-TXT/p17/kp-eb0717-023601-4155-v1.txt', 'eb07-v1.2-TXT/p17/kp-eb0717-023807-4181-v1.txt', 'eb07-v1.2-TXT/p17/kp-eb0717-031402-5169-v1.txt', 'eb07-v1.2-TXT/p17/kp-eb0717-031501-5182-v1.txt', 'eb07-v1.2-TXT/p17/kp-eb0717-032404-5299-v1.txt', 'eb07-v1.2-TXT/p17/kp-eb0717-033102-5390-v1.txt', 'eb07-v1.2-TXT/p17/kp-eb0717-033306-5416-v1.txt', 'eb07-v1.2-TXT/p17/kp-eb0717-033902-5494-v1.txt', 'eb07-v1.2-TXT/p17/kp-eb0717-034205-5533-v1.txt', 'eb07-v1.2-TXT/p17/kp-eb0717-034503-5572-v1.txt', 'eb07-v1.2-TXT/p17/kp-eb0717-034703-5598-v1.txt', 'eb07-v1.2-TXT/p17/kp-eb0717-035001-5637-v1.txt', 'eb07-v1.2-TXT/p17/kp-eb0717-042403-6599-v1.txt', 'eb07-v1.2-TXT/p17/kp-eb0717-044803-6911-v1.txt', 'eb07-v1.2-TXT/p17/kp-eb0717-045004-6937-v1.txt', 'eb07-v1.2-TXT/p17/kp-eb0717-047401-7249-v1.txt', 'eb07-v1.2-TXT/p17/kp-eb0717-047603-7275-v1.txt', 'eb07-v1.2-TXT/p17/kp-eb0717-057501-8562-v1.txt', 'eb07-v1.2-TXT/p17/kp-eb0717-073402-0629-v1.txt', 'eb07-v1.2-TXT/p17/kp-eb0717-073507-0642-v1.txt', 'eb07-v1.2-TXT/p17/kp-eb0717-073808-0681-v1.txt', 'eb07-v1.2-TXT/p17/kp-eb0717-074114-0720-v1.txt', 'eb07-v1.2-TXT/p17/kp-eb0717-074615-0785-v1.txt', 'eb07-v1.2-TXT/p17/kp-eb0717-074903-0824-v1.txt', 'eb07-v1.2-TXT/p17/kp-eb0717-075205-0863-v1.txt', 'eb07-v1.2-TXT/p17/kp-eb0717-075905-0954-v1.txt', 'eb07-v1.2-TXT/p17/kp-eb0717-077102-1110-v1.txt', 'eb07-v1.2-TXT/p17/kp-eb0717-079701-1448-v1.txt', 'eb07-v1.2-TXT/p18/kp-eb0718-000101-2336-v1.txt', 'eb07-v1.2-TXT/p18/kp-eb0718-004203-2869-v1.txt', 'eb07-v1.2-TXT/p18/kp-eb0718-004401-2895-v1.txt', 'eb07-v1.2-TXT/p18/kp-eb0718-005803-3077-v1.txt', 'eb07-v1.2-TXT/p18/kp-eb0718-006004-3103-v1.txt', 'eb07-v1.2-TXT/p18/kp-eb0718-006203-3129-v1.txt', 'eb07-v1.2-TXT/p18/kp-eb0718-013901-4130-v1.txt', 'eb07-v1.2-TXT/p18/kp-eb0718-030902-6340-v1.txt', 'eb07-v1.2-TXT/p18/kp-eb0718-031001-6353-v1.txt', 'eb07-v1.2-TXT/p18/kp-eb0718-036407-7055-v1.txt', 'eb07-v1.2-TXT/p18/kp-eb0718-038809-7367-v1.txt', 'eb07-v1.2-TXT/p18/kp-eb0718-039101-7406-v1.txt', 'eb07-v1.2-TXT/p18/kp-eb0718-040502-7588-v1.txt', 'eb07-v1.2-TXT/p18/kp-eb0718-045310-8264-v1.txt', 'eb07-v1.2-TXT/p18/kp-eb0718-045510-8290-v1.txt', 'eb07-v1.2-TXT/p18/kp-eb0718-045702-8316-v1.txt', 'eb07-v1.2-TXT/p18/kp-eb0718-045904-8342-v1.txt', 'eb07-v1.2-TXT/p18/kp-eb0718-048305-8654-v1.txt', 'eb07-v1.2-TXT/p18/kp-eb0718-048601-8693-v1.txt', 'eb07-v1.2-TXT/p18/kp-eb0718-050003-8875-v1.txt', 'eb07-v1.2-TXT/p18/kp-eb0718-050304-8914-v1.txt', 'eb07-v1.2-TXT/p18/kp-eb0718-050405-8927-v1.txt', 'eb07-v1.2-TXT/p18/kp-eb0718-051403-9057-v1.txt', 'eb07-v1.2-TXT/p18/kp-eb0718-051606-9083-v1.txt', 'eb07-v1.2-TXT/p18/kp-eb0718-052305-9174-v1.txt', 'eb07-v1.2-TXT/p18/kp-eb0718-053102-9278-v1.txt', 'eb07-v1.2-TXT/p18/kp-eb0718-053402-9317-v1.txt', 'eb07-v1.2-TXT/p18/kp-eb0718-065910-0942-v1.txt', 'eb07-v1.2-TXT/p18/kp-eb0718-065910-0942-v1.txt', 'eb07-v1.2-TXT/p18/kp-eb0718-070405-1527-v1.txt', 'eb07-v1.2-TXT/p18/kp-eb0718-072902-1852-v1.txt', 'eb07-v1.2-TXT/p18/kp-eb0718-073101-1878-v1.txt', 'eb07-v1.2-TXT/p18/kp-eb0718-073902-1982-v1.txt', 'eb07-v1.2-TXT/p18/kp-eb0718-074210-2021-v1.txt', 'eb07-v1.2-TXT/p18/kp-eb0718-074509-2060-v1.txt', 'eb07-v1.2-TXT/p18/kp-eb0718-075602-2203-v1.txt', 'eb07-v1.2-TXT/p18/kp-eb0718-075902-2242-v1.txt', 'eb07-v1.2-TXT/q18/kp-eb0718-076302-2294-v1.txt', 'eb07-v1.2-TXT/q18/kp-eb0718-077301-2424-v1.txt', 'eb07-v1.2-TXT/q18/kp-eb0718-078207-2541-v1.txt', 'eb07-v1.2-TXT/q18/kp-eb0718-078504-2580-v1.txt', 'eb07-v1.2-TXT/q18/kp-eb0718-078805-2619-v1.txt', 'eb07-v1.2-TXT/q18/kp-eb0718-079405-2697-v1.txt', 'eb07-v1.2-TXT/q18/kp-eb0718-079607-2723-v1.txt', 'eb07-v1.2-TXT/q18/kp-eb0718-079607-2723-v1.txt', 'eb07-v1.2-TXT/r19/kp-eb0719-000108-0011-v1.txt', 'eb07-v1.2-TXT/r19/kp-eb0719-000506-0015-v1.txt', 'eb07-v1.2-TXT/r19/kp-eb0719-000506-0015-v1.txt', 'eb07-v1.2-TXT/r19/kp-eb0719-000805-0018-v1.txt', 'eb07-v1.2-TXT/r19/kp-eb0719-001103-0021-v1.txt', 'eb07-v1.2-TXT/r19/kp-eb0719-005901-0069-v1.txt', 'eb07-v1.2-TXT/r19/kp-eb0719-006202-0072-v1.txt', 'eb07-v1.2-TXT/r19/kp-eb0719-006306-0073-v1.txt', 'eb07-v1.2-TXT/r19/kp-eb0719-006602-0076-v1.txt', 'eb07-v1.2-TXT/r19/kp-eb0719-006906-0079-v1.txt', 'eb07-v1.2-TXT/r19/kp-eb0719-007211-0082-v1.txt', 'eb07-v1.2-TXT/r19/kp-eb0719-007906-0089-v1.txt', 'eb07-v1.2-TXT/r19/kp-eb0719-008009-0090-v1.txt', 'eb07-v1.2-TXT/r19/kp-eb0719-008309-0093-v1.txt', 'eb07-v1.2-TXT/r19/kp-eb0719-008509-0095-v1.txt', 'eb07-v1.2-TXT/r19/kp-eb0719-009807-0108-v1.txt', 'eb07-v1.2-TXT/r19/kp-eb0719-010505-0115-v1.txt', 'eb07-v1.2-TXT/r19/kp-eb0719-011701-0127-v1.txt', 'eb07-v1.2-TXT/r19/kp-eb0719-011806-0128-v1.txt', 'eb07-v1.2-TXT/r19/kp-eb0719-012002-0130-v1.txt', 'eb07-v1.2-TXT/r19/kp-eb0719-016501-0175-v1.txt', 'eb07-v1.2-TXT/r19/kp-eb0719-019504-0205-v1.txt', 'eb07-v1.2-TXT/r19/kp-eb0719-022202-0232-v1.txt', 'eb07-v1.2-TXT/r19/kp-eb0719-022301-0233-v1.txt', 'eb07-v1.2-TXT/r19/kp-eb0719-022911-0239-v1.txt', 'eb07-v1.2-TXT/r19/kp-eb0719-023402-0244-v1.txt', 'eb07-v1.2-TXT/r19/kp-eb0719-023501-0245-v1.txt', 'eb07-v1.2-TXT/r19/kp-eb0719-024001-0250-v1.txt', 'eb07-v1.2-TXT/r19/kp-eb0719-024205-0252-v1.txt', 'eb07-v1.2-TXT/r19/kp-eb0719-024406-0254-v1.txt', 'eb07-v1.2-TXT/r19/kp-eb0719-029404-0304-v1.txt', 'eb07-v1.2-TXT/r19/kp-eb0719-030005-0310-v1.txt', 'eb07-v1.2-TXT/r19/kp-eb0719-030302-0313-v1.txt', 'eb07-v1.2-TXT/r19/kp-eb0719-030903-0319-v1.txt', 'eb07-v1.2-TXT/r19/kp-eb0719-031304-0323-v1.txt', 'eb07-v1.2-TXT/r19/kp-eb0719-031503-0325-v1.txt', 'eb07-v1.2-TXT/r19/kp-eb0719-043702-0449-v1.txt', 'eb07-v1.2-TXT/r19/kp-eb0719-045805-0470-v1.txt', 'eb07-v1.2-TXT/r19/kp-eb0719-047202-0484-v1.txt', 'eb07-v1.2-TXT/r19/kp-eb0719-048302-0495-v1.txt', 'eb07-v1.2-TXT/r19/kp-eb0719-050605-0518-v1.txt', 'eb07-v1.2-TXT/r19/kp-eb0719-051407-0526-v1.txt', 'eb07-v1.2-TXT/r19/kp-eb0719-051609-0528-v1.txt', 'eb07-v1.2-TXT/r19/kp-eb0719-052102-0533-v1.txt', 'eb07-v1.2-TXT/r19/kp-eb0719-052303-0535-v1.txt', 'eb07-v1.2-TXT/r19/kp-eb0719-052502-0537-v1.txt', 'eb07-v1.2-TXT/s19/kp-eb0719-060704-0661-v1.txt', 'eb07-v1.2-TXT/s19/kp-eb0719-061006-0664-v1.txt', 'eb07-v1.2-TXT/s19/kp-eb0719-061205-0666-v1.txt', 'eb07-v1.2-TXT/s19/kp-eb0719-061501-0669-v1.txt', 'eb07-v1.2-TXT/s19/kp-eb0719-062103-0675-v1.txt', 'eb07-v1.2-TXT/s19/kp-eb0719-062705-0681-v1.txt', 'eb07-v1.2-TXT/s19/kp-eb0719-063102-0685-v1.txt', 'eb07-v1.2-TXT/s19/kp-eb0719-063505-0689-v1.txt', 'eb07-v1.2-TXT/s19/kp-eb0719-064105-0695-v1.txt', 'eb07-v1.2-TXT/s19/kp-eb0719-064206-0696-v1.txt', 'eb07-v1.2-TXT/s19/kp-eb0719-065315-0707-v1.txt', 'eb07-v1.2-TXT/s19/kp-eb0719-065315-0707-v1.txt', 'eb07-v1.2-TXT/s19/kp-eb0719-065501-0709-v1.txt', 'eb07-v1.2-TXT/s19/kp-eb0719-065701-0711-v1.txt', 'eb07-v1.2-TXT/s19/kp-eb0719-065804-0712-v1.txt', 'eb07-v1.2-TXT/s19/kp-eb0719-066201-0716-v1.txt', 'eb07-v1.2-TXT/s19/kp-eb0719-066206-0718-v1.txt', 'eb07-v1.2-TXT/s19/kp-eb0719-066403-0720-v1.txt', 'eb07-v1.2-TXT/s19/kp-eb0719-066501-0721-v1.txt', 'eb07-v1.2-TXT/s19/kp-eb0719-067205-0728-v1.txt', 'eb07-v1.2-TXT/s19/kp-eb0719-067505-0731-v1.txt', 'eb07-v1.2-TXT/s19/kp-eb0719-067604-0732-v1.txt', 'eb07-v1.2-TXT/s19/kp-eb0719-067811-0734-v1.txt', 'eb07-v1.2-TXT/s19/kp-eb0719-068009-0736-v1.txt', 'eb07-v1.2-TXT/s19/kp-eb0719-068507-0741-v1.txt', 'eb07-v1.2-TXT/s19/kp-eb0719-068807-0744-v1.txt', 'eb07-v1.2-TXT/s19/kp-eb0719-069107-0747-v1.txt', 'eb07-v1.2-TXT/s19/kp-eb0719-077101-0835-v1.txt', 'eb07-v1.2-TXT/s19/kp-eb0719-077805-0842-v1.txt', 'eb07-v1.2-TXT/s19/kp-eb0719-078001-0844-v1.txt', 'eb07-v1.2-TXT/s20/kp-eb0720-006803-0082-v1.txt', 'eb07-v1.2-TXT/s20/kp-eb0720-007002-0084-v1.txt', 'eb07-v1.2-TXT/s20/kp-eb0720-007204-0086-v1.txt', 'eb07-v1.2-TXT/s20/kp-eb0720-007405-0088-v1.txt', 'eb07-v1.2-TXT/s20/kp-eb0720-007710-0091-v1.txt', 'eb07-v1.2-TXT/s20/kp-eb0720-007801-0092-v1.txt', 'eb07-v1.2-TXT/s20/kp-eb0720-008107-0095-v1.txt', 'eb07-v1.2-TXT/s20/kp-eb0720-008305-0097-v1.txt', 'eb07-v1.2-TXT/s20/kp-eb0720-009103-0105-v1.txt', 'eb07-v1.2-TXT/s20/kp-eb0720-009202-0106-v1.txt', 'eb07-v1.2-TXT/s20/kp-eb0720-009606-0110-v1.txt', 'eb07-v1.2-TXT/s20/kp-eb0720-010001-0114-v1.txt', 'eb07-v1.2-TXT/s20/kp-eb0720-010308-0117-v1.txt', 'eb07-v1.2-TXT/s20/kp-eb0720-011901-0133-v1.txt', 'eb07-v1.2-TXT/s20/kp-eb0720-012001-0134-v1.txt', 'eb07-v1.2-TXT/s20/kp-eb0720-015703-0175-v1.txt', 'eb07-v1.2-TXT/s20/kp-eb0720-016104-0179-v1.txt', 'eb07-v1.2-TXT/s20/kp-eb0720-016302-0181-v1.txt', 'eb07-v1.2-TXT/s20/kp-eb0720-018904-0207-v1.txt', 'eb07-v1.2-TXT/s20/kp-eb0720-019004-0208-v1.txt', 'eb07-v1.2-TXT/s20/kp-eb0720-019204-0210-v1.txt', 'eb07-v1.2-TXT/s20/kp-eb0720-020002-0218-v1.txt', 'eb07-v1.2-TXT/s20/kp-eb0720-020508-0223-v1.txt', 'eb07-v1.2-TXT/s20/kp-eb0720-020801-0226-v1.txt', 'eb07-v1.2-TXT/s20/kp-eb0720-029702-0355-v1.txt', 'eb07-v1.2-TXT/s20/kp-eb0720-033004-0392-v1.txt', 'eb07-v1.2-TXT/s20/kp-eb0720-033105-0393-v1.txt', 'eb07-v1.2-TXT/s20/kp-eb0720-033904-0401-v1.txt', 'eb07-v1.2-TXT/s20/kp-eb0720-035408-0416-v1.txt', 'eb07-v1.2-TXT/s20/kp-eb0720-035701-0419-v1.txt', 'eb07-v1.2-TXT/s20/kp-eb0720-036605-0428-v1.txt', 'eb07-v1.2-TXT/s20/kp-eb0720-037103-0433-v1.txt', 'eb07-v1.2-TXT/s20/kp-eb0720-037303-0435-v1.txt', 'eb07-v1.2-TXT/s20/kp-eb0720-037501-0437-v1.txt', 'eb07-v1.2-TXT/s20/kp-eb0720-037701-0439-v1.txt', 'eb07-v1.2-TXT/s20/kp-eb0720-038003-0442-v1.txt', 'eb07-v1.2-TXT/s20/kp-eb0720-039504-0457-v1.txt', 'eb07-v1.2-TXT/s20/kp-eb0720-039904-0461-v1.txt', 'eb07-v1.2-TXT/s20/kp-eb0720-040002-0462-v1.txt', 'eb07-v1.2-TXT/s20/kp-eb0720-040601-0468-v1.txt', 'eb07-v1.2-TXT/s20/kp-eb0720-041401-0480-v1.txt', 'eb07-v1.2-TXT/s20/kp-eb0720-042502-0491-v1.txt', 'eb07-v1.2-TXT/s20/kp-eb0720-042901-0495-v1.txt', 'eb07-v1.2-TXT/s20/kp-eb0720-043006-0496-v1.txt', 'eb07-v1.2-TXT/s20/kp-eb0720-043206-0498-v1.txt', 'eb07-v1.2-TXT/s20/kp-eb0720-043401-0500-v1.txt', 'eb07-v1.2-TXT/s20/kp-eb0720-047410-0540-v1.txt', 'eb07-v1.2-TXT/s20/kp-eb0720-047605-0542-v1.txt', 'eb07-v1.2-TXT/s20/kp-eb0720-048705-0553-v1.txt', 'eb07-v1.2-TXT/s20/kp-eb0720-052303-0597-v1.txt', 'eb07-v1.2-TXT/s20/kp-eb0720-053302-0607-v1.txt', 'eb07-v1.2-TXT/s20/kp-eb0720-055102-0631-v1.txt', 'eb07-v1.2-TXT/s20/kp-eb0720-055607-0636-v1.txt', 'eb07-v1.2-TXT/s20/kp-eb0720-055702-0637-v1.txt', 'eb07-v1.2-TXT/s20/kp-eb0720-056013-0640-v1.txt', 'eb07-v1.2-TXT/s20/kp-eb0720-056407-0644-v1.txt', 'eb07-v1.2-TXT/s20/kp-eb0720-061001-0690-v1.txt', 'eb07-v1.2-TXT/s20/kp-eb0720-061001-0690-v1.txt', 'eb07-v1.2-TXT/s20/kp-eb0720-071301-0857-v1.txt', 'eb07-v1.2-TXT/s20/kp-eb0720-071905-0865-v1.txt', 'eb07-v1.2-TXT/s20/kp-eb0720-072301-0869-v1.txt', 'eb07-v1.2-TXT/s20/kp-eb0720-072301-0869-v1.txt', 'eb07-v1.2-TXT/s20/kp-eb0720-072706-0873-v1.txt', 'eb07-v1.2-TXT/s20/kp-eb0720-073602-0882-v1.txt', 'eb07-v1.2-TXT/s20/kp-eb0720-074506-0891-v1.txt', 'eb07-v1.2-TXT/s20/kp-eb0720-074808-0894-v1.txt', 'eb07-v1.2-TXT/s20/kp-eb0720-078004-0926-v1.txt', 'eb07-v1.2-TXT/s20/kp-eb0720-078901-0935-v1.txt', 'eb07-v1.2-TXT/s20/kp-eb0720-079704-0943-v1.txt', 'eb07-v1.2-TXT/s20/kp-eb0720-081103-0957-v1.txt', 'eb07-v1.2-TXT/s20/kp-eb0720-084701-0993-v1.txt', 'eb07-v1.2-TXT/s21/kp-eb0721-000705-0017-v1.txt', 'eb07-v1.2-TXT/s21/kp-eb0721-001003-0020-v1.txt', 'eb07-v1.2-TXT/s21/kp-eb0721-003201-0046-v1.txt', 'eb07-v1.2-TXT/s21/kp-eb0721-003402-0048-v1.txt', 'eb07-v1.2-TXT/t21/kp-eb0721-006708-0085-v1.txt', 'eb07-v1.2-TXT/t21/kp-eb0721-007804-0096-v1.txt', 'eb07-v1.2-TXT/t21/kp-eb0721-008710-0105-v1.txt', 'eb07-v1.2-TXT/t21/kp-eb0721-009106-0109-v1.txt', 'eb07-v1.2-TXT/t21/kp-eb0721-012403-0142-v1.txt', 'eb07-v1.2-TXT/t21/kp-eb0721-012403-0142-v1.txt', 'eb07-v1.2-TXT/t21/kp-eb0721-012403-0142-v1.txt', 'eb07-v1.2-TXT/t21/kp-eb0721-013420-0152-v1.txt', 'eb07-v1.2-TXT/t21/kp-eb0721-017002-0188-v1.txt', 'eb07-v1.2-TXT/t21/kp-eb0721-017404-0192-v1.txt', 'eb07-v1.2-TXT/t21/kp-eb0721-017501-0193-v1.txt', 'eb07-v1.2-TXT/t21/kp-eb0721-017701-0195-v1.txt', 'eb07-v1.2-TXT/t21/kp-eb0721-017910-0197-v1.txt', 'eb07-v1.2-TXT/t21/kp-eb0721-024407-0264-v1.txt', 'eb07-v1.2-TXT/t21/kp-eb0721-024502-0265-v1.txt', 'eb07-v1.2-TXT/t21/kp-eb0721-024801-0268-v1.txt', 'eb07-v1.2-TXT/t21/kp-eb0721-031809-0338-v1.txt', 'eb07-v1.2-TXT/t21/kp-eb0721-032201-0342-v1.txt', 'eb07-v1.2-TXT/t21/kp-eb0721-032402-0344-v1.txt', 'eb07-v1.2-TXT/t21/kp-eb0721-033415-0354-v1.txt', 'eb07-v1.2-TXT/t21/kp-eb0721-034506-0365-v1.txt', 'eb07-v1.2-TXT/t21/kp-eb0721-037701-0397-v1.txt', 'eb07-v1.2-TXT/t21/kp-eb0721-039003-0410-v1.txt', 'eb07-v1.2-TXT/t21/kp-eb0721-040801-0430-v1.txt', 'eb07-v1.2-TXT/t21/kp-eb0721-043108-0461-v1.txt', 'eb07-v1.2-TXT/t21/kp-eb0721-043407-0464-v1.txt', 'eb07-v1.2-TXT/t21/kp-eb0721-043703-0467-v1.txt', 'eb07-v1.2-TXT/t21/kp-eb0721-044201-0472-v1.txt', 'eb07-v1.2-TXT/t21/kp-eb0721-044301-0473-v1.txt', 'eb07-v1.2-TXT/v21/kp-eb0721-054905-0587-v1.txt', 'eb07-v1.2-TXT/v21/kp-eb0721-055705-0595-v1.txt', 'eb07-v1.2-TXT/v21/kp-eb0721-056101-0599-v1.txt', 'eb07-v1.2-TXT/v21/kp-eb0721-056202-0600-v1.txt', 'eb07-v1.2-TXT/v21/kp-eb0721-059302-0631-v1.txt', 'eb07-v1.2-TXT/v21/kp-eb0721-064802-0688-v1.txt', 'eb07-v1.2-TXT/v21/kp-eb0721-065107-0691-v1.txt', 'eb07-v1.2-TXT/v21/kp-eb0721-070001-0740-v1.txt', 'eb07-v1.2-TXT/v21/kp-eb0721-070302-0743-v1.txt', 'eb07-v1.2-TXT/w21/kp-eb0721-070605-0746-v1.txt', 'eb07-v1.2-TXT/w21/kp-eb0721-070801-0748-v1.txt', 'eb07-v1.2-TXT/w21/kp-eb0721-070901-0749-v1.txt', 'eb07-v1.2-TXT/w21/kp-eb0721-071105-0751-v1.txt', 'eb07-v1.2-TXT/w21/kp-eb0721-072202-0762-v1.txt', 'eb07-v1.2-TXT/w21/kp-eb0721-072704-0767-v1.txt', 'eb07-v1.2-TXT/w21/kp-eb0721-072704-0767-v1.txt', 'eb07-v1.2-TXT/w21/kp-eb0721-073005-0770-v1.txt', 'eb07-v1.2-TXT/w21/kp-eb0721-077003-0810-v1.txt', 'eb07-v1.2-TXT/w21/kp-eb0721-077405-0814-v1.txt', 'eb07-v1.2-TXT/w21/kp-eb0721-077801-0818-v1.txt', 'eb07-v1.2-TXT/w21/kp-eb0721-077801-0818-v1.txt', 'eb07-v1.2-TXT/w21/kp-eb0721-078201-0822-v1.txt', 'eb07-v1.2-TXT/w21/kp-eb0721-078501-0825-v1.txt', 'eb07-v1.2-TXT/w21/kp-eb0721-078501-0825-v1.txt', 'eb07-v1.2-TXT/w21/kp-eb0721-081306-0853-v1.txt', 'eb07-v1.2-TXT/w21/kp-eb0721-081501-0855-v1.txt', 'eb07-v1.2-TXT/w21/kp-eb0721-083202-0872-v1.txt', 'eb07-v1.2-TXT/w21/kp-eb0721-085813-0898-v1.txt', 'eb07-v1.2-TXT/w21/kp-eb0721-086803-0908-v1.txt', 'eb07-v1.2-TXT/w21/kp-eb0721-087008-0910-v1.txt', 'eb07-v1.2-TXT/w21/kp-eb0721-087406-0914-v1.txt', 'eb07-v1.2-TXT/w21/kp-eb0721-087806-0918-v1.txt', 'eb07-v1.2-TXT/w21/kp-eb0721-088106-0921-v1.txt', 'eb07-v1.2-TXT/w21/kp-eb0721-088502-0925-v1.txt', 'eb07-v1.2-TXT/w21/kp-eb0721-088901-0929-v1.txt', 'eb07-v1.2-TXT/w21/kp-eb0721-089002-0930-v1.txt', 'eb07-v1.2-TXT/w21/kp-eb0721-089206-0932-v1.txt', 'eb07-v1.2-TXT/w21/kp-eb0721-089401-0934-v1.txt', 'eb07-v1.2-TXT/w21/kp-eb0721-090302-0943-v1.txt', 'eb07-v1.2-TXT/w21/kp-eb0721-090501-0945-v1.txt', 'eb07-v1.2-TXT/w21/kp-eb0721-090504-0945-v1.txt', 'eb07-v1.2-TXT/w21/kp-eb0721-090701-0947-v1.txt', 'eb07-v1.2-TXT/w21/kp-eb0721-091005-0950-v1.txt', 'eb07-v1.2-TXT/w21/kp-eb0721-091401-0954-v1.txt', 'eb07-v1.2-TXT/w21/kp-eb0721-091603-0956-v1.txt', 'eb07-v1.2-TXT/w21/kp-eb0721-091901-0959-v1.txt', 'eb07-v1.2-TXT/w21/kp-eb0721-093902-0979-v1.txt', 'eb07-v1.2-TXT/w21/kp-eb0721-094702-0987-v1.txt', 'eb07-v1.2-TXT/w21/kp-eb0721-094901-0989-v1.txt', 'eb07-v1.2-TXT/x21/kp-eb0721-095503-0995-v1.txt', 'eb07-v1.2-TXT/y21/kp-eb0721-096704-1007-v1.txt', 'eb07-v1.2-TXT/z21/kp-eb0721-097412-1014-v1.txt', 'eb07-v1.2-TXT/z21/kp-eb0721-097501-1015-v1.txt', 'eb07-v1.2-TXT/z21/kp-eb0721-098504-1025-v1.txt', 'eb07-v1.2-TXT/z21/kp-eb0721-098604-1026-v1.txt']\n"
     ]
    }
   ],
   "source": [
    "# Find different between the topics from two dataframes\n",
    "new_topics = df[df[\"termType\"] == \"Topic\"]\n",
    "old_topics = old_df[old_df[\"typeTerm\"] == \"Topic\"]\n",
    "intersection = new_topics[new_topics[\"term\"].isin(old_topics[\"term\"])]\n",
    "\n",
    "print(f\"{len(intersection)} topics have been recognised by both dataframe.\")\n",
    "\n",
    "# Remove the intersection from old_topics\n",
    "topic_old_dif_result = old_topics[~old_topics[\"term\"].isin(intersection[\"term\"])]\n",
    "# List the file path of topic in old_topics only\n",
    "# List the file path of term in old_df only\n",
    "print(f\"{len(topic_old_dif_result)} topics have only been recognised by Alex's work.\")\n",
    "print(topic_old_dif_result[\"altoXML\"].values.tolist())"
   ],
   "metadata": {
    "collapsed": false
   }
  },
  {
   "cell_type": "code",
   "execution_count": 34,
   "outputs": [
    {
     "name": "stdout",
     "output_type": "stream",
     "text": [
      "18770 terms have been recognised by both dataframe.\n",
      "3834 terms have only been recognised by Alex's work.\n",
      "5200 terms have only been recognised by this work.\n"
     ]
    }
   ],
   "source": [
    "# Find different between the terms from two dataframes\n",
    "intersection = df[df[\"term\"].isin(old_df[\"term\"])]\n",
    "\n",
    "print(f\"{len(intersection)} terms have been recognised by both dataframe.\")\n",
    "\n",
    "# Remove the intersection from old_df\n",
    "term_old_dif_result = old_df[~old_df[\"term\"].isin(intersection[\"term\"])]\n",
    "\n",
    "# List the file path of term in old_df only\n",
    "print(f\"{len(term_old_dif_result)} terms have only been recognised by Alex's work.\")\n",
    "\n",
    "# Remove the intersection from df\n",
    "term_dif_result = df[~df[\"term\"].isin(intersection[\"term\"])]\n",
    "\n",
    "# List the file path of term in df only\n",
    "print(f\"{len(term_dif_result)} terms have only been recognised by this work.\")"
   ],
   "metadata": {
    "collapsed": false
   }
  },
  {
   "cell_type": "code",
   "execution_count": 35,
   "outputs": [
    {
     "name": "stdout",
     "output_type": "stream",
     "text": [
      "            term                                         definition  \\\n",
      "926       AGATHA  St, a market town on the Austrian principality...   \n",
      "927       AGATHA  Santa a town on the banks of a small river in ...   \n",
      "953       AGGERS  -HERRED, a district of Christiansand and a dio...   \n",
      "971     AGLIONBY  John, an English divine, chaplain in ordinary ...   \n",
      "975        AGNES  St, a large mining village in the county of Co...   \n",
      "976       AGNESI  Maria Gλetana, an Italian lady, who may be jus...   \n",
      "978       AGNOET  Ae (from αy≡w, to be ignorant of), in church h...   \n",
      "981        AGNUS   Dei, in the church of Rome, a cake of wax sta...   \n",
      "987     AGONALIS   Circus, now La Piazza Noυona, a long, large, ...   \n",
      "993    AGONYCLIT  Ae, or Agonyclites, in Church History, a sect ...   \n",
      "994         AGOR  AeUS, in Heathen Antiquity, an appellation giv...   \n",
      "1002    AGRARIAN   Laws, among the Romans, those relating to the...   \n",
      "1005    AGRICOLA  Cnaeus Julius, born at Frejus, in Provence, wa...   \n",
      "1006    AGRICOLA  George a German physician famous for his skill...   \n",
      "1007    AGRICOLA  John a Saxon divine born at Eisleben in 1492. ...   \n",
      "1013     AGRIPPA  Cornelius, bom at Cologne in 1486, a man of co...   \n",
      "1014     AGRIPPA  Herod the son of Λristobulus and Mariam - ne a...   \n",
      "1015     AGRIPPA  Marcus Vipsanius son-in-law to Augustus of mea...   \n",
      "1024       AGUAS  -BELLAS, a town of Portugal, where a free mart...   \n",
      "1028   AGUESSEAU  Henry Francis d’, Chancellor of France, illust...   \n",
      "1033     AGUIRRA  Joseph Saenz de, a Benedictine, and one of the...   \n",
      "1039       AGYRT  Ae, in Antiquity, a kind of strolling impostor...   \n",
      "1049   AHOLIB ΛH   and Aπolah are two feigned names made use of ...   \n",
      "1059         AID  Auxilium, in ancient customs, a subsidy paid b...   \n",
      "1068      AIGUES  -PERSES (Aquae-Sparsae), a town of France, sit...   \n",
      "1073      AIKMAN  William, a painter of considerable eminence, w...   \n",
      "1099       AITON  William, an eminent botanist and gardener, was...   \n",
      "1100        AIUS   Locutius, . the name of a deity to whom the R...   \n",
      "1105    AKENSIDE  Mauk, a physician, who published in Latin a Tr...   \n",
      "1122  ALABASTRUM   Dendroide, a kind of laminated alabaster, bea...   \n",
      "1126       ALAIN  Chartier, secretary to Charles VII. king of Fr...   \n",
      "1131   ALAMANDUS  Lewis, in French Aleman, archbishop of Arles, ...   \n",
      "1132    ALAMANNI  Lewis, was born at Florence, of a noble family...   \n",
      "1135      ALAMOS  Balthasar, a Spanish writer, born at Medina de...   \n",
      "1136        ALAN  Cardinal William, was born at Rossal, in Lanca...   \n",
      "1147      ALASCO  John, a Polish nobleman of the 16th century, w...   \n",
      "1168      ALBANS  St, a large town of great antiquity, in the hu...   \n",
      "1169     ALBANUS   Mons, in Ancient Geography, now called Mont A...   \n",
      "1174    ALBARIUM   Opus, in the ancient building, the incrustati...   \n",
      "1177      ALBATI   Equi, an appellation given to such horses, in...   \n",
      "1185    ALBERONI  Julius, the son of a poor gardener in the subu...   \n",
      "1186      ALBERT  Margrave of Brandenburg, and the last grand ma...   \n",
      "1198     ALBINUS  Bernhard Siegfred, a celebrated physician and ...   \n",
      "1203   ALBLASSER  -WAARD, a district in the circle of Dordrecht ...   \n",
      "1218         ALC  AeUS, a famous ancient lyric poet, born at Mit...   \n",
      "1244      ALCOCK  John, doctor of laws, and bishop of Ely in the...   \n",
      "1255    ALCUINUS  Flaccus, an ecclesiastic of the eighth century...   \n",
      "1257   ALCYONIUS  Peter, a learned Italian, who flourished in th...   \n",
      "1269     ALDRICH  Robert, bishop of Carlisle, was born at Burnha...   \n",
      "1270     ALDRICH  Dr Henry an eminent English divine and philoso...   \n",
      "\n",
      "                 MMSID                         edTitle           editor  \\\n",
      "926   9910796273804340  Seventh edition, General index  Stewart, Dugald   \n",
      "927   9910796273804340  Seventh edition, General index  Stewart, Dugald   \n",
      "953   9910796273804340  Seventh edition, General index  Stewart, Dugald   \n",
      "971   9910796273804340  Seventh edition, General index  Stewart, Dugald   \n",
      "975   9910796273804340  Seventh edition, General index  Stewart, Dugald   \n",
      "976   9910796273804340  Seventh edition, General index  Stewart, Dugald   \n",
      "978   9910796273804340  Seventh edition, General index  Stewart, Dugald   \n",
      "981   9910796273804340  Seventh edition, General index  Stewart, Dugald   \n",
      "987   9910796273804340  Seventh edition, General index  Stewart, Dugald   \n",
      "993   9910796273804340  Seventh edition, General index  Stewart, Dugald   \n",
      "994   9910796273804340  Seventh edition, General index  Stewart, Dugald   \n",
      "1002  9910796273804340  Seventh edition, General index  Stewart, Dugald   \n",
      "1005  9910796273804340  Seventh edition, General index  Stewart, Dugald   \n",
      "1006  9910796273804340  Seventh edition, General index  Stewart, Dugald   \n",
      "1007  9910796273804340  Seventh edition, General index  Stewart, Dugald   \n",
      "1013  9910796273804340  Seventh edition, General index  Stewart, Dugald   \n",
      "1014  9910796273804340  Seventh edition, General index  Stewart, Dugald   \n",
      "1015  9910796273804340  Seventh edition, General index  Stewart, Dugald   \n",
      "1024  9910796273804340  Seventh edition, General index  Stewart, Dugald   \n",
      "1028  9910796273804340  Seventh edition, General index  Stewart, Dugald   \n",
      "1033  9910796273804340  Seventh edition, General index  Stewart, Dugald   \n",
      "1039  9910796273804340  Seventh edition, General index  Stewart, Dugald   \n",
      "1049  9910796273804340  Seventh edition, General index  Stewart, Dugald   \n",
      "1059  9910796273804340  Seventh edition, General index  Stewart, Dugald   \n",
      "1068  9910796273804340  Seventh edition, General index  Stewart, Dugald   \n",
      "1073  9910796273804340  Seventh edition, General index  Stewart, Dugald   \n",
      "1099  9910796273804340  Seventh edition, General index  Stewart, Dugald   \n",
      "1100  9910796273804340  Seventh edition, General index  Stewart, Dugald   \n",
      "1105  9910796273804340  Seventh edition, General index  Stewart, Dugald   \n",
      "1122  9910796273804340  Seventh edition, General index  Stewart, Dugald   \n",
      "1126  9910796273804340  Seventh edition, General index  Stewart, Dugald   \n",
      "1131  9910796273804340  Seventh edition, General index  Stewart, Dugald   \n",
      "1132  9910796273804340  Seventh edition, General index  Stewart, Dugald   \n",
      "1135  9910796273804340  Seventh edition, General index  Stewart, Dugald   \n",
      "1136  9910796273804340  Seventh edition, General index  Stewart, Dugald   \n",
      "1147  9910796273804340  Seventh edition, General index  Stewart, Dugald   \n",
      "1168  9910796273804340  Seventh edition, General index  Stewart, Dugald   \n",
      "1169  9910796273804340  Seventh edition, General index  Stewart, Dugald   \n",
      "1174  9910796273804340  Seventh edition, General index  Stewart, Dugald   \n",
      "1177  9910796273804340  Seventh edition, General index  Stewart, Dugald   \n",
      "1185  9910796273804340  Seventh edition, General index  Stewart, Dugald   \n",
      "1186  9910796273804340  Seventh edition, General index  Stewart, Dugald   \n",
      "1198  9910796273804340  Seventh edition, General index  Stewart, Dugald   \n",
      "1203  9910796273804340  Seventh edition, General index  Stewart, Dugald   \n",
      "1218  9910796273804340  Seventh edition, General index  Stewart, Dugald   \n",
      "1244  9910796273804340  Seventh edition, General index  Stewart, Dugald   \n",
      "1255  9910796273804340  Seventh edition, General index  Stewart, Dugald   \n",
      "1257  9910796273804340  Seventh edition, General index  Stewart, Dugald   \n",
      "1269  9910796273804340  Seventh edition, General index  Stewart, Dugald   \n",
      "1270  9910796273804340  Seventh edition, General index  Stewart, Dugald   \n",
      "\n",
      "     editor_date         genre language termsOfAddress  numberOfPages  ...  \\\n",
      "926    1753-1828  encyclopedia      eng            Sir            184  ...   \n",
      "927    1753-1828  encyclopedia      eng            Sir            184  ...   \n",
      "953    1753-1828  encyclopedia      eng            Sir            184  ...   \n",
      "971    1753-1828  encyclopedia      eng            Sir            184  ...   \n",
      "975    1753-1828  encyclopedia      eng            Sir            184  ...   \n",
      "976    1753-1828  encyclopedia      eng            Sir            184  ...   \n",
      "978    1753-1828  encyclopedia      eng            Sir            184  ...   \n",
      "981    1753-1828  encyclopedia      eng            Sir            184  ...   \n",
      "987    1753-1828  encyclopedia      eng            Sir            184  ...   \n",
      "993    1753-1828  encyclopedia      eng            Sir            184  ...   \n",
      "994    1753-1828  encyclopedia      eng            Sir            184  ...   \n",
      "1002   1753-1828  encyclopedia      eng            Sir            184  ...   \n",
      "1005   1753-1828  encyclopedia      eng            Sir            184  ...   \n",
      "1006   1753-1828  encyclopedia      eng            Sir            184  ...   \n",
      "1007   1753-1828  encyclopedia      eng            Sir            184  ...   \n",
      "1013   1753-1828  encyclopedia      eng            Sir            184  ...   \n",
      "1014   1753-1828  encyclopedia      eng            Sir            184  ...   \n",
      "1015   1753-1828  encyclopedia      eng            Sir            184  ...   \n",
      "1024   1753-1828  encyclopedia      eng            Sir            184  ...   \n",
      "1028   1753-1828  encyclopedia      eng            Sir            184  ...   \n",
      "1033   1753-1828  encyclopedia      eng            Sir            184  ...   \n",
      "1039   1753-1828  encyclopedia      eng            Sir            184  ...   \n",
      "1049   1753-1828  encyclopedia      eng            Sir            184  ...   \n",
      "1059   1753-1828  encyclopedia      eng            Sir            184  ...   \n",
      "1068   1753-1828  encyclopedia      eng            Sir            184  ...   \n",
      "1073   1753-1828  encyclopedia      eng            Sir            184  ...   \n",
      "1099   1753-1828  encyclopedia      eng            Sir            184  ...   \n",
      "1100   1753-1828  encyclopedia      eng            Sir            184  ...   \n",
      "1105   1753-1828  encyclopedia      eng            Sir            184  ...   \n",
      "1122   1753-1828  encyclopedia      eng            Sir            184  ...   \n",
      "1126   1753-1828  encyclopedia      eng            Sir            184  ...   \n",
      "1131   1753-1828  encyclopedia      eng            Sir            184  ...   \n",
      "1132   1753-1828  encyclopedia      eng            Sir            184  ...   \n",
      "1135   1753-1828  encyclopedia      eng            Sir            184  ...   \n",
      "1136   1753-1828  encyclopedia      eng            Sir            184  ...   \n",
      "1147   1753-1828  encyclopedia      eng            Sir            184  ...   \n",
      "1168   1753-1828  encyclopedia      eng            Sir            184  ...   \n",
      "1169   1753-1828  encyclopedia      eng            Sir            184  ...   \n",
      "1174   1753-1828  encyclopedia      eng            Sir            184  ...   \n",
      "1177   1753-1828  encyclopedia      eng            Sir            184  ...   \n",
      "1185   1753-1828  encyclopedia      eng            Sir            184  ...   \n",
      "1186   1753-1828  encyclopedia      eng            Sir            184  ...   \n",
      "1198   1753-1828  encyclopedia      eng            Sir            184  ...   \n",
      "1203   1753-1828  encyclopedia      eng            Sir            184  ...   \n",
      "1218   1753-1828  encyclopedia      eng            Sir            184  ...   \n",
      "1244   1753-1828  encyclopedia      eng            Sir            184  ...   \n",
      "1255   1753-1828  encyclopedia      eng            Sir            184  ...   \n",
      "1257   1753-1828  encyclopedia      eng            Sir            184  ...   \n",
      "1269   1753-1828  encyclopedia      eng            Sir            184  ...   \n",
      "1270   1753-1828  encyclopedia      eng            Sir            184  ...   \n",
      "\n",
      "     numberOfVolumes   relatedTerms         header  startsAt endsAt  \\\n",
      "926               20  Not specified  Not specified       242    242   \n",
      "927               20  Not specified  Not specified       242    242   \n",
      "953               20  Not specified  Not specified       244    244   \n",
      "971               20  Not specified  Not specified       247    247   \n",
      "975               20  Not specified  Not specified       247    247   \n",
      "976               20  Not specified  Not specified       247    247   \n",
      "978               20  Not specified  Not specified       248    248   \n",
      "981               20  Not specified  Not specified       248    248   \n",
      "987               20  Not specified  Not specified       249    249   \n",
      "993               20  Not specified  Not specified       249    249   \n",
      "994               20  Not specified  Not specified       249    249   \n",
      "1002              20  Not specified  Not specified       250    250   \n",
      "1005              20  Not specified  Not specified       250    250   \n",
      "1006              20  Not specified  Not specified       250    250   \n",
      "1007              20  Not specified  Not specified       250    250   \n",
      "1013              20  Not specified  Not specified       357    357   \n",
      "1014              20  Not specified  Not specified       357    357   \n",
      "1015              20  Not specified  Not specified       357    357   \n",
      "1024              20  Not specified  Not specified       358    358   \n",
      "1028              20  Not specified  Not specified       358    358   \n",
      "1033              20  Not specified  Not specified       360    360   \n",
      "1039              20  Not specified  Not specified       360    360   \n",
      "1049              20  Not specified  Not specified       363    363   \n",
      "1059              20  Not specified  Not specified       364    364   \n",
      "1068              20  Not specified  Not specified       364    364   \n",
      "1073              20  Not specified  Not specified       364    364   \n",
      "1099              20  Not specified  Not specified       368    368   \n",
      "1100              20  Not specified  Not specified       369    369   \n",
      "1105              20  Not specified  Not specified       369    369   \n",
      "1122              20  Not specified  Not specified       372    372   \n",
      "1126              20  Not specified  Not specified       372    372   \n",
      "1131              20  Not specified  Not specified       373    373   \n",
      "1132              20  Not specified  Not specified       373    373   \n",
      "1135              20  Not specified  Not specified       373    373   \n",
      "1136              20  Not specified  Not specified       373    373   \n",
      "1147              20  Not specified  Not specified       374    374   \n",
      "1168              20  Not specified  Not specified       380    380   \n",
      "1169              20  Not specified  Not specified       380    380   \n",
      "1174              20  Not specified  Not specified       380    380   \n",
      "1177              20  Not specified  Not specified       381    381   \n",
      "1185              20  Not specified  Not specified       381    381   \n",
      "1186              20  Not specified  Not specified       381    381   \n",
      "1198              20  Not specified  Not specified       384    384   \n",
      "1203              20  Not specified  Not specified       384    384   \n",
      "1218              20  Not specified  Not specified       385    385   \n",
      "1244              20  Not specified  Not specified       388    388   \n",
      "1255              20  Not specified  Not specified       392    392   \n",
      "1257              20  Not specified  Not specified       392    392   \n",
      "1269              20  Not specified  Not specified       394    394   \n",
      "1270              20  Not specified  Not specified       394    394   \n",
      "\n",
      "      numberOfTerms numberOfWords  positionPage  typeTerm  \\\n",
      "926   Not specified            33             1   Article   \n",
      "927   Not specified            26             2   Article   \n",
      "953   Not specified            22             1   Article   \n",
      "971   Not specified            55             1   Article   \n",
      "975   Not specified           179             1   Article   \n",
      "976   Not specified          1463             1     Topic   \n",
      "978   Not specified           158             1   Article   \n",
      "981   Not specified           163             1   Article   \n",
      "987   Not specified            85             1   Article   \n",
      "993   Not specified            24             1   Article   \n",
      "994   Not specified            29             1   Article   \n",
      "1002  Not specified            75             1   Article   \n",
      "1005  Not specified           499             1   Article   \n",
      "1006  Not specified           224             2   Article   \n",
      "1007  Not specified         18005             3     Topic   \n",
      "1013  Not specified           132             1   Article   \n",
      "1014  Not specified          1120             2     Topic   \n",
      "1015  Not specified            40             3   Article   \n",
      "1024  Not specified            20             1   Article   \n",
      "1028  Not specified          2211             1     Topic   \n",
      "1033  Not specified            71             1   Article   \n",
      "1039  Not specified           110             1   Article   \n",
      "1049  Not specified           103             1   Article   \n",
      "1059  Not specified            16             1   Article   \n",
      "1068  Not specified            21             1   Article   \n",
      "1073  Not specified           458             1   Article   \n",
      "1099  Not specified           507             1   Article   \n",
      "1100  Not specified           108             1   Article   \n",
      "1105  Not specified           935             1   Article   \n",
      "1122  Not specified            24             1   Article   \n",
      "1126  Not specified           202             1   Article   \n",
      "1131  Not specified           116             1   Article   \n",
      "1132  Not specified           200             1   Article   \n",
      "1135  Not specified           187             1   Article   \n",
      "1136  Not specified           374             1   Article   \n",
      "1147  Not specified           220             1   Article   \n",
      "1168  Not specified           247             1   Article   \n",
      "1169  Not specified            17             1   Article   \n",
      "1174  Not specified            64             1   Article   \n",
      "1177  Not specified            18             1   Article   \n",
      "1185  Not specified           128             1   Article   \n",
      "1186  Not specified            67             1   Article   \n",
      "1198  Not specified           437             1   Article   \n",
      "1203  Not specified            47             1   Article   \n",
      "1218  Not specified           472             1   Article   \n",
      "1244  Not specified           276             1   Article   \n",
      "1255  Not specified           684             1   Article   \n",
      "1257  Not specified           306             1   Article   \n",
      "1269  Not specified           191             1   Article   \n",
      "1270  Not specified           908             2   Article   \n",
      "\n",
      "                                            altoXML  \n",
      "926   eb07-v1.2-TXT/a2/kp-eb0702-024201-2955-v1.txt  \n",
      "927   eb07-v1.2-TXT/a2/kp-eb0702-024201-2955-v1.txt  \n",
      "953   eb07-v1.2-TXT/a2/kp-eb0702-024409-2981-v1.txt  \n",
      "971   eb07-v1.2-TXT/a2/kp-eb0702-024701-3020-v1.txt  \n",
      "975   eb07-v1.2-TXT/a2/kp-eb0702-024705-3020-v1.txt  \n",
      "976   eb07-v1.2-TXT/a2/kp-eb0702-024706-3020-v1.txt  \n",
      "978   eb07-v1.2-TXT/a2/kp-eb0702-024802-3033-v1.txt  \n",
      "981   eb07-v1.2-TXT/a2/kp-eb0702-024805-3033-v1.txt  \n",
      "987   eb07-v1.2-TXT/a2/kp-eb0702-024903-3046-v1.txt  \n",
      "993   eb07-v1.2-TXT/a2/kp-eb0702-024909-3046-v1.txt  \n",
      "994   eb07-v1.2-TXT/a2/kp-eb0702-024910-3046-v1.txt  \n",
      "1002  eb07-v1.2-TXT/a2/kp-eb0702-025003-3059-v1.txt  \n",
      "1005  eb07-v1.2-TXT/a2/kp-eb0702-025006-3059-v1.txt  \n",
      "1006  eb07-v1.2-TXT/a2/kp-eb0702-025006-3059-v1.txt  \n",
      "1007  eb07-v1.2-TXT/a2/kp-eb0702-025006-3059-v1.txt  \n",
      "1013  eb07-v1.2-TXT/a2/kp-eb0702-035703-4450-v1.txt  \n",
      "1014  eb07-v1.2-TXT/a2/kp-eb0702-035703-4450-v1.txt  \n",
      "1015  eb07-v1.2-TXT/a2/kp-eb0702-035703-4450-v1.txt  \n",
      "1024  eb07-v1.2-TXT/a2/kp-eb0702-035808-4463-v1.txt  \n",
      "1028  eb07-v1.2-TXT/a2/kp-eb0702-035811-4463-v1.txt  \n",
      "1033  eb07-v1.2-TXT/a2/kp-eb0702-036004-4489-v1.txt  \n",
      "1039  eb07-v1.2-TXT/a2/kp-eb0702-036010-4489-v1.txt  \n",
      "1049  eb07-v1.2-TXT/a2/kp-eb0702-036301-4528-v1.txt  \n",
      "1059  eb07-v1.2-TXT/a2/kp-eb0702-036401-4541-v1.txt  \n",
      "1068  eb07-v1.2-TXT/a2/kp-eb0702-036408-4541-v1.txt  \n",
      "1073  eb07-v1.2-TXT/a2/kp-eb0702-036412-4541-v1.txt  \n",
      "1099  eb07-v1.2-TXT/a2/kp-eb0702-036808-4593-v1.txt  \n",
      "1100  eb07-v1.2-TXT/a2/kp-eb0702-036901-4606-v1.txt  \n",
      "1105  eb07-v1.2-TXT/a2/kp-eb0702-036906-4606-v1.txt  \n",
      "1122  eb07-v1.2-TXT/a2/kp-eb0702-037201-4645-v1.txt  \n",
      "1126  eb07-v1.2-TXT/a2/kp-eb0702-037205-4645-v1.txt  \n",
      "1131  eb07-v1.2-TXT/a2/kp-eb0702-037301-4658-v1.txt  \n",
      "1132  eb07-v1.2-TXT/a2/kp-eb0702-037302-4658-v1.txt  \n",
      "1135  eb07-v1.2-TXT/a2/kp-eb0702-037305-4658-v1.txt  \n",
      "1136  eb07-v1.2-TXT/a2/kp-eb0702-037306-4658-v1.txt  \n",
      "1147  eb07-v1.2-TXT/a2/kp-eb0702-037407-4671-v1.txt  \n",
      "1168  eb07-v1.2-TXT/a2/kp-eb0702-038002-4749-v1.txt  \n",
      "1169  eb07-v1.2-TXT/a2/kp-eb0702-038003-4749-v1.txt  \n",
      "1174  eb07-v1.2-TXT/a2/kp-eb0702-038007-4749-v1.txt  \n",
      "1177  eb07-v1.2-TXT/a2/kp-eb0702-038102-4762-v1.txt  \n",
      "1185  eb07-v1.2-TXT/a2/kp-eb0702-038110-4762-v1.txt  \n",
      "1186  eb07-v1.2-TXT/a2/kp-eb0702-038111-4762-v1.txt  \n",
      "1198  eb07-v1.2-TXT/a2/kp-eb0702-038402-4801-v1.txt  \n",
      "1203  eb07-v1.2-TXT/a2/kp-eb0702-038407-4801-v1.txt  \n",
      "1218  eb07-v1.2-TXT/a2/kp-eb0702-038508-4814-v1.txt  \n",
      "1244  eb07-v1.2-TXT/a2/kp-eb0702-038805-4853-v1.txt  \n",
      "1255  eb07-v1.2-TXT/a2/kp-eb0702-039201-4905-v1.txt  \n",
      "1257  eb07-v1.2-TXT/a2/kp-eb0702-039203-4905-v1.txt  \n",
      "1269  eb07-v1.2-TXT/a2/kp-eb0702-039401-4931-v1.txt  \n",
      "1270  eb07-v1.2-TXT/a2/kp-eb0702-039401-4931-v1.txt  \n",
      "\n",
      "[50 rows x 39 columns]\n"
     ]
    }
   ],
   "source": [
    "# Examine the terms only Alex's work\n",
    "print(term_old_dif_result[100:150])"
   ],
   "metadata": {
    "collapsed": false
   }
  },
  {
   "cell_type": "code",
   "execution_count": 36,
   "outputs": [
    {
     "name": "stdout",
     "output_type": "stream",
     "text": [
      "['AARON AND JULIUS, SAINTS', 'AARSENS, FRANCIS, LORD OF SOMELDYCK', 'ABACAENUM', 'ABACUS MAJOR', 'ABAE', 'ABAUZIT, FIRMIN', 'ABBADIE, JAMES', 'ABBAS, MAHOMET’S UNCLE', 'ABBAS, SCHAH', 'ABBAS, SCHAH', 'ABBE', 'ABBOT, GEORGE', 'ABBOT, ROBERT', 'ABBOTS-BROMLEY', 'ABBOTS-LANGLEY', 'ABBS, ST', 'ABDIAS OF BABYLON', 'ABEL-MEHOLΑH', 'ABEL-MIZRAIM', 'ABEL-SATTIM', 'ABELARD, PETER', 'ABEN-EZRA, ABRAHAM', 'ABERCROMBY, THE HONOURABLE ALEXANDER', 'ABERCROMBY, SIR RALPH', 'ABERDEEN, OLD', 'ABERDEEN, NEW', 'ABERNETHY, JOHN', 'ABGILLUS, JOHN', 'ABIAD, BAHR', 'ABJURATION OF HERESY', 'ABLATIVE ABSOLUTE', 'ABRAHAM, DEN CHAILA', 'ABRAHAM USQUE', 'ABRUD-BANYA', 'ABRUZZO ULTERIORE FIRST', 'ABRUZZO ULTERIORE SECOND', 'ABRUZZO CITERIORE', 'ABSOLUTE GOVERNMENT', 'ABSOLUTE EQUATIONS', 'ABSOLUTE NUMBER', 'ABSORBENT MEDICINES', 'ABSORBENTS', 'ABSORUS, APSORUS, ABSYRTIS, ABSYRTIDES', 'ABSTERGENT MEDICINES', 'ABSTRACT IDEAS', 'ABSTRACT NUMBERS', 'ABSTRACT TERMS', 'ABU AND CANDU', 'ABU-ARISCH', 'ABULFARAGIUS, GREGORY', 'ABUNDANT NUMBER', 'ABUSAID, EBN ALJAPTU', 'ABU-TEMAN', 'ACACIUS, SAINT', 'ACADEMY FIGURE', 'ACAENA', 'ACCA, SAINT', 'ACCESSORY NERVES', 'ACCIAIOLI, DONATO', 'ACCIDENTAL POINT', 'ACCIUS, LUCIUS', 'ACCLAMATIONS', 'ACCLAMATION MΕDALS', 'ACCOLTI, BENEDICT', 'ACCOLTI, FRANCIS', 'ACCOMPANIMENT, ACCOMPAGNAMENTO, ACCOMPAGNATURA', 'ACCORDS, SIEUR', 'ACCORSO, FRANCIS', 'ACCUMULATION OF DEGREES', 'ACETOSA, SORREL', 'ACETUM, VINEGAR', 'ACHAEA', 'ACHAEANS', 'ACHAEI, ACHAEANS', 'ACHAEMENES', 'ACHAEMENES', 'ACHAEUS', 'ACHEEN, ACHE', 'ACHENWALL, GOTTFRIED', 'ACHERI, LUKE', 'ACHILLAEA', 'ACHILLEID, ACHILLEIS', 'ACHILLES TATIUS', 'ACHILLINI, ALEXANDER', 'ACICULAE', 'ACIDALIUS, VALENS', 'ACIDULAE', 'ACIDUM AEREUM', 'ACILIUS GLABRIO, MARCUS', 'ACKERMANN, JOHN CHRISTIAN GOTTLIEB', 'ACOEMETAE', 'ACOMINATUS, NICETAS', 'ACOSTA, JOSEPH', 'ACOSTA, URIEL', 'ACOUSTIC DISCIPLES', 'ACOUSTIC VESSELS', 'ACROPOLITA, GEORGE', 'ACT OF FAITH', 'ACTΑ DIURNA', 'ACTA ΡOPULI', 'ACTS OF PILATE', 'ACTAE', 'ACTAEA', 'ACTAEON', 'ACTIAN GAMES', 'ACTORUM TABULAE', 'ACTUAL SIN', 'ACTUARIAE NAVES', 'ACUNA, CHRISTOPHER', 'ACUTE DISEASES', 'AD BESTIAS', 'AD METALLA', 'ADAM, ALEXANDER', 'ADAM, ROBERT', 'ADAMS PEAK', 'ADAMIC EARTH', 'ADAMI POMUM', 'ADAMS, JOHN', 'ADAMSON, PATRICK', 'ADANSON, MICHAEL', 'ADCORDABILES DENARII', 'ADDISON, LANCELOT', 'ADDISON, JOSEPH', 'ADDITIONS', 'ADDUCENT MUSCLES', 'ADELUNG, JOHN CHRISTOPHER', 'ADESSENARIANS, ADESSENARII', 'ADJUNCT GODS', 'ADLE EGGS', 'ADLOCUTION, ADLOCUTIO', 'ADMIRABILIS SAL', 'ADMIRALTY, HIGH COURT OF', 'ADMIRALTY INLET', 'ADONIS, ADONIUS', 'ADRASTEA CERTAMINA', 'ADRIAN I', 'ADRIAN II', 'ADRIAN IV', 'ADRIAN V', 'ADRIAN VI', 'ADRIANI, JOANNI BATTISTA', 'ADVANCED GUARD', 'ADVENTURE DAY', 'ADULTERINE MARRIAGES', 'ADVOCATES', 'AEBUDAE', 'AEDILITIUM EDICTUM', 'AEGEAN SEA', 'AEGINETA, PAULUS', 'AEINAUTAE', 'AELIA, CAPITOLINA', 'AELIAN, CLAUDIUS', 'AEMILIUS, PAULUS', 'AEMILIUS, PAULUS', 'AEOLIAE INSULAE', 'AEOLIAN HARP', 'AEPINUS, FRANCIS ULRICH THEODORE', 'AESOP, CLODIUS', 'AESTIMATIO CAPITIS', 'AETHEREAL, AETHEREUS', 'AFER, DOMITIUS', 'AFFORESTING, AFFORESTATIO', 'AFGHANISTAN, AN', 'AFRANIUS, LUCIUS', 'AFRICANUS, JΙΠ', 'AGAPETAE', 'AGARD, ARTHUR', 'AGARIC MINERAL', 'AGATHA, ST', 'AGATHA, SANTA', 'AGER PICENUS', 'AGGERS-HERRED', 'AGITATORS', 'AGLIONBY, JOHN', 'AGNES, ST', 'AGNESI, MARIA GΛETANA', 'AGNOETAE', 'AGNUS DEI', 'AGONALIS CIRCUS', 'AGONYCLITAE', 'AGORAEUS', 'AGRARIAN LAWS', 'AGRICOLA, CNAEUS JULIUS', 'AGRICOLA, GEORGE', 'AGRICOLA, JOHN', 'AGRIPPA, CORNELIUS', 'AGRIPPA, HEROD', 'AGRIPPA II', 'AGRIPPA, MARCUS VIPSANIUS', 'AGRIPPINA COLONIA UBIORUM', 'AGUAS-BELLAS', 'AGUESSEAU, HENRY FRANCIS', 'AGUIRRA, JOSEPH SAENZ', 'AGYRTAE', 'AGYRTAE', 'AHOLIB ΛH AND AΠOLAH', 'AJALON', 'AJAN', 'AID, AUXILIUM', 'AIKMAN, WILLIAM', 'AINSWORTH, DR HENRY', 'AINSWORTH, ROBERT', 'AIR-PIPES', 'AIR-TRUNK', 'AIRY TRIPLICITY', 'AITON, WILLIAM', 'AIUS LOCUTIUS', 'AIX-LA-CHAPELLE', 'AKENSIDE, MAUK', 'AKHMETSCHET', 'ALAE', 'ALAE', 'ALABASTER, WILLIAM', 'ALABASTRUM DENDROIDE', 'ALAIN, CHARTIER', 'ALAMANDUS, LEWIS', 'ALAMANNI, LEWIS', 'ALAMOS, BALTHASAR', 'ALAN, CARDINAL WILLIAM', 'ALASCO, JOHN', 'ALBA FIRMA', 'ALBA LONGA', 'ALBAN, ST', 'ALBANI, FRANCIS', 'ALBANS, ST', 'ALBANUS MONS', 'ALBARIUM OPUS', 'ALBATI EQUI', 'ALBERONI, JULIUS', 'ALBERT, MARGRAVE OF BRANDENBURG', 'ALBERTI, LEONE BATTISTA', 'ALBERTUS MAGNUS', 'ALBINUS, BERNHARD SIEGFRED', 'ALBLASSER-WAARD', 'ALBUM JUDICUM', 'ALBUM PRAETORIS', 'ALBUM GRAECUM', 'ALCAEUS', 'ALCAEUS', 'ALCAZAR LEGUER', 'ALCOCK, JOHN', 'ALCUINUS, FLACCUS', 'ALCYONIUM STAGNUM', 'ALCYONIUS, PETER', 'ALDRICH, ROBERT', 'ALDRICH, DR HENRY', 'ALDROVANDUS, ULYSSES', 'ALDSTON-MOOR', 'ALE-SILVER', 'ALEANDER, JEROME', 'ALEANDER, JEROME', 'ALEIUS CAMPUS', 'ALEMBERT, JEAN', 'ALENIO, JULIUS', 'ALEPPO, THE PACHAJ', 'ALES, ALEXANDER', 'ALEXANDER, NOEL', 'ALEXANDER SEVERUS', 'ALEXANDER VI', 'ALEXANDER, WILLIAM', 'ALEXANDER I', 'ALEXANDER II', 'ALEXANDRIA, MODEM', 'ALEYN, CHARLES', 'ALFIERI, VICTOR', 'ALGAE', 'ALGAROTTI, COUNT', 'ALGOA BAY', 'ALIEN PRIORIES', 'ALIQUANT PART', 'ALIQUOT PART', 'ALLAN, DAVID', 'ALLATTUS, LEO', 'ALLEGANY MOUNTAINS', 'ALLEGANY RIVER', 'ALLEGRI, ANTONIO', 'ALLEGRI, GREGORIO', 'ALLEIN, JOSEPH', 'ALLEIN, RICHARD', 'ALLEN, JOHN', 'ALLEN, THOMAS', 'ALLESTRY, RICHARD, D', 'ALLESTRY, JACOB', 'ALLEY, WILLIAM', 'ALLEYN, EDWARD', 'ALLIGATION ALTERNATE', 'ALLIX, PETER', 'ALMAGRO', 'ALMAGRO', 'ALMANACK, NAUTICAL', 'ALMANACKS', 'ALMEYDA, DON FRANCIS', 'ALMONDS', 'ALMOND FURNACE', 'ALMS BOX', 'ALPHABET', 'ALPHAENIX', 'ALPHERY, MXKIPHER', 'ALPHONSO II', 'ALPHONSO III', 'ALPHONSO IV', 'ALPHONSO V', 'ALPHONSO VI', 'ALPHONSO HL', 'ALPHONSO X', 'ALPHONSO V', 'ALPINI, PROSPERO', 'ALPS, LOWER, DEPARTMENT OF', 'ALPS, HIGHER, DEPARTMENT OF', 'ALPS, MARITIME', 'ALSO-KUBIN', 'ALSOP, ANTHONY', 'ALSOP, VINCENT', 'ALSTEDIUS, JOHN HENRY', 'ALSTON, CHARLES, Μ', 'ALSTON-MOOR', 'ALTAI MOUNTAINS', 'ALTARS', 'ALTAR-THANE', 'AL-TAYEFF', 'ALTERN-BASE', 'ALTING, HENRY', 'ALTING, JAMES', 'ALTO BASSO', 'ALUM-SLATE', 'ALUM-SLATE', 'ALVA, FERDINAND ALVAREZ OF TOLEDO', 'ALVAREZ, FRANCIS', 'ALYPIUS OF ANTIOCH', 'ALYPIUS OF TAGASTA', 'AMALTHAEA', 'AMALTHAEA', 'AMALTHAEUS, JEROME, JOHN BAPTISTA', 'AMAMA, SIXTINUS', 'AMAND, MARK ANTONY GERARD, SIEUR', 'AMAND, SAINT', 'AMATORII MUSCULI', 'AMATTA FOA', 'AMBIGENAE OVES', 'AMBIGENAL HYPERBOLA', 'AMBROSE, SAINT, BISHOP OF MILAN', 'AMBROSE, SAINT', 'AMBROSE, ISAAC', 'AMBROSIAN OFFICE', 'AMBROSIUS AURELIANUS', 'AMBUBAJAE', 'AMELIA ISLE', 'AMELOTTE, DENIS', 'AMENDE HONORABLE', 'AMERICA, UNITED STATES OF', 'AMES, WILLIAM, D', 'AMHURST, NICHOLAS', 'AMICABLE BENCHES', 'AMICUS CURIAE', 'AMITTERE LEGEM TERRAE', 'AMMAN, JOHN CONRAD', 'AMMAN, PAUL', 'AMMIANUS MARCELLINUS', 'AMMIRATO, SCIPIO', 'AMMONIAC, SAL', 'AMOEBAEUM', 'AMORAEANS', 'AMPHIPRORAE', 'AMPHORARIUM VINUM', 'AMPSANCTI VALLIS', 'AMRU-EBN-AL-AS', 'AMURATH IL', 'AMURATH IV', 'AMYOT, JAMES', 'AMYRAUT, MOSES', 'ANABOLAEUM', 'ANACLASTIC GLASSES', 'ANACLINOPALE, AVΑ', 'ANACREONTIC VERSE', 'ANADUOMENE VENUS', 'ANAEDEIA', 'ANALECTA, ANALECTS', 'ANALYSIS OF INFINITES', 'ANAPAEST', 'ANAPAESTIC VERSES', 'ANASTASIO, ST', 'ANASTASIUS II', 'ANASTASIUS', 'ANATOCISM, ANATOCISMUS', 'ANATOMY OF THE ORGANS OF THE ANIMAL, VOLUNTARY, OR RELATIVE FUNCTIONS', 'ANATOMY OF THE ORGANS PERTAINING TO THE ENTRO-PHIC OR NUTRITIVE FUNCTIONS', 'ANATOMY OF THE ORGANS PERTAINING TO THE REPRODUCTIVE FUNCTIONS', 'ANATOMY OF THE ORGANS OF RELATION', 'ANCHORS', 'ANCIENT DEMESNE', 'ANCOURT, FLORENT CARTON', 'ANCUS MARTIUS', 'ANDABATAE', 'ANDALUSIA, NEW', 'ANDAMAN ISLANDS', 'ANDEOL, SAINT', 'ANDERO, SAINT', 'ANDERSON, ALEXANDER', 'ANDERSON, JAMES, LL', 'ANDERSON, ROBERT', 'ANDRADA, DIEGO', 'ANDREAS, JOHN', 'ANDREAS, ST', 'ANDREW, ST', 'ANDREWS, ST', 'ANDREWS, JAMES PETTIT', 'ANDREWS, LANCELOT', 'ANDRONICUS OF CYRΤHUS', 'ANGELICS, ANGELICI', 'ANGELO, MICHAEL', 'ANGERMANLANDS-LAPMARK', 'ANGLE, TRISECTION OF', 'ANGLO-CALVINISTS', 'ANGLUS, THOMAS', 'ANGUINUM OVUM', 'ANHALT-BERNBURG', 'ANHALT-DESSAU', 'ANHALT-KOTHEN', 'ANNA, ANA', 'ANNA COMNENA', 'ANNAND, WILLIAM', 'ANNE BOLEYN', 'ANNESLEY, ARTHUR', 'ANNONAE PRAEFECTUS', 'ANOMALISTICAL YEAR', 'ANOMALOUS VERBS', 'ANOMOEANS', 'ANOREXIA, ANOREXY', 'ANQUETTL, LEWIS PETER', 'ANSAE', 'ANSON, GEORGE', 'ANSTRUTHER, EASTER', 'ANTAEUS', 'ANTENNAE', 'ANTHONY, SAINT', 'ANTHROPOLATRAE', 'ANTIGONUS GONATAS', 'ANTIOCHIAN SECT', 'ANTIOCHUS OF ASCALOΗ', 'ANTIPAEDOBAPTISTS', 'ANTIPAS HEROD', 'ANTIPATER, CAELIUS', 'ANTIPATER OF SIDON', 'ANTIPHONARY, ANTIPHONARIUM', 'ANTITACTAE', 'ANTOECI', 'ANTONIA, SAINT', 'ANTONIAN WATERS', 'ANTONIANO, SILVIO', 'ANTONIDES VANDER GOES, JOHN', 'ANTONINUS PIUS', 'ANTONINUS PHILOSOPHUS, ALARCUS AURELIUS', 'ANTONINUS’S WALL', 'ANTONIO, NICHOLAS', 'ANTONIO, ST', 'ANIONTUS, MARCUS', 'ANVILLE, JEAN BAPTISTE BOURGUIGNON', 'APAEDUSIA', 'APAGOGICAL DEMONSTRATION', 'APALACHIAN MOUNTAINS', 'APELLITES, CHRISTIAN', 'APHAERESIS', 'APHIOM, KARAHISSART', 'APHTHARTODOCETAE', 'APODECTAE', 'APOLLINARIAN GAMES', 'APOLLINARIANS, APOLLINARISTS', 'APOLLINARIS, CAIUS SULPICIUS', 'APOLLINARIS SIDONIUS, CAIUS LOLLIUS', 'APOLLONIUS OF PERGA', 'APOMYOS DEUS', 'APONO, PETER', 'APOTACTITAE', 'APOTROPAE', 'APPARENT HEIR', 'APPELLATIVE NAMES', 'APPIA VIA', 'APPIUS CLAUDIUS', 'APULEIUS, LUCIUS', 'APYCNI SUONI', 'AQUA EXSTINCTA', 'AQUA FORTIS', 'AQUA PEGIA', 'AQUA SECUNDA', 'AQUA TOFANA', 'AQUARIANS, CHRISTIANS', 'AQUATINTA ENGRAVING', 'AQUINAS, ST THOMAS', 'ARABISM, ARΛBISMUS', 'ARACHNIDES, FROM', 'ARAEOMETER', 'ARAEOPAGUS', 'ARAEOSTYLE', 'ARAEOTICS', 'ARAFAT, MOUNT', 'ARAUSIO, CIVITAS ARAUSIENSIS', 'ARBITRARY PUNISHMENT', 'ARBUTHNOT, ALEXANDER', 'ARBUTHNOT, JOHN, Μ', 'ARC, JOAN OF', 'ARCHAEUS', 'ARCHES COURT', 'ARCHIATER, ARCHIATRUS', 'ARCHYTAS OF TARENTUM', 'ARCIS-SUR-AUBE', 'ARCON, J', 'ARCY, PATRICK', 'ARDEBIL', 'ARDELAN', 'ARETAEUS OF CAPPADOCIA', 'ARETIN, GUIDO', 'ARETIN, LEONARD', 'ARETIN, FRANCIS', 'ARETIN, PETER', 'ARGENTIERE, U', 'ARGENTUM ALEUM', 'ARGENTUM DEI', 'ARGUTIAE', 'ARIAS MONTANUS', 'ARIOSTO, LODOVICO', 'ARISTIDES, AELIUS', 'ARK, NOAH’S', 'ARKWRIGHT, SIR RICHARD', 'ARMINIUS, JAMES', 'ARMOUR, COAT', 'ARMS, ARMA', 'ARMSTRONG, JOHN, M', 'ARNALL, WILLIAM', 'ARNAUD BELGARD', 'ARNAULD, ANTONY', 'ARNAY-LE-DUC', 'ARNDT, JOHN', 'ARNE, THOMAS AUGUSTINE', 'ARNISAEUS, HENNINGUS', 'ARNOLDUS, GOTHOFREDUS', 'ARNWAY, JOHN', 'AROMA PHILOSOPHORUM', 'ARREST OF JUDGMENT', 'ARTABA', 'ARTEDI, PETER', 'ARTHUR’S SEAT', 'ARTIFICIAL FIRE-WORKS', 'ARTILLERY PARK', 'ARTILLERY TRAIN', 'ARTILLERY COMPANY', 'ARTS, MASTER OF', 'ARVALES FRATRES', 'ARVIL SUPPER', 'ARUNDEL, THOMAS', 'ARUNDELIAN MARBLES', 'ASAPH, ST', 'ASAR-ADDON', 'ASCENSION DAY', 'ASCHAM, ROGER', 'ASCITAE', 'ASCODUTAE', 'ASH-WEDNESDAY', 'ASHMOLE, ELIAS', 'ASIARCHAE', 'ASINIUS POLLIO', 'ASPASIA OF MILETUS', 'ASSELYN, JOHN', 'ASSHETON, WILLIAM', 'ASSOCIATION OF IDEAS', 'ASSONANT RHYMES', 'ASTELL, MARY', 'ASTELL’S ISLAND', 'ASTRAEA', 'ASTRUC, JOHN', 'AIEMPO GIUSTO', 'ATHANASIAN CREED', 'ATHANASIUS, ST', 'ATHENAEUM', 'ATHENAEUS', 'ATHLETAE', 'ATKINS, SIR ROBERT', 'ATKINS, SIR ROBERT', 'ATKYNS, RICHARD', 'ATLANTIC OCEAN', 'ATOMICAL PHILOSOPHY', 'ATOMIC THEORY', 'ATTERBURY, DR FRANCIS', 'ATTICA, AN', 'ATTICÜS, TITUS POMPONIUS', 'ATTRACTION OF MOUNTAINS', 'ATWOOD, GEORGE', 'AUBIN DE CORMIER, ST', 'AUBREY, JOHN', 'AUCKLAND-BISHOPS', 'AUDRAN, CLAUDE', 'AUDRAN, CARL', 'AUDRAN, GERMAIN', 'AUDRAN, CLAUDE', 'AUDRAN, BENOIT', 'AUDRAN, JOHN', 'AUDRAN, LOUIS', 'AUDRAN, BENOIT', 'AUGUSTALIS PRAEFECTUS', 'AUGUSTAN CONFESSION', 'AUGUSTINE, ST', 'AUGUSTINE, ST', 'AUGUSTUS, FORT', 'AULA REGIA', 'AULUS GELLIUS', 'AUNGERVYLE, RICHARD', 'AURAE', 'AURELIANUS, LUCIUS DOMITIUS', 'AURELIUS VICTOR', 'AURIOL’S ISLAND', 'AURORA BOREALIS', 'AUSONIUM MARE', 'AUSTLE, ST', 'AUSTRALASIA, IN', 'AUSTRIA, THE ARCHDUCHY', 'AUTUMNAL EQUINOX', 'AUTUMNAL SIGNS', 'AUXILIARY VERBS', 'AVE-MARIA', 'AVENTINE, JOHN', 'AVENTINUS MONS', 'AVENZOAR, ABU MERWAN ABDALMALEC', 'AVERNES', 'AVERNUS', 'AVESBURY, ROBERT', 'AVISON, CHARLES', 'AXINOMANCY, AXINOMANTIA', 'AXIOM, AXIOMA', 'AYLMER, JOHN', 'AYSCUE, SIR GEORGE', 'AZIMUTH COMPASS', 'AZIMUTH CIRCLES', 'AZOGA SHIPS', 'AZZARA, JOSEPH FELIX NICHOLAS', 'BAAL-PEOR', 'BABINGTON, GERVASE', 'BABYLONIAN, BABYLONIUS', 'BABYLONICA TEXTA', 'BACCHAE', 'BACCIO', 'BACHELORS', 'BACHIAN', 'BACON, ROGER', 'BACON, SIR NICHOLAS', 'BACON, FRANCIS', 'BACON, JOHN', 'BACONTHORP, JOHN', 'BADEN-WEILLER', 'BADENS, FRANCIS', 'BADILE, ANTONIO', 'BADIUS, JOSSE', 'BAETICA', 'BAETYLIA', 'BAEZA', 'BAGLIVI, GEORGE', 'BAGNOLAS', 'BAIAE', 'BAIL, BALLIUM', 'BAILH, DAVID', 'BAILLET, ADRIAN', 'BAILLIE, ROBERT', 'BAILLY, JEAN SYLVAIN', 'BAINBRIDGE, DR JOHN', 'BAKER, SIR RICHARD', 'BAKER, THOMAS', 'BAKER, THOMAS', 'BAKER, DAVID ERSKINE', 'BAKEWELL, ROBERT', 'BALAGHAUT CEDED DISTRICTS', 'BALANCE OF POWER, AMONG', 'BALDINUCCI, PHILIP', 'BALE, JOHN', 'BALEARES INSULAE', 'BALEN, HENDRICK', 'BALES, PETER', 'BALEY, WALTER', 'BALGUY, JOHN', 'BALGUY, THOMAS, D', 'BALINDERRY', 'BALLENDEN, SIR JOHN', 'BALLISTIC PENDULUM', 'BALLYBAY', 'BALLYRAGGET', 'BALNAVES, HENRY', 'BALNEARII SERVI', 'BALNEARIUS FUR', 'BALZAC, JOHN LEWIS GUEZ', 'BAMBOCCIO', 'BANDINI, ANGELO MARIA', 'BAÑIER, ANTHONY', 'BANISTER, JOHN', 'BANKS, JOHN', 'BANKS, SIR JOSEPH', 'BANQUETING ROOM', 'BAPTISMAL VOW', 'BAPTISMAL PRESENTS', 'BAPTIST, JOHN MONNOYER', 'BAR-SUR-SEINE', 'BARA-FRANCA', 'BARBAROSSA, ARUCH AND HAYRADDIN', 'BARBATELLI, BERNARDINO', 'BARBERINO, FRANCIS', 'BARBEYRAC, JOHN', 'BARBIERI, GIOVANNI FRANCESCO', 'BARBIERI, PAOLO ANTONIO', 'BARBOUR, JOHN', 'BARCLAY, ALEXANDER', 'BARCLAY, WILLIAM, Μ', 'BARCLAY, WILLIAM, LL', 'BARCLAY, ROBERT', 'BARCLAY, JOHN, M', 'BARGAIN AND SALE', 'BARLAEUS, GASPAR', 'BARLOW, WILLIAM', 'BARLOW, WILLIAM', 'BARLOW, THOMAS', 'BARLOW, JOEL', 'BARNABAS’S DAY, ST', 'BARNES, JOSHUA', 'BARNEVELDT, JOHN', 'BAROCCI, FREDERIC', 'BAROMETER OUR', 'BARON AND FEME', 'BARON AND FEME', 'BARON, ROBERT', 'BARONETS OF SCOTLAND', 'BARONETS OF IRELAND', 'BARONI, LEONORA', 'BARRABA, DESERT OF', 'BARRE, LOUIS FRANÇOIS JOSEPH', 'BARREN ISLAND CAPE', 'BARRINGTON, JOHN SHUTE, LORD VISCOUNT BAR-', 'BARRINGTON, DAINES', 'BARROS, JOHN DEI', 'BARROW, ISAAC', 'BARRY, GIRALD', 'BARRY, JAMES', 'BARSANTI, FRANCISCO', 'BARTAS, WILLIAM', 'BARTHELEMY, JOHN JAMES', 'BARTHEZ, PAUL JOSEPH', 'BARTHIUS, GASPARD', 'BARTHOLINUS, GASPARD', 'BARTHOLINUS, THOMAS', 'BARTHOLOMEW’S DAY, ST', 'BARTOLOCCI, JULIUS', 'BARTOLOMEO, FRANCISCO', 'BASEDOW, JOHN BERNARD', 'BASHEE ISLES', 'BASILĨAN MONKS', 'BASKERVILLE, JOHK', 'BASKET-SALT', 'BASNAGE, JAMES', 'BASNAGE, HENRY', 'BASS, ISLE OF', 'BASS’S STRAITS', 'BASSAN, GIACOMO', 'BASSANI, GIOVANNI BATTISTA', 'BASSANTIN, JAMES', 'BASSE TERRE', 'BASSET, PETER', 'BASTARDY, ARMS OF', 'BASTARNAE', 'BASTARNICAE ALPES', 'BASTON, ROBERT', 'BASTWICK, DR JOHN', 'BATAVORUM INSULA', 'BATE, GEORGE', 'BATE ISLE', 'BATES, WILLIAM, D', 'BATHS, BALNEA', 'BATHS OF AGRIPPA, THERMAE AGRIPPINAE', 'BATHURST, RALPH, M', 'BATHURST, ALLEN', 'BATHYLLUS AND PY', 'BATMANSON, JOHN', 'BATTAE', 'BATTISTA, FRANCO', 'BAUDELOT, CHARLES CAESAR', 'BAUDIER, MICHAEL', 'BAUDIUS, DOMINIC', 'BAUDRAND, MICHAEL ANTHONY', 'BAUHIN, JOHN', 'BAUHIN, GASPARD', 'BAUMAN ISLANDS', 'BAUME, ANTHONY', 'BAUR, JOHN WILLIAM', 'BAXTER, RICHARD', 'BAXTER, WILLIAM', 'BAXTER, ANDREW', 'BAY WINDOW', 'BAYARD, PETER', 'BAYEN, PETER', 'BAYLE, PETER', 'BAYLY, LEWIS', 'BEALE, MARY', 'BEAR ISLAND', 'BEARDS', 'BEARDED WOMEN', 'BEARINGS', 'BEAT OF DRUM', 'BEAT, ST', 'BEATING TIME', 'BEATON, DAVID', 'BEATORUM INSULA', 'BEATTIE, JAMES, LL', 'BEAULIEU, SEBESTIAN', 'BEAUMARCHAIS, PIERRE AUGUSTIN CARON', 'BEAUMONT, SIR JOHN', 'BEAUMONT AND FLETCHER', 'BEAUSOBRE, ISAAC', 'BEAUTY, THAT', 'BECCABUNGA, BROOKLIME', 'BECCARIA, CAESAR BONESANA, MARQUIS OF', 'BECCARIA, GIAMBATTISTA', 'BECHER, JOHN JOACHIM', 'BECK, DAVID', 'BECKET, THOMAS', 'BECKINGHAM, CHARLES', 'BECKMANN, JOHN', 'BED OF JUSTICE', 'BEDDOES, THOMAS', 'BEDELL, DR WILLIAM', 'BEDLOE, WTLŁIAM', 'BED WIN, GREAT', 'BEE-EATER', 'BEECH-MAST', 'BEEF-EATER', 'BEETHOVEN, LUDWIG VON', 'BEGA, CORNELIUS', 'BEHN, APHARA', 'BEINASCHI, GIOVANNI BATTISTA', 'BEKKER, BALTHASAR', 'BEL, MATTHIAS', 'BELFRY, BELFREDUS', 'BELIDOR, BERNARD FOREST', 'BELLA, STEFANO', 'BELLAI, WILLIAM', 'BELLARMIN, ROBERT', 'BELLEAU, REMI', 'BELLEFOREST, FRANCIS', 'BELLENDEN, JOHN', 'BELLENDEN, WILLIAM', 'BELLES LETTRES', 'BELLINI, GENTILE', 'BELLINI, LAURENCE', 'BELLORI, JOHN PETER', 'BELOMANCY, BELOMANTIA', 'BELON, PETER', 'BELT, GREAT AND LITTLE', 'BELT, BALTEUS', 'BELTS', 'BEMBO, PETER', 'BENEDICT, ST', 'BENEDICT', 'BENEFICE, BENEFICIUM', 'BENEFICIARY, BENEFICIARIUS', 'BENEFIELD, SEBASTIAN', 'BENEFIT SOCIETIES', 'BENGAL, BAY OF', 'BENI ARAX', 'BENNET, HENRY', 'BENNET, DR THOMAS', 'BENOIT, RENATUS', 'BENSON, GEORGE', 'BENTHAM, THOMAS', 'BENTINCK, WILLIAM HENRY CAVENDISH', 'BENTIVOGLIO, GUIDO', 'BENTLEY, RICHARD', 'BERG, ST WINOX', 'BERGAMO, JAMES PHILIP', 'BERGEN-OP-ZOOM', 'BERGMAN, SIR TORBERN', 'BERIA, BERIE, BERRY', 'BERING, SINUS', 'BERKELEY, GEORGE', 'BERKHAMSTEAD, GREAT', 'BERNARD, ST', 'BERNARD, DR EDWARD', 'BERNARD, JAMES', 'BERNARD, ST', 'BERNARDINE, ST', 'BERNICLE SHELL', 'BERNIER, NICHOLAS', 'BERNIER, PRANCIS', 'BERNIER’S ISLAND', 'BERNINI, JOHN LAURENCE', 'BEROEA', 'BEROLA, NUOVΛ', 'BERRETONI, NICOLO', 'BERRIMAN, DR WILLIAM', 'BERTHOUD, FERDINAND', 'BERWICK, NORTH', 'BETHORON, UPPER AND NETHER', 'BETH-PEOR', 'BETHUNE, MAXIMILIAN', 'BETTERTON, THOMAS', 'BETTINÉLLI, XAVIER', 'BETULEIUS, SIXTUS', 'BEVELAND, NORTH AND SOUTH', 'BEVERIDGE, WILLIAM', 'BEVERLAND, HADRIAN', 'BEVERLEY, JOHN OF', 'BEVIN, ELWAY', 'BEYS, GILES', 'BEZA, THEODORE', 'BIAEUM', 'BIAEUM', 'BIANCHI, FRANCESCO', 'BIBIENA, FERDINAND GALLI', 'BIBLIANDER, THEODORE', 'BICHAT, MARIE FRANÇOIS XAVIER', 'BIDDING PRAYER', 'BIDDLE, JOHN', 'BIDLOO, GODFREY', 'BIGHORN RIVER', 'BIGNON, JEROME', 'BILFINGER, GEORGE BERNARD', 'BILGE OF', 'BILL OF ENTRY', 'BILSON, THOMAS', 'BINARY ARITHMETIC', 'BINARY MEASURE', 'BINGHAM, JOSEPH', 'BIQUADRATIC EQUATION', 'BIRCH, THOMAS', 'BIRD, WILLIAM', 'BIRDS', 'BIRON, ARMAND', 'BISHOP’S COURT', 'BISHOP’S CASTLE', 'BISHOP’S STORTFORD', 'BISHOP’S WALTHAM', 'BISHOP’S WEARMOUTH', 'BISSAT, PETER', 'BLACK, DR JOSEPH', 'BLACK-MAIL', 'BLACK- TIN', 'BLACK- WHYTLOF', 'BLACK- WORK', 'BLACKALL, OFFSPRING', 'BLACKLOCK, THOMAS', 'BLACKMORE, SIR RICHARD', 'BLACKSTONE, SIR WILLIAM', 'BLACKWALL, ANTHONY, A', 'BLACKWELL, THOMAS', 'BLACKWELL, ALEXANDER', 'BLADEN, MARTIN', 'BLAEU, WILLIAM', 'BLAGRAVE, JOHN', 'BLAIR, DR HUGH', 'BLAIR, JAMES', 'BLAIR, JOHN', 'BLAIR, JOHN', 'BLAIR, ROBERT', 'BLAIR-ATHOLE', 'BLAKE, ROBERT', 'BLANC, MONT', 'BLANCHARD, JAMES', 'BLANKOF, JOHN TEUNISZ', 'BLOCH, MARK ELEAZAR', 'BLOCK-MACHINERY', 'BLOND, CHRISTOPHER', 'BLONDEL, DAVID', 'BLONDEL, FRANCIS', 'BLONDUS, FLAVIUS', 'BLOOD OF CHRIST', 'BLOSSOMING OF PLANTS', 'BLOUNT, THOMAS', 'BLOUNT, SIR HENRY', 'BLOUNT, SIR THOMAS POPE', 'BLOUNT, CHARLES', 'BLOW, DR JOHN', 'BLOWING OF GLASS', 'BLOWING MACHINES', 'BLUE JOHN', 'BLUE VITRIOL', 'BLUING OF IRON', 'BOARD, BUREAU', 'BOAT-BILL', 'BOCCALINI, TRAJAN', 'BOCCONE, PAOLO SYLVIO', 'BOCHART, SAMUEL', 'BODIN, JOHN', 'BODLEY, SIR THOMAS', 'BODONI, GIAMBATISTA', 'BOEHMEN, JACOB', 'BOEOTIA', 'BOERHAAVE, HERMAN', 'BOGARMITAE', 'BOHEMIAN BRETHREN', 'BOIARDO, COUNT MATTEO MARIA', 'BOILEAU, DESPREAUX NICOLAS', 'BOISSARD, JOHN JAMES', 'BOLANDUS, JOHN', 'BOLEYN, ANN', 'BOLINGBROKE, HENRY ST JOHN', 'BOLIVAR, SIMON', 'BOLOGNIAN STONE', 'BOLSČHAIA REKA', 'BONA DEA', 'BONA VACANTIA', 'BOND, JOHN', 'BONFADIO, JAMES', 'BONFINI, ANTHONY', 'BONFRERE, JAMES', 'BONGARS, JAMES', 'BONNEE RIVER', 'BONNER, EDMUND', 'BONNET, CHARLES', 'BONNEVAL, CLAUDE ALEXANDER, COUNT', 'BONVINCINO, ALESSANDRO', 'BONZES, INDIAN', 'BOOK-KEEPING', 'BOOTH, BARTON', 'BORDA, JOHN CHARLES', 'BORDE, ANDREW', 'BOREL, PETER', 'BORELLI, JOHN ALPHONSO', 'BORGIA, CAESAR, DUKE OF VALENTINO', 'BORN, IGNATIUS, BARON VON', 'BOROMAEUS', 'BORRICHIUS, OLAUS', 'BORROMEAN ISLANDS', 'BORROMEUS, ST CHARLES', 'BOS, JOHN BAPTIST', 'BOSCAN, ALMOGAVER, JUAN', 'BOSCAWEN, EDWARD', 'BOSCOVICH, ROGER JOSEPH', 'BOSSU, RENE LE', 'BOSSUET, JAMES BENIGNE', 'BOSWELL, JAMES, ESQ', 'BOSWORTH-MARKET', 'BOTANY BAY', 'BOTH, JOHN AND ANDREW, FLEMISH', 'BOTTICELLI, ALESANDRO', 'BOTTRIGARI, HERCOLE', 'BOUCHE OF COURT', 'BOUFLERS, LOUIS FRANCIS, DUKE OF', 'BOUGAINVILLE, LOUIS ANTOINE', 'BOUGEANT, WILLIAM HYACINTH', 'BOUGUER, PETER', 'BOUHOURS, DOMINIC', 'BOULAIN VILLIERS, HENRY', 'BOULANGER, NICHOLAS ANTHONY', 'BOULANGER, JOHN', 'BOULAY, CAESAR EGASSE', 'BOULDER-WALL', 'BÓULTER, DR HUGH', 'BOULTON, MATTHEW', 'BOURCHIER, JOHN, LORD BERNARS', 'BOURDALOUE, LOUIS', 'BOURDELOT, JOHN', 'BOURDON, SEBASTIAN', 'BOURGET, DOM JOHN', 'BOURGOING, JOHN FRANCIS', 'BOURIGNON, ANTOINETTE', 'BOUTS-RIMES', 'BOVEY-TRACY', 'BOW-LINE', 'BOWLDER STONES', 'BOWYER, WILLIAM', 'BOXHORNIUS, MARC ZUERIUS', 'BOYCE, HECTOR', 'BOYD, MARK ALEXANDER', 'BOYER, ABEL', 'BOYLE, RICHARD', 'BOYLE, RICHARD', 'BOYLE, IŁOGER, EARL OF', 'BOYLE, ROBERT', 'BOYLE, CHARLES', 'BOYLE, JOHN', 'BOYLE’S LECTURES', 'BOYSE, SAMUEL', 'B QUADRO', 'BRACCIOLINI, FRANCIS', 'BRACKETS', 'BRACTON, HENRY, LORD CHIEF JUSTICE OF ENGLAND', 'BRADFORD, JOHN', 'BRADLEY, DR JAMES', 'BRADSHAW, HENRY', 'BRADSHAW, JOHN', 'BRADWARDIN, THOMAS', 'BRADY, ROBERT', 'BRADY, NICHOLAS', 'BRAHE, TYCHO', 'BRAHOOICK MOUNTAINS', 'BRAMAH, JOSEPH', 'BRAMHALL, DR JOHN', 'BRANCHIDAE', 'BRAND SUNDAY, DIMANCHE', 'BRANDT, GERARD', 'BRASSICA CABBAGE', 'BRAULS, INDIAN', 'BRAY, SIR REGINALD', 'BRAY, BR THOMAS', 'BRAZEN SEA', 'BREAKWATER OF CHERBOURG', 'BRECHIN CASTLE', 'BREDA, JOHN VAN', 'BREENBERG, BARTHOLOMEW', 'BREMEN STATE', 'BRENNAGE, BREXNAGIUM', 'BREREWOOD, EDWARD', 'BRETHREN AND SISTERS OF', 'BREUGHEL, JOHN', 'BREWER, ANTHONY', 'BRIDGE-TOWN', 'BRIGGS, HENRY', 'BRIGGS, WILLIAM', 'BRINDLEY, JAMES', 'BRISSON, MATHURIN JAMES', 'BRISSOT, PETER', 'BRISSOT, JOHN PETER', 'BRISTOL CHANNEL', 'BRITAIN, OR GREAT BRITAIN, THE', 'BRITAIN, NEW', 'BROAD PIECE', 'BROADSIDE', 'BROCKLESBY, RICHARD', 'BRODEAU, JOHN', 'BROKE, SIR ROBERT', 'BROME, ALEXANDER', 'BROME, RICHARD', 'BROOKE, MRS', 'BROOME, WILLIAM', 'BROSSARD, SEBASTIAN', 'BROSSES, CHARLES', 'BROTHER, PRATER', 'BROTHERS OF ARMS', 'BROUGHTON, THOMAS', 'BROUSSONET, PIERRE MARIE AUGUSTE', 'BROWN, ROBERT', 'BROWN, ULYSSES MAXIMILIAN', 'BROWN, WILLIAM', 'BROWN, THOMAS', 'BROWN, DR JOHN', 'BROWN, SIMON', 'BROWN, ISAAC HAWKINS', 'BROWN, SIR WILLIAM', 'BROWN, JOHN', 'BROWN, WILLIAM LAURENCE', 'BROWN, THOMAS', 'BROWNE, SIR THOMAS', 'BROWNE, EDWARD', 'BROWNE, WILLIAM GEORGE', 'BROWNRIGG, DR WILLIAM', 'BRUCE, ROBERT', 'BRUCKER, JAMES', 'BRUIN, JOHN', 'BRUMOY, PETER', 'BRUN, CHARLES', 'BRUNO, JORDANO', 'BRUNSWICK, DUCHY OF', 'BRUTUS, LUCIUS JUNIUS', 'BRUYERE, JOHN', 'BRYANT, SIR FRANCIS', 'BRYANT, JACOB', 'BRYENNIUS, MANUEL', 'BUAT-NANCAY, LOUIS GABRIEL, COUNT', 'BUC, GEORGE', 'BUCER, MARTIN', 'BUCHANAN, GEORGE', 'BUCKENHAM, NEW', 'BUCKINGHAM, GEORGE VILLIERS, DUHE OF', 'BUDAEUS, WILLIAM', 'BUDDAEUS, JOHN FRANCIS', 'BUDGELL, EUSTACE', 'BUDNAEANS', 'BUDZIAC TARTARY', 'BUENOS AYRES, THE', 'BUFFIER, CLAUDE', 'BUFFON, GEORGE LOUIS', 'BULEUTAE', 'BULK OF', 'BULL, DR JOHN', 'BULL, GEORGE', 'BULLAE', 'BULLEYN, WILLIAM', 'BULLIALDUS, ISMAEL', 'BULLINGER, HENRY', 'BUNEL, PETER', 'BUNYAN, JOHN', 'BURCKHARDT, JOHN LUDWIG', 'BURGER, GODFREY AUGUSTUS', 'BURGOMASTER', 'BURIDAN, JOHN', 'BURKE, EDMUND', 'BURKITT, WILLIAM', 'BURMAN, PETER', 'BURNET, THOMAS', 'BURNET, GILBERT', 'BURNET, JAMES, LORD MONHODDO', 'BURNING GLASSES, OR BURNING MIRRORS, THE', 'BURNS, ROBERT', 'BURROW, SIR JAMES', 'BURTON, ROBERT', 'BURTON, JOHN, D', 'BURY ST EDMUNDS', 'BURYING PLACE', 'BUSBEC, AUGER GISLEN, LORD OF', 'BUSBY, DR RICHARD', 'BUSCHING, ANTHONY FREDERICK', 'BUSH, PAUL', 'BUSHIRE, ABUSCHEHR', 'BUTLER, CHARLES', 'BUTLER, SAMUEL', 'BUTLER, JOSEPH, BISHOP OF DURHAM', 'BUTTS', 'BUTTS', 'BUTTOCK OF', 'BUTTON’S BAY', 'BUXTON, JEDEDIAH', 'BUXTORF, JOHN', 'BUXTORF, JOHN', 'BYNG, GEORGE, LORD VISCOUNT TORRINGTON', 'BYROM, JOHN', 'BYRON, LG', 'BYRON’S ISLAND', 'BZOVIUS, ABRAHAM', 'C, THE', 'CABANIS, PETER JOHN GEORGE', 'CABINET-MAKING', 'CABIRI', 'CABOT, SEBASTIAN', 'CACHUNDE', 'CADENET', 'CADMEAN LETTERS', 'CADMUS OF MILETUS', 'CAELIUS, AURELI', 'CAERE', 'CAESALPINUS, ANDREW', 'CAESAR, JULIUS', 'CAESAR, SIR JULIUS', 'CAESAREA', 'CAESAREAN OPERATION', 'CAESARIANS, COESARIENSES', 'CAESONES', 'CAESTUS', 'CAESTUS', 'CAESURA', 'CAESURA', 'CAETERIS PARIBUS', 'CAGAYAN SOOLOO', 'CAGLIARI, CAPO DI', 'CAGLIARI, PAOLO', 'CAHUSAC', 'CAILLE, NICHOLAS LOUIS', 'CAJETAN, CARDINAL', 'CALABRIA CITERIORE', 'CALABRIA ULTERIORE', 'CALAIS, ST', 'CALAMUS SCRIPTORIUS', 'CALAMY, EDMUND', 'CALAMY, EDMUND', 'CALAS, JOHN', 'CALASCIBETTA', 'CALASIO, MARIUS', 'CALAURIA', 'CALCAR, JOHN', 'CALC-SINER', 'CALC-TUFF', 'CALCULUS MINERVOE', 'CALDERINUS, DOMITIUS', 'CALDERON DE LA BARCA, DON PEDRO', 'CALDERWOOD, DAVID', 'CALDWALL, RICHARD', 'CALENDER OF MONTEITH', 'CALENTIÜS, ELISIUS', 'CALEPIN, AMBROSIUS', 'CALIBER COMPASSES', 'CALICO-PRINTING', 'CALIPPIC PERIOD', 'CALLINGER', 'CALLINGER', 'CALLINUS OF EPHESUS', 'CALLIPAEDIA', 'CALLOT, JAMES', 'CALLYGONG HILLS', 'CALM LATITUDES', 'CALMET, AUGUSTINE', 'CALPURNIUS, TITUS', 'CALVART, DENIS', 'CALVERT, GEORGE', 'CALVIN, JOHN', 'CALVISIUS, SETH', 'CALVUS, CORNELIUS LICINIUS', 'CALYCISTAE', 'CAMBERED DECKS', 'CAMDEN, WILLIAM', 'CAMERA AEOLIA', 'CAMERA LUCIDA', 'CAMERA INICIDA', 'CAMERARIUS, JOACHIM', 'CAMERARIUS, JOACHIM', 'CAMERON, JOHN', 'CAMILLUS, MARCUS FURIUS', 'CAMILLI AND CAMILLAE', 'CAMISO', 'CAMLETINE', 'CAMOENS, LOUIS', 'CAMPANELLA, THOMAS', 'CAMPANI, MATTHEW', 'CAMPBELL, ARCHIBALD, EARL AND MARQUIS OF ARGYLL', 'CAMPBELL, ARCHIBALD, EARL OF ARGYLL', 'CAMPBELL, ARCHIBALD', 'CAMPBELL, JOHN', 'CAMPBELL, ARCHIBALD', 'CAMPBELL, JOHN', 'CAMPBELL, GEORGE, D', 'CAMPER, PETER', 'CAMPI ΛN, EDMUND', 'CAMPITAE', 'CAMPOMANES, D', 'CAMPO FORMIO', 'CAMPO MAYOR', 'CAMPUS MAIL', 'CAMPUS MARTIUS', 'CAMPUS SCELERATUS', 'CAMUS, CHARLES STEPHEN LOUIS', 'CANCAR, CANCAO, PONTHIAMES', 'CANDA', 'CANDAHAR', 'CANDAHAR', 'CANDIAC, JOHN LOUIS', 'CANELLI', 'CANEPHORAE', 'CANES AND CANCIIES', 'CANES VENATICI', 'CANGE, CHARLES', 'CANINE MADNESS', 'CANINI, JOHN ANGELO AND MARC ANTHONY', 'CANIS MINOR', 'CANISIUS, HENRY', 'CANNAE', 'CANNEL COAL', 'CANNING, GEORGE', 'CANONICAL SINS', 'CANONICAL LIFE', 'CANONICAL LETTERS', 'CANOVA, ANTONIO', 'CANTACUZENUS, JOHANNES', 'CANTARINI, SIMON', 'CANTEMIR, DEMETRIUS', 'CANTERUS, WILLIAM', 'CAP OF MAINTENANCE', 'CAP AND BUTTON ISLES', 'CAPE BRETON', 'CAPELL, EDWARD', 'CAPELLUS, LEWIS', 'CAPILUPI, LAELIUS', 'CAPITAL STOCK', 'CAPITAL CRIME', 'CAPITAL LETTERS', 'CAPITANEUS ECCLESIAE', 'CAPITE CENSI', 'CAPITOL, CAPITOLIUM', 'CAPITOLINE GAMES', 'CAPITOLINUS, JULIUS', 'CAPMANI, D', 'CAPO D’ISTRIA', 'CAPOSELE', 'CAPRIATA, PETER JOHN', 'CAPSA', 'CAPTAIN-LIEUTENANT', 'CAPTAIN REFORMED', 'CAPUT BARONICE', 'CAPUT MORTUUM', 'CARACALLA, Μ', 'CARACCI, LOUIS, AUGUSTINE', 'CARDAN, JEROM', 'CARDIACS', 'CARDINAL POINTS', 'CARDINAL SIGNS', 'CARDINAL NUMBERS', 'CARDINALS', 'CAREW, GEORGE', 'CAREW, BICHARD', 'CAREW, GEORGE', 'CAREY, HARRY', 'CARIBBEE ISLANDS', 'CARIMON, JAVA', 'CARINAE', 'CARLETON, SIR DUDLEY', 'CARLINES', 'CARLOS, SAN', 'CARLSBURG', 'CARLSBURG', 'CARLSRUHE', 'CARLYLE, JOSEPH DACRE', 'CARO, ANNIBAL', 'CAROLINA, NORTH', 'CAROLINA, SOUTH', 'CAROLINE ISLANDS', 'CAROLINE BOOHS', 'CARPATHIUM MARE', 'CARPAEA', 'CARPENTARIA, GULF OF', 'CARRARA MARBLE', 'CARRIER- PIGEON', 'CARSE OF FALKIRK, THE', 'CARSE OF GOWRIE, THE', 'CARSE OF STIRLING, THE', 'CARSTAIRS, WILLIAM', 'CARSUCAL, RAINIER', 'CARTS OF WAR', 'CARTE, THOMAS', 'CARTE BLANCHE', 'CARTHAGENA', 'CARTHAGENA', 'CARTWRIGHT, WILLIAM', 'CARY, LUCIUS, LORD VISCOUNT FALKLAND', 'CARY, ROBERT', 'CARYL, JOSEPH', 'CARYLL, JOHN', 'CASA, SANTA', 'CASA GRANDE', 'CASAS, BARTHOLOMEO', 'CASATI, PAUŁ', 'CASAUBON, ISAAC', 'CASAUBON, MERIC', 'CASERTA-NOVA', 'CASIRI, MICHAEL', 'CASLON, WILLIAM', 'CASSANA, NICOLO', 'CASSINI, JOHANNES DOMINICUS', 'CASSIODORUS, MARCUS AURELIUS', 'CASSIUS, SPURIUS', 'CASSIUS LONGINUS', 'CASTALIAN SPRING', 'CASTALIO, SEBASTIAN', 'CASTALIUS FONS', 'CASTEL, LEWIS BERTRAND', 'CASTEL BRANCO', 'CASTEL, SARRASIN', 'CASTELL, DR EDMUND', 'CASTELLI, BERNARD', 'CASTELLORUM OPERATIO', 'CASTELVETRO, LUIGI', 'CASTI, GIAMBATTISTA', 'CASTIGLIONE, GIOVANNI BENEDETTO', 'CASTIGLIONI, BALTHAZAR', 'CASTILE, OLD', 'CASTILE, NEW', 'CASTLES', 'CASTLE-CAREY', 'CASTLE-DOUGLAS', 'CASTLE-ISLAND', 'CASTLE-LYONS', 'CASTLE-RISING', 'CASTOR AND POLLUX', 'CASTOR AND POLLUX', 'CASTRIES, BAY OF', 'CASTRO GIOVANNI', 'CASTRO MARIM', 'CASTRO NUOVO', 'CASTRO REALE', 'CASTRO VILLARI', 'CASTRO VIREYNA', 'CASTRUCCIO CASTRACANI', 'CASTRUM DOLORIS', 'CATACOMBS OF ITALY', 'CATAPHRACTAE NAVES', 'CATARA', 'CATCH-JPOZC', 'CATCH- WORD', 'CATEAU, LE', 'CATHERINE PARR', 'CATHERINE II', 'CATHERINE’S, ST', 'CATHERINE’S, ST', 'CATHETUS OF INCIDENCE', 'CATHETUS OF REFLECTION', 'CATHETUS OF OBLIQUATIOΗ', 'CATHOLIC CHURCH', 'CATILINE, LUCIUS SERGIUS', 'CATO, MARCUS PORTIUS', 'CATOPTROMANCY, KAROΠ', 'CATROU, FRANCIS', 'CATTIVELLAUNI', 'CATULLUS, CAIUS VALERIUS', 'CATZ, JAMES', 'CAULABAGH', 'CAUNE, LA', 'CAUSSIN, NICHOLAS', 'CAVALIERE, CAPE', 'CAVALIERI, BONAVENTURE', 'CAVALLO, TIBERIUS', 'CAVANILLES, ANTONIO JOSE', 'CAVE, DR WILLIAM', 'CAVE, EDWARD', 'CAVENDISH, THOMAS', 'CAVENDISH, SIR WILLIAM', 'CAVENDISH, MARGARET, DUCHESS OF NEWCASTLE', 'CAVENDISH, WILLIAM', 'CAVENDISH, HENRY', 'CAXTON, WILLIAM', 'CAYAGAN SOOLOO ISLES', 'CAYLUS, ANNE-CLAUDE, PHILIPPE', 'CAZIC', 'CECIL, WILLIAM, LORD BURGHLCY', 'CECILIA, ST', 'CEDRENUS, GEORGE', 'CELLARS', 'CELLARIUS, CHRISTOPHER', 'CELLINI, BENVENUTO', 'CELSUS, AURELIUS CORNELIUS', 'CELTAE', 'CENSIO HASTARIA', 'CENSORS OF BOOHS', 'CENSUS EQUESTER', 'CENSUS DOMINICATUS', 'CENSUS DUPLICATUS', 'CENSUS ECCLESIOE ROMANAE', 'CENTRE OF MOTION', 'CENTESIMA USURA', 'CENTLIVRE, SUSANNA', 'CENTRAL FORCES', 'CENTRIFUGAL FORCE', 'CENTRIPETAL FORCE', 'CERAMLAUT ISLES', 'CERATION', 'CERATION', 'CEREMONIAL ÇCEREMONIALE', 'CERNE ABBAS', 'CERNEUX-PEQUINOT', 'CESAROTTI, MELCHIOR', 'CESSIO BONORUM', 'CHAIN-BRIDGES', 'CHALCOND ÝLAS, DEMETRIUS', 'CHALDEE LANGUAGE', 'CHALDEE PARAPHRASE', 'CHALMERS, GEORGE', 'CHALONER, SIR THOMAS', 'CHALONER, SIR THOMAS', 'CHAMBERLAYNE, EDWARD', 'CHAMBERLAYNE, JOHN', 'CHAMBERS, DAVID', 'CHAMBERS, EPHRAIM', 'CHAMIER, DANIEL', 'CHAMPAGNY’S ARCHIPELAGO', 'CHANAK KALESI', 'CHANANAEI', 'CHANDLER, MARY', 'CHANDLER, DR SAMUEL', 'CHANG-TONG', 'CHANTERS', 'CHAO-TCHEOU-FOU', 'CHAPEL-HILL', 'CHAPELAIN, JOHN', 'CHAPELLE, CLAUDIUS EMANUEL LUILLIER', 'CHAPMAN, GEORGE', 'CHAPPEL, WILLIAM', 'CHAPTAL, JEAN ANTOINE CLAUDE', 'CHARDIN, SIR JOHN', 'CHARENTE, LOWER', 'CHARIOTS', 'CHARITE, LA', 'CHARLES MARTEL', 'CHARLES V', 'CHARLES I', 'CHARLES’S WAIN', 'CHARLETON, WALTER', 'CHARPENTIER, FRANCIS', 'CHARRON, PETER', 'CHARTULARY, CHARTULARIUS', 'CHATHAM ISLAND', 'CHATTERTON, THOMAS', 'CHAUCER, GEOFFREY', 'CHAUD MEDLEY', 'CHAUVIN, STEPHEN', 'CHAZELLES, JEAN MATHIEU', 'CHEKE, SIR JOHN', 'CHELIDONIUS LAPIS', 'CHEMISTRY OF ORGANIC BODIES', 'CHENIER, MARIE JOSEPH', 'CHERILUS OF SAMOS', 'CHESAPEAK BAY', 'CHESELDEN, WILLIAM', 'CHESTERFIELD, EARL OF', 'CHEVREAU, URBAN', 'CHEYNE, DR GEORGE', 'CHIABRERA, GABRIEL', 'CHIARI, JOSEPH', 'CHIARO SCURO', 'CHICA NAYAKANA HULLY', 'CHILLAMBARAM PAGODA', 'CHILLINGWORTH, WILLIAM', 'CHIMAERA', 'CHIMES OF', 'CHIMNEYS', 'CHINA- ROOΤ', 'CHINA- WARE', 'CHIPPING-NORTON', 'CHIPPING-ONGAR', 'CHIPPING-SODBURY', 'CHOERINAE', 'CHOLERA MORBUS', 'CHOP-CHURCH', 'CHOREUS, XOSΕOΣ', 'CHOUL, UPPER', 'CHOUL, LOWER', 'CHRISTMAS DAY', 'CHRISTOPHERS, ST', 'CHROMATIC, ENHARMONIC', 'CHRYSOLORAS, MANUEL', 'CHRYSOLORAS, JOHN', 'CHRYSOLORAS, DEMETRIUS', 'CHRYSOSTOM, ST JOHN', 'CHUBB, THOMAS', 'CHURCHILL, JOHN, DUKE OF MARLBOROUGH', 'CHURCHILL, CHARLES', 'CHURCHYARD, THOMAS', 'CIBBER, COLLEY', 'CIBUS FERIALIS', 'CICERO, MARCUS TULLIUS', 'CIGNANI, CARLO', 'CIMABUE, GIOVANNI', 'CIMAROSA, DOMENICO', 'CIMOLIA TERRA', 'CIMOLIA ALBA', 'CINQUE PORTS', 'CIOTAT, LA', 'CIRCARS, NORTHERN', 'CIRCENSIAN GAMES', 'CIRCLES OF ALTITUDE', 'CIRCLES OF LATITUDE', 'CIRCULAR NUMBERS', 'CIRCUMPOLAR STARS', 'CISPADANA GALLIA', 'CITHAERON', 'CIVIC CROWN', 'CIVIL STATE', 'CLAGET, WILLIAM', 'CLAIR OBSCURE', 'CLAIRAULT, ALEXIS-CLAUDE', 'CLAPPERTON, HUGH', 'CLARENDON, CONSTITUTIONS OF', 'CLARENDON, EARL OF', 'CLARKE, DR SAMUEL', 'CLARKE, SAMUEL', 'CLARKE, DR SAMUEL', 'CLARKE, WILLIAM', 'CLARKE, EDWARD DANIEL', 'CLAUBERG, JOHN', 'CLAUDE, ST', 'CLAUDIA AQUA', 'CLAUDIANUS, CLAUDIUS', 'CLAVES INSULAE', 'CLAVI VESTIUM', 'CLAVIUS, CHRISTOPHER', 'CLAVUS ANNALIS', 'CLAYTON, ROBERT, D', 'CLEDONISM, CLEDONISMUS', 'CLEMENS ROMANUS', 'CLEMENS ALEXANDRIMΙS', 'CLEMENT VII', 'CLEMENT XIV', 'CLEMENTI, MUZΙO', 'CLEMENTINES', 'CLEOBIS AND BITON', 'CLEOMBROTUS II', 'CLEOMBROTUS III', 'CLEOMENES II', 'CLEOMENES III', 'CLERC, JOHN', 'CLERKE, CAPTAIN CHARLES', 'CLERKE’S ISLAND', 'CLEVELAND, JOHN', 'CLIVE, ROBERT, LORD', 'CLOACAE', 'CLOCKS', 'CLODIUS, PUBLIUS', 'CLOUD, ST', 'CLOVIO, GIORGIO GIULIO', 'CLUVIER, PHILIP', 'COAST CASTLE', 'COAT OF MAIL', 'COCCEIUS, JOHN', 'COCKBURNE, MRS CATHARINE', 'COCLES, PUBLIUS HORATIUS', 'CODRINGTON, CHRISTOPHER', 'CO-EFFICIENTS', 'COELOSYRIA', 'COELUS', 'COEMETERY', 'COENOBIUM', 'CO-HEIR', 'CÖHORN, MENNO, BARON', 'COKE, SIR EDWARD', 'COLAIR LAKE', 'COLBERT, JOHN BAPTISTE, MARQUIS OF SEGNELAY', 'COLE, WILLIAM', 'COLET, JOHN', 'COLIGNI, GASPARD', 'COLLATERAL SUCCESSION', 'COLLECT, COLLECTION', 'COLLEGE OF ELECTORS', 'COLLEGE OF PRINCES', 'COLLEGE OF CARDINALS', 'COLLEGE OF CIVILIANS', 'COLLEGE OF PHYSICIANS', 'COLLEGE OF JUSTICE', 'COLLEGE OF HERALDS', 'COLLEGIANS, COLLEGIANI, COLLEGIANTS', 'COLLIER, JEREMY', 'COLLINGWOOD, CUTHBERT', 'COLLINS, ANTHONY', 'COLLINS, WILLIAM', 'COLLINSON, PETER', 'COLLYRAE', 'COLMAN, GEORGE', 'COLMENAR, VIEJO', 'COLOURS', 'COLOURS', 'COLUMB-KILL', 'COLUMBA, ST', 'COLUMBIA RIVER', 'COLUMBUS, CHRISTOPHER', 'COLUMELLA, LUCIUS JUNIUS MODERATUS', 'COMBUSTIO PECUNIAE', 'COMENIUS, JOHN AMOS', 'COMINES, PHILIPPE', 'COMITIALIS MORBUS', 'COMMIRE, JOHN', 'COMMISSARY COURT', 'COMMISSION OF BANKRUPT', 'COMMITTEE OF PARLIAMENT', 'COMMODATE, COMMODATUM', 'COMMODUS, L', 'COMMON, COMMUNIS', 'COMMON DIVISOR', 'COMMUNIBUS LOCIS', 'COMMUNION SERVICE', 'COMNENA, ANNA', 'COMORIN, CAPE', 'COMPANY’S ISLAND', 'COMPARATIVE ANATOMY', 'COMPARISON OF IDEAS', 'COMPASSES OF THREE LEGS', 'COMPLUTENSIAN BIBLE', 'COMPOSITION OF IDEAS', 'COMPOUND MOTION', 'COMPOUND NUMBERS', 'COMPTON, HENRY, BISHOP OF LONDON', 'CONANT, DR JOHN', 'CONCA, SEBASTIAN', 'CONCEPTION, IMMACULATE', 'CONCERTO GROSSO', 'CONCHITES MARMOR', 'CONCINNOUS INTERVALS', 'CONCINNOUS SYSTEM', 'CONDAMINE, CHARLES MARIE', 'CONDE, LOUIS', 'CONDILLAC, ETIENNE BONNOT', 'CONDITIONAL CONJUNCTIONS', 'CONDITIONAL PROPOSITIONS', 'CONDITIONAL SYLLOGISM', 'CONDOR, PULO ISLES', 'CONDORCET, MARIE-JEAN-ANTOINE-NICOL', 'CONFEDERATION OF', 'CONFESSION OF FAITH', 'CONFUSION OF TONGUES', 'CONGREVE, WILLIAM', 'CONISSALAE', 'CONJUGATE DIAMETER', 'CONNOR, BERNARD', 'CONRAD OF LICHTENAU', 'CONSERVATOR OF SCOTCH PRIVILEGES', 'CONSTABLE, ARCHIBALD', 'CONSTANTINE, DRACOSES', 'CONSTANTINE, ROBERT', 'CONSTANTINOPOLITAN HISTORY', 'CONTINUED BASS', 'CONTINUED PROPORTION', 'CONTRA-HARMONIC PROPORTION', 'CONTRACTILE FORCE', 'CONTRADICTORY PROPOSITIONS', 'CONVENTION OF ESTATES', 'CONVENTUS JURIDICI', 'CONVERGING RAYS', 'CONVERGING SERIES', 'CONVERTS', 'COOK, SIR ANTHONY', 'COOK, CAPTAIN JAMES', 'COOPER, ANTHONY ASHLEY', 'COOPER, JOHN GILBERT', 'COPERNICUS, NICOLAS', 'COQUES, GONZALEZ', 'COR CAROLI', 'COR IIYDRCC', 'COR LEONIS', 'CORAM, CAPTAIN THOMAS', 'CORBET, RICHARD', 'CORD OF WOOD', 'CORDAY D’ARMANS, MARIE-ANNE-CHARLOTTE', 'CORDEMOI, GERALD', 'CORDUS, VALERIUS', 'CORELLI, ARCANGELO', 'CORFE-CASTLE', 'CORIO, BERNARDINO', 'CORIOLANUS, CΛIUS MARCIUS', 'CORNARO, LUIGI', 'CORNEILLE, PETER', 'CORNEILLE, THOMAS', 'CORNEILLE, MICHAEL', 'CORNWALLIS, CHARLES', 'COROLISTAE', 'CORONA AUSTRALIS', 'CORONELLI, VINCENT', 'CORPUS CHRISTI', 'CORPUSCULAR PHILOSOPHY', 'CORRADO, SEBASTIAN', 'CORRECTION HOUSE', 'CORRUPTICOLAE', 'CORRUPTION OF BLOOD', 'CORTES OF SPAIN', 'CORTES, HERNAN', 'CORYATE, THOMAS', 'CORYPHAEUS', 'CORYVRECKAN, WHIRLPOOL OF', 'COSTANZO, ANGELO', 'COSTARD, GEORGE', 'COTA, RODRÍGUEZ', 'COTE-CAUNGRA', 'COTELERIUS, JOHN BAPTIST', 'COTES, ROGER', 'COTHURNUS, BUSKIN', 'COTTON, SIR ROBERT', 'COTTON, NATHANIEL', 'COULOMB, CHARLES AUGUSTIN', 'COUNT, COMES', 'COUNTER-FLORY', 'COUNTER-DRAWIΗG', 'COUNTER- POIL', 'COUNTER- GUARD', 'COUNTER-LIGHT', 'COUNTER- MARCH', 'COUNTER-MIΗE', 'COUNTER-PALED', 'COUNTER-PART', 'COUNTER- PASSANT', 'COUNTER- POINTED', 'COUNTERSCARP', 'COUNTERSIGNING', 'COUNTER- TIME', 'COURAYER, PETER FRANCIS', 'COURTS-BARON', 'COVERT WAY', 'COWEL, DR JOHN', 'COWES, WEST', 'COWLEY, ABRAHAM', 'COWPER, WILLIAM', 'COXE’S ISLAND', 'COX, RICHARD', 'COYPEL, ANTHONY', 'CRABBE, GEORGE', 'CRAIG, JOHN', 'CRANMER, THOMAS', 'CRASHAW, RICHARD', 'CRASSUS, Μ', 'CRATER, CUP', 'CRAWFORD, ADAIR', 'CRAYER, CASPAR', 'CRAYON PAINTING', 'CREBILLON, PROSPER JOLYOT', 'CREECH, THOMAS', 'CRELLIUS, JOHN', 'CREPIDAE', 'CRESCIMBENI, JOHN MARIA', 'CREVIER, JOHN BAPTISTE LOUIS', 'CRICHTON, JAMES', 'CRIM TARTARS', 'CRIMES AND PUNISHMENTS', 'CROIX, FRANCIS PETIT', 'CROMWELL, THOMAS, EARL OF ESSEX', 'CROMWELL, OLIVER', 'CROMWELL, RICHARD', 'CROTALYSTRIAE', 'CROUSAZ, JEAN PIERRE', 'CROWNE, JOHN', 'CROXAL, SAMUEL', 'CRYSTALLINE HEAVENS', 'CUDWORTH, RALPH', 'CUERENHERT, THEODORE VAN', 'CUFF, HENRY', 'CULLEN, DR WILLIAM', 'CULMIFEROUS PLANTS', 'CUMAE', 'CUMBERLAND, RICHARD', 'CUMBERLAND, RICHARD', 'CUMBRAY, GREAT AND LITTLE', 'CUNNINGHAM, ALEXANDER', 'CURRAN, JOHN PHILPOT', 'CURRIE, JAMES, M', 'CURTIUS, MARCUS', 'CURTIUS, QUINTUS', 'CURVATURE OF', 'CURVE OF EQUABLE APPROACH', 'CURVES, ALGEBRAICAL', 'CURVES, TRANSCENDENTAL', 'CURULE CHAIR', 'CUSA, NICHOLAS', 'CUSPINIAN, JOHN', 'CUSTOM AND HABIT', 'CUSTOS BREVIUM', 'CUSTOS SPIRITUALIUM', 'CUTTINGS', 'CUTTS, JOHN LORD', 'CUVIER, GEORGE-LEOPOLD-CIIRISTIAN-FREDERICK-DAGOBERT', 'CYAXARES II', 'CYBELLICUM MARMOR', 'CYCLADES INSULAE', 'CYCLE OF INDICTION', 'CYCLOPAEDIA', 'CYNAEGIRUS', 'CYNTHIUS AND CYNTHIA', 'CYPRIANUS, TIIASCIUS CAECILIUS', 'CYRANO, BERGERAC', 'CYRIL, ST', 'CYRIL, ST', 'CYRUS II', 'CYZICENS, CYZICENA', 'D, THE', 'DACCA JELALPORE', 'DACIER, ANDREW', 'DACIER, ANNE LEFEVRE', 'DACTYLI IDAEI', 'DAEDALA', 'DAEDALUS', 'DAEMON', 'DAEMONIAC', 'DAEMONIACS', 'DAGELET’S ISLAND', 'DAILLE, JOHN', 'DALECHAMP, JAMES', 'DALGARNO, GEORGE', 'DALRYMPLE, JAMES, VISCOUNT OF STAIR', 'DALRYMPLE, SIR DAVID', 'DALTON, JOHN, D', 'DAMASCENUS, JOHN', 'DAMIANO, ST', 'DAMIENS, ROBERT FRANÇOIS', 'DAMPIER, WILLIAM', 'DAMPIER’S STRAITS', 'DANDINI, PIETRO', 'DANET, PETER', 'DANIEL, SAMUEL', 'DANIEL, GABRIEL', 'DANTE, ALIGHIERI', 'DANTON, GEORGE-JACQUES', 'DANUBE, UPPER', 'DANUBE, LOWER', 'DARIEN, ISTHMUS OF', 'DARIEN, SCOTTISH COLONY OF', 'DARNLEY’S ISLAND', 'DARU, COMTE', 'DARWIN, ERASMUS', 'DAUBENTON, LOUIS-JEAN-MARIE', 'DAUPHINS', 'DAVENANT, SIR WILLIAM', 'DAVID, JACQUES-LOUIS', 'DAVID’S, ST', 'DAVILA, HENRY CATHERIN', 'DAVIS, SIR JOHN', 'DAVIS, JOHN', 'DAVIS’S ISLAND', 'DAVY, SIR HUMPHRY', 'DEACONRY, DIACONATE', 'DEAD RECKONING', 'DEAD SEA', 'DEBT, NATIONAL', 'DECAPROTI, DECEMPRIMI', 'DECHALES, CLAUDIUS FRANCES MILLIET', 'DECIMAL ARITHMETIC', 'DECIUS MUS', 'DECK OF', 'DECOLLATION, BEHEADING', 'DECUMATES AGRI', 'DECUPLE PROPORTION', 'DEE, JOHN', 'DEEPING-MARKET', 'DEFENDER OF', 'DEFOE, DANIEL', 'DEGREE OF LATITUDE', 'DEGREES, ACADEMICAL', 'DEITY, GODHEAD', 'DELAMBRE, J', 'DELAWARE BAY', 'DELEGATES', 'DELFT ISLE', 'DELFT WARE', 'DELIACAL PROBLEM', 'DELILLE, JACQUES', 'DEMETRIUS PHALEREUS', 'DEMI- QUAVER', 'DEMISE AND REDEMISE', 'DEMOIVRE, ABRAHAM', 'DEMPSTER, THOMAS', 'DEMPSTER OF COURT', 'DENHAM, SIR JOHN', 'DENINA, CHARLES JOHN MARIA', 'DENNIS, JOHN', 'DENSITY OF BODIES', 'DENTATUS, CURIUS', 'D’ENTRECASTEAUX’S CHANNEL', 'DEPILATORY MEDICINES', 'DEPRESSION OF', 'DEREHAM EAST', 'DERHAM, DR WILLIAM', 'DERNIER RESORT', 'DESAGUILIERS, JOHN THEOPHILUS', 'DESAULT, PIERRE JOSEPH', 'DESCENT OF DIGNITIES', 'DETERMINATE PROBLEM', 'DETERMINATE SECTION', 'DEUCALEDONIUS OCEANUS', 'DEVEREUX, ROBERT, EARL OF ESSEX', 'DE WIT, JOHN', 'DIACAUSTIC CURVE', 'DIAERESIS', 'DIAETETAE', 'DIAH, DIAT', 'DIALTHAEA', 'DIAMOND HARBOUR', 'DIANA’S BANK', 'DIANAE ARBOR', 'DIAPASON DIAEX', 'DIAPASON DIAPENTE', 'DIAPASON DIATESSARON', 'DIAPASON SEMIDITONE', 'DICAEARCHUS', 'DICKINSON, EDMUND', 'DICTYS CRETENSIS', 'DIDEROT, DENIS', 'DIDIER, ST', 'DIDYMUS OF ALEXANDRIA', 'DIEMEN’S LAND', 'DIEMERBROEK, ISBRAND', 'DIES MARCHIAE', 'DIEY, ST', 'DIFFERENTIAL CALCULUS', 'DIFFORM, DIFFORMIS', 'DIGBY, SIR KENELM', 'DIGGES, LEONARD', 'DIGGES, THOMAS', 'DIGITS', 'DILLENIUS, JOHN JAMES', 'DIMISSORY LETTERS', 'DIMOERITAE', 'DIMSDALE, THOMAS, BARON', 'DIO CHRYSOSTOM', 'DIOCLETIANUS, CAIUS VALERIUS JOVJUS', 'DIODATI, JOHN', 'DIOGENES OF APOLLONIA', 'DIOGENES LAERTIUS', 'DION CASSIUS', 'DIONIS, PETER', 'DIONYSIUS II', 'DIONYSIUS', 'DIOPHANTINE PROBLEMS', 'DIOPTASE OF HAUY', 'DIRAE', 'DISAPPOINTMENT, ISLANDS OF', 'DISDIACLASTIC CRYSTAL', 'DISDIAPASON DIAPENTE', 'DISDIAPASON DITONE', 'DISPERSION OF MANKIND', 'DISTRINGAS JURATORES', 'DITTON, HUMPHRY', 'DIVERGENT RAYS', 'DIVUS, DIVA', 'DIZIER, ST', 'DOABEH BARRY', 'DOBSON, WILLIAM', 'DOCETAE', 'DOCIMENUM MARMOR', 'DOCK, AN', 'DODD, DR WILLIAM', 'DODDRIDGE, PHILIP, D', 'DODSLEY, ROBERT', 'DODWELL, HENRY', 'DOGMELL, ST', 'DOIG, DAVID', 'DOLLOND, JOHN', 'DOLOMIEU, DEODATUS GUY SILVANUS TANCRED', 'DOLPHIN ISLANDS', 'DOLPHIN OF', 'DOM AND SOM', 'DOMINICAL LETTER', 'DOMINIS, MARK ANTONY', 'DOMINIUM DIRECTUM', 'DOMINIUM UTILE', 'DONALDSON, WALTER', 'DONATUS, AELIUS', 'DONNE, DR JOHN', 'DOOMSDAY BOOK', 'DORIA, ANDREW', 'DORIC MODE', 'DORNOCH FRITH', 'DORSIFEROUS PLANTS', 'DORY HARBOUR', 'DOUBLE CHILDREN, DOUBLE CATS', 'DOUBLE FICHY', 'DOUBLE OCTAVE', 'DOUBTFUL, ISLAND', 'DOUGLAS, GAVIN', 'DOUW, GERHARD', 'DOVER STRAITS', 'DOWAGER, DOTISCA', 'DOWNPATRICK', 'DRACONTIC MONTH', 'DRAKE, SIR FRANCIS', 'DRAKENBORCH, ARNOLD', 'DRAN, HENRI-FRANÇOIS', 'DRAYTON, MICHAEL', 'DRELINCOURT, CHARLES', 'DREVET, PETER', 'DRIFT- WOOD', 'DRUIDAE', 'DRUMMOND, WILLIAM', 'DRUMMOND, SIR WILLIAM', 'DRYANDER, JONAS', 'DRYDEN, JOHN', 'DUBLIN BAY', 'DUBOS, JEAN-BAPTISTE', 'DUCHAL, JAMES, D', 'DUCHY COURT', 'DUCLOS, CHARLES PINEAU', 'DUDLEY, EDMUND', 'DUDLEY, JOHN, DUKE OF NORTHUMBERLAND', 'DUDLEY, SIR ROBERT', 'DUGDALE, SIR WILLIAM', 'DUILLIUS NEPOS, C', 'DUMARSAIS, CESAR CHESNAU', 'DUNBAR, WILLIAM', 'DUNCAN, ADAM, LORD VISCOUNT', 'DUNCAN’S SUGAR LOAF', 'DUNCOMBE, WILLIAM', 'DUNDAS, HENRY, VISCOUNT MELVILLE', 'DUNMOW, GREAT', 'DUNNING, JOHN, LORD ASHBURTON', 'DUNS, JOHN', 'DUNSTAN, SAINT', 'DUPIN, LOUIS ELLIES', 'DUPPA, BRIAN', 'DUPUIS, CHARLES FRANCIS', 'DURANDUS, WILLIAM', 'DURER, ALBERT', 'DURESSE, HARDSHIP', 'D’URFEY, THOMAS', 'DURHAM, BISHOPRIC OF', 'DURY, JOH N', 'DUSKY BAY', 'DUSSAULX, JOHN', 'DUTENS, LOUIS', 'DYER, SIR JAMES', 'DYER, JOHN', 'DYSAE', 'DYSPNOEA', 'EACHARD, JOHN', 'EACHARD, LAURENCE', 'EAGLE ISLAND', 'EAGLES', 'EASEL PIECES', 'EAST ISLAND', 'EASTER ISLAND', 'EBDOME, E', 'EBERHARD, JOHN AUGUSTUS', 'EBUDAE', 'ECALESIA, EXΑΛJJΛΑ', 'ECATAEA, EXΑRΑ', 'ECATESIA, EXAREM', 'ECATOMBAEON, EXAROΜĈA', 'ECCHELLENSIS, ABRAHAM', 'ECCLESAL-BIERLOW', 'ECDICI, EXÒ', 'ECONOMY, POLITICAL', 'ECSTATICI, EXMCNXOZ', 'EDHILING, EDHILINGUS', 'EDWARDS, GEOROE', 'EDWARDS, BRYAN', 'EIDER DUCK', 'ELAEOTHESIUM', 'ELATERIUM, EΛARΤIPOV', 'ELEATIC PHILOSOPHY', 'ELECTIVE ATTRACTION', 'ELECTRO-MAGNETISM', 'ELEEMOSYNA CARUCARUM', 'ELEMENTS', 'ELEMENTS', 'ELLIPTIC TURNING', 'ELLYS, DR ANTHONY', 'ELPHINSTONE, WILLIAM', 'EMBER WEEKS', 'EMBOLISMUS, Έ', 'EMERALD, SMARAGDUS, SCHMARAGD, EMERAUDE', 'EMERSON, WILLIAM', 'EMMIUS, UBBO', 'EMMENAGOGUES, ΈΜΜΗΝΑΓΩΓΑ', 'EMOTION AND PASSION', 'ENCAENIA', 'ENCAUSTIC AND ENCAUSTUM', 'ENCAUSTIC PAINTING', 'ENCYCLOPAEDIA', 'ENDRACHT’S LAND', 'ENFANS PERDUS', 'ENFIELD, WILLIAM, LL', 'ENGLAND, THE', 'ENNIUS, Q', 'ENT, SIR GEORGE', 'EPHEBAEUM', 'EPHETAE', 'EPHREM SYRUS', 'EPIBATAE', 'EPICOENE', 'EPICUREAN PHILOSOPHY', 'EPIDOTAE', 'EPIPHANIUS, ST', 'EPISCOPIUS, SIMON', 'EPOPOEIA', 'EQUES AURATUS', 'EQUESTRIAN GAMES', 'EQUIVOCAL TERMS', 'ERASMUS, DESIDERIUS', 'EREBUS, E', 'ERIGENA, JOANNES SCOΤUS', 'ERIVAN, IRWAN', 'ERNESTI, JOHN AUGUSTUS', 'ERSKINE, THOMAS, LORD ERSKINE', 'ERYTHRAE', 'ERYTHRAEUM MARE', 'ESKI-HISSAR', 'ESTATES', 'ETESIAE', 'ETHNARCHA, ETHNARCH', 'ETIENNE, ST', 'ETTMULLER, MICHEL', 'EUBOEA', 'EUCLID OF MEGARA', 'EUCLID OF ALEXANDRIA', 'EUGENE, FRANÇOIS', 'EULER, LEONARD', 'EULOGY, EULOGIA', 'EUMENES I', 'EUMENES II', 'EUPATRIDAE', 'EUROPE, ONE OF', 'EUSTATIA, ST', 'EUTROPIUS, FLAVIUS', 'EUXINUS PONTUS, BLACK SEA', 'EVAGRIUS SCHOLASTICUS', 'EVREMOND, CHARLES', 'EXCUBIAE', 'EXECUTIVE POΛVER', 'EXEDRAE', 'EXOTERIC AND ESOTERIC', 'EXPERIMENTAL PHILOSOPHY', 'EXPERIMENTUM CRUCIS', 'EXPONENTIAL CALCULUS', 'EXPOSING OF CHILDREN', 'EX-POST-FACTO', 'EXPRESSED OILS', 'EXTRACTION OF ROOTS', 'EXTRAORDINARY AMBASSADOR', 'EXTREMES', 'EXUVIAE', 'FRANCIS, PHILIP', 'FRANCIS, CAPE', 'FRANCISCO, ST', 'FRANK LANGUAGE, LINGUA FRANCA', 'FRANK- LAW', 'FRANKED LETTERS', 'FRANKEN, FRANCISCUS', 'FRANKEN, FRANCISCOS', 'FRANKLAND’S ISLANDS', 'FRANKLIN, THOMAS, D', 'FRANKLIN, BETYAMIN', 'FRATERNITY, BROTHERHOOD', 'FRATTA-MAGGIORE', 'FRECKLES, LENTIGINES', 'FREDERICK', 'FREDERICK', 'FREE STONE', 'FREEDOM OF CONSCIENCE', 'FREEHOLD, FRANK TENEMENT', 'FREEWILL ISLANDS', 'FREIND, JOHN', 'FRESCO PAINTING', 'FRESNOY, CHARLES ALPHONSE', 'FRIENDLY ISLANDS', 'FRIESLAND, EAST', 'FRIGID ZONE', 'FRIGORIFIC PARTICLES', 'FRISI, PAUL', 'FRIZING OF CLOTH', 'FROBENIUS, JOHN', 'FROBISHER’S STRAITS', 'FRONTINAS, SEXT', 'FRONTO, MARCUS CORNELIUS', 'FROTH SPIT', 'FRUCTIFICATION OF PLANTS', 'FRUIT STONES', 'FRUIT- TREES', 'FRYTH, JOHN', 'FUCINUS LACUS', 'FUEGOS ISLE', 'FUENTE-RRABIA', 'FUGA ISLE', 'FULLER, DA THOMAS', 'FUNDAMENTAL BASS', 'FUNERAL RITES', 'FUNERAL GAMES', 'FUNNEL OF', 'FURCHE', 'FURETIERE, ANTHONY', 'FURNEAUX ISLANDS', 'FUSELI, HENRY', 'FUST, JOHN', 'F, THE', 'FABIUS PICTOR', 'FABRIANO, GENTILE', 'FABRICIUS, GEORGE', 'FABRICIUS, VINCENT', 'FABRICIUS, JOHN-CHRISTIAN', 'FABROT, CHARLES-ANNIBAL', 'FACIES HIPPOCRATICA', 'FACULAE', 'FAERNUS, GABRIEL', 'FAGGOTS', 'FAINT ACTION', 'FAIR ISLE', 'FAIRFAX, EDWARD', 'FAIRFAX, THOMAS LORD', 'FAITHORN, WILLIAM', 'FALCONER, WILLIAM', 'FALKLAND, LORD', 'FALL OF MAN', 'FALLING SICKNESS', 'FALLOPIAN TUBES', 'FALSI CRIMEN', 'FAMA CLAMOSA', 'FAMILIARS OF', 'FAMILY ISLANDS', 'FANIONS', 'FANNERS', 'FANO', 'FANSHAWE, SIR RICHARD', 'FAREWELL CAPE', 'FARMER, HUGH', 'FARMER, PICLΙARD, D', 'FARNABIE, THOMAS', 'FARQUHAR, GEORGE', 'FARRIERY', 'FASTOLF, SIR JOHN', 'FATA MORGANA', 'FAVISSAE', 'FAWKES, FRANCIS', 'FE, SANTA', 'FEEJEE ISLANDS', 'FELIBIEN, ANDRE', 'FELUDJE, FELUGIA', 'FELUDSJE, FELUJA', 'FEMME COVERT', 'FEMME SOLE', 'FENELON, FRANÇOIS', 'FENTON, SÍR GEOFFREY', 'FERE, LA', 'FERGUSON, ADAM, LL', 'FERGUSON, JAMES', 'FERGUSON, ROBERT', 'FERMAT, PIERRE', 'FERNELIUS, JOHN', 'FERRARS, GEORGE', 'FERTE-LA-MILON', 'FESCENNINE VERSES, VERSUS FESCENNINI', 'FESTI DIES', 'FESTUS, POMPEIUS SEXTUS', 'FEVRE, TANNEGUI LE', 'FIBRARIAE', 'FICINUS, MARSILIUS', 'FIDDES, RICHARD', 'FIDE-JUSSOR', 'FIDEI-COMMISSUM', 'FIELD- COLOURS', 'FIELD-PIECES', 'FIELD-WORHS', 'FIELDING, HENRY', 'FIERI FACIAS', 'FILANGIERI, GAÉTAN', 'FILIAL PIETY', 'FILICAIA, VINCENZO', 'FILLETS', 'FINAL CAUSE', 'FINAL LETTERS', 'FINCH, HENEAGE', 'FINERS OF GOLD', 'FIRE, NATURE OF', 'FIRMICUS, MATERNUS JULIUS', 'FISHER, JOHN, BISHOP OF ROCHESTER', 'FITZHERBERT, SIR ANTHONY', 'FITZSTEPHEN, WILLIAM', 'FIXLMILLNER, PLACIDUS', 'FLACCUS, CAIUS VALERIUS', 'FLAMINIA VIA', 'FLAMINIUS, C', 'FLAMINIUS, T', 'FLAMSTEED, JOHN', 'FLANNAN ISLANDS', 'FLAT ISLAND', 'FLAVEL, JOHN', 'FLAXMAN, JOHN', 'FLECHE, LA', 'FLECHIER, ESPRIT', 'FLECKNOE, RICHARD', 'FLEETWOOD, WILLIAM', 'FLETCHER, GILES', 'FLEURY, CLAUDE', 'FLINDERS ISLAND', 'FLOATING BODIES', 'FLORALES LUDI', 'FLORILEGIUM, FLORILEGE', 'FLORIS, FRANCIS', 'FLORUS, LUCIUS ANNAEUS', 'FLOUR, ST', 'FLUDD, ROBERT', 'FLY TREE', 'FLYING FISH', 'FOENUS NAUTICUM', 'FOETOR', 'FOETUS', 'FOLARD, JEAN-CHARLES', 'FOLENGO, THEOPHILUS', 'FOLIATING OF LOOKING-GLASSES', 'FOLKES, MARTIN', 'FONG-HOA-TCHING', 'FONG-TCHING', 'FONG-YANG', 'FONTAINE, JEAN', 'FONTAINES, PIERRE-FRANCOIS GYOT DES', 'FONTANA, FELIX', 'FONTENELLE, BERNARD', 'FOOTE, SAMUEL', 'FORBES, WILLIAM', 'FORBES, JOHN', 'FORDUN, JOHN', 'FORDYCE, DAVID', 'FORDYCE, JAMES', 'FORDYCE, GEORGE', 'FORECASTLE OF', 'FORE-LOCKS', 'FOREMAST OF', 'FORMAN, ANDREW', 'FORSTER, JOHN REINHOLD', 'FORTESCUE, SIR JOHN', 'FORTIFIED ISLAND', 'FORTUNATAE INSULAE', 'FORTUNE ISLANDS', 'FOSS, FOSSA', 'FOSTER, JAMES', 'FOSTER, SAMUEL', 'FOTHERGILL, DR GEORGE', 'FOTHERGILL, DR JOHN', 'FOUL ISLANDS', 'FOUNDERY OF STATUES', 'FOUR BOROUGHS', 'FOUR SADDLE ISLAND', 'FOUR CRAG’S ISLAND', 'FOURMONT, STEPHEN', 'FOU-TCHANG', 'FOU-TCHEOU', 'FOX, JOHN', 'FOX, GEORGE', 'FOX, CHARLES JAMES', 'FRACASTOR, JEROME', 'G, THE', 'GABINIAN LAWS', 'GABINIUS, AULUS', 'GAFFAREL, JAMES', 'GAINAGE, GAINAGIUM', 'GALATAEA', 'GALBA, SERGIUS SULPICIUS', 'GALE, DR JOHN', 'GALE, THEOPHILUS', 'GALE, DR THOMAS', 'GALEN, CLAUDIUS', 'GALIANI, FERDINAND', 'GALL, JOHN JOSEPH', 'GALL, ST', 'GALLAND, ANTONY', 'GALLOIS, JOHN', 'GALLUS, C', 'GALVANI, LOUIS', 'GAMA, VASCO', 'GAMBIER’S ISLANDS', 'GAMES', 'GAMUT, GAN-VÍ', 'GAN-KING-FOO', 'GARAMOND, CLAUDE', 'GARASSE, FRANCIS', 'GARCIAS-LASO', 'GARDEN, FRANCIS', 'GARDENING, THE', 'GARDINER, STEPHEN', 'GARONNE, UPPER', 'GARRICK, DAVID', 'GARTH, SIR SAMUEL', 'GARVE, CHRISTIAN', 'GAS-LIGHT', 'GASCOIGNE, GEORGE', 'GASSENDI, PETER', 'GASTRIC JUICE', 'GATAKER, THOMAS', 'GAUBIUS, JEROME-DAVID', 'GAUDEN, JOHN', 'GAY, JOHN', 'GED, WILLIAM', 'GEDDES, ALEXANDER', 'GELLERT, CHRISTIAN FURGHTEGOTT', 'GELLI, JOHN BAPTIST', 'GELLIBRAND, HENRY', 'GELLIUS, AULUS', 'GEMONIAE SCALAE', 'GENEALOGICA ARBOR', 'GENERATING LINE', 'GENEVIEVE, FATHERS', 'GENOVESI, ANTHONY', 'GENTILESCHI, HORATIO', 'GENTILIS, ALBERICÜS', 'GEOFFROY OF MONMOUTH, BISHOP', 'GEOFFROY, STEPHEN FRANCIS', 'GEOMANCY, GEOMANTIA', 'GEORGE', 'GEORGE, LAKE', 'GEORGE’S CHANNEL', 'GEPIDAE', 'GERARD, ALEXANDER', 'GERARDE, JOHN', 'GERMAIN-EN-LAYE, ST', 'GERMAINS, ST', 'GERMANO, ST', 'GESNER, CONRAD', 'GETAE', 'GETHIN, LADY GRACE', 'GHAUTS, WESTERN', 'GIANT’S CAUSEWAY', 'GIARITCHAS ISLES', 'GIBBON, EDWARD', 'GIBSON, RICHARD', 'GIBSON, DR EDMUND', 'GIFFORD, WILLIAM', 'GILCHRIST, DA EBENEZER', 'GILL, JOHN, D', 'GILPIN, BERNARD', 'GIOIA, FLAVIO', 'GIRALDI, LILIO GREGORIO', 'GIRONS, ST', 'GLAUBER, JOHN RODOLPH', 'GLISSON, FRANCIS', 'GLOVER, RICHARD', 'GLUCK, CHEVALIER CHRISTOPHER', 'GMELIN, JOHN GEORGE', 'GMELIN, SAMUEL THEOPHILUS', 'GNOMES, GNOMI', 'GOAT ISLAND', 'GOBELIN, GILES', 'GODDARD, JONATHAN', 'GODFATHERS AND GODMOTHERS', 'GODFREY OF BOUILLON', 'GODWIN, FRANCIS', 'GOETHE, JOHN WOLFGANG', 'GOG AND MAGOG', 'GOGUET, ANTOINE-YVES', 'GOLD THREAD', 'GOLD LEIF', 'GOLD SIZE', 'GOLDEN FLEECE', 'GOLDEN NUMBER', 'GOLDONI, CHARLES', 'GOLDSMITH, OLIVER', 'GOLIUS, JAMES', 'GOLTZIUS, HENRY', 'GONORRHOEA', 'GOOD FORTUNE', 'GOOD FRIDAY', 'GOOD HOPE, CAPE OF', 'GORAM ISLE', 'GORDIAN KNOT', 'GORDON, ALEXANDER', 'GORDON, THOMAS', 'GORLAEUS, ABRAHAM', 'GOULART, SIMON', 'GOWER, JOHN', 'GOWN, ROBE', 'GRABE, JOHN ERNEST', 'GRACCHUS, TIBERIUS SEMPRONIUS', 'GRACCHUS, CAIUS SEMPRONIUS', 'GRACES, GRATIAE, CHARITES', 'GRAEVIUS', 'GRAHAM, JAMES, MARQUIS OF MONTROSE', 'GRAHAM, SIR RICHARD, LORD VISCOUNT PRESTON', 'GRAHAM, GEORGE', 'GRAMINA, GRASSES', 'GRAMMATICAL ABSTRACT, EXHIBITING', 'GRANADA, NEW', 'GRAND GUSTO', 'GRANDEUR AND SUBLIMITY', 'GRANGER, JAMES', 'GRANT, FRANCIS', 'GRANVILLE, GEORGE, LORD LANSDOWNE', 'GRASSE, LA', 'GRATIUS, FALISCUS', 'GRATTAN, HENRY', 'GRAUNT, JOHN', 'GRAVESANDE, WILLIAM JACOB', 'GRAVINA, JOHN VINCENT', 'GRAVITY, SPECIFIC', 'GREAVES, JOHN', 'GREGORIAN CALENDAR', 'GREGORY OF NAZIANZEN', 'GREGORY, THEODORUS', 'GREGORY OF TOURS', 'GREGORY, DAVID', 'GREGORY, JAMES', 'GREGORY, DAVID', 'GREGORY, DR JOHN', 'GRESHAM, SIR THOMAS', 'GREVILLE, FULKE, LORD BROOKE', 'GREW, NEIIEMIAH', 'GREY, LADY JANE', 'GREY-HOUND', 'GRIERSON, CONSTANTIA', 'GRIMALDI, FBANCISCO', 'GRIMSBY, GREAT', 'GRINSTEAD, EAST', 'GROATS', 'GROSE, FRANCIS', 'GROTIUS, HUGO', 'GROUPS, THE', 'GROVE, HENRY', 'GUARINI, GIOVANNI BATTISTA', 'GUIBERT, JACQUES-ANTOINE-HIPPOLITE, COUNT', 'GUICCIARDINI, FRANCISCO', 'GUIDI, ALEXANDER', 'GUIDO ARETIN', 'GUIDONS', 'GUIGNES, JOSEPH', 'GUILLIM, JOHN', 'GUISE, HENRY', 'GUITAR, GUITARRA', 'GOLDENSTAEDT, JOHN ANTHONY', 'GULE OF AUGUST', 'GUNDEZAMA RIVER', 'GUN-MAKING', 'GUNTER, EDMUND', 'GUY, THOMAS', 'GUY’S CLIFF', 'GUYON, JEANNE BOUVIERS', 'GUYTON DE MORVEAU, BARON LOUIS BERNARD', 'GYNAECEUM', 'GYNAECOCRACY', 'GYNAECOCRATUMENI', 'HABEAS CORPUS', 'HACKET, JOHN', 'HACKNEY COACHES', 'HAEMORRHAGY', 'HAEMORRHOIDAL', 'HAEMORRHOIDS', 'HAEMUS', 'HAERETICO COMBURENDO', 'HAKLUYT, RICHARD', 'HALCYON DAYS', 'HALDE, JOHN BAPTIST', 'HALE, SIR MATTHEW', 'HALES, STEPHEN', 'HALF-WAY-ISLAND', 'HALI-BEIGH', 'HALIEUTICS, HALIEUTICA', 'HALIFAX, EARL OF', 'HALL, JOSEPH', 'HALL, ROBERT', 'HALLER, ALBERT VAN', 'HALLEY, DR EDMUND', 'HALTERISTAE', 'HAMAXOB Π, HAMAXOBIANS', 'HAMEL, JOHN BAPTISTE', 'HAMILCAR BARCAS', 'HAMILTON, ANTHONY, COUNT', 'HAMILTON, GEORGE, EARL OF', 'HAMILTON, JOHN', 'HAMILTON, ROBERT', 'HAMMOND, HENRY', 'HAMMOND, ANTHONY', 'HAMMOND, JAMES', 'HAMMOND’S ISLANDS', 'HAMPDEN, JOHN', 'HANDEL, GEORGE FREDERICK', 'HANWAY, JONAS', 'HARBINGER’S REEFS', 'HARBOROUGH MARKET', 'HARDOUIN, JOHN', 'HARIOT, THOMAS', 'HARLEIAN COLLECTION', 'HARLEM ISLE', 'HARLEY, ROBERT, EARL OF OXFORD', 'HARLING, EAST', 'HARMODIUS AND ARISTOGEIŤON', 'HARRINGTON, SIR JOHN', 'HARRIOT, THOMAS', 'HARRIS, JAMES', 'HARRISON, WILLIAM', 'HARRISON, JOHN', 'HARTE, WALTER', 'HARTLEY, DAVID', 'HARVEY, DR WILLIAM', 'HARVEY’S ISLE', 'HASSAN KEELA', 'HASSELQUIST, FREDERICK', 'HASTINGS, WARREN', 'HATS, STRAW', 'HATTIA ISLE', 'HAURANCA ISLE', 'HAUTE-FEUILLE, JOHN', 'HAUY, RENE', 'HAVERCAMP, SIGIBERT', 'HAVRE-DE-GRACE', 'HAWKESWORTH, JOHN', 'HAWKINS, SIR JOHN', 'HAYDN, FRANCIS JOSEPH', 'HAYES, CHARLES', 'HAZLITT, WILLIAM', 'HEAD-DRESS', 'HEAT, ANIMAL', 'HEATH, JAMES', 'HEBER, REGINALD', 'HEBERDEN, WILLIAM', 'HEBREW CHARACTER', 'HEBREW LANGUAGE', 'HECATAEUS', 'HECATAEUS', 'HECATOMBAEON', 'HEDINGHAM CASTLE', 'HEDWIG, JOHN', 'HEINECCIUS, JOHN GOTTLIEB', 'HEINSIUS, ANTONY', 'HEIRSHIP MOVEABLES', 'HEISTER, LAURENCE', 'HELENA, ST', 'HELIAEA', 'HELIASTAE', 'HELICOID PARABOLA', 'HELIOCENTRIC LATITUDE OF', 'HELIODORUS OF PHCENICIA', 'HELLENISTIC LANGUAGE', 'HELLENODICAE', 'HELMONT, JOHN BAPTIST VAN', 'HELVETIUS, CLAUDE ADRIAN', 'HEMICYCLE, HEMICYCLIUM', 'HEMP, MANILLA', 'HEMSKERCK, EGBERT', 'HENAULT, CHARLES JOHN FRANCIS', 'HENERY ISLE', 'HENRY VIII', 'HENRY OF HUNTINGDON', 'HENRY PRINCE OF WALES', 'HENRY, PHILIP', 'HENRY, MATTHEW', 'HENRY, ER ROBERT', 'HENRYSON, ROBERT', 'HEPHAESTIA', 'HEPHAESTIO', 'HEPHAESTIO', 'HEPTAGONAL NUMBERS', 'HERACLIDAE', 'HERALDUS, DESIDERIUS', 'HERBACEOUS PLANTS', 'HERBELOT, BARTHELEMI', 'HERBERT, MARY, COUNTESS OF PEMBROKE', 'HERBERT, WILLIAM, EARL OF PEMBROKE', 'HERBIVOROUS ANIMALS', 'HERCYNIA SILVA', 'HERGEST’S ISLANDS', 'HERMAEA', 'HERMOGENES, ST', 'HERMANN, PAUL', 'HERMAPHRODITE FLOWERS', 'HERMETICAL PHYSIC', 'HERMOGENES TARSENSIS', 'HERRERA TORDESILLAS, ANTONIO', 'HERSCHEL, SIR WILLIAM', 'HERTFORD COLLEGE', 'HERVEY, JAMES', 'HESIODUS OF ASCRA', 'HESPER, HESPERUS', 'HESPERIDUM INSULAE', 'HESSE-HOMBURG', 'HETERIARCH, HETAERIARCHA', 'HETEROGENEOUS NOUNS', 'HEWSON, WILLIAM', 'HEYDON, JOHN', 'HEYLIN, DR PETER', 'HEYNE, CHRISTIAN GOTTLOB', 'HEYWOOD, JOHN', 'HICETAS OF SYRACUSE', 'HICKES, GEORGE', 'HIGH WAY', 'HIGHAM-FERRERS', 'HIGHMORE, JOSEPH', 'HILARY, ST', 'HILL, AARON', 'HILL, SIR JOHN', 'HINDU COOSH', 'HIPPODROME, HIPPODROMUS', 'HIPPOLYTE, ST', 'HIPPOLYTE, ST', 'HIRE, PHILIP', 'HIRTIUS, AULUS', 'HISSAR FEROZEH', 'HISTORY OF NATURE', 'HOADLY, BENJAMIN', 'HOADLY, SENJAMIN', 'HOBBES, THOMAS', 'HOB-NAIL', 'HOB-NOB', 'HOBSON’S CHOICE', 'HODY, HUMPHRY', 'HOFFMANN, JOHN JAMES', 'HOG ISLE', 'HOGARTFI, WILLIAM', 'HOLBEIN, HANS', 'HOLDER, WILLIAM', 'HOLDSWORTH, EDWARD', 'HOLINSHED, RAPHAEL', 'HOLLAND, DR PHILEMON', 'HOLLAND, NEW', 'HOLLAR, WENCESLAUS', 'HOLT, SIR JOHN, LORD CHIEF-JUSTICE OF', 'HOLY ISLAND', 'HOMBERG, WILLIAM', 'HOME, HENRY, LORD KAMES', 'HOME, JOHN', 'HOME, SIR EVERARD', 'HONDEKOOTER, MELCHIOR', 'HONOURS OF WAR', 'HOOD, ROBIN', 'HOOGHLY RIVER', 'HOOK PINS', 'HOOKE, ROBERT', 'HOOKE, NATHANIEL', 'HOOKER, RICHARD', 'HOOLE, JOHN', 'HOOLY ONORE', 'HOOPER, JOHN', 'HOOPER, GEORGE', 'HOORN ISLANDS', 'HOPE, SIR THOMAS, BART', 'HOPE ISLAND', 'HOPLITES, HOPLITAE', 'HORAEA', 'HORATIUS FLACCUS, Ο', 'HORIZONTAL PLANE', 'HORIZONTAL HANGE', 'HORN DISTEMPER', 'HORNE, GEORGE', 'HORROX, JEREMIAH', 'HORSLEY, SAMUEL', 'HORTENSIUS, QUINTUS', 'HOSANNA RABBA', 'HOSPINIAN, RODOLPHUS', 'HOSPITALLERS, HOSPITALARII', 'HOSSEIN-ABDAUL', 'HOST, HOSPES', 'HOSTIA, HOST', 'HOTTINGER, JOHN HENRY', 'HOUBRAKEN, JACOB', 'HOURS, HORAE', 'HOURS, HORAE', 'HOVEDEN, ROGER', 'HOWARD, HENRY, EARL OF SURREY', 'HOWARD, CHARLES', 'HOWARD, JOHN', 'HOWE, RICHARD, EARL', 'HOWE’S ISLAND', 'HUBNER, JOHN', 'HUCKNALL-TORKARD', 'HUDSON, HENRY', 'HUDSON, WILLIAM', 'HUE AND CRY', 'HUET, PETER DANIEL', 'HUME, DAVID', 'HUMMOCK ISLAND', 'HUMPHREY, LAURENCE', 'HUNTER, JOHN', 'HUNTER’S ISLES', 'HURD, RICHARD', 'HUSKISSON, RIGHT HONOURABLE WILLIAM', 'HUTCHESON, DR FRANCIS', 'HUTCHINSON, JOHN', 'HUTTON, DR JAMES', 'HYBRIDA PLANTA', 'HYDE, EDWARD', 'HYDROGRAPHICAL CHARTS', 'HYGINUS, CAIUS JULIUS', 'HYMENAEAL', 'HYMENAEUS', 'HYPOCHONDRIAC PASSION', 'HYPOGAEUM', 'HYPOGAEUM', 'HYSTERICAL AFFECTION', 'HYSTERON PKOTERON', 'IBERIA, SPAIN', 'ICE-LSLAND', 'ICHTHYOCOLLA, ISINGLASS', 'ICHTHYOPHAGI, FISH-EATERS', 'ICKENILD STREET', 'ICONOLATRAE', 'IDUMAEA', 'IGNATIUS LOYOLA', 'IGNATIUS, ST', 'IGNIS FATUUS', 'ILIAC PASSION', 'ILLUMINED, ILLUMINATI', 'ILLUSTRIOUS, ILLUSTRIS', 'ILLYRIA, MODERN', 'IMAGINARY QUANTITIES', 'IMPERIAL DIET', 'IMPOSITION OF HANDS', 'IMPRESSING SEAMEN', 'INCEST, SPIRITUAL', 'INCIDENT DILIGENCE', 'INCLINED PLAIN', 'INCOMBUSTIBLE CLOTH', 'INCORRUPTIBLES, INCORRUPTIBILES', 'INCUBUS, NIGHT-MARE', 'INCURVATION OF', 'INDIA COMPANY', 'INDIVISIBLES', 'INDRE AND LOIRE', 'INERTIA OF MATTER', 'INFERIAE', 'INFINITE QUANTITIES', 'INGENHOUSZ, JOHN', 'INGLIS ISLAND', 'INK STONES', 'INLAND NAVIGATION', 'INNS', 'INNISKILLING, INNISKILLEN', 'INNOCENTS', 'INSCRUTABLE, UNSEARCHABLE', 'INSECTS, INSECTA', 'INSPECTORS', 'INSTITUTIONS', 'INTEGRAL CALCULUS', 'INTENDMENT OF CRIMES', 'INTERLOCUTORY DECREE', 'INTERROGATION, EROTESIS', 'INTUITIVE EVIDENCE', 'INVERNESS-SHIRE', 'IONIUM MARE', 'IRELAND, NEW', 'IRENAEUS, ST', 'IRON-MAKING', 'ISAEUS', 'ISCA DUMNIORUM', 'ISCA SILURUM', 'ISIAC TABLE', 'ISOCHRONAL LINE', 'ITINERARY, ITINERARIUM', 'ITIUS PORTUS', 'IVES, ST', 'IVES, ST', 'JABLONSKI, DANIEL-ERNEST', 'JABLONSKI, PAUL-ERNEST', 'JACOB, BEN HAJIM', 'JACOB, BEN NAPHTALI', 'JACOBIN MONKS', 'JACOBINS', 'JAGO, RICHARD', 'JAGO, ST', 'JAGO, ST', 'JAMES, ST', 'JAMES, ST', 'JAMES I', 'JAMES V', 'JAMES, THOMAS', 'JAMES, ST', 'JAMESON, GEORGE', 'JAMYN, AMADIS', 'JANSEN, CORNELIUS', 'JANSSEN, CORNELIUS', 'JANSSENS, ABRAHAM', 'JANSSENS, VICT', 'JANUARIUS, ST', 'JAQUELOT, ISAAC', 'JARCHI, SOLOMON', 'JASHER, THE BOOK OF', 'JAY, GUI MICHEL', 'JEAN DE LUZ, ST', 'JEBUSAEI', 'JEFFERSON, THOMAS', 'JEFFREYS, STR GEORGE, BARON WEM', 'JELLALAEAN', 'JENKINS, SIR LEOLINE', 'JENYNS, SOAME', 'JEROME, ST', 'JEROME OF PRAGUE', 'JERONYMITES, HIERONYMITES', 'JERSEY, NEW', 'JEWEL BLOCKS', 'JEZIRA-UL-OMAR', 'JHANSU-JEUNG', 'JIGAT POINT', 'JOAN, POPE', 'JOANES, DOS', 'JOHN, ST', 'JOHN, ST', 'JOHN OF SALISBURY', 'JOHN OF EORDΙM', 'JOHN SOBIESKI OF POLAND', 'JOHN’S ISLAND', 'JOHN’S, ST', 'JOHN’S, ST', 'JOHNSON, DR SAMUEL', 'JOHNSTON, ARTHUR', 'JOHNSTONE, ROBERT', 'JOHNSTON’S ISLE', 'JONES, INIGO', 'JONES, SIR WILLIAM', 'JORDANO, LUCCA', 'JOVIUS, PAUL', 'JUAN DLANCO', 'JUBA IE', 'JUDAH HAHHADOSH', 'JUDAS MACCABEUS', 'JUDE, ST', 'JUDEX, MATTHEW', 'JUDGES', 'JUDGES', 'JUDICIA CENTUMVIRALIA', 'JUDICIUM CALUMNIAE', 'JUDICIUM PEI, JUDGMENT OF GOD', 'JULIAN PERIOD', 'JULIO ROMANO', 'JULIUS CAESAR', 'JULIUS VICUS', 'JULIUS POLLUX', 'JULY- PLΣWERS', 'JUMBASIER RIVER', 'JUNCI LAPIDEI', 'JUNIUS, ADRIAN', 'JUNIUS, FRANCIS', 'JUNIUS, FRANCIS', 'JURATS, JURATI', 'JURIEU, PETER', 'JURIN, JAMES', 'JURY TRIAL', 'JUS DELIBERANDI', 'JUS DEVOLUTUM', 'JUS MARITI', 'JUS RELICTOE', 'JUS PREVENTIONIS', 'JUS CIVILE', 'JUSSIEU, ANTOINE', 'JUST, ST', 'JUSTINIANI, ST LAURENCE', 'JUSTINIANI, AUGUSTIN', 'JUVENALIS, DECIMUS', 'JUVENCUS, CAIUS VECTICUS AQUILINUS', 'JUXON, DR WILLIAM', 'KADMONAEI', 'KALATOA ISLE', 'KALDER DAG', 'KALENDAR MONTHS', 'KALENDAR BROTHERS', 'KALENDARIUM FESΓUM', 'KALENDS OF JANUARY', 'KAN-CHOO-FOO', 'KANGAROO ISLAND', 'KANGELANG ISLE', 'KANT, IMMANUEL', 'KANT’S VERMISCHTE SCHRIFTEN', 'KAOMING-SZE', 'KAYE’S ISLAND', 'KEAN, EDMUND', 'KEATE, GEORGE', 'KEBBAN DAG', 'KEELAN ISLE', 'KEEMA-KEDAN', 'KEEPER OF', 'KEILL, JOHN', 'KEILL, JAMES', 'KEITH, JAMES-FRANCIS EDWARD', 'KELLY, HUGH', 'KEMBLE, JOHN PHILIP', 'KEMPIS, THOMAS', 'KEN, THOMAS', 'KENNET, WHITE', 'KENNET, BASIL', 'KENNICOTT, DR BENJAMIN', 'KENRICK, WILLIAM', 'KENTISH TOWN', 'KEPLER, JOHN', 'KEPPEL BAY', 'KERGUELEN’S LAND', 'KERI-CETIB', 'KERMES MINERAL', 'KETTLE-DRUMMER', 'KEVERN, ST', 'KEY’S ISLES', 'KEYSLER, JOHN GEORGE', 'KIDDER, RICHARD', 'KILLIGREW, WILLIAM', 'KILLIGREW, THOMAS', 'KILLIGREW, ANNE', 'KILMALLUCK', 'KIMCHI, DAVID', 'KING, DR JOHN', 'KING, DR WILLIAM', 'KING, DR WILLIAM', 'KING, DR WILLIAM', 'KING, PETER', 'KING’S COUNTY', 'KING’S-LANGLEY', 'KING’S-NORTON', 'KING’S-TEIGNTON', 'KINGSTON-UPON-HULL', 'KINROSS-SHIRE', 'KIPPIS, ANDREW', 'KIRBY-LONSDALE', 'KIRBY-STEPHEN', 'KIRCHER, ATHANASIUS', 'KIRSTENSIUS, PETER', 'KIRWAN, RICHARD', 'KIUN-CHEU-FOU', 'KIU-TCHEOU-FOU', 'KLAPROTH, MARTIN HENRY', 'KLEIST, EDWARD CHRLSTIADEN', 'KLOPSTOCK, FREDERIC THEOPHILUS', 'KNELLER, SIR GODFREY', 'KNIGHTS-ERRANT', 'KNIGHTS', 'KNOLLES, RICHARD', 'KNOX, JOHN', 'KOEI-TCHOO', 'KOEI-TCHOO-FOU', 'KOEMPFER, ENGELBERT', 'KONG-CHANG-FOU', 'KÖNIG, GEORGE MATTHIAS', 'KOSCIUSZKO, THADDEUS', 'KOTTERUS, CHRISTOPHER', 'KOTZEBUE, AUGUSTUS FREDERICK FERDINAND VON', 'KOUANGNAN-FOU', 'KRANTZ, ALBERT', 'KUNCKEL, JOHN', 'KUSTER, LUDOLF', 'L, A SEMI-VOWEL', 'LAARAT ISLE', 'LABADIE, JOHN', 'LABAT, JOHN BAPTIST', 'LABEO, C', 'LABERIUS, DECIMUS', 'LABIAL LETTERS', 'LABOUREUR, JOHN', 'LAC OF RUPEES', 'LACEDAEMON', 'LACTANTIUS, LUCIUS COELIUS FIRMIANUS', 'LADERNOJE-POLE', 'LADOS ISLES', 'LAELIUS SAPIENS, C', 'LAENA', 'LAESTRYGONES', 'LAEVIUS', 'LAGRANGE, JOSEPH LOINS', 'LAING, MALCOLM', 'LAIRESSE, GERARD', 'LALANDE, JOSEPH JEROME LEFRANÇAIS', 'LAMANON, ROBERT PAUL', 'LAMB, CHARLES', 'LAMBERT OF ASCHAFFENBURG', 'LAMBERT, JOHN', 'LAMBIN, DENIS', 'LAMIAE', 'LAMINGTON PRIORS', 'LAMOIGNON, CHRETIEN-FRANÇOIS', 'LAMPS FOR LIGHT-HOUSES', 'LAMPS FOR LIGHTING STREETS', 'LAMPRIDIUS, AELIUS', 'LANARK, NEW', 'LANCE, LANCEA', 'LANCISI, JOHN MARCA', 'LANDEN, JOHN', 'LANDES, LES', 'LANFRANCO, GIOVANNI', 'LANGBAINE, DR GERARD', 'LANGBAINE, GERARD', 'LANGHORNE, JOHN', 'LANGREL SHOT', 'LANGTON, STEPHEN', 'LANGUET, HUBERT', 'LAODICAEA', 'LAPA ISLE', 'LAPEROUSE, JOHN FRANCIS GALUPE', 'LAPITHAE', 'LAPLACE, PIERRE SIMON, MARQUIS', 'LARDNER, NATHANIEL', 'LARGO, UPPER AND NETHER', 'LARVAE', 'LASCARIS, CONSTANTINE', 'LATEEN SAIL', 'LATIMER, HUGH', 'LATRINAE', 'LATTEN BRASS', 'LAUD, WILLIAM', 'LAUDER, WILLIAM', 'LAUDOHN, FIELD-MARSHAL', 'LAUDS, LAUDES', 'LAURO, PHILIPPO', 'LAVATER, JOHN GASPARD CHRISTIAN', 'LAVOISIER, ANTOINE LAURENT', 'LAW, CANON', 'LAW, JOHN', 'LAW, WILLIAM', 'LAWLESS COURT', 'LAWRENCE, SIR THOMAS', 'LAWRENCE, ST', 'LEAGUES', 'LEAKE, RICHARD', 'LEAKE, SIR JOHN', 'LEAKE, STEPHEN MARTIN', 'LEAO-TONG, GULF OF', 'LEAVES OF PLANTS', 'LEE LURCHES', 'LEE, NATHANIEL', 'LEGER LINE', 'LEIBNITZ, GODFREY WILLIAM, BARON', 'LEIGHTON, ROBERT', 'LELAND, JOHN', 'LELAND, JOHN', 'LELY, SIR PETER', 'LEMERY, NICHOLAS', 'LEMNIAN EARTH, TERRA LEMNIA', 'LEMNIUS, LAEVINUS', 'LEMON ISLAND', 'LEMONNIER, PETER', 'LENAEA', 'LENFANT, JAMES', 'LENGLET, NICHOLAS', 'LEONARD, ST', 'LEPER’S ISLAND', 'LESCAILLE, JAMES', 'LESLEY, JOHN', 'LESLIE, CHARLES', 'LESLIE, SIR JOHN', 'LESNAIA REKA', 'LESSER TONE', 'LETT, GREGORIO', 'LETTER OF ATTORNEY', 'LETTER OF MARQUE', 'LEUSDEN, JOHN', 'LEUWENHOECK, ANTONY', 'LEYDEN ISLE', 'LEYDEN, JOHN', 'LEYTON, LOW', 'LHUYD, EDWARD', 'LIBERTINES, LIBERTINI', 'LIBERTINES OF GENEVA', 'LICENSER OF BOOKS', 'LICINIUS STOLO', 'LIEVENS, JOHN', 'LIEOU-KIEOU', 'LIEUTAUD, JOSEPH', 'LIFE-PRESERVERS', 'LIGHTFOOT, JOHN', 'LIGHTING OF STREETS', 'LILBURNE, JOHN', 'LILLO, GEORGE', 'LILLY, JOHN', 'LILLY, WILLIAM', 'LILYBAEUM', 'LILYE, WILLIAM', 'LIMB, LIMBUS, LIMBO', 'LIMBORCH, PHILIP', 'LIMITED PROBLEM', 'LINACRE, THOMAS', 'LINDSAY, SIR DAVID', 'LINDSAY’S DREME', 'LINE OF BATTLE', 'LINES', 'LINEAR NUMBERS', 'LINNAEUS', 'LIPPE-DETMOLD', 'LIPPI, LORENZO', 'LIPSIUS, JUSTUS', 'LIS, JOHN VANDER', 'LISTER, MARTIN', 'LITHGOW, WILLIAM', 'LITTLETON, SIR THOMAS', 'LIVERPOOL, CHARLES JENKINSON', 'LIVERYMEN OF LONDON', 'LIVIUS, TITUS', 'LIVIUS ANDRONICUS', 'LIVONICA TERRA', 'LLANOS, SAN JUAN', 'LLAN-RHAIDAR-YN-MOCHNANT', 'LLOYD, WILLIAM', 'LOANDO, ST PAUL', 'LOBO, JEROME', 'LOCKE, JOHN', 'LOCUS GEOMETRICUS', 'LOGISTAE', 'LOIRE, UPPER', 'LOIRE AND CHER', 'LOMBARD, PETER', 'LONDON FEVER HOSPITAL', 'LONDON OPHTHALMIC INFIRMARY', 'LONDON VACCINE INSTITUTION', 'LONDON, NEW', 'LONG-BENTON', 'LONG ISLAND', 'LONG ISLAND', 'LONGINUS, DIONYSIUS CASSIUS', 'LONGOMONTANUS, CHRISTIAN', 'LONTAR PULO ISLE', 'LOOE, EAST', 'LOOE, WEST', 'LOO-CHOO ISLANDS', 'LOOK-OUT', 'LORDS, HOUSE OF', 'LORD HOWE’S GROUP', 'LOT AND GARONNE', 'LOUGH NEAGH', 'LOUGH STRANGFORD', 'LOWER, RICHARD', 'LOWTH, DR WILLIAM', 'LOWTH, DR FOBERT', 'LOYOLA, IGNATIUS', 'LOZENGES', 'LUBIENIETSKI, STANISLAUS', 'LUBIN, EILHARD', 'LUC, JOHN ANDREW', 'LUCANUS, Μ', 'LUCAR, ST', 'LUCAR, ST', 'LUCAS JACOBS', 'LUCAS, PICKARD', 'LUCIA, ST', 'LUCIA, ST', 'LUCILIUS, CAIUS', 'LUCRETIUS, T', 'LUCULLUS, LUCIUS LICINIUS', 'LUDLOW, EDMUND', 'LUFF TACKLE', 'LUG-SAIL', 'LUGDUNUM BATAVORUM', 'LUKE, ST', 'LULLI, JEAN BAPTISTE', 'LULLY, RAYMOND', 'LUNA CORNEA', 'LUNAR MONTH', 'LUNE, LUNULA', 'LUNENSE MARMOR', 'LUNISOLAR YEAR', 'LURGAN GREEN', 'LUTETIA PARISIORUM', 'LUTHER, MARTIN', 'LUXURIANS FLOS', 'LYCAEUM, ΛUXΕ', 'LYDGATE, JOHN', 'LYDIAT, THOMAS', 'LYDIUS LAPIS', 'LYME-REGIS', 'LYMPHAEA', 'LYNCURIUS LAPIS', 'LYNN-REGIS', 'LYON KING OF ARMS', 'LYONET, PETER', 'LYRIC POETRY', 'LYTTELTON, EDWARD, LORD LYTTELTON', 'LYTTELTON, GEORGE LORD', 'M, Α', 'MAAT, JOHN', 'MABILLON, JOHN', 'MACER, EMILIUS', 'MACHAERUS', 'MACHIAVELLI, NICOLO', 'MACHINE, MACHINA', 'MACKENZIE, SIR GEORGE', 'MACLAURIN, COLIN', 'MACQUARRIE ISLAND', 'MACQUER, PIERRE JOSEPH', 'MACRIN, SALMON', 'MACROBIUS, AMBRO', 'MADALENA, LA', 'MAEANDER', 'MAEATAE', 'MAECENAS, CAIUS CILNIUS', 'MAEMACTERIA', 'MAEMACTERION', 'MAEONIA', 'MAEONIDAE', 'MAEONIDES', 'MAEOTIS PALUS', 'MAESTLIN, MICHAEL', 'MAFFAEUS, VEGIO', 'MAFFEI, SCIPIO', 'MAGAS, MAGADIS', 'MAGAZINE, LITERARY', 'MAGDALEN, MARY', 'MAGELLANIC CLOUDS', 'MAGGI, JEROME', 'MAGGIORE, LAGO', 'MAGIC SQUARE', 'MAGLIABECHI, ANTONIO', 'MAGLOIRE, ST', 'MAGNAC-LAVAL', 'MAGNETICAL ISLAND', 'MAGNETISM, ANIMAL', 'MAGNUS CAMPUS', 'MAGNUS PORTUS', 'MAHRISCH-KROMAU', 'MAHRISCH-TRUBAU', 'MAIDEN-NEWTON', 'MAH INDUCTIO', 'MAILLA, JOSEPH-ANNE-MARIE', 'MAIMONIDES, MOSES', 'MAIN-SAC', 'MAINTENON, MADAME', 'MAIRAN, JEAN JACQUES', 'MAIRE, STREIGHTS', 'MAISON-BLANCHE', 'MAISTRE, LOUIS ISAAC', 'MAITTAIRE, MICHAEL', 'MAIXENT, ST', 'MAJOR- GENERAL', 'MALABAR POINT', 'MALACOSTOMOUS FISHES', 'MALDIVE ISLANDS', 'MALEBRANCHE, NICHOLAS', 'MALESHERBES, CHRISTIAN-WILLIAM', 'MALHERBE, FRANÇOIS', 'MALIPOOTAS ISLE', 'MALIVAGUNGA RIVER', 'MALLISON’S ISLAND', 'MALO, ST', 'MALOI-ARCHANGELSK', 'MALOI-JAROSLAWETZ', 'MALTE-BRUN', 'MALTHUS, THOMAS ROBERT', 'MALUS, STEPHEN LOUIS', 'MALVOISIN, WILLIAM', 'MAMBRUN, PETER', 'MAN, ISLE OF', 'MANATOULIN ISLANDS', 'MANCHA, LA', 'MANCHESTER, THE', 'MANDEVILLE, SIR JOHN', 'MANDEVILLE, BERNARD', 'MANDIOLY ISLE', 'MANGEART, DOM THOMAS', 'MANGERAY, STRAITS OF', 'MANIFOLD CAPE', 'MANILIUS, MARCUS', 'MANIPULUS, MANIPULE', 'MANKIAM ISLE', 'MANOR, MANERI', 'MANS, LE', 'MANUTIUS, ALDUS', 'MARANA, JOHN PAUL', 'MARATTI, CARLO', 'MARATÜBA ISLES', 'MARCELLINUS, AMMIANUS', 'MARCELLUS, Μ', 'MARCELLUS, Μ', 'MARCELLUS, Μ', 'MARCHAND, PROSPER', 'MARCHAND ISLAND', 'MARCITES, MARCITAE', 'MARCO POLO', 'MARCO, ST', 'MARETS, SAMUEL', 'MARGARET, ST', 'MARIA’S ISLAND', 'MARIA, SANTA', 'MARIA MAGGIORE, ST', 'MARIAN ISLANDS', 'MARIANA, JOHN', 'MARIA’S ISLANDS', 'MARINER’S COMPASS', 'MARINO, ST', 'MARION AND CROZET’S ISLANDS', 'MARIUS, CAIUS', 'MARIVAUX, PIERRE CARLET', 'MARK, ST', 'MARKLAND, JEREMIAH', 'MARLOW, GREAT', 'MARMONTEL, JEAN FRANÇOIS', 'MARNE, UPPER', 'MAROT, CLEMENT', 'MARQUETRY, INLAID WORK', 'MARRACCI, LUDOVICO', 'MARSAIS, CESAR CHESNEAU', 'MARSH, NARCISSUS', 'MARSIGLI, LOUIS FERDINAND COUNT', 'MARTIALIS, MARCUS VALERIUS', 'MARTIN, ST', 'MARTIN, BENJAMIN', 'MARTIN, ST', 'MARVELL, ANDREW', 'MARY SALOME', 'MARY-LE-BONE', 'MAS, LOUIS', 'MASBOTHAEI', 'MASCULINE SIGNS', 'MASKELYNE, NEVIL', 'MASKELYNE’S ISLANDS', 'MASON, WILLIAM', 'MASONRY, FREE', 'MASS, MISSA', 'MASSAGETAE', 'MASSE’S ISLAND', 'MASSILLON, JEAN BAPTISTE', 'MASSINGER, PHILIP', 'MASTER OF ARTS', 'MASTER LOAD', 'MASTIFF DOG, BAND DOG', 'MATE OF', 'MATRICES', 'MATTHEW OF PARIS', 'MATTHEW, ST', 'MATTHIAS, ST', 'MATY, MATTHEW', 'MATY, PAUL HENRY', 'MAUNDY THURSDAY', 'MAUPERTUIS, PETER LOUIS MORCEAU', 'MAUR, ST', 'MAURICE, ST', 'MAURICE, ST', 'MAWS, ST', 'MAXIMUS OF TYRE', 'MAY, ISLE OF', 'MAY, THOMAS', 'MAYENNE AND LOIRE', 'MAYER, TOBIAS', 'MAYERNE, SIRTHEODORE', 'MAYNWARING, ARTHUR', 'MAZARIN, JULIUS', 'MEAD, DR', 'MEAN, ARITHMETICAL', 'MEAN, GEOMETRICAL', 'MEANGIS ISLES', 'MEASURE EINARY', 'MEASURE TERNARY', 'MECHANICAL CURVE', 'MECHAIN, PETER FRANCIS ANDREW', 'MECKLENBURG-SCHWERIN', 'MECKLENBURG-STRELITZ', 'MEDICI, COSMO', 'MEDINA CELT', 'MEDINA-DEL-RIO-SECO', 'MEDINA SIDONIA', 'MEDINA, SIR JOHN', 'MEEGHEOUNG-YAY', 'MEGALE POLIS', 'MEIBOMIUS, JOHN HENRY', 'MEIBOMIUS, HENRY', 'MELA, POMPONIUS', 'MELCOMB-REGIS', 'MELFORD-LONG', 'MELICERTA, MELI', 'MELMOTH, WILLIAM', 'MELMOTH, WILLIAM', 'MELVILLE, ANDREW', 'MELVILLE, SIR JAMES', 'MENASSEH, BEN ISRAEE', 'MENDELSOHN, MOSES', 'MENDEZ PINTO, FERDINAND', 'MENEHOUD, ST', 'MENOLOGY, MENOLOGIUM', 'MENSALS, MENSALIA', 'MENTHA, MINT', 'MENTZEL, CHRISTIAN', 'MENZIKOFF, ALEXANDER', 'MEPHITIS FANUM', 'MERCATOR, GERARD', 'MERCATORUM FESTUM', 'MERCURY BAY', 'MERCY-SEAT', 'MERLIN, AMBROSE', 'MERSENNE, MARIN', 'MERSEY ISLAND', 'MESHED ΛLI', 'MESSALINA, VALERIA', 'MESSIER, CHARLES', 'MESSUAGE, MESSUAGIUM', 'METASTASIO, PIETRO BUONAVENTURA', 'METEOROLOGY, FROM', 'METOECI', 'METRICAL VERSES', 'MEURSIUS, JOHN', 'MEZERAI, FRANÇOIS EUDES', 'MEZIRIAC, CLAUDE GASPAR BACRET SIEUR', 'MICHAEL, MOUNT', 'MICHAEL’S MOUNT, ST', 'MICHAELIS, JOHN DAVID', 'MICKLE, WILLIAM JULIUS', 'MID-HEAVEN', 'MIDDLE ISLAND', 'MIDDLETON, DR CONYERS', 'MIDDLETON, SIR CHARLES, ISLAND', 'MIDDLETON CHEYNEY', 'MILBOURN-PORT', 'MILFORD HAVEN', 'MILITARY DISCIPLINE', 'MILITARY EXECUTION', 'MILITARY STATE', 'MILITARY TENURES', 'MILK OF VEGETABLES', 'MILL, JAMES', 'MILL, JOHN', 'MILLAR, JAMES, M', 'MILLE PASSUS', 'MILLIARIUM AUREUM', 'MILLOT, CLAUDE-FRANÇOIS-XAVIER', 'MILO, T', 'MIMI, MIMES', 'MINDORO ISLE', 'MINES OF BAVARIA', 'MINTURNAE', 'MINYAE', 'MIRABEAU, VICTOR RIQUETTI, MARQUIS', 'MIRACLES', 'MISSISSIPPI RIVER', 'MISSOURI TERRITORY', 'MITHRAS, FEASTS OF', 'MITRE ISLAND', 'MOA ISLE', 'MOBILE, MOVEABLE', 'MODAIN, UL', 'MOIVRE, ABRAHAM', 'MOLA SALSA', 'MOLIERE, JEAN-BAPTISTE POQUELIN', 'MOLTON, SOUTH', 'MONA AND MONITA', 'MONEY OF GERMANY, SPAIN', 'MONGE, GASPAR', 'MONK, GEORGE, DUKE OF ALBEMARLE', 'MONMOUTH, JAMES DUKE OF', 'MONOCEROS, UNICORN', 'MONRO, DR ALEXANDER', 'MONSOONS', 'MONTAGU, LADY MARY WORTLEY', 'MONTAIGNE, MICHEL', 'MONTEGO BAY', 'MONTESQUIEU, CHARLES', 'MONTI, VΙCENZO', 'MOOR, JAMES', 'MOORE, DR JOHN', 'MOORE, SIR JOHN', 'MORAL SENSE', 'MORBUS COMITIALIS', 'MORDAUNT, CHARLES, EARL OF PETERBOROUGH', 'MORE, SIR THOMAS, LORD HIGH CHANCELLOR OF ENGLAND', 'MORE, HANNAH', 'MOREAU, JOHN VICTOR', 'MOREL, WILLIAM', 'MORELL, ANDREW', 'MORELLI, JAMES', 'MORERI, LOUIS', 'MORESQUE DANCES', 'MORETON-EN-MARSH', 'MORGAGNI, JOHN BAPTIST', 'MORGHEN, RAPHAEL', 'MORISON, ROBERT', 'MORITZ, ST', 'MORNAY, PHILIPPE', 'MORNING STAR', 'MORS, DEATH', 'MORTALITY, HUMAN', 'MOSAIC', 'MOSHEIM, JOHN LAURENCE', 'MOSQUITO SHORE', 'MOUFET, THOMAS', 'MOULDS', 'MOULDS', 'MOULDS', 'MOULDS', 'MOULDS', 'MOULDINGS', 'MOUNT SORREL', 'MOUNTS OF PIETY', 'MOUNTAIN OF FORTY DAYS', 'MOZART, JOHN CHRYSOSTOM-WOLFGANG-THEOPHILUS', 'MUCHOO RÏVER', 'MUELLER, JOHANNES', 'MULES', 'MULTIPLEMULITPLE', 'MUMMIUS, LUCIUS', 'MUNDUS PATENS', 'MURAT, JOACHIM', 'MURATORI, LOUIS ANTONY', 'MURRAY, ALEXANDER', 'MURRAY’S ISLANDS', 'MURRHINE, MURRHINUS, MΟPPΙVΟS', 'MUSAEUS', 'MUSSCHENBROEK, PETER VAN', 'MUST, MUSTUM', 'MUTIS, JOSEPH CELESTINO', 'MUTIUS, CAIUS', 'MUZZLE OF', 'MYCENAE', 'MYIAGRUS DEUS', 'MYIODES DEUS', 'MYO ISLE', 'MYOPIA, SHORT-SIGHTEDNESS', 'MYRMIDONS, MYRMIDONES', 'MYRTOUM MARE', 'MYSOL ISLE', 'N, A', 'NAENIA', 'NAEVIUS, CNEIUS', 'NAGY-BANYA', 'NAGY-ENYED', 'NAGY-KAROLI', 'NAGY-KOBESCH', 'NAIN, LEWIS SEBASTIAN', 'NAN-HIUNG', 'NANI, JOHN BAPTIST', 'NANKA ISLANDS', 'NAN-NING', 'NAPIER, JOHN, BARON OF MERCHISTON', 'NATUNA ISLE, GREAT', 'NATUNAS ISLES, NORTH', 'NATUNAS ISLES, SOUTH', 'NATURAL NOTE', 'NAVAL CROWN', 'NAVAL TACTICS', 'NAVARRE, MARTIN', 'NAVIGATION, INLAND', 'NAVIGATORS', 'NECKER, JAMES', 'NEEDHAM, JOHN TUBERVILLE', 'NEGATIVE SIGN', 'NEGRAIS ISLE', 'NEGRO, RIO', 'NELSON, HORATIO, LORD VISCOUNT', 'NEMESIANUS, AURELIUS OLYMPIUS', 'NEOTS, ST', 'NEOTS, ST', 'NEPEAN ISLAND', 'NEPEAN POINT', 'NEPOS, CORNELIUS', 'NEPTUNE’S ISLES', 'NERO, CLAUDIUS CAESAK', 'NERVA, Μ', 'NEU-BRANDENBURG', 'NEUSTADTL', 'NEW FOREST OF HAMPSHIRE', 'NEWHAVEN', 'NEWHAVEN', 'NEWTON, SIR ISAAC', 'NEWTONIAN PHILOSOPHY', 'NEWTON, THOMAS', 'NEWTON-STEWART', 'NEY, MICHEL', 'NHING-KOUE', 'NICANDRO, ST', 'NICEPHORUS, GREGORAS', 'NICEPHORUS, CALISTUS', 'NICERON, JOHN FRANCIS', 'NICERON, JOHN PETER', 'NICETAS, DAVID', 'NICETAS, ACHOMINATES', 'NICHOLS, FRANK', 'NICOLAS, ST', 'NICOLAS, ST', 'NICOLE, PETER', 'NICOT, JOHN', 'NIEBUHR, BERTHOLDT-GEORGE', 'NIGIDIUS FIGULUS, PUBLIUS', 'NINIANS, ST', 'NITHSDALE, NITHISDALE', 'NOBLE, NOBILIS', 'NOCTURNAL, NOCTURLABIUM', 'NODATED HYPERBOLA', 'NOLLEKENS, JOSEPH', 'NOLLET, JEAN ANTOINE', 'NOMBRIL POINT', 'NOMENCLATORS', 'NOMENCLATURE, NOMENCLATURA', 'NON-NATURALS', 'NON-OBSTANTE', 'NON-SUIT', 'NONIUS, PETER', 'NORDBOTTENS AND WASTERBOTTEN', 'NORDEN, FREDERICK LOUIS', 'NORES, JASON', 'NORFOLK ISLAND', 'NORFOLK SOUND', 'NORIS, HENRY', 'NORTH, DUDLEY, LORD', 'NORTH, DUDLEY, LORD', 'NORTH, FRANCIS, LORD GUILDFORD', 'NORTH CAPE', 'NORTH FORELAND', 'NORTH ISLAND', 'NORTH POINT ISLES', 'NORTH POINT ISLET', 'NORTH ROCKS', 'NORTHCOTE, JAMES', 'NORTHUMBERLAND ISLANDS', 'NORTHUMBERLAND STRAITS', 'NOSTOCH, SHOT STARS', 'NOSTRADAMUS, MICHAEL', 'NOTAE', 'NOVATIANS, NOVATIANI', 'NOWOGOROD SEWERSK', 'NUBIAN DESERT', 'NUESTRA SENHORA', 'NUMA POMPILIUS', 'NUMBERS', 'NUMERAL LETTERS', 'NUNCUPATIVE WILL', 'NUNDINAL, NUNDINALIS', 'NUPTIAL RITES', 'NURSING OF CHILDREN', 'NUX VOMICA', 'NUYTS, PETER', 'NYMPHAEA', 'O, THE', 'OBLIQUE CASES', 'OBLIQUE CIRCLE', 'OBLIQUE DESCENSION', 'OBLIQUE LINE', 'OBLIQUE PLANES', 'OBLIQUE SAILING', 'OBSERVATION ISLAND', 'OBSERVATORY ISLAND', 'OCCIDENT ESTIVAL', 'OCCIDENT EQUINOCTIAL', 'OCKLEY, SIMON', 'OCTOBER EQUUS', 'ODDLY ODD', 'OENOPTAE', 'OHANG JAVA', 'OLDCASTLE, SIR JOHN', 'OLDENBURG, HENRY', 'OLDHAM, JOHN', 'OLDMIXON, JOHN', 'OLIVAREZ, DON GASPAR', 'OLIVE’S ISLAND', 'OLIVETAN, ROBERT', 'OLIVIER, CLAUDE MATTHIEU', 'OLYMPIC GAMES', 'OMAR EBN', 'OMER, ST', 'ONTONG JAVA', 'OPTATIVE MOOD', 'OPTIC ANGLE', 'OPTIC AXIS', 'ORAEA', 'ORANGE RIVER', 'ORANGE, SEA', 'ORCHIA LEX, INSTITUTED', 'ORDERS', 'ORDERS', 'ORDERS', 'ORDERS', 'ORDINAL NUMBERS', 'ORDINARY OF NEWGATE', 'OREGON TERRITORY', 'ORELLANA, FRANCISCO', 'ORFFYREUS’S WHEEL', 'ORGANO-LYRICON', 'ORIENT, L', 'ORIGINAL SIN', 'ORKNEY ISLANDS', 'ORLEANS, NEW', 'ORME, ROBERT', 'ORNITHIAE', 'OROBIQ, DON BALTHASAR', 'ORTEGAL, CAPE', 'ORTELIUS, ABRAHAM', 'ORTHOGRAPHIC PROJECTION OF', 'ORTHOPNOEA', 'OSENEY ISLAND', 'OSKOL-STAROI', 'OSORIUS, JEROME', 'OSSAT, ARNAUD', 'OSTADE, ADRIAN', 'OSTERVALD, JOHN FREDERIC', 'OTHO, Μ', 'OTRAHERMANA, LA', 'OTTERY, ST MARY', 'OTWAY, THOMAS', 'OUE-KIUN', 'OUEN-TCHEOU', 'OUGHTRED, WILLIAM', 'OULLER LAKE', 'OURAL MOUNTAINS', 'OURRY’S ISLAND', 'OUSE, GREATER', 'OUTCHANG-FOU', 'OU-TCHEOU', 'OVERALL, JOHN', 'OVERBURY, SIR THOMAS', 'OVIDIUS, P', 'OVIEDO, JOHN GONSALES', 'OWEN, DR JOHN', 'OWRAM, NORTH', 'OWRAM, SOUTH', 'OYSTER HARBOUR', 'OYSTER ISLAND', 'OZANAM, JAMES', 'OZELL, JOHN', 'OZOLAE', 'P, THE', 'PACIFIC OCEAN', 'PACUVIUS, MARCUS', 'PADANG-GUCHI', 'PAEAN', 'PAEAN', 'PAEDO-BAPTISM', 'PAGAN, BLAISE FRANCOIS COMTE', 'PAGI, ANTONY', 'PAGNINUS, SANCTES', 'PAIMBOEUF', 'PALACE, PALATIUM', 'PALAEMON, Q', 'PALAEOLOGUS, MICHAEL', 'PALAEPAPHOS', 'PALAESTRA', 'PALAWAN ISLE', 'PALCATI NOR', 'PALEY, WILLIAM, D', 'PALINGENIUS, MARCELLUS', 'PALISSE, LA', 'PALK’S STRAITS', 'PALLADIO, ANDREA', 'PALLAS, SIMON PETER', 'PALLAVICINI FERRANTE', 'PALLEEANGAN ISLE', 'PALLIATAE', 'PALLISER, CAPE', 'PALLISER’S ISLANDS', 'PALM ISLANDS', 'PALMAS, LAS', 'PALMERSTON ISLAND', 'PALUS MEOTIS', 'PANAMA, ISTHMUS OF', 'PANAMAO ISLE', 'PANATHENAEA, ΠΑΝΑΌΗΝΑΙΑ', 'PANCO POINT', 'PANDECTS, PANDECTAE', 'PANGANSANE ISLE', 'PANTAENUS', 'PANTOMIME, TLΑΝΤΟΜΙΜΟΣ', 'PANY ISLE', 'PAO, SAN JOAN', 'PAO-KING', 'PAP CASTLE', 'PAPER-MONEY', 'PAPIER MACHE', 'PARACELSUS, PHILIPPUS AUREOLUS THEOPHRASTUS', 'PARAGAUDAE', 'PARALLEL SPHERE', 'PARALLEL SAILING', 'PARALLELS OF ALTITUDE', 'PARALLELS OF DECLINATION', 'PARCAE', 'PARDIES, IGNATIUS GASTON', 'PARIA, GULF OF', 'PARIAN CHRONICLE', 'PARIS, MATTHEW', 'PARISH- CLERK', 'PARK, MUNGO', 'PARKER, MATTHEW', 'PARNELL, DR THOMAS', 'PARR, CATHARINE', 'PARR, SAMUEL', 'PARR, THOMAS', 'PARRHASIUS, JANUS', 'PARROT ISLANDS', 'PARSON AND VICAR', 'PASCAL, BLAISE', 'PASSAGE ISLAND', 'PASSAGE ISLE', 'PASTERN OF', 'PATA ISLE', 'PATAECI', 'PATCHOW ISLANDS', 'PATERCULUS, C', 'PATERNOSTERS, GREAT', 'PATERNOSTERS, LITTLE', 'PATHOLOGY, GENERAL', 'PATIENTIA STRAIT', 'PATIN, GUY', 'PATIN, CHARLES', 'PATKUL, JOHN REINHOLD', 'PATRIARCH, PATRIARCHA', 'PATRIARCHS', 'PATRIARCHAL CROSS', 'PATRICIANS', 'PATRICK, ST', 'PATRIPASSIANS, PATRIPASSIANI', 'PAUL, FATHER', 'PAULIANISTS, PAULIANISTAE', 'PAULO, MARCO', 'PAULO, SAN', 'PAULUS AEMILIUS', 'PAUW, CORNELIUS', 'PAVILIONS', 'PAZ, LA', 'PEACE, TEMPLE OF', 'PEAK OF DERBYSHIRE', 'PEARCE, DR', 'PEARSON, JOHN', 'PECK, FRANCIS', 'PEDIAEAN', 'PEDRA BLANCA', 'PEDRO, DOM', 'PEELAS ISLES', 'PEINE FORTE', 'PEIRCE, JAMES', 'PEIRESC, NICOLAS CLAUDE FABRI', 'PELATAE', 'PELEW ISLANDS', 'PELING ISLE', 'PELLETIER, BERTRAND', 'PELLEW, SIR EDWARD’S GROUP', 'PENDANTS', 'PENGUIN ISLAND', 'PENN, WILLIAM', 'PENNANT, THOMAS', 'PEPPER, PIPER', 'PEPPER BAY', 'PERCY ISLES', 'PERIPNEUMONY, AΕGΙΠΝΕΥΜΟVΙΑ', 'PERIZONIUS, JAMES', 'PERNICIOUS ISLANDS', 'PERRAULT, CLAUDE', 'PERRON, JAQUES DAVY', 'PERRY, CAPTAIN JOHN', 'PERSICUS SINUS', 'PERSIUS FLACCUS', 'PERSONAL ACTION', 'PERSONAL VERB', 'PERSPECTIVE, AERIAL', 'PETER I', 'PETERSBURG, ST', 'PETHERTON, NORTH', 'PETHERTON, SOUTH', 'PETIT, JOHN', 'PETITIO PRINCIPII', 'PETIVER, JAMES', 'PETRARCH, FRANCIS', 'PETREL ISLAND', 'PETRONIUS ARBITER, C', 'PETTY, SIR W', 'PEYRERE, ISAAC', 'PEZAY, N', 'PHAEDO', 'PHAEDRA', 'PHAEDRUS', 'PHAENOMENON', 'PHALERAE', 'PHALEUCIAN VERSE', 'PHARMACOPOEIA', 'PHILADELPHIAN SOCIETY', 'PHILAENI', 'PHILIP ISLANDS', 'PHILIP PORT', 'PHILIPPICS, Φ', 'PHILIPS, FABIAN', 'PHILIPS, AMBROSE', 'PHILIPS, CATHARINE', 'PHILOPOEMEN', 'PHILOSOPHER’S STONE', 'PHILOSTRATUS, FLAVIUS', 'PHOCAEA', 'PHOENIX', 'PHOENIX', 'PHRYNICHUS AKRHABIUS', 'PHYSIC, PRACTICE OF', 'PIA MATER', 'PIANO-FORTE', 'PIASANSKOI, VERSCHNEI', 'PIC DE L’ETOILE, LE', 'PICARD, JOHN', 'PICCOLOMINI, ALEXANDER', 'PICCOLOMINI, FRANCIS', 'PICCOLOMINI, JAMES', 'PICTET, BENEDICT', 'PICTS’ WALL', 'PICUMNUS AND PILUMNUS', 'PIERCY ISLAND', 'PIETRA MALA', 'PIETRA PERCIA', 'PILKINGTON, LAETITIA', 'PILLAR, CAPE', 'PINDAR RIVER', 'PINEDA, JOHN', 'PINES, ISLAND OF', 'PINET, ANTONY', 'PING-LIANG', 'PINTOR, PETER', 'PIRAEUS PORTUS', 'PIROMALLI, PAUL', 'PIRON, ALEXIS', 'PISO, LUCIUS CALPURNIUS', 'PISSELAEUM INDICUM, BARBADOES TAR', 'PISTACIA, TURPENTINE-TREE', 'PISUM, PEASE', 'PITCAIRNE, ARCHIBALD', 'PITHOU, PETER', 'PITISCUS, SAMUEL', 'PITOT, HENRY', 'PITS, JOHN', 'PITT, CHRISTOPHER', 'PITT, WILLIAM', 'PITT’S ISLAND', 'PITT’S STRAITS', 'PIUS H', 'PIZARRO, FRANCIS', 'PLANETARY DAYS', 'PLANETARY YEARS', 'PLANUDES, MAXIMUS', 'PLASTER OF PARIS', 'PLASTIC NATURE', 'PLATA, LA', 'PLATAEAE', 'PLATONIC YEAR', 'PLAUTUS, Μ', 'PLAYFAIR, JOHN', 'PLECTRUM, GREEK', 'PLICA POLONICA', 'PLINIUS SECUNDUS, C', 'PLINIUS CAECILIUS SECUNDUS, C', 'PLOT, DR ROBERT', 'PLOWDEN, EDMUND', 'PLUCHE, ANTONY', 'PLUKENET, LEONARD', 'PO, PADUS, ERIDANUS', 'POBASSOO’S ISLAND', 'POCOCK’S ISLAND', 'POCOCK’S POINT', 'POCOCKE, DR EDWARD', 'POCOCKE, PICKARD', 'POECILE', 'POESTUM', 'POGGIO BRACCIOLINI', 'POGGY ISLANDS', 'POLE, REGINALD', 'POLETAE', 'POLIGNA, MELCHIOR', 'POLITIAN, ANGELO', 'POLLICIS PRESSIO', 'POLLIO, CAIUS ASINIUS', 'POLLUX, JULIUS', 'POLYAENUS', 'POLYDORE VIRGIL', 'POLYGARS', 'POMFRET, JOHN', 'POMOERIUM', 'POMPONATIUS, PETER', 'PONS, ST', 'PONT-A-MOUSSON', 'PONTE-CORVO', 'POOLE, MATTHEW', 'POOR-LAWS', 'POPE, ALEXANDER', 'POPHAM, SIR JOHN', 'POPILIUS, LAENAS, ROMAN', 'POPO ISLE', 'POPOCA, MOUNT', 'POPPAEA, SABINA', 'PORO-ISLE', 'PORTS', 'PORT-AU-PRINCE', 'PORT-DALRYMPLE', 'PORT-GLASGOW', 'PORT-JACKSON', 'PORTLAND ISLANDS', 'PORTLAND ISLAND', 'PORT-MACQUARIE', 'PORT-ROYAL', 'PORT-SANDWICK', 'PORTO-NOVO', 'PORTO-SEGURO', 'PORTO SEGURO', 'PORT-PATRICK', 'POSITION, CENTRE OF', 'POSSESSION ISLAND', 'POST-HORSE', 'POST-OFFICE', 'POTTER, CHRISTOPHER', 'POTTER, JOHN, D', 'POTTERY AND STONE-WARE', 'POUSSIN, NICHOLAS', 'POUSSIN, GASPAR', 'POVERTY BAY', 'PRAEMUNIRE', 'PRAENESTE', 'PRATT, CHARLES, EARL OF CAMDEN', 'PRE-EXISTENCE', 'PRENOMEN, PRAENOMEN', 'PRESBYTAE', 'PRESBYTERIANS, PROTESTANTS', 'PRESIDENT, PRAESES', 'PRESTER', 'PRETORIAN GUARDS', 'PRIAM, KING OF TROY', 'PRICE, RICHARD, D', 'PRIDEAUX, HUMPHRY', 'PRIESTLEY, JOSEPH, LL', 'PRIMAE', 'PRIMARY QUALITIES OF BODIES', 'PRIME, PRIMUS', 'PRIME FIGURE', 'PRIME VERTICAL', 'PRIMITIAE', 'PRINCE, PRINCEPS', 'PRINCE’S METAL', 'PRINCE OF WALES’S ISLAND', 'PRINCE’S ISLE', 'PRINCE WILLIAM’S ISLANDS', 'PRINCE WILLIAM HENRY’S ISLAND', 'PRINCESS ROYAL’S HARBOUR', 'PRINCIPAL POINT', 'PRINGLE, SIR JOHN', 'PRINTING PRESSES', 'PRINTING MACHINES', 'PRIOR, MATTHEW', 'PRIORIES, ALIEN', 'PROBATE OF', 'PRONOUN, PRONOMEN', 'PROPERTIUS, SEXTUS AURELIUS', 'PROPORTION, HARMONICAL', 'PROPORTIONALS', 'PROSOPOPOEIA', 'PROVIDENCE, NEW', 'PROVIDENCE, OLD', 'PROVIDENTIAL CHANNEL', 'PROVOST OF', 'PRYNNE, WILLIAM', 'PSALMANAZAR, GEORGE', 'PSALTERIUM, GREEK', 'PSELLUS, MICHAEL', 'PTOLMEY SOTER', 'PTOLMEY CERAUNUS', 'PTOLMEY, CLAUDIUS', 'PUBLIUS SYRUS', 'PUERTO-REAL', 'PUFFENDORF, SAMUEL', 'PULO AKAT', 'PLTENEY, WILLIAM', 'PUMICE-STONE RIVER', 'PUNCTUM SALIENS', 'PUNCTUM STANS', 'PUNISHMENT IN', 'PURCELL, HENRY', 'PURCHAS, SAMUEL', 'PURDIE’S ISLES', 'PUTTAN SOMNANT', 'PUY, LE', 'PYRENEAN MOUNTAINS', 'PYRENEES, EASTERN', 'PYRENEES, UPPER', 'PYRENEES, LOWER', 'PYTHIAN GAMES', 'QUADRATIC EQUATIONS', 'QUANG-PING', 'QUARLES, FRANCIS', 'QUARTETTO, QUARTET', 'QUATRE-BRAS', 'QUEEN CHARLOTTE’S ISLANDS', 'QUEEN CHARLOTTE’S ISLAND', 'QUEEN CHARLOTTE’S SOUND', 'QUEEN’S COUNTY', 'QEENSFERRY, SOUTH', 'QUENTIN, ST', 'QUESNAY, FRANÇOIS', 'QUESNE, MARQUIS', 'QUICK-MATCH', 'QUIDDITY, QUIDDITAS', 'QUILLET, CLAUDE', 'QUIN, JAMES', 'QUINAUT, PHILIP', 'QUINQUAGESIMA SUNDAY, SHROVE SUNDAY', 'QUINTIN MATSYS', 'QUINTUS CALABER', 'QUOINS', 'RABELAIS DR', 'RABIRIUS, C', 'RACINE JOHN', 'RACK EDMUND', 'RADCLIFFE MRS', 'RADCLIFFE DR', 'RADNOR, NEW', 'RAGMAN’S ROLL', 'RAISEN-MARKET', 'RALEIGH SIR WALTER', 'RALPH JAMES', 'RAMBERT ST', 'RAMAZZINI BERNARDIN', 'RAMMISSERAM ISLE', 'RAMSAY ALLAN', 'RAMSAY, ANDREW MICHAEL', 'RAMSAY, JAMES', 'RAMUS PETER', 'RANDOLPH THOMAS', 'RANDOM SHOT', 'RAPIN RENE', 'RASK ERASMUS', 'RASTALL JOHN', 'RATIOS OF', 'RAWAK ISLE', 'RAY JOHN', 'RAYNAL WILLIAM THOMAS', 'RE-ACTION', 'RE-AGGRAVATION', 'RE-ANIMATION', 'REASONING RATIOCINATION', 'REAUMUR RENE ANTOINE FERCHAOLT, SIEOR', 'REBATEMENT', 'REBELLION REBELLIO', 'RECHERCHE ARCHIPELAGO', 'RECORDE ROBERT', 'RECREATION ISLAND', 'REDUPLICATION OF', 'REE REIS', 'REEF ISLAND', 'REEVE CLARA', 'REFRANGIBILITY OF LIGHT', 'REGICIDE KING-KILLER', 'REGIS PETER SYLVAIN', 'REGISTRATION GENERAL', 'REGNARD JOHN FBANCIS', 'REGNIER MATHUBIN', 'REGULUS, M', 'REID DR THOMAS', 'REISKE JOHN JAMES', 'RELAND ADRIAN', 'REMBRANDT VAN RHIN', 'REMY SΤ', 'RENNIE JOHN', 'RENVERSE INVERTED', 'RESIDUAL ANALYSIS', 'RESIDUAL FIGURE', 'RESISTANCE', 'RESOLUTION BAY', 'RESOLUTION ISLAND', 'REST-HARROW', 'RESTITUTION OF MEDALS', 'RETFORD EAST', 'RETZ CARDINAL', 'REUS-PLAUEN', 'REVE REEVE', 'REYNEAU CHARLES RENE', 'REYNOLDS SIR JOSHUA', 'RHAPSODI RHAPSODISTS', 'RHINE, LOWER', 'RHINE, UPPER', 'RHODE ISLAND', 'RHOMB SOLID', 'RHYME RHIMK', 'RHYMER THOMAS', 'RHYTHM MUSICAL', 'RICARDO DAVID', 'RICHARDSON SAMUEL', 'RICHELET CAESAR PETER', 'RICHELIEU JOHN ARMAND', 'RICHELIEU ISLANDS', 'RIDING ATHWART', 'RIDLEY NICHOLAS', 'RIENZI NICHOLAS GABRINI', 'RIGGING OF', 'RIMA-SZOMBACH', 'RIOU’S ISLAND', 'RIPHOEAN MOUNTAINS', 'RIVER-WATER', 'ROAD-MAKING', 'ROBERT’S ISI', 'ROBERTSON WILLIAM', 'ROBERVALLIAN LINES', 'ROBIGUS AND ROBIGO', 'ROBINS BENJAMIN', 'ROBINSON SIR RICHARD, LORD ROKEBY', 'ROBISON JOHN', 'ROCHE-BERNARD', 'ROCHEFOUCAULT FRANCIS DUKE', 'ROCKY MOUNTAINS', 'RODNEY GEORGE BRYDGES, LORD RODNEY', 'ROEBUCK JOHN', 'ROEMER OLAUS', 'ROGATION ROGATIO', 'ROHAN HENRY DUKE OF', 'ROHAULT JAMES', 'ROLLI PAUL', 'ROLLIN CHARLES', 'ROLLOCK ROBERT', 'ROMA ISLE', 'ROMAN CATHOLICS UNDER', 'ROMANO GIULIO', 'ROMILLY SAMUEL', 'ROMNEY, NEW', 'RONSARD PETER', 'ROOKE SIR GEORGE', 'ROQUE SΤ', 'ROSA, SALVATOR', 'ROSCIUS, Q', 'ROSCOE WILLIAM', 'ROSCOMMON, WENTWORTH DILLON, EARL OF', 'ROSES, OTTAR', 'ROSS, NEW', 'ROSS-SHIRE', 'RO UND-HOUSE', 'ROUSSEAU JAMES', 'ROUSSEAU, JOHN BAPTIST', 'ROUSSEAU, JOHN-JAMES', 'ROWE NICHOLAS', 'ROWE, ELIZABETH', 'ROWLEY, WILLIAM', 'ROWLEY REGIS', 'ROWNING JOHN', 'ROYALFAMILY', 'RSHOW WALDIMIROW', 'RUBBER INDIA', 'RUBENS SIR PETER PAUL', 'RUDBECK OLAUS', 'RUDDIMAN THOMAS', 'RUE CHARLES', 'RUFFHEAD DR OWEN', 'RUHNKENIUS DAVID', 'RUMFORD COUNT', 'RUNCIMAN ALEXANDER', 'RUPERT PRINCE', 'RUSH BENJAMIN', 'RUSHWORTH JOHN', 'RUSSELL WILLIAM', 'RUSTIC GODS', 'RUSTIC WORK', 'RUYSCH FREDERICK', 'RUYTER MICHAEL ADRIAN', 'RYMER THOMAS', 'SAAR-LOUIS', 'SAAR-LOUIS', 'SAAVEDRA, MICHAEL', 'SABAGAN ISLANDS', 'SABINUS, GEORGE', 'SABLES D’OLONNE, LES', 'SACAEA', 'SACCHARUM, SUGAR', 'SACHEVEREL, DR HENRY', 'SACKVILLE, THOMAS, LORD BUCKHURST AND EARL OF DORSET', 'SACKVILLE, CHARLES, EARL OF DORSET', 'SACRILEGE, SACRULEGIUM', 'SADLER, JOHN', 'SADLER, MICHAEL THOMAS', 'SADOLET, JAMES', 'SAFFRON-WALDEN', 'SAGARA NACKEN BAY', 'SAGARAWIDA BAY', 'SAGE, ALAIN RENE', 'SAGE, JOHN', 'SAINTES, DES', 'SALAYR ISLE', 'SALIBABO ISLES', 'SALLO, DENIS DE', 'SALLUSTIUS, C', 'SALLY-PORTS', 'SALMASIUS, CLAUDIUS', 'SALMON FISHERY', 'SALO BAY', 'SAMBAR POINT', 'SAMBELONG ISLANDS', 'SAMBHAR CAPE', 'SAMPANMANGO CAPE', 'SAMSON’S POST', 'SAMUEL, BOOKS OF', 'SAN PALOI', 'SAN LUCAR', 'SAN SEBASTIAN', 'SANADON, NOEL ΕTIENNE', 'SANCHEZ, FRANÇOIS', 'SANCROFT, WILLIAM', 'SANDANAH CAPE', 'SANDELWOOD ISLE', 'SANDING ISLES', 'SANDWICH ISLANDS', 'SANDY DESERT', 'SANDY ISLAND', 'SANDYS, SIR EDIWN', 'SANDYS, GEORGE', 'SANNAZARIUS, JAMES', 'SANTA CATALINA', 'SANTA CRUZ', 'SANTA CRUZ', 'SANTA FE', 'SAONE AND LOIRE', 'SAPY STRAITS', 'SARDONIUS RISUS, SARDONIAN LAUGHTER', 'SARMATTA ISLE', 'SAROS-PATAK', 'SARTINE ISLANDS', 'SARUM, OLD', 'SATALIA, ANTALIA', 'SAUNDERSON, DR ROBERT', 'SAUNDERSON, DR NICHOLAS', 'SAURIN, JAMES', 'SAUSSURE, HORACE BENEDICT', 'SAUVEUR, JOSEPH', 'SAVAGE ISLAND', 'SAVAGE, RICHARD', 'SAVARY, JAMES', 'SAVILE, SIR GEORGE', 'SAVILLE, SIR HENRY', 'SAVONAROLA, JEROME', 'SAXE, MAURICE, COUNT OF', 'SAXE-ALTENBURG', 'SAXE-MEININGEN-HILDBURGHAUSEN', 'SAXE-WEIMAR-EISNACH', 'SAXO-GRAMMATICUS', 'SCALIGER, JULIUS CAESAR', 'SCALIGER, JOSEPH JUSTUS', 'SCAPE-GOAT', 'SCAPULA, JOHN', 'SCARPA, ΑΝΤΟΝΙΟ', 'SCARRON, PAUL', 'SCHANCK, CAPE', 'SCHEELE, CHARLES WILLIAM', 'SCHEINER, CHRISTOPHER', 'SCHILLER, JOHN CHRISTOPHER FREDERICK', 'SCHLEGEL, FREDERICK', 'SCIIOENOBATES', 'SCHOMBERG, FREDERICK-ARMAND, DUKE OF', 'SCHOUTEN’S ISLAND', 'SCHREVELIUS, CORNELIUS', 'SCHULTENS, ALBERT', 'SCHURMAN, ΑNNA MARIA', 'SCHWARTSBURG-SONDERHAUSEN', 'SCHWARZBURG-RUDOLSTADT', 'SCIOPPIUS, GASPAR', 'SCIPIO, PUBLIUS CORNELIUS', 'SCOT, MICHAEL OF BALWIRIE', 'SCOT, REGINALD', 'SCOTT, JOHN', 'SCOTT, SIR WALTER', 'SCOUGAL, HENRY', 'SCRIPTURE, HOLY', 'SCRUPLES OF EMERSION', 'SCULPONEAE', 'SCYTALA LACONICA', 'SEARCH-W', 'SEBASTIAN, SΤ', 'SEBURAI, SEBURAEI', 'SECALE, RYE', 'SECKENDORF, GUY LOUIS', 'SECKER, T', 'SECULAR GAMES', 'SECUNDUS, JOANNES NICOLAIUS', 'SEDAN-CHAIR', 'SE-DEFENDENDO', 'SEDLEY, S', 'SEDRE PASSAGE', 'SEE AMOL', 'SEE BANGOG', 'SEE BEEROO ISLE', 'SEEASSEE ISLE', 'SEGMENT OF', 'SEGMENTS, L', 'SEGOVIA, NEW', 'SEJANUS, AEUUS', 'SELDEN, JOHN', 'SELEUCIDAE', 'SELF-DEFENCE', 'SELF-LOVE', 'SELKIRK, A', 'SEMENTINAE FERIAE', 'SEMI-ARIANS', 'SENAN-FOU', 'SENECA, L', 'SENNERTUS, DANIEL', 'SENSES, PLEASURES AND PAINS OF', 'SENSIBLE NOTE', 'SENSITIVE PLANT', 'SENTINEL PERDU', 'SENTINEL, GREAT AND LITTLE', 'SERANGANI ISLES', 'SERENUS SAMMONICUS', 'SERLE’S ISLAND', 'SERPENT', 'SERPENT', 'SERRA DI FALCO', 'SERRA-VALLE', 'SERVANDONI, JOHN NICHOLAS', 'SERVETUS, MICHAEL', 'SERVICE, CHORAL', 'SERVIUS, MAURUS HONORATUS', 'SESOSTRIS, SESOOSIS, SESOOSIS', 'SESTERCE, SESTERTIUS', 'SESTET, ITALIAN SESTETTO', 'SEVEN ISLANDS', 'SEVEN STARS', 'SEVERUS, CORNELIUS', 'SEVERUS’S WALL', 'SEVIGNE, MARIE', 'SEVRES, DEUX', 'SEWALIC MOUNTAINS', 'SEXTANS, SEXTANT', 'SEXTILE, SEXTILIS', 'SEXTIUS, QUINTUS', 'SEXTUS EMPIRICUS', 'SEXUALISTAE', 'SEYNE, LA', 'SHADWEL, THOMAS', 'SHANK’S ISLAND', 'SHARP, JAMES', 'SHARP, DR JOHN, ARCHBISHOP OF YORK', 'SHARP, ABRAHAM', 'SHAT-UL-ARAB', 'SHAW, DR THOMAS', 'SHAWLS, FIGURED', 'SHEBBEARE, JOHN', 'SHEFFIELD, JOHN, DUKE OF BUCKINGHAMSHIRE', 'SHENSTONE, WILLIAM', 'SHEPPEY, ISLE OF', 'SHEPTON-MALLET', 'SHERIDAN, THOMAS, D', 'SHERIDAN, MRS', 'SHERIDAN, RICHARD BRINSLEY', 'SHERLOCK, WILLIAM', 'SHEKLOCK, DR THOMAS', 'SHERRIFF OF MECCA', 'SHIELD CAPE', 'SHIELDS, NORTH', 'SHIP-BUILDING', 'SHIPS', 'SHIPSTON-ON-STOUR', 'SHOAL-WATER BAY', 'SHORE, JANE', 'SHORT, JAMES', 'SHOVEL, SIR CLOUDESLY', 'SHOUT, CLAMOUR', 'SHROVE-TUESDAY', 'SIDDONS, MRS', 'SIDNEY, SIR PHILIP', 'SIERRA-MORENA', 'SIGNALS, NAVAL', 'SILIUS ITALICUS, CAIUS', 'SILK SPINNING', 'SIMEON OF DURHAM', 'SIMON MACCABEUS', 'SIMON MAGUS', 'SIMPSON, THOMAS', 'SIMSON, DR', 'SINCLAIR’S ROCKS', 'SINDANGAN BAY', 'SINDE RIVER', 'SINDE SAGOR', 'SINGING OF BIRDS', 'SINISTER ASPECT', 'SINKING FUND', 'SI-PORAH', 'SIR CHARLES SAUNDERS’ ISLAND', 'SIR ISAAC ΡΟΙΝΤ', 'SIR JOSEPH BANKS’ GROUP', 'SITOPHYLAX, Σ', 'SIVANA SAMUDRA', 'SIX ISLANDS', 'SKENE, SIR JOHN', 'SKEW BRIDGE', 'SKINNER, JOHN', 'SLEIDAN, JOHN', 'SLEUT-HOUND', 'SLIDING-RULE', 'SLIPPER ISLAND', 'SLOANE, SIR HANS', 'SLOBODSK-URRAINE', 'SMALL KEY', 'SMEATON, JOHN', 'SMELLIE, WILLIAM', 'SMELTING IRON', 'SMITH, SIR THOMAS', 'SMITH, ADAM', 'SMITING-LINE', 'SMOAKY CAPE', 'SMOLLETT, TOBIAS', 'SMOOTH ISLAND', 'SNYDERS, FRANCIS', 'SOANE RIVER', 'SOCINUS, LAELIUS', 'SOLANDER’S ISLAND', 'SOLIS, ΑNTONIO', 'SOLITARY ISLAND', 'SOLITARY ISLANDS', 'SOLOMBO, GREAT', 'SOLOR ISLE', 'SOMERS, JOHN LORD', 'SOMNER, WILLIAM', 'SONDRE GRUND', 'SONG-MEN-CHAN', 'SOOLOO ISLES', 'SOOROOTOO ISLE', 'SOUI-TCHEOU', 'SOUND BOARD', 'SOUNDS, MUSICAL', 'SOUTH, ROBERT', 'SOUTH CAPE', 'SOUTHEAST ISLANDS', 'SOUTH ISLAND', 'SOUTH SEA', 'SOUTHERNE, THOMAS', 'SOUTH-MOULTON', 'SOVEREIGN POWER', 'SOZOMENUS, HERMIAS', 'SPAGIRIC ART', 'SPALLANZANI, LAZZARO', 'SPANHEIM, EZEKIEL', 'SPARTIANUS, AELIUS', 'SPECIFIC GRAVITY', 'SPEED, JOHN', 'SPELMAN, SIR HENRY', 'SPENCE, JOSEPH', 'SPENCER, JOHN', 'SPENCER CAPE', 'SPENSER, EDMUND', 'SPINOZA, BENEDICT', 'SPONGIA, SPONGE', 'SPOTSWOOD, JOHN', 'SPRAT, THOMAS', 'SPURZHEIM, JOHN GASPAR', 'SQUADRON OF SHIPS', 'STAHL, GEORGE ERNEST', 'STANHOPE, PHILLIP DORMER', 'STANISLAS LECKZINSKI', 'STANLEY, THOMAS', 'STANNARY COURTS', 'STARAJA-RUSSA', 'STARK, WILLIAM', 'STATIUS, PUBLIUS PAPINUS', 'THE STEAM-ENGINE', 'STEEL-YARD', 'STEELE, SIR RICHARD', 'STEEVENS, GEORGE', 'STENTOROPHONIC TUBE', 'STEPHANO, ST', 'STEPHANUS BYZANTINUS', 'STEPHANUS, HENRY', 'STEREOGRAPHIC PROJECTION', 'STEREOMETRY, Σ', 'STEREOTYPE PRINTING', 'STERN- POST', 'STERN- SHEETS', 'STERNE, LAURENCE', 'STEWART, MATTHEW, D', 'STEWART, DUGALD', 'STILLINGFLEET, EDWARD', 'STILLINGFLEET, BENJAMIN', 'STOBAEUS, JOANNES', 'STONE, JEROME', 'STOW, JOHN', 'STOWEY-NETHER', 'STRADA, FAMIANUS', 'STRAHAN, WILLIAM', 'STRANGE, SIR ROBERT', 'STRATFORD, FENNY', 'STRATFORD, STONY', 'STRENGTH OF MATERIALS, IN MECHANICS', 'STRIATED LEAF', 'STRYPE, JOHN', 'STUART, GILBERT', 'STUDDING-SAILS', 'STUKELEY, WILLIAM', 'STURM, JOHN', 'STURMINSTER-MARSHAL', 'STURMINSTER-NEWTON', 'STYLITES, PILLAR SAINTS', 'SUAREZ, FRANCIS', 'SUBDUPLE RATIO', 'SUBDUPLICATE RATIO OF', 'SUBMULTIPLE RATIO', 'SUBPOENA', 'SUBTANGENT OF', 'SUCKLING, SIR JOHN', 'SUEN-HOA', 'SUETONIUS TRANQUILLUS, CAIUS', 'SUIATOI NOS', 'SULLY, MAXIMILIEN', 'SULPHUR ISLAND', 'SULPITIUS SEVERUS', 'SULZER, JOHN GEORGE', 'SUMPTUARY LAWS', 'SUN, SOL', 'SUNDA, STRAITS OF', 'SUNDAY ISLAND', 'SUNDEEP ISLE', 'SUNGEI TENANG', 'SUPERFLUOUS INTERVAL', 'SUPERPARTICULAR PROPORTION', 'SUPERPARTIENT PROPORTION', 'SUTTON-COLDFIELD', 'SWAMMERDAM, JOHN', 'SWAN ISLES', 'SWEDENBORG, EMANUEL', 'SWIFT, JONATHAN', 'SWORD OF STATE', 'SYDENHAM, THOMAS', 'SYLLA, LUCIUS CORNELIUS', 'SYMMACHUS, QUINTUS AURELIUS', 'SYNAERESIS, CONTRACTION', 'SYNCOPE, FAINTING', 'SYZYGY, SYZYGIA', 'ΤΑΒΑ ISLANDS', 'TABERNACLES, FEAST OF', 'TABERNACLES, FEAST OF', 'TABLAS ISLE', 'TABLE ISLAND', 'TACITUS, CAIUS CORNELIUS', 'TAGLIACOZZI, GASPARO', 'TAI-PING', 'TAI-PING', 'TAI-YUEN', 'ΤANNA', 'ΤANNA BALLOO', 'TANNER, THOMAS', 'TARN AND GABONNE', 'TARPA, SPURIUS MECIUS', 'TASMAN’S HEAD', 'TASMAN', 'TASSO, TORQUATO', 'TASSONI, ALESSANDRO', 'TATE, NAHUM', 'TATIUS, ACHILLES', 'TAULLAH MHOKEE', 'TAUNUS MOUNTAINS', 'TAVAI POENAMMOO', 'TAVERNIER, JOHN BAPTIST', 'TAWALLY ISLE', 'TAYA ISLE', 'TAYLOR, JEREMY', 'TAYLOR, BROOK', 'TAYLOR, JOHN', 'TAYLOR’S ISLES', 'TCHANG-TCHA', 'TCHANG-TCHEOU', 'TCHANG-TE', 'TCHAN-TE', 'TCHE-KIANG', 'TCHENG-TE', 'TCHEOU-CHAN', 'TCHING-KIANG', 'TCHING-TCHEOU', 'TCHING-TING', 'TCHING-TOU', 'TCHONG-KING', 'TCIN-TCHEOU', 'TCITCICAR HOTUN', 'TEGADOO BAY', 'TEIGNMOUTH, WEST', 'TEL ARESIAS', 'TELANADING ISLANDS', 'TELFORD, THOMAS', 'TELL, WILLIAM', 'TEMPERAMENT OF', 'TEMPLE, SIR WILLIAM', 'TEMPLE, TEMPLUM', 'TEMPORALITIES OF BISHOPS', 'TENCH’S ISLAND', 'TENIERS, DAVID', 'TENIERS, DAVID', 'TENISON, THOMAS', 'TENNANT, SMITHSON', 'TERMINATION ISLAND', 'TERRA AUSTRALIS INCOGNITA', 'TERRA-NOVA', 'TERRASSON, JOHN', 'TERRE NAPOLEON', 'TERRE VERTE', 'TESHOO LOOMBOO', 'TESSELATED PAVEMENTS', 'TEST ACT', 'TETTUA MOΤU', 'THEOBALD, LEWIS', 'THEODORE, BARON NIEUHOF', 'THERAPEUTAE', 'THERMAE', 'THERMOPYLAE', 'THIMBRIC-KOUY', 'THIRSTY SOUND', 'THISTLE’S ISLAND', 'THOMAS OF ERCELDOUNE', 'THOMPSON, SIR BENJAMIN, COUNT RUMFORD', 'THOMSON, JAMES', 'THORNHILL, SIR JAMES', 'THREE HILLS ISLAND', 'THREE HUMMOCK ISLAND', 'THREE ISLANDS', 'THREE KINGS', 'THREE POINTS CAPE', 'THREE RIVERS', 'THUANUS, JACOBUS AUGUSTUS', 'THURROCK-GRAYS', 'TIBULLUS, ALBIUS', 'TICAO ISLE', 'TICKELL, THOMAS', 'THEOREM J', 'THEOREM K', 'THEOREM L', 'TILLOTSON, JOHN', 'TIME', 'TIMOR, EAST', 'TINDAL, MATTHEW', 'TINDAL, NICHOLAS', 'TIRANAS AND TONADILLAS', 'TOKEN BESSEYS', 'TOLAND, J', 'TOLOUR ISLE', 'TOMINIE BAR', 'TONGA ISLANDS', 'TONGATABOO ISLAND', 'TONG-GIN', 'TONG-TCHANG', 'TONG-TCHOUEN', 'TONNAGE AND POUNDAGE', 'TON-TING', 'TONYN’S ISLANDS', 'TOOBOUAI ISLAND', 'TOOKE, J', 'TOORMOOZ, T', 'TOPGALLANT ISLE', 'TORRICELLI, EVANGELISTA', 'TORRINGTON, GREAT', 'TORTOISE-SHELL', 'TOURNEFORT, JOSEPH ΡΙΤΤΟΝ', 'TOWNSHEND ISLAND', 'TRAGI-COMEDY', 'TRAITOR’S ISLAND', 'TRANSFUSION OF BLOOD', 'TRANSIENT NOTES', 'TRANSPOSITION', 'TRAVERSE BOARD', 'TREACHEROUS BAY', 'TREBLE AND TREBLE CLEF', 'TREDGOLD, THOMAS', 'TRESTLE TREES', 'TREVANNION’S ISLAND', 'TREVENNEN’S ISLAND', 'THEOREM II', 'THEOREM IV', 'THEOREM V', 'TRIPLE TIME', 'TROBRIAND ISLANDS', 'TROCHAEUS', 'TROGUS POMPEIUS', 'TROITSKÖ SΛUSKAIA', 'TROMP, MARTIN HAPPERTZ VAX', 'TRON, ST', 'TROPHONIUS’S CAVE', 'TROWERT ISLAND', 'TROY WEIGHT', 'TRUMPET, ARTICULATE', 'TSONG-MING', 'TULL, JETHRO', 'TUMBELAN ISLANDS', 'TUNBRIDGE WELLS', 'TUNING-FORK', 'TUNJNG-HAMMER', 'TURCAE', 'TURGOT, ΑΝΝΕ ROBERT JACQUES, BARON', 'TURN-AGAIN, CAPE', 'TURON BAY', 'TURTLE ISLAND', 'TWENTY-FOUR PERGUNNAHS', 'TWENTY-TWO RAJAHS', 'TWELFTH-DAY', 'TWO BROTHERS', 'TWO-HEADED ΡΟΙΝΤ', 'TWO HILLS', 'TWO SISTERS', 'TYGERS', 'TYNDALE, WILLIAM', 'TYPE-FOUNDING', 'TYRTAEUS', 'TYRWHITT, ΤΗΟΜAS', 'TYTLER, WILLIAM', 'TYTLER, ALEXANDER FRASER', 'UBIQUITY, OMNIPRESCENCE', 'UIST, SOUTH AND NORTH', 'UJ-VIDEK', 'UMBELLIFEROUS PLANTS', 'UNDES', 'UNITED BRETHEREN', 'UPTON-ON-SEVERN', 'URBINO AND PESARO', 'URIM AND THUMMIM', 'USTJUG-WELIKI', 'VAILLANT, JEAN FOY', 'VALCKENAER, LEWIS CASPAR', 'VALERIUS FLACCUS, CAIUS', 'VALERY, ST', 'VALETTA, LA', 'VANBRUGH, S', 'VAN DIEMEN CAFE', 'VANDYCK, SIR ΑΝΤΗΟΝΥ', 'VARIATIONS, CALCULUS OF', 'VARNISHES', 'VARRO, MARCUS TERENTIUS', 'VARRO ATACINUS, PUBLIUS TERENTIUS', 'VATTEL, EMMERICH', 'VAUBAN, SEBASTIAN', 'VEGA CARPIO, LOPE FELIX', 'VEGETIUS RENATUS, FLAVIUS', 'VEGETIUS RENATUS, PUBLIUS', 'VERD, CAPE', 'VERNIER SCALE', 'VERTOT, RENE AUBERT DE', 'VESALIUS, ANDREAS', 'VESPUCCI, AMERIGO', 'VICTOR, SEXTUS AURELIUS', 'VIDA, MARCO GERONIMO', 'VIENNE, UPPER', 'VIGER, FRANCOIS', 'VIGILS OF PLANTS', 'VILLIERS, GEORGE', 'VILLIERS, GEORGE', 'VINCENT', 'VINCI, LEONARDO', 'VINEGAR, ACETUM', 'VIRGIL, POLYDORE', 'VITRUVIUS POLLIO, MARCUS', 'VITRY-LE-FRANCAIS', 'VOET, GISBERT', 'VOET, JOHN', 'VOLTAIRE, FRANÇOIS MARIE A', 'VORSTIUS, CONRAD', 'VOSSIUS, GERARD JOHN', 'VOTIVE MEDALS', 'WADEY ABASSI', 'WADEY ELMAHAN', 'WADEY FARAN', 'WADEY ZEBID', 'WAFERS', 'WAIFS, ΒΟΝΑ WAVIATA', 'WAIGATZ STRAITS', 'WAKEFIELD, GILBERT', 'WALDEGRAVE ISLANDS', 'WALES, NEW SOUTH', 'WALLACE, SIR WILLIAM', 'WALLER, EDMUND', 'WALLIS, JOHN', 'WALPOLE, SIR ROBERT, EARL OF', 'WALPOLE, HORACE', 'WALSH, WILLIAM', 'WALSHAM, ΝΟRTH', 'WALSINGHAM, THOMAS', 'WALSINGHAM, SIR FRANCIS', 'WALTON, ISAAC', 'WALTON, BRYAN', 'WARBURTON, WILLIAM', 'WARD, SETH', 'WARRANTY, WARRANTIA', 'WARTON, JOSEPJ', 'WARTON, THOMAS', 'WASHINGTON, GEORGE', 'WATER-SPOUT', 'WATER-WORKS', 'WATERLAND, DANIEL, D', 'WATSON, ROBERT, LL', 'WATSON, RICHARD, BISHOP OF LANDAFF', 'WATT, JAMES', 'WATTS, ISAAC, D', 'WEARY BAY', 'WEBER, CARL MARIA VON', 'WEBSTER, ALEXANDER, D', 'WEDGE ISLAND', 'WELIKIJO-LUKI', 'WELLESLEY’S ISLANDS', 'WEMYSS, EASTER', 'WEMYSS, WESTER', 'WERCHNE-DNIAPROWSK', 'WESLEY, JOHN', 'WESSEL’S ISLANDS', 'WEST, GILBERT', 'WEST ISLAND', 'WEST ISLAND', 'WEST ISLAND', 'WEST-BROMWICH', 'WESTERN PORT', 'WETSTEIN, JOHN JAMES', 'WETTER ISLE', 'WHARTON, PHILIP, DURE OF', 'WHEELER, SIR GEORGE', 'WHIDBEY’S ISLES', 'WHISTON, WILLIAM', 'WHITAKER, JOHN', 'WHITBY, DANIEL', 'WHITE FRIARS', 'WHITE SEA', 'WHITE ISLAND', 'WHITEFIELD, GEORGE', 'WHITSUN FARTHINGS', 'WHITSUN ISLAND', 'WHITSUNDAY CAPE', 'WHITSUNDAY ISLAND', 'WHITSUNTIDE BAY', 'WHYMEA BAY', 'WHYMEA ROAD', 'WHYTT, ROBERT', 'WICKLIFFE, JOHN', 'WIGHT, ISLE OF', 'WILBERFORCE CAPE', 'WILBERFORCE, WILLIAM', 'WILKIE, WILLIAM', 'WILKINS, J', 'WILLANMEZ’S ISLE', 'WILLIAM OF MALMESBURY', 'WILLIAM OF NEWBURY', 'WILLIS, T', 'WILLOUGHBY CAPE', 'WILLUGHBY, FRANCIS', 'WILMOT, JOHN', 'WILSON, ALEXANDER', 'WIMBORN-MINSTER', 'WINCHELSEA ISLAND', 'WINKOOP’S ISLAND', 'WINE-MAKING', 'WINKELMANN, JOHN', 'WINTON, ANDREW', 'WITHERS OF', 'WITSIUS, HERMAN', 'WITT, JOHN DE', 'WODEVILLE, ΑΝΤΗΟΝΥ', 'WODROW, ROBERT', 'WOLF, CHRISTIAN', 'WOLFE, JAMES', 'WOLLAMAI CAPE', 'WOLLASTON, WILLIAM', 'WOLLASTON, WILLIAM HYDE', 'WOLSEY, THOMAS', 'WOMAT ΡΟΙΝΤ', 'WOOD, ΑΝΤΗΟΝΥ', 'WOOD-ENGRAVING', 'WOODWARD, JOHN', 'WOODY HEAD', 'WOODY ISLAND', 'WOOL, AND ITS MANUFACTURES', 'WOOLSTON, THOMAS', 'WOOTTON-BASSET', 'WORCESTER, EDWARD SOMERSET, MARQUIS OF', 'WORK-HOUSE', 'WORSHIP OF GOD', 'WOTTON, SIR ΗΕΝRΥ', 'WREN, SIR CHRISTOPHER', 'WYCHERLEY, W', 'WYCLIFFE, JOHN', 'WYCOMBE, CHIPPING', 'WYNDHAM, SIR WILLIAM', 'WYRA GHUR', 'XIMENES DE CISNEROS, FRANCISCO', 'XULLA ISLANDS', 'YANG-CHAN', 'YANG-CONG', 'YANG-HO', 'YANG-KANG', 'YANG-TCHEOU', 'YANG-TSE-KIANG', 'YANGUIN, CHAINWAH', 'YAO-NGAN', 'YAO-TCHEOU', 'YARD OF', 'YELLOW RIVER', 'YELLOW SEA', 'YEN-KIANG', 'YEN-NGAN', 'YEN-PING', 'YEN-TCHEOU', 'YN-YUEI', 'YONG-NING', 'YONG-NGAO', 'YONG-PE', 'YONG-PING', 'YONG-TCHANG', 'YONG-TCHEOU', 'YON-NIM-KIEN HOTUN', 'YORK ISLANDS', 'YORK, NEW', 'YO-TCHEOU', 'YOUNG, EDWARD', 'YUEN-KIANG', 'YUEN-TCHEOU', 'YUEN-YANG', 'YUN-HING', 'YUN-LEAN-HO', 'ZAARA, ZAHARA', 'ZEALAND, NEW', 'ZEMBLA, NOVA', 'ZENO ELEATES', 'ZINZENDQRF, NICHOLAS LEWIS, COUNT OF', 'ZISKA, JOHN', 'ZONARAS, JOANNES', 'ZUYDER-ZEE']\n",
      "                                            term  note alter_names  \\\n",
      "3654  BARRINGTON, JOHN SHUTE, LORD VISCOUNT BAR-  None          []   \n",
      "\n",
      "     reference_terms                                         definition  \\\n",
      "3654              []  gton, a nobleman distinguished for theological...   \n",
      "\n",
      "      startsAt  endsAt  position termType  \\\n",
      "3654       407     407         5  Article   \n",
      "\n",
      "                                           filePath  ...   volumeId  \\\n",
      "3654  ./eb07_TXT_v2/b4/kp-eb0704-040704-4606-v2.txt  ...  193108322   \n",
      "\n",
      "                          permanentURL publisherPersons  volumeNum  \\\n",
      "3654  https://digital.nls.uk/193108322               []          4   \n",
      "\n",
      "      editionNum numberOfVolumes supplementTitle supplementSubTitle  \\\n",
      "3654           7              22                                      \n",
      "\n",
      "     supplementsTo numberOfTerms  \n",
      "3654            []          None  \n",
      "\n",
      "[1 rows x 40 columns]\n"
     ]
    },
    {
     "data": {
      "text/plain": "'\\nWrong terms (assume no ocr errors):\\n------ from a2/kp-eb0702-068407-8701-v2.txt ----------\\nANATOMY OF THE ORGANS OF THE ANIMAL, VOLUNTARY, OR RELATIVE FUNCTIONS\\nANATOMY OF THE ORGANS PERTAINING TO THE ENTRO-PHIC OR NUTRITIVE FUNCTIONS\\nANATOMY OF THE ORGANS PERTAINING TO THE REPRODUCTIVE FUNCTIONS\\nANATOMY OF THE ORGANS OF RELATION\\n'"
     },
     "execution_count": 36,
     "metadata": {},
     "output_type": "execute_result"
    }
   ],
   "source": [
    "# Examine the terms only this work\n",
    "print(term_dif_result[\"term\"].values.tolist())\n",
    "print(term_dif_result[term_dif_result[\"term\"] == \"BARRINGTON, JOHN SHUTE, LORD VISCOUNT BAR-\"])\n",
    "\n",
    "\"\"\"\n",
    "Wrong terms (assume no ocr errors):\n",
    "------ from a2/kp-eb0702-068407-8701-v2.txt ----------\n",
    "ANATOMY OF THE ORGANS OF THE ANIMAL, VOLUNTARY, OR RELATIVE FUNCTIONS\n",
    "ANATOMY OF THE ORGANS PERTAINING TO THE ENTRO-PHIC OR NUTRITIVE FUNCTIONS\n",
    "ANATOMY OF THE ORGANS PERTAINING TO THE REPRODUCTIVE FUNCTIONS\n",
    "ANATOMY OF THE ORGANS OF RELATION\n",
    "\"\"\""
   ],
   "metadata": {
    "collapsed": false
   }
  },
  {
   "cell_type": "code",
   "execution_count": 37,
   "outputs": [
    {
     "name": "stdout",
     "output_type": "stream",
     "text": [
      "['AARON AND JULIUS, SAINTS', 'AARSENS, FRANCIS, LORD OF SOMELDYCK', 'ABERCROMBY, THE HONOURABLE ALEXANDER', 'ABSORUS, APSORUS, ABSYRTIS, ABSYRTIDES', 'ACKERMANN, JOHN CHRISTIAN GOTTLIEB', 'ADMIRALTY, HIGH COURT OF', 'AEPINUS, FRANCIS ULRICH THEODORE', 'AHOLIB ΛH AND AΠOLAH', 'ALBERT, MARGRAVE OF BRANDENBURG', 'ALPS, LOWER, DEPARTMENT OF', 'ALPS, HIGHER, DEPARTMENT OF', 'ALVA, FERDINAND ALVAREZ OF TOLEDO', 'AMALTHAEUS, JEROME, JOHN BAPTISTA', 'AMAND, MARK ANTONY GERARD, SIEUR', 'AMBROSE, SAINT, BISHOP OF MILAN', 'AMERICA, UNITED STATES OF', 'ANATOMY OF THE ORGANS OF THE ANIMAL, VOLUNTARY, OR RELATIVE FUNCTIONS', 'ANATOMY OF THE ORGANS PERTAINING TO THE ENTRO-PHIC OR NUTRITIVE FUNCTIONS', 'ANATOMY OF THE ORGANS PERTAINING TO THE REPRODUCTIVE FUNCTIONS', 'ANATOMY OF THE ORGANS OF RELATION', 'ANTONIDES VANDER GOES, JOHN', 'ANTONINUS PHILOSOPHUS, ALARCUS AURELIUS', 'ANVILLE, JEAN BAPTISTE BOURGUIGNON', 'APOLLINARIS SIDONIUS, CAIUS LOLLIUS', 'ALPHABETICAL INDEX TO THE GENERA OF ARACHNIDES', 'AUBIN DE CORMIER, ST', 'AVENZOAR, ABU MERWAN ABDALMALEC', 'AZZARA, JOSEPH FELIX NICHOLAS', 'BALANCE OF POWER, AMONG', 'BALZAC, JOHN LEWIS GUEZ', 'BARBAROSSA, ARUCH AND HAYRADDIN', 'BARRE, LOUIS FRANÇOIS JOSEPH', 'BARRINGTON, JOHN SHUTE, LORD VISCOUNT BAR-', 'BATHS OF AGRIPPA, THERMAE AGRIPPINAE', 'BEAUMARCHAIS, PIERRE AUGUSTIN CARON', 'BECCARIA, CAESAR BONESANA, MARQUIS OF', 'BELT, GREAT AND LITTLE', 'BENTINCK, WILLIAM HENRY CAVENDISH', 'BETHORON, UPPER AND NETHER', 'BEVELAND, NORTH AND SOUTH', 'BICHAT, MARIE FRANÇOIS XAVIER', 'BLOUNT, SIR THOMAS POPE', 'BOIARDO, COUNT MATTEO MARIA', 'BOLINGBROKE, HENRY ST JOHN', 'BONNEVAL, CLAUDE ALEXANDER, COUNT', 'BORGIA, CAESAR, DUKE OF VALENTINO', 'BORN, IGNATIUS, BARON VON', 'BOTH, JOHN AND ANDREW, FLEMISH', 'BOUFLERS, LOUIS FRANCIS, DUKE OF', 'BOURCHIER, JOHN, LORD BERNARS', 'BOYLE, IŁOGER, EARL OF', 'BRACTON, HENRY, LORD CHIEF JUSTICE OF ENGLAND', 'BRETHREN AND SISTERS OF', 'BRITAIN, OR GREAT BRITAIN, THE', 'BROUSSONET, PIERRE MARIE AUGUSTE', 'BUAT-NANCAY, LOUIS GABRIEL, COUNT', 'BUCKINGHAM, GEORGE VILLIERS, DUHE OF', 'BURNET, JAMES, LORD MONHODDO', 'BURNING GLASSES, OR BURNING MIRRORS, THE', 'BUSBEC, AUGER GISLEN, LORD OF', 'BUTLER, JOSEPH, BISHOP OF DURHAM', 'BYNG, GEORGE, LORD VISCOUNT TORRINGTON', 'CABANIS, PETER JOHN GEORGE', 'CALDERON DE LA BARCA, DON PEDRO', 'CAMPBELL, ARCHIBALD, EARL AND MARQUIS OF ARGYLL', 'CAMPBELL, ARCHIBALD, EARL OF ARGYLL', 'CAMUS, CHARLES STEPHEN LOUIS', 'CANINI, JOHN ANGELO AND MARC ANTHONY', 'CAP AND BUTTON ISLES', 'CARSE OF FALKIRK, THE', 'CARSE OF GOWRIE, THE', 'CARSE OF STIRLING, THE', 'CARY, LUCIUS, LORD VISCOUNT FALKLAND', 'CAVENDISH, MARGARET, DUCHESS OF NEWCASTLE', 'CECIL, WILLIAM, LORD BURGHLCY', 'CHAPELLE, CLAUDIUS EMANUEL LUILLIER', 'CHAPTAL, JEAN ANTOINE CLAUDE', 'CHEMISTRY OF ORGANIC BODIES', 'CHURCHILL, JOHN, DUKE OF MARLBOROUGH', 'CIVIT Λ DI PENNA', 'CLOCK AND WATCH WORK', 'COLBERT, JOHN BAPTISTE, MARQUIS OF SEGNELAY', 'COLUMELLA, LUCIUS JUNIUS MODERATUS', 'COMPASSES OF THREE LEGS', 'COMPTON, HENRY, BISHOP OF LONDON', 'CONSERVATOR OF SCOTCH PRIVILEGES', 'CORN LAWS AND CORN TRADE', 'CREVIER, JOHN BAPTISTE LOUIS', 'CROMWELL, THOMAS, EARL OF ESSEX', 'CUMBRAY, GREAT AND LITTLE', 'CURVE OF EQUABLE APPROACH', 'DALRYMPLE, JAMES, VISCOUNT OF STAIR', 'DARIEN, SCOTTISH COLONY OF', 'DECHALES, CLAUDIUS FRANCES MILLIET', 'DENINA, CHARLES JOHN MARIA', 'DEVEREUX, ROBERT, EARL OF ESSEX', 'DIOCLETIANUS, CAIUS VALERIUS JOVJUS', 'DOLOMIEU, DEODATUS GUY SILVANUS TANCRED', 'DOUBLE CHILDREN, DOUBLE CATS', 'DUDLEY, JOHN, DUKE OF NORTHUMBERLAND', 'DUNCAN, ADAM, LORD VISCOUNT', 'DUNDAS, HENRY, VISCOUNT MELVILLE', 'DUNNING, JOHN, LORD ASHBURTON', 'EMERALD, SMARAGDUS, SCHMARAGD, EMERAUDE', 'ENTRE DUERO E MINHO', 'ERSKINE, THOMAS, LORD ERSKINE', 'EUXINUS PONTUS, BLACK SEA', 'FRANK LANGUAGE, LINGUA FRANCA', 'FESCENNINE VERSES, VERSUS FESCENNINI', 'FIGURE OF THE EARTH', 'FISHER, JOHN, BISHOP OF ROCHESTER', 'FONTAINES, PIERRE-FRANCOIS GYOT DES', 'GEOFFROY OF MONMOUTH, BISHOP', 'GOOD HOPE, CAPE OF', 'GRAHAM, JAMES, MARQUIS OF MONTROSE', 'GRAHAM, SIR RICHARD, LORD VISCOUNT PRESTON', 'GRANVILLE, GEORGE, LORD LANSDOWNE', 'GREVILLE, FULKE, LORD BROOKE', 'GUYTON DE MORVEAU, BARON LOUIS BERNARD', 'HAMILTON, GEORGE, EARL OF', 'HARLEY, ROBERT, EARL OF OXFORD', 'HELMONT, JOHN BAPTIST VAN', 'HENAULT, CHARLES JOHN FRANCIS', 'HENRY PRINCE OF WALES', 'HERBERT, MARY, COUNTESS OF PEMBROKE', 'HERBERT, WILLIAM, EARL OF PEMBROKE', 'HOLT, SIR JOHN, LORD CHIEF-JUSTICE OF', 'HOME, HENRY, LORD KAMES', 'HOPE, SIR THOMAS, BART', 'HOWARD, HENRY, EARL OF SURREY', 'HUSKISSON, RIGHT HONOURABLE WILLIAM', 'JASHER, THE BOOK OF', 'JEAN DE LUZ, ST', 'JEFFREYS, STR GEORGE, BARON WEM', 'JOHN SOBIESKI OF POLAND', 'JUDICIUM PEI, JUDGMENT OF GOD', 'JUVENCUS, CAIUS VECTICUS AQUILINUS', 'KOTZEBUE, AUGUSTUS FREDERICK FERDINAND VON', 'LACTANTIUS, LUCIUS COELIUS FIRMIANUS', 'LALANDE, JOSEPH JEROME LEFRANÇAIS', 'LAMPS FOR LIGHTING STREETS', 'LAPEROUSE, JOHN FRANCIS GALUPE', 'LAPLACE, PIERRE SIMON, MARQUIS', 'LARGO, UPPER AND NETHER', 'LA TOUR DU PIN', 'LAVATER, JOHN GASPARD CHRISTIAN', 'LEIBNITZ, GODFREY WILLIAM, BARON', 'LEMNIAN EARTH, TERRA LEMNIA', 'LIBERTY OF THE PRESS', 'LYON KING OF ARMS', 'LYTTELTON, EDWARD, LORD LYTTELTON', 'MARION AND CROZET’S ISLANDS', 'MARSIGLI, LOUIS FERDINAND COUNT', 'MASTIFF DOG, BAND DOG', 'MAUPERTUIS, PETER LOUIS MORCEAU', 'MECHAIN, PETER FRANCIS ANDREW', 'MEZIRIAC, CLAUDE GASPAR BACRET SIEUR', 'MIDDLETON, SIR CHARLES, ISLAND', 'MIRABEAU, VICTOR RIQUETTI, MARQUIS', 'MONEY OF GERMANY, SPAIN', 'MONK, GEORGE, DUKE OF ALBEMARLE', 'MONMOUTH, JAMES DUKE OF', 'MONTAGU, LADY MARY WORTLEY', 'MORDAUNT, CHARLES, EARL OF PETERBOROUGH', 'MORE, SIR THOMAS, LORD HIGH CHANCELLOR OF ENGLAND', 'MOUNTAIN OF FORTY DAYS', 'NAPIER, JOHN, BARON OF MERCHISTON', 'NELSON, HORATIO, LORD VISCOUNT', 'NEW FOREST OF HAMPSHIRE', 'NORTH, FRANCIS, LORD GUILDFORD', 'PAGAN, BLAISE FRANCOIS COMTE', 'PARACELSUS, PHILIPPUS AUREOLUS THEOPHRASTUS', 'PEIRESC, NICOLAS CLAUDE FABRI', 'PELLEW, SIR EDWARD’S GROUP', 'PIC DE L’ETOILE, LE', 'PISSELAEUM INDICUM, BARBADOES TAR', 'PLINIUS CAECILIUS SECUNDUS, C', 'PRATT, CHARLES, EARL OF CAMDEN', 'PRECESSION OF THE EQUINOXES', 'PRIAM, KING OF TROY', 'PRIMARY QUALITIES OF BODIES', 'PRINCE OF WALES’S ISLAND', 'PRINCE WILLIAM HENRY’S ISLAND', 'QUINQUAGESIMA SUNDAY, SHROVE SUNDAY', 'REAUMUR RENE ANTOINE FERCHAOLT, SIEOR', 'ROBINSON SIR RICHARD, LORD ROKEBY', 'RODNEY GEORGE BRYDGES, LORD RODNEY', 'ROHAN HENRY DUKE OF', 'ROSCOMMON, WENTWORTH DILLON, EARL OF', 'RUBENS SIR PETER PAUL', 'SACKVILLE, THOMAS, LORD BUCKHURST AND EARL OF DORSET', 'SACKVILLE, CHARLES, EARL OF DORSET', 'SARDONIUS RISUS, SARDONIAN LAUGHTER', 'SAXE, MAURICE, COUNT OF', 'SCHILLER, JOHN CHRISTOPHER FREDERICK', 'SCHOMBERG, FREDERICK-ARMAND, DUKE OF', 'SCOT, MICHAEL OF BALWIRIE', 'SENSES, PLEASURES AND PAINS OF', 'SENTINEL, GREAT AND LITTLE', 'SHARP, DR JOHN, ARCHBISHOP OF YORK', 'SHEFFIELD, JOHN, DUKE OF BUCKINGHAMSHIRE', 'SIR CHARLES SAUNDERS’ ISLAND', 'SIR JOSEPH BANKS’ GROUP', 'STOW ON THE WOLD', 'STRENGTH OF MATERIALS, IN MECHANICS', 'THOMPSON, SIR BENJAMIN, COUNT RUMFORD', 'TREBLE AND TREBLE CLEF', 'TROMP, MARTIN HAPPERTZ VAX', 'TURGOT, ΑΝΝΕ ROBERT JACQUES, BARON', 'UIST, SOUTH AND NORTH', 'UNITED STATES OF NORTH AMERICA', 'VARRO ATACINUS, PUBLIUS TERENTIUS', 'VEGA CARPIO, LOPE FELIX', 'VERTOT, RENE AUBERT DE', 'VOLTAIRE, FRANÇOIS MARIE A', 'WALPOLE, SIR ROBERT, EARL OF', 'WATSON, RICHARD, BISHOP OF LANDAFF', 'WEBER, CARL MARIA VON', 'WHARTON, PHILIP, DURE OF', 'WOOL, AND ITS MANUFACTURES', 'WORCESTER, EDWARD SOMERSET, MARQUIS OF', 'XIMENES DE CISNEROS, FRANCISCO', 'ZINZENDQRF, NICHOLAS LEWIS, COUNT OF']\n"
     ]
    }
   ],
   "source": [
    "# Examine the terms has more than three words\n",
    "long_terms_df = df[df['term'].apply(lambda x: len(x.split()) > 3)]\n",
    "print(long_terms_df[\"term\"].values.tolist())"
   ],
   "metadata": {
    "collapsed": false
   }
  },
  {
   "cell_type": "markdown",
   "source": [
    "## Compare dataframe from this work with one from defoe's result"
   ],
   "metadata": {
    "collapsed": false
   }
  },
  {
   "cell_type": "code",
   "execution_count": 38,
   "outputs": [],
   "source": [
    "# load dataframe from defoe's result\n",
    "defoe_df= pd.read_json('./final_eb_7_dataframe_NLS', orient=\"index\")"
   ],
   "metadata": {
    "collapsed": false
   }
  },
  {
   "cell_type": "code",
   "execution_count": 1,
   "outputs": [],
   "source": [
    "# Statistic analysis of dataframe from defoe's result\n",
    "print(\"Number of terms: \", defoe_df.shape[0])\n",
    "print(\"Number of topics: \", defoe_df[defoe_df[\"typeTerm\"] == \"Topic\"].shape[0])\n",
    "print(\"Number of articles: \", defoe_df[defoe_df[\"typeTerm\"] == \"Article\"].shape[0])"
   ],
   "metadata": {
    "collapsed": false
   }
  },
  {
   "cell_type": "code",
   "execution_count": 8,
   "outputs": [
    {
     "data": {
      "text/plain": "                         term  note alter_names reference_terms  \\\n70                     ÀBARIM  None          []              []   \n97     ABBAS, MAHOMET’S UNCLE  None          []              []   \n143              ABEL-MEHOLΑH  None          []              []   \n242                ABRAVANÑUS  None          []              []   \n307                    ABÛSIR  None          []              []   \n...                       ...   ...         ...             ...   \n23775       WOTTON, SIR ΗΕΝRΥ  None          []              []   \n23788              WÜRTEMBERG  None          []              []   \n23789                WÜRZBURG  None          []              []   \n23890       YOUNG NICK’S HEAD  None          []              []   \n23961                  ZÜRICH  None          []              []   \n\n                                              definition  startsAt  endsAt  \\\n70     high mountains of steep ascent separating the ...        10      10   \n97     opposed his nephew with i all his power, regar...        12      12   \n143    the country of the prophet Elisha, situated on...        23      23   \n242    in Ancient Geography, the name of a promontory...        42      42   \n307    a town of Egypt, twelve hours to the west of A...        48      48   \n...                                                  ...       ...     ...   \n23775  an eminent writer, was the son of Thomas Wotto...       942     943   \n23788  a kingdom in the interior of Germany, formed, ...       944     947   \n23789  a large city of Bavaria, formerly the capital ...       947     947   \n23890  a cape on the east coast of New Zealand, so ca...       973     973   \n23961  a canton of Switzerland, one of the most ancie...      1026    1027   \n\n       position termType                                        filePath  ...  \\\n70           23  Article   ./eb07_TXT_v2/a2/kp-eb0702-001008-9939-v2.txt  ...   \n97            7  Article   ./eb07_TXT_v2/a2/kp-eb0702-001206-9965-v2.txt  ...   \n143          19  Article   ./eb07_TXT_v2/a2/kp-eb0702-002304-0108-v2.txt  ...   \n242           7  Article   ./eb07_TXT_v2/a2/kp-eb0702-004206-0355-v2.txt  ...   \n307           4  Article   ./eb07_TXT_v2/a2/kp-eb0702-004804-0433-v2.txt  ...   \n...         ...      ...                                             ...  ...   \n23775         8  Article  ./eb07_TXT_v2/w21/kp-eb0721-094207-0982-v2.txt  ...   \n23788         3    Topic  ./eb07_TXT_v2/w21/kp-eb0721-094403-0984-v2.txt  ...   \n23789         1  Article  ./eb07_TXT_v2/w21/kp-eb0721-094701-0987-v2.txt  ...   \n23890         1  Article  ./eb07_TXT_v2/y21/kp-eb0721-097301-1013-v2.txt  ...   \n23961         3  Article  ./eb07_TXT_v2/z21/kp-eb0721-102603-1076-v2.txt  ...   \n\n        volumeId                      permanentURL publisherPersons  \\\n70     192984259  https://digital.nls.uk/192984259               []   \n97     192984259  https://digital.nls.uk/192984259               []   \n143    192984259  https://digital.nls.uk/192984259               []   \n242    192984259  https://digital.nls.uk/192984259               []   \n307    192984259  https://digital.nls.uk/192984259               []   \n...          ...                               ...              ...   \n23775  193819045  https://digital.nls.uk/193819045               []   \n23788  193819045  https://digital.nls.uk/193819045               []   \n23789  193819045  https://digital.nls.uk/193819045               []   \n23890  193819045  https://digital.nls.uk/193819045               []   \n23961  193819045  https://digital.nls.uk/193819045               []   \n\n       volumeNum  editionNum numberOfVolumes supplementTitle  \\\n70             2           7              22                   \n97             2           7              22                   \n143            2           7              22                   \n242            2           7              22                   \n307            2           7              22                   \n...          ...         ...             ...             ...   \n23775         21           7              22                   \n23788         21           7              22                   \n23789         21           7              22                   \n23890         21           7              22                   \n23961         21           7              22                   \n\n      supplementSubTitle supplementsTo numberOfTerms  \n70                                  []           NaN  \n97                                  []           NaN  \n143                                 []           NaN  \n242                                 []           NaN  \n307                                 []           NaN  \n...                  ...           ...           ...  \n23775                               []           NaN  \n23788                               []           NaN  \n23789                               []           NaN  \n23890                               []           NaN  \n23961                               []           NaN  \n\n[354 rows x 40 columns]",
      "text/html": "<div>\n<style scoped>\n    .dataframe tbody tr th:only-of-type {\n        vertical-align: middle;\n    }\n\n    .dataframe tbody tr th {\n        vertical-align: top;\n    }\n\n    .dataframe thead th {\n        text-align: right;\n    }\n</style>\n<table border=\"1\" class=\"dataframe\">\n  <thead>\n    <tr style=\"text-align: right;\">\n      <th></th>\n      <th>term</th>\n      <th>note</th>\n      <th>alter_names</th>\n      <th>reference_terms</th>\n      <th>definition</th>\n      <th>startsAt</th>\n      <th>endsAt</th>\n      <th>position</th>\n      <th>termType</th>\n      <th>filePath</th>\n      <th>...</th>\n      <th>volumeId</th>\n      <th>permanentURL</th>\n      <th>publisherPersons</th>\n      <th>volumeNum</th>\n      <th>editionNum</th>\n      <th>numberOfVolumes</th>\n      <th>supplementTitle</th>\n      <th>supplementSubTitle</th>\n      <th>supplementsTo</th>\n      <th>numberOfTerms</th>\n    </tr>\n  </thead>\n  <tbody>\n    <tr>\n      <th>70</th>\n      <td>ÀBARIM</td>\n      <td>None</td>\n      <td>[]</td>\n      <td>[]</td>\n      <td>high mountains of steep ascent separating the ...</td>\n      <td>10</td>\n      <td>10</td>\n      <td>23</td>\n      <td>Article</td>\n      <td>./eb07_TXT_v2/a2/kp-eb0702-001008-9939-v2.txt</td>\n      <td>...</td>\n      <td>192984259</td>\n      <td>https://digital.nls.uk/192984259</td>\n      <td>[]</td>\n      <td>2</td>\n      <td>7</td>\n      <td>22</td>\n      <td></td>\n      <td></td>\n      <td>[]</td>\n      <td>NaN</td>\n    </tr>\n    <tr>\n      <th>97</th>\n      <td>ABBAS, MAHOMET’S UNCLE</td>\n      <td>None</td>\n      <td>[]</td>\n      <td>[]</td>\n      <td>opposed his nephew with i all his power, regar...</td>\n      <td>12</td>\n      <td>12</td>\n      <td>7</td>\n      <td>Article</td>\n      <td>./eb07_TXT_v2/a2/kp-eb0702-001206-9965-v2.txt</td>\n      <td>...</td>\n      <td>192984259</td>\n      <td>https://digital.nls.uk/192984259</td>\n      <td>[]</td>\n      <td>2</td>\n      <td>7</td>\n      <td>22</td>\n      <td></td>\n      <td></td>\n      <td>[]</td>\n      <td>NaN</td>\n    </tr>\n    <tr>\n      <th>143</th>\n      <td>ABEL-MEHOLΑH</td>\n      <td>None</td>\n      <td>[]</td>\n      <td>[]</td>\n      <td>the country of the prophet Elisha, situated on...</td>\n      <td>23</td>\n      <td>23</td>\n      <td>19</td>\n      <td>Article</td>\n      <td>./eb07_TXT_v2/a2/kp-eb0702-002304-0108-v2.txt</td>\n      <td>...</td>\n      <td>192984259</td>\n      <td>https://digital.nls.uk/192984259</td>\n      <td>[]</td>\n      <td>2</td>\n      <td>7</td>\n      <td>22</td>\n      <td></td>\n      <td></td>\n      <td>[]</td>\n      <td>NaN</td>\n    </tr>\n    <tr>\n      <th>242</th>\n      <td>ABRAVANÑUS</td>\n      <td>None</td>\n      <td>[]</td>\n      <td>[]</td>\n      <td>in Ancient Geography, the name of a promontory...</td>\n      <td>42</td>\n      <td>42</td>\n      <td>7</td>\n      <td>Article</td>\n      <td>./eb07_TXT_v2/a2/kp-eb0702-004206-0355-v2.txt</td>\n      <td>...</td>\n      <td>192984259</td>\n      <td>https://digital.nls.uk/192984259</td>\n      <td>[]</td>\n      <td>2</td>\n      <td>7</td>\n      <td>22</td>\n      <td></td>\n      <td></td>\n      <td>[]</td>\n      <td>NaN</td>\n    </tr>\n    <tr>\n      <th>307</th>\n      <td>ABÛSIR</td>\n      <td>None</td>\n      <td>[]</td>\n      <td>[]</td>\n      <td>a town of Egypt, twelve hours to the west of A...</td>\n      <td>48</td>\n      <td>48</td>\n      <td>4</td>\n      <td>Article</td>\n      <td>./eb07_TXT_v2/a2/kp-eb0702-004804-0433-v2.txt</td>\n      <td>...</td>\n      <td>192984259</td>\n      <td>https://digital.nls.uk/192984259</td>\n      <td>[]</td>\n      <td>2</td>\n      <td>7</td>\n      <td>22</td>\n      <td></td>\n      <td></td>\n      <td>[]</td>\n      <td>NaN</td>\n    </tr>\n    <tr>\n      <th>...</th>\n      <td>...</td>\n      <td>...</td>\n      <td>...</td>\n      <td>...</td>\n      <td>...</td>\n      <td>...</td>\n      <td>...</td>\n      <td>...</td>\n      <td>...</td>\n      <td>...</td>\n      <td>...</td>\n      <td>...</td>\n      <td>...</td>\n      <td>...</td>\n      <td>...</td>\n      <td>...</td>\n      <td>...</td>\n      <td>...</td>\n      <td>...</td>\n      <td>...</td>\n      <td>...</td>\n    </tr>\n    <tr>\n      <th>23775</th>\n      <td>WOTTON, SIR ΗΕΝRΥ</td>\n      <td>None</td>\n      <td>[]</td>\n      <td>[]</td>\n      <td>an eminent writer, was the son of Thomas Wotto...</td>\n      <td>942</td>\n      <td>943</td>\n      <td>8</td>\n      <td>Article</td>\n      <td>./eb07_TXT_v2/w21/kp-eb0721-094207-0982-v2.txt</td>\n      <td>...</td>\n      <td>193819045</td>\n      <td>https://digital.nls.uk/193819045</td>\n      <td>[]</td>\n      <td>21</td>\n      <td>7</td>\n      <td>22</td>\n      <td></td>\n      <td></td>\n      <td>[]</td>\n      <td>NaN</td>\n    </tr>\n    <tr>\n      <th>23788</th>\n      <td>WÜRTEMBERG</td>\n      <td>None</td>\n      <td>[]</td>\n      <td>[]</td>\n      <td>a kingdom in the interior of Germany, formed, ...</td>\n      <td>944</td>\n      <td>947</td>\n      <td>3</td>\n      <td>Topic</td>\n      <td>./eb07_TXT_v2/w21/kp-eb0721-094403-0984-v2.txt</td>\n      <td>...</td>\n      <td>193819045</td>\n      <td>https://digital.nls.uk/193819045</td>\n      <td>[]</td>\n      <td>21</td>\n      <td>7</td>\n      <td>22</td>\n      <td></td>\n      <td></td>\n      <td>[]</td>\n      <td>NaN</td>\n    </tr>\n    <tr>\n      <th>23789</th>\n      <td>WÜRZBURG</td>\n      <td>None</td>\n      <td>[]</td>\n      <td>[]</td>\n      <td>a large city of Bavaria, formerly the capital ...</td>\n      <td>947</td>\n      <td>947</td>\n      <td>1</td>\n      <td>Article</td>\n      <td>./eb07_TXT_v2/w21/kp-eb0721-094701-0987-v2.txt</td>\n      <td>...</td>\n      <td>193819045</td>\n      <td>https://digital.nls.uk/193819045</td>\n      <td>[]</td>\n      <td>21</td>\n      <td>7</td>\n      <td>22</td>\n      <td></td>\n      <td></td>\n      <td>[]</td>\n      <td>NaN</td>\n    </tr>\n    <tr>\n      <th>23890</th>\n      <td>YOUNG NICK’S HEAD</td>\n      <td>None</td>\n      <td>[]</td>\n      <td>[]</td>\n      <td>a cape on the east coast of New Zealand, so ca...</td>\n      <td>973</td>\n      <td>973</td>\n      <td>1</td>\n      <td>Article</td>\n      <td>./eb07_TXT_v2/y21/kp-eb0721-097301-1013-v2.txt</td>\n      <td>...</td>\n      <td>193819045</td>\n      <td>https://digital.nls.uk/193819045</td>\n      <td>[]</td>\n      <td>21</td>\n      <td>7</td>\n      <td>22</td>\n      <td></td>\n      <td></td>\n      <td>[]</td>\n      <td>NaN</td>\n    </tr>\n    <tr>\n      <th>23961</th>\n      <td>ZÜRICH</td>\n      <td>None</td>\n      <td>[]</td>\n      <td>[]</td>\n      <td>a canton of Switzerland, one of the most ancie...</td>\n      <td>1026</td>\n      <td>1027</td>\n      <td>3</td>\n      <td>Article</td>\n      <td>./eb07_TXT_v2/z21/kp-eb0721-102603-1076-v2.txt</td>\n      <td>...</td>\n      <td>193819045</td>\n      <td>https://digital.nls.uk/193819045</td>\n      <td>[]</td>\n      <td>21</td>\n      <td>7</td>\n      <td>22</td>\n      <td></td>\n      <td></td>\n      <td>[]</td>\n      <td>NaN</td>\n    </tr>\n  </tbody>\n</table>\n<p>354 rows × 40 columns</p>\n</div>"
     },
     "execution_count": 8,
     "metadata": {},
     "output_type": "execute_result"
    }
   ],
   "source": [
    "# Check terms with empty description\n",
    "# Result shows these terms are wrongly recognised!\n",
    "print(defoe_df[defoe_df[\"definition\"] == \"\"])"
   ],
   "metadata": {
    "collapsed": false
   }
  },
  {
   "cell_type": "code",
   "execution_count": 41,
   "outputs": [
    {
     "name": "stdout",
     "output_type": "stream",
     "text": [
      "            term  note                                        alter_names  \\\n",
      "481    ACHILLAEA  None           [YARROW, MILFOIL, NOSEBLEED, SNEEZEWORT]   \n",
      "530     ACONITUM  None                   [ACONITE, WOLFSBANE, MONKS-HOOD]   \n",
      "583  ACROSTICHUM  None                   [RUSTYBACK, WALL-RUE, FORK-FERN]   \n",
      "598       ACTAEA  None                   [HERB-CHRISTOPHER, BANE-BERRIES]   \n",
      "662    ADANSONIA  None  [ETHIOPIAN SOUR-GOURD, MONKEYS-BREAD, AFRICAN ...   \n",
      "\n",
      "    reference_terms definition  startsAt  endsAt  position termType  \\\n",
      "481              []                   96      96        10  Article   \n",
      "530              []                  107     107         7  Article   \n",
      "583              []                  129     129         4  Article   \n",
      "598              []                  131     131         4  Article   \n",
      "662              []                  143     143         1  Article   \n",
      "\n",
      "                                          filePath  ...   volumeId  \\\n",
      "481  ./eb07_TXT_v2/a2/kp-eb0702-009608-1057-v2.txt  ...  192984259   \n",
      "530  ./eb07_TXT_v2/a2/kp-eb0702-010705-1200-v2.txt  ...  192984259   \n",
      "583  ./eb07_TXT_v2/a2/kp-eb0702-012904-1486-v2.txt  ...  192984259   \n",
      "598  ./eb07_TXT_v2/a2/kp-eb0702-013102-1512-v2.txt  ...  192984259   \n",
      "662  ./eb07_TXT_v2/a2/kp-eb0702-014301-1668-v2.txt  ...  192984259   \n",
      "\n",
      "                         permanentURL publisherPersons  volumeNum  editionNum  \\\n",
      "481  https://digital.nls.uk/192984259               []          2           7   \n",
      "530  https://digital.nls.uk/192984259               []          2           7   \n",
      "583  https://digital.nls.uk/192984259               []          2           7   \n",
      "598  https://digital.nls.uk/192984259               []          2           7   \n",
      "662  https://digital.nls.uk/192984259               []          2           7   \n",
      "\n",
      "    numberOfVolumes supplementTitle supplementSubTitle supplementsTo  \\\n",
      "481              22                                               []   \n",
      "530              22                                               []   \n",
      "583              22                                               []   \n",
      "598              22                                               []   \n",
      "662              22                                               []   \n",
      "\n",
      "    numberOfTerms  \n",
      "481          None  \n",
      "530          None  \n",
      "583          None  \n",
      "598          None  \n",
      "662          None  \n",
      "\n",
      "[5 rows x 40 columns]\n"
     ]
    }
   ],
   "source": [
    "# Check terms with empty description\n",
    "# Result shows these terms are wrongly recognised!\n",
    "print(df[df[\"definition\"] == \"\"])"
   ],
   "metadata": {
    "collapsed": false
   }
  },
  {
   "cell_type": "code",
   "execution_count": 42,
   "outputs": [
    {
     "name": "stdout",
     "output_type": "stream",
     "text": [
      "Empty DataFrame\n",
      "Columns: [term, note, alter_names, reference_terms, definition, startsAt, endsAt, position, termType, filePath, numberOfWords, header, letters, part, MMSID, editionTitle, editor, editor_date, genre, language, termsOfAddress, numberOfPages, physicalDescription, place, publisher, referencedBy, shelfLocator, editionSubTitle, volumeTitle, year, volumeId, permanentURL, publisherPersons, volumeNum, editionNum, numberOfVolumes, supplementTitle, supplementSubTitle, supplementsTo, numberOfTerms]\n",
      "Index: []\n",
      "\n",
      "[0 rows x 40 columns]\n"
     ]
    }
   ],
   "source": [
    "print(df[df[\"term\"] == \"WOMAN\"])"
   ],
   "metadata": {
    "collapsed": false
   }
  },
  {
   "cell_type": "code",
   "execution_count": 43,
   "outputs": [],
   "source": [
    "expected_topics = ['ABACUS', 'ABBREVIATION','ABYSSINIA', 'ACADEMY', 'ACCENT', 'ACHROMATIC GLASSES', 'ACOUSTICS', 'ADDISON', 'ADMIRAL', 'ADMIRALTY','HYDRODYNAMICS', 'HYGROMETRY', 'HISTORY OF SCOTLAND', 'FIGURE OF THE EARTH', 'ICELAND', 'ICHTHYOLOGY', 'INDEPENDENTS', 'INDIANA', 'INK']"
   ],
   "metadata": {
    "collapsed": false
   }
  },
  {
   "cell_type": "code",
   "execution_count": 44,
   "outputs": [],
   "source": [
    "topic_defoe_df = defoe_df[defoe_df[\"typeTerm\"] == \"Topic\"]"
   ],
   "metadata": {
    "collapsed": false
   }
  },
  {
   "cell_type": "code",
   "execution_count": 45,
   "outputs": [
    {
     "name": "stdout",
     "output_type": "stream",
     "text": [
      "There are totally 19 expected topics\n",
      "There are 11 expected topics recognised by dataframe from defoe's result\n",
      "There are 14 expected topics recognised by dataframe from this work\n"
     ]
    }
   ],
   "source": [
    "defoe_df_correct_topic_count = 0\n",
    "df_correct_topic_count = 0\n",
    "for topic in expected_topics:\n",
    "    if topic in topic_defoe_df[\"term\"].values:\n",
    "        defoe_df_correct_topic_count += 1\n",
    "    if topic in new_topics[\"term\"].values:\n",
    "        df_correct_topic_count += 1\n",
    "print(f\"There are totally {len(expected_topics)} expected topics\")\n",
    "print(f\"There are {defoe_df_correct_topic_count} expected topics recognised by dataframe from defoe's result\")\n",
    "print(f\"There are {df_correct_topic_count} expected topics recognised by dataframe from this work\")"
   ],
   "metadata": {
    "collapsed": false
   }
  },
  {
   "cell_type": "code",
   "execution_count": 46,
   "outputs": [
    {
     "name": "stdout",
     "output_type": "stream",
     "text": [
      "                 MMSID                                   editionTitle  \\\n",
      "2615  9910796273804340  Seventh edition, Volume 12, Hydrodynamics-KYR   \n",
      "\n",
      "               editor editor_date         genre language termsOfAddress  \\\n",
      "2615  Stewart, Dugald   1753-1828  encyclopedia      eng            Sir   \n",
      "\n",
      "      numberOfPages physicalDescription      place  ...  \\\n",
      "2615            902  21 v. in 22 ; 4to.  Edinburgh  ...   \n",
      "\n",
      "                                             definition  relatedTerms  \\\n",
      "2615  /•>// •/. /■'a. i i j: cccjuv. SCALE. Inches 1...            []   \n",
      "\n",
      "         header  startsAt endsAt  numberOfTerms  numberOfWords positionPage  \\\n",
      "2615  IKONMAKIN       869    853              1             47            0   \n",
      "\n",
      "     typeTerm                          altoXML  \n",
      "2615    Topic  192693199/alto/192948971.34.xml  \n",
      "\n",
      "[1 rows x 39 columns]\n"
     ]
    }
   ],
   "source": [
    "print(topic_defoe_df[topic_defoe_df[\"term\"] == \"IKONMAKIN\"])"
   ],
   "metadata": {
    "collapsed": false
   }
  },
  {
   "cell_type": "code",
   "execution_count": 47,
   "outputs": [
    {
     "name": "stdout",
     "output_type": "stream",
     "text": [
      "286 topics have been recognised by both dataframe.\n",
      "287 topics have only been recognised by defoe's work.\n",
      "['ABACUS', 'ABERRATION', 'ABYSSINIA', 'ACADEMY', 'ACCENT', 'ACOUSTICS', 'AERONAUTICS', 'AFRICA', 'ANATOMY', 'ANCHOR', 'ANDES', 'ANGLING', 'ANIMALCULE', 'ANNUITIES', 'ANTIQUITIES', 'APPARITIONS', 'AQUEDUCT', 'AQUEDUCT', 'ARABIA', 'ARABIA', 'ARABIA', 'ARACHNIDES', 'ASTRONOMY', 'BORING', 'BORNOU', 'BOTANY', 'CALENDAR', 'CANADA', 'CANARIES', 'CANTON', 'CARPENTRY', 'COINAGE', 'COLD', 'COLLIERY', 'COLOMBIA', 'COLONY', 'COLUMBUS', 'COMET', 'COMPANY', 'COMPLEXION', 'COPYRIGHT', 'CREDIT', 'CRETE', 'CRUSADES', 'CRYSTALLIZATION', 'CUBA', 'CUJAS', 'CUMBERLAND', 'CUTCH', 'CUVIER', 'DAIRY', 'DAMASCUS', 'DEFORMITY', 'DELUGE', 'DEMERARA', 'DENMARK', 'DERBYSHIRE', 'DEW', 'DIALLING', 'DIAMOND', 'DICTIONARY', 'DIETETICS', 'DISTILLATION', 'DOWN', 'DRAINING', 'DRAMA', 'DRAWING', 'DREAMS', 'DREDGING', 'DRUIDS', 'DRUSES', 'DRYDEN', 'DUBLIN', 'DUMONT', 'DUNBAR', 'DYEING', 'DYNAMICS', 'EDINBURGH', 'EDUCATION', 'EGYPT', 'EGYPT', 'ELECTRICITY', 'EMBANKMENT', 'EMIGRATION', 'ENGRAVING', 'ENTOMOLOGY', 'EQUATIONS', 'ETRUSCANS', 'EUROPE', 'EVAPORATION', 'EXCHANGE', 'FRANCE', 'FRANCE', 'FREDERICK', 'FURNACE', 'FENCING', 'FERMANAGH', 'FILTER', 'FISHERIES', 'FLORIDA', 'FLUXIONS', 'FOOD', 'GALWAY', 'GARDENING', 'GARDENING', 'GEOGRAPHY', 'GEOMETRY', 'GERMANY', 'GLASS', 'GLOUCESTERSHIRE', 'GOETHE', 'GOTHS', 'GOVERNMENT', 'GRAMMAR', 'GREECE', 'GREECE', 'GREECE', 'GREENLAND', 'GRENVILLE', 'GUATIMALA', 'GUNNERY', 'GUNPOWDER', 'HANOVER', 'HEAT', 'HEBRIDES', 'HELMINTHOLOGY', 'HYDRODYNAMICS', 'HYGROMETRY', 'ICELAND', 'ICHTHYOLOGY', 'LAMP', 'LANCASHIRE', 'LANGUAGE', 'LAPLAND', 'LAUGHTER', 'LEEDS', 'LEGISLATION', 'LEITH', 'LEITRIM', 'LEVEL', 'LIBRARIES', 'LIGHT', 'LINEN', 'LITHOGRAPHY', 'LIVERPOOL', 'LOGARITHMS', 'LOMBARDY', 'LONDON', 'LONGITUDE', 'LOUISIANA', 'LYDIA', 'MACEDONIA', 'MACKINTOSH', 'MADAGASCAR', 'MAGNETISM', 'MAHOMMED', 'MAHOMMED', 'MAHOMMEDANISM', 'MALTA', 'MAMMALIA', 'MICROMETER', 'NAVY', 'NEPAUL', 'NETHERLANDS', 'NEWFOUNDLAND', 'NEWSPAPERS', 'NEWSPAPERS', 'NIEBUHR', 'NIGER', 'NILE', 'NORWICH', 'NUBIA', 'NUBIA', 'NUMIDIA', 'OHIO', 'OPTICS', 'ORACLE', 'ORDEAL', 'ORGAN', 'ORNITHOLOGY', 'PARA', 'PARAGUAY', 'PARIS', 'PARLIAMENT', 'PARTHIA', 'PATAGONIA', 'PATRONAGE', 'PAUL', 'PENDULUM', 'PENNSYLVANIA', 'PERGAMUS', 'PERSIA', 'PERSIA', 'PERSIA', 'PERSIA', 'PERSPECTIVE', 'PLATO', 'PLATO', 'PLAYHOUSE', 'PLEASURE', 'PLYMOUTH', 'PNEUMATICS', 'POETRY', 'POISON', 'POLAND', 'POLICE', 'POLYGAMY', 'POLYNESIA', 'POLYTHEISM', 'POMPEII', 'PONTUS', 'POPULATION', 'PORCELAIN', 'PORISM', 'PORSON', 'PORTUGAL', 'PORTUGAL', 'PREROGATIVE', 'PRINTING', 'PRISONS', 'PROBABILITY', 'PROJECTILES', 'PROVIDENCE', 'PRUSSIA', 'PUMP', 'PYROMETER', 'QUAKERS', 'QUANTITY', 'RAILWAYS', 'REFORMATION', 'REPTILIA', 'RETICULATION', 'SCULPTURE', 'SEAMANSHIP', 'SECEDERS', 'SERIES', 'SERPENTS', 'SHAKSPEARE', 'SHOOTING', 'SIAM', 'SIBERIA', 'SILK', 'SILK', 'SINDE', 'SLAVERY', 'SLIGO', 'SMOKE', 'SOCRATES', 'SOUND', 'SPAIN', 'SPARTA', 'SPINNING', 'SWEDEN', 'SWITZERLAND', 'SYRACUSE', 'SYRIA', 'TANNING', 'TARTARY', 'TEA', 'TELEGRAPH', 'TELESCOPE', 'THEATRE', 'THEBES', 'THEOLOGY', 'THERMOMETER', 'TIBET', 'TIDES', 'TIMBER', 'TIPPERARY', 'TONNAGE', 'TRIGONOMETRY', 'TUNNEL', 'TURKEY', 'TYRONE', 'VALDENSES', 'VALDO', 'VENTILATION', 'VERMIN', 'VERULAM', 'VIRGIL', 'WATERFORD', 'WEAVING', 'WESTMEATH', 'WEXFORD', 'YORK', 'ZOOPHYTES']\n"
     ]
    }
   ],
   "source": [
    "# Find different between the topics from two dataframes\n",
    "intersection_topics = new_topics[new_topics[\"term\"].isin(topic_defoe_df[\"term\"])]\n",
    "\n",
    "print(f\"{len(intersection_topics)} topics have been recognised by both dataframe.\")\n",
    "\n",
    "# Remove the intersection from defoe topic\n",
    "topic_defoe_dif_result = topic_defoe_df[~topic_defoe_df[\"term\"].isin(intersection_topics[\"term\"])]\n",
    "print(f\"{len(topic_defoe_dif_result)} topics have only been recognised by defoe's work.\")\n",
    "print(intersection_topics[\"term\"].values.tolist())"
   ],
   "metadata": {
    "collapsed": false
   }
  },
  {
   "cell_type": "code",
   "execution_count": 48,
   "outputs": [
    {
     "name": "stdout",
     "output_type": "stream",
     "text": [
      "['INDEX', 'ICEICE', 'IKONMAKIN', 'SIGNATURES', 'TABLE', 'OMISSIONSANDCORRECTIONS', 'GENERALINDEX', 'INDEXCAP', 'INDEX', 'ABBREVIATIONS', 'ABEABE', 'BACCA', 'ACHROMATICGLASSES', 'ADDISON', 'ADMIRALTY', 'ETNA', 'AFGHANISTAN', 'AGRICULTURE', 'ANATOMYVEGETABLE', 'ANIMALKINGDOM', 'ANTANT', 'LTA', 'AQUATOFANA', 'AQUSG', 'AQITEDT', 'RABELAIS', 'RACINE', 'RASRAS', 'REGISTRATION', 'REIREI', 'RELIGIOUSMISSIONS', 'RENNIE', 'RESISTANCEOFFLUIDS', 'LAGRANGE', 'LAING', 'LALANDE', 'LAMBERT', 'LAWNATIONS', 'LAWOFNATIONS', 'LEALEASL', 'LEIBNITZ', 'LEIGHTON', 'LESLIE', 'LEYDEN', 'LIBERTYOFTHEPRESS', 'LIFEPRE', 'LIFEPRESERVERS', 'LINDSAY', 'LINNJEUS', 'LIPSIUS', 'L', 'LOCKE', 'LOGLOGLS', 'LOGIC', 'LUTHER', 'MACHIAVELLI', 'MCIIE', 'MCRIE', 'MAGMAG', 'DIDP', 'DIVINGBELL', 'DOCK', 'DOCKYARDS', 'DOLOMIEU', 'STDOMINGO', 'DONGOLA', 'DOR', 'DOUGLAS', 'DRUGGET', 'DRUDRU', 'DRUMMOND', 'DRYROT', 'DUHDUH', 'DUNCAN', 'ECONOMISTS', 'EDWARDS', 'DCTT', 'ODGC', 'ENCAUSTICPAINTING', 'ENGLAND', 'PJLATECCTREE', 'KCYPT', 'ELLIPTOGRAPH', 'MAGNETISMANIMAL', 'MAIMAIRC', 'MALTHUS', 'AH', 'CAMERON', 'CAMC', 'CAMPER', 'PNNING', 'CANON', 'CANOVA', 'CAPILLARYACTION', 'FRANKLIN', 'SYSTEM', 'FUNDINGSYSTEM', 'FURTRADE', 'GALILEO', 'GL', 'GASLIGHT', 'INTRODUCTION', 'GIBBON', 'GILDTNG', 'GLASGOW', 'GOL', 'SCAPEOFGOODHOPE', 'GRANDEUR', 'MMUSHTSFURNACE', 'GASGHT', 'PAPALSTATES', 'PAPER', 'PAPERMONEY', 'PARUPC', 'PARR', 'PATHOLOGYGENERAL', 'PAULOSAN', 'PEE', 'PELASGI', 'PERNAMBUCO', 'PLATALA', 'PLAYFAIR', 'IT', 'PESPP', 'POLARSEAS', 'POLARISATIONOFLIGHT', 'PARTI', 'POLITICALECONOMY', 'POORLAWS', 'POPE', 'POPULATIONOFTHEUNITEDSTATES', 'POR', 'POSTOFFICE', 'PRECESSION', 'PRESBYTERIANS', 'PRIPRI', 'PROPERTY', 'PUNISHMENT', 'PYTPYT', 'ERSD', 'QUESNAY', 'I', 'GROTIUS', 'GUNMAKING', 'GUYTONDEMORVEAU', 'HADHAD', 'HALL', 'HAPIIAP', 'HASTINGS', 'HEISJ', 'FART', 'UACIYPHICS', 'BORBORBOR', 'BOSBOSBOS', 'BOSWELL', 'ENGLAND', 'ENGLISHLANGUAGE', 'ERASMUS', 'ETHIOPIANNATIONS', 'EUGENE', 'FABFAB', 'FAIFAI', 'FENELON', 'FERGUSON', 'FEUDALLAW', 'FEZFEZ', 'FEZZAN', 'FICHTE', 'SECTIONI', 'FIGUREOFTHEEARTH', 'FOLARD', 'FORBES', 'FORFAR', 'VITRIFIEDFORTS', 'FORTIFICATION', 'FORIFATION', 'COHESION', 'COHC', 'T', 'COMCOM', 'COMCOMC', 'COMMERCE', 'CONDE', 'CONDILLAC', 'INTRODUCTION', 'CONICSECTIONS', 'CONCON', 'CONSTANTINOPOLITANHISTORY', 'COOK', 'COPERNICUS', 'SCORG', 'CORK', 'CORNLAWSANDCORNTRADE', 'CORPOREAL', 'COTTAGESYSTEM', 'COTTONMANUFACTURE', 'COULOMB', 'CRAIG', 'CRANMER', 'CSCRACRAW', 'CRAYONPAINTING', 'CRICHTON', 'CULLEN', 'CUNNINGHAM', 'CUSTOMANDHABIT', 'CUTCUV', 'DALRYMPLE', 'DANTON', 'DARIEN', 'DAVY', 'DEAFANDDUMB', 'DEFOE', 'DELHI', 'DEMPSTER', 'DERDER', 'DERBY', 'MICMICMA', 'SWIFT', 'SWISWISWI', 'TENNANT', 'THOMPSON', 'T', 'AT', 'TOOKE', 'TRIGONOMETRICALSURVEY', 'AFAB', 'TRUMPET', 'TYPEFOUNDING', 'UNITEDSTATES', 'UNIVERSITIES', 'VANDIEMENSLAND', 'VARIATIONS', 'VEGETABLEPHYSIOLOGY', 'VETERINARYSCIENCE', 'VIEL', 'VOLTAICELECTRICITY', 'WALESNEWSOUTH', 'WALLER', 'WARBURTON', 'WATERWORKS', 'WATT', 'WEBPEWS', 'WEIGHINGMACHINES', 'WEIGHTSANDMEASURES', 'WICKLOW', 'WINEMAKING', 'WURTEMBERG', 'WYCLIFFE', 'YOUNG', 'ZEALANDNEW', 'SEALIGHTS', 'SELSEEGC', 'SENSES', 'SEVLN', 'SHASIIAWS', 'SIIERIDAN', 'SHESHE', 'SHESHIMMS', 'SHIPBUILDING', 'SIGNALS', 'TTQRMSIEQI', 'SILKWOIM', 'SILKWORM', 'SIMSON', 'SINSIN', 'SKENE', 'SLOANE', 'SMELLIE', 'SMELTING', 'SMITH', 'SOMSOMSOMSOM', 'SPENSER', 'NAVIGATIONINLAND', 'RATESOFHALFPAY', 'NECNECG', 'NELSON', 'NESU', 'NEWBRUNSWICK', 'NEWCASTLE', 'NEWTON', 'NEWYORK', 'NOB', 'NORWAY', 'NOVASCOTIA', 'NUMNUM', 'OREGON', 'ORKNEY']\n",
      "Empty DataFrame\n",
      "Columns: [MMSID, editionTitle, editor, editor_date, genre, language, termsOfAddress, numberOfPages, physicalDescription, place, publisher, referencedBy, shelfLocator, editionSubTitle, volumeTitle, year, volumeId, metsXML, permanentURL, publisherPersons, volumeNum, letters, part, editionNum, supplementTitle, supplementSubTitle, supplementsTo, numberOfVolumes, term, definition, relatedTerms, header, startsAt, endsAt, numberOfTerms, numberOfWords, positionPage, typeTerm, altoXML]\n",
      "Index: []\n",
      "\n",
      "[0 rows x 39 columns]\n"
     ]
    }
   ],
   "source": [
    "# List topics only existing in defoe's result\n",
    "print(topic_defoe_dif_result[\"term\"].values.tolist())\n",
    "print(topic_defoe_dif_result[topic_defoe_dif_result[\"term\"] == \"FIGURE OF THE EARTH\"])"
   ],
   "metadata": {
    "collapsed": false
   }
  },
  {
   "cell_type": "code",
   "execution_count": 49,
   "outputs": [
    {
     "name": "stdout",
     "output_type": "stream",
     "text": [
      "['ABBREVIATION', 'ACHROMATIC', 'ADDISON, JOSEPH', 'ADMIRAL', 'ADMIRALTY, HIGH COURT OF', 'AETNA', 'AFGHANISTAN, AN', 'AGRICOLA, JOHN', 'ARABLE LAND', 'ALBANIA', 'ALCORAN', 'ALEUTIAN', 'ALEXANDRIA', 'ALGEBRA', 'ALGEBRA', 'ALGIERS', 'ALPHABET', 'ALPS', 'ALUM', 'AMAZONS', 'AMBOYNA', 'AMERICA', 'AMERICA', 'AMMONIAC, SAL', 'ANA', 'ANATOMY OF THE ORGANS OF THE ANIMAL, VOLUNTARY, OR RELATIVE FUNCTIONS', 'ANATOMY OF THE ORGANS PERTAINING TO THE ENTRO-PHIC OR NUTRITIVE FUNCTIONS', 'ANATOMY OF THE ORGANS OF RELATION', 'AD', 'ANIMAL', 'ANT', 'APOLLONIUS OF PERGA', 'AQUA TOFANA', 'ARCH', 'ARCHERY', 'ARCHITECT', 'ARGYLESHIRE', 'ARISTOTLE', 'ARISTOTLE’S PHILOSOPHY', 'ARISTOTLE', 'ARISTOTLE', 'ARISTOTLE', 'ARISTOTLE', 'ARITHMETIC', 'ARKWRIGHT, SIR RICHARD', 'ARMAGH', 'ARMENIA', 'ARMY', 'ARTILLERY', 'ARUNDELIAN MARBLES', 'ASHANTEE', 'ASIA', 'ASIA', 'ASIA', 'ASSAM', 'ASSAYING', 'ASTRONOMICAL INSTRUMENTS', 'ATHENS', 'ATMOSPHERE', 'ATTICA, AN', 'ATTRACTION', 'ATTRACTION OF SPHERES', 'AURORA BOREALIS', 'AUSTRALASIA', 'AUSTRIA', 'AUSTRIA, THE ARCHDUCHY', 'AUSTRIAN ITALY', 'AVA', 'AVERAGE', 'BABYLON', 'BACKGAMMON', 'BAGDAD', 'BAILLIE, ROBERT', 'BAILLY, JEAN SYLVAIN', 'BAKING', 'BALANCE', 'BALANCE OF POWER, AMONG', 'BALM OF GILEAD', 'BALTIC SEA', 'BANDA ISLANDS', 'BANKS, SIR JOSEPH', 'BAPTISM', 'BARBARY STATES', 'BARBOUR, JOHN', 'BARCLAY, WILLIAM, LL', 'BAROMETER OUR', 'BAROMETRICAL MEASUREMENTS', 'BARRY, JAMES', 'BARTHELEMY, JOHN JAMES', 'BARTHEZ, PAUL JOSEPH', 'BASKET-MAKING', 'BATHING', 'BAVARIA', 'BEATTIE, JAMES, LL', 'BEAUTY, THAT', 'BECCARIA, CAESAR BONESANA, MARQUIS OF', 'BEDDOES, THOMAS', 'BEE', 'BELL', 'BELLENDEN, JOHN', 'BELOOCHISTAN', 'BENGAL', 'BENTLEY, RICHARD', 'BERNOULLI', 'BIBLE', 'BIBLIOGRAPHY', 'BIRD- CATCHING', 'BLACK, DR JOSEPH', 'BLACK SEA', 'BLAIR, DR HUGH', 'BLASTING', 'BLEACHING', 'BLOCK-MACHINERY', 'BLOCKADE', 'BLOW-PIPE', 'BLOWING MACHINES', 'BOCCACIO', 'BOGOTA', 'BOLIVAR, SIMON', 'BOLIVIA', 'BOMBAY', 'BONNET, CHARLES', 'BOOK-KEEPING', 'BOOTAN', 'BORNEO', 'BOSHUANAS', 'BOSSUET, JAMES BENIGNE', 'BOSWELL, JAMES, ESQ', 'BOYCE, HECTOR', 'BOYLE, ROBERT', 'BRAHMINS', 'BRAZIL', 'BREAD', 'BREAKWATER OF CHERBOURG', 'BREWING', 'BRICK', 'BRIDGE', 'BRITAIN, OR GREAT BRITAIN, THE', 'BROWN, WILLIAM LAURENCE', 'BRUCE, ROBERT', 'BRUTE', 'BUCANEER', 'BUCHANAN', 'BUENOS AYRES, THE', 'BUILDING', 'BUKHARIA', 'BUNDELCUND', 'BURKE, EDMUND', 'BURMAN, PETER', 'BURNING GLASSES, OR BURNING MIRRORS, THE', 'BURNS, ROBERT', 'BYRON, LG', 'CALCUTTA', 'CALDERWOOD, DAVID', 'CALENDER', 'CAMBRIDGESHIRE', 'CAMERON, JOHN', 'CAMPER, PETER', 'CANARA', 'CANNING, GEORGE', 'CANNON', 'CANON LAW', 'CANOVA, ANTONIO', 'CAPILLARY ACTION', 'CARTES', 'CARTHAGE', 'CASTE', 'CASTING', 'CATHERINE II', 'CAVALLO, TIBERIUS', 'CAVENDISH, HENRY', 'CELTAE', 'CENTRE', 'CEYLON', 'CHALMERS, GEORGE', 'CHARACTER', 'CHAUCER, GEOFFREY', 'CHEMISTRY', 'CHEMISTRY OF ORGANIC BODIES', 'CHESS', 'CHILI', 'CHINA', 'CHIVALRY', 'CHRISTIANITY', 'CHRISTIANITY', 'CHROMATICS', 'CHRONICLE', 'CHURCHILL, JOHN, DUKE OF MARLBOROUGH', 'CIVIL LAW', 'CLACKMANNANSHIRE', 'CLARE', 'CLARKE, DR SAMUEL', 'CLERGY', 'CLIMATE', 'CLOCKS', 'COACH', 'CONGELATION', 'COMMENTARY', 'CONDAMINE, CHARLES MARIE', 'CONIC SECTIONS', 'CONSTABLE, ARCHIBALD', 'CONSTANTINOPOLITAN HISTORY', 'COOK, CAPTAIN JAMES', 'CORIOLANUS, CΛIUS MARCIUS', 'CORN LAWS AND CORN TRADE', 'CORNWALL', 'CORPORATION', 'COTTAGE SYSTEM', 'COTTON MANUFACTURE', 'COULOMB, CHARLES AUGUSTIN', 'COWPER, WILLIAM', 'CRANMER, THOMAS', 'CRAYON PAINTING', 'CREATION', 'CRICHTON, JAMES', 'CROMWELL, OLIVER', 'CRUSTACEA', 'CULLEN, DR WILLIAM', 'CUMBERLAND, RICHARD', 'CUMBERLAND, RICHARD', 'CUNNINGHAM, ALEXANDER', 'CURRIE, JAMES, M', 'CUSTOM AND HABIT', 'CUTLERY', 'DAEMONIAC', 'DALRYMPLE, JAMES, VISCOUNT OF STAIR', 'DALRYMPLE, SIR DAVID', 'DANCE', 'DANTON, GEORGE-JACQUES', 'DARIEN, SCOTTISH COLONY OF', 'DAVY, SIR HUMPHRY', 'DEAF AND DUMB', 'DEFOE, DANIEL', 'DEMPSTER, THOMAS', 'DEVONSHIRE', 'DISTORTION', 'DIVING', 'DOCK, AN', 'DOLOMIEU, DEODATUS GUY SILVANUS TANCRED', 'DOMINATION', 'DONEGAL', 'DOUGLAS, GAVIN', 'DRUMMOND, WILLIAM', 'DRY ROT', 'DUEL', 'DUHAMEL', 'DUMFRIES', 'DUNCAN, ADAM, LORD VISCOUNT', 'ECLOGUE', 'EDINBURGHSHIRE', 'EDWARDS, BRYAN', 'ENCAUSTIC PAINTING', 'ENGLAND, THE', 'ENGLISH LANGUAGE', 'EPISCOPACY', 'ERASMUS, DESIDERIUS', 'ESSEX', 'ETHIOPIAN NATIONS', 'EUGENE, FRANÇOIS', 'EULER, LEONARD', 'EUROPE, ONE OF', 'FUNDING SYSTEM', 'FUR TRADE', 'FENELON, FRANÇOIS', 'FERGUSON, ADAM, LL', 'FEUDAL LAW', 'FEZZAŃ', 'FIBULA', 'FIELDING, HENRY', 'FIFESHIRE', 'FIGURE OF THE EARTH', 'FILIAL PIETY', 'FOLARD, JEAN-CHARLES', 'FORBES, JOHN', 'FORSTER, JOHN REINHOLD', 'FORT', 'FORTH', 'FIELD FORTIFICATION', 'FOURCHEE', 'FOX, CHARLES JAMES', 'GALILEO GALILEI', 'GAS-LIGHT', 'GESNER, CONRAD', 'GIBBON, EDWARD', 'GILDING', 'GIOIA, FLAVIO', 'GLAMORGANSHIRE', 'GLARUS', 'GLAZING OF WINDOWS', 'GLUCK, CHEVALIER CHRISTOPHER', 'GOOD HOPE, CAPE OF', 'GRAMMATICAL ABSTRACT, EXHIBITING', 'GRANDEUR AND SUBLIMITY', 'GREENOCK', 'GREGORY, DR JOHN', 'GROTIUS, HUGO', 'GUICCIARDINI, FRANCISCO', 'GUJERAT', 'GUN-MAKING', 'GUYTON DE MORVEAU, BARON LOUIS BERNARD', 'GYMNASTICS', 'HALES, STEPHEN', 'HALL, ROBERT', 'HAMILTON, ROBERT', 'HAPPINESS', 'HASTINGS, WARREN', 'HAT', 'HEINSIUS, ANTONY', 'HENRY, ER ROBERT', 'HENRYSON, ROBERT', 'HERALDRY', 'HERCULANEUM', 'HERCULES', 'HIEROGLYPHICS', 'HIMALEH', 'HINDUSTAN', 'HINDUSTAN', 'HINDUSTAN', 'HINDUSTAN', 'HISTORY', 'HOGARTFI, WILLIAM', 'HOLLAND', 'HOME, JOHN', 'HOMER', 'HONDURAS', 'HORSE', 'HORSEMANSHIP', 'HORSLEY, SAMUEL', 'HORTICULTURE', 'HOUND', 'HOUSSA', 'HUNGARY', 'HUNTER', 'HUNTING', 'HYDE, EDWARD', 'INDEPENDENTS', 'INK', 'INQUISITION', 'INSCRIPTION', 'INSTINCT', 'INSURANCE', 'INTEREST', 'INVERNESS-SHIRE', 'IONIAN ISLANDS', 'IRELAND', 'IRELAND', 'IRELAND', 'IRON-MAKING', 'IRRIGATION', 'ITALY', 'JAMAICA', 'JAMAICA', 'JAPAN', 'JAPANNING', 'JAVA', 'JEFFERSON, THOMAS', 'JERUSALEM', 'JESUITS', 'JESUS', 'JEWS', 'JOHN’S, ST', 'JOHNSON, DR SAMUEL', 'JOHNSTON, ARTHUR', 'JOINERY', 'JURISPRUDENCE', 'JURY TRIAL', 'KALEIDOSCOPE', 'KAMTSCHATKA', 'KANT, IMMANUEL', 'KENT', 'KENTUCKY', 'KERRY', 'KILDARE', 'KILKENNY', 'KINCARDINESHIRE', 'KIRCUDBRIGHT', 'KNOX, JOHN', 'LAGRANGE, JOSEPH LOINS', 'LAING, MALCOLM', 'LALANDE, JOSEPH JEROME LEFRANÇAIS', 'LAMBERT, JOHN', 'LAMPS FOR LIGHTING STREETS', 'LAPLACE, PIERRE SIMON, MARQUIS', 'LAW', 'LAW OF NATIONS', 'LAW', 'LEIBNITZ, GODFREY WILLIAM, BARON', 'LEIGHTON, ROBERT', 'LESLEY, JOHN', 'LESLIE, CHARLES', 'LESLIE, SIR JOHN', 'LEVELLING', 'LEYDEN, JOHN', 'LIBERTY OF THE PRESS', 'LIFE-PRESERVERS', 'LINDSAY, SIR DAVID', 'LINNAEUS', 'LIPSIUS, JUSTUS', 'LIVERPOOL, CHARLES JENKINSON', 'LOCK', 'LOCKE, JOHN', 'LOMBARDS', 'LONDON VACCINE INSTITUTION', 'LONDONDERRY', 'LONGFORD', 'LUTHER, MARTIN', 'MACHIAVELLI, NICOLO', 'MACKENZIE, SIR GEORGE', 'M', 'MAGIC SQUARE', 'MAGNETISM, ANIMAL', 'MAINE', 'MALTHUS, THOMAS ROBERT', 'MAN', 'MAN, ISLE OF', 'MANCHESTER, THE', 'MANCHESTER', 'MARMONTEL, JEAN FRANÇOIS', 'MARSEILLES', 'MARY', 'MARYLAND', 'MASKELYNE, NEVIL', 'MASONRY, FREE', 'MASONRY', 'MASSACHUSETTS', 'MASSILLON, JEAN BAPTISTE', 'MATHEMATICS', 'MAURITIUS', 'MAYER, TOBIAS', 'MAYO', 'MAZARIN, JULIUS', 'MEATH', 'MECHANICS', 'MECKLENBURG-STRELITZ', 'MEDICAL JURISPRUDENCE', 'MELVILLE, ANDREW', 'MENSURATION', 'MENTAL DISEASES', 'METAPHYSICS', 'METASTASIO, PIETRO BUONAVENTURA', 'METEOROLITE', 'METEOROLOGY, FROM', 'METHODISTS', 'MEXICO', 'MICHIGAN', 'MICROSCOPIC OBJECTS', 'MIDDLESEX', 'MILITIA', 'MILK', 'MILL, JAMES', 'MILLENNIUM', 'MILTON', 'MILTON', 'MINAS GERAES', 'MINERALOGY', 'MINES', 'MINES OF BAVARIA', 'MINIATURE PAINTING', 'MINING', 'MIRABEAU, VICTOR RIQUETTI, MARQUIS', 'MISSOURI', 'MOGULS', 'MOLLUSCA', 'MOLLUSQUES', 'MONEY', 'MONEY OF GERMANY, SPAIN', 'MONTAGU, LADY MARY WORTLEY', 'MONTESQUIEU', 'MONTE VIDEO', 'MOOR, JAMES', 'MOORE, SIR JOHN', 'MORAL PHILOSOPHY', 'MOREAU, JOHN VICTOR', 'MOROCCO', 'MOROCCO', 'MORTALITY, HUMAN', 'MOSAIC LAW', 'MOTION', 'MOZART, JOHN CHRYSOSTOM-WOLFGANG-THEOPHILUS', 'MURRAY, ALEXANDER', 'MUSIC', 'MYRIAPODA', 'MYSTERIES', 'MYTHOLOGY', 'NAPLES', 'NAPLES', 'NAPLOUS', 'NAVE', 'NAVIGATION, INLAND', 'NORTH AMERICA', 'NECKER, JAMES', 'NELSON, HORATIO, LORD VISCOUNT', 'NEW BRUNSWICK', 'NEWCASTLE-UNDER-LINE', 'NEW HAMPSHIRE', 'NEWTON, SIR ISAAC', 'NEW YORK', 'NIEBUHR, BERTHOLDT-GEORGE', 'NORFOLK', 'NORTHCOTE, JAMES', 'NORTON’S SOUND', 'NOVA SCOTIA', 'OREGON TERRITORY', 'ORKNEY ISLANDS', 'OSSIAN', 'OXFORD', 'PAINTING', 'PAISLEY', 'PALESTINE', 'PALIMPSEST', 'PALMYRA', 'PANAMA, ISTHMUS OF', 'PAPAL STATES', 'PAPEMBERG', 'PAPER-MONEY', 'PARR, SAMUEL', 'PATHOLOGY, GENERAL', 'PAULO, SAN', 'PERTH', 'PERTHSHIRE', 'PERU', 'PETER', 'PETERSBURG, ST', 'PETRARCH, FRANCIS', 'PHILOLOGY', 'PHILOSOPHY', 'PHRENOLOGY', 'PHYSIC, PRACTICE OF', 'PHYSICAL GEOGRAPHY', 'PHYSICS', 'PHYSICS', 'PHYSIOLOGY', 'PITCAIRNE, ARCHIBALD', 'PITT, WILLIAM', 'PLAGUE', 'PLANTING', 'PLASTIC NATURE', 'PLATA, LA', 'PLAYFAIR, JOHN', 'POLAR SEAS', 'POLARISATION OF LIGHT', 'POLITICAL ECONOMY', 'POOR-LAWS', 'POPE, ALEXANDER', 'POST-OFFICE', 'PRECESSION OF THE EQUINOXES', 'PRESBYTERIANS, PROTESTANTS', 'PRINTING MACHINES', 'PROJECTION', 'PUNISHMENT IN', 'QUESNAY, FRANÇOIS', 'RABELAIS DR', 'REGISTRATION GENERAL', 'RELIGIOUS MISSIONS', 'RENNIE JOHN', 'RESISTANCE', 'RHETHORIC', 'RHUBARB', 'RICARDO DAVID', 'RICHARDSON SAMUEL', 'RIO DE JANEIRO', 'RIVER', 'ROAD-MAKING', 'ROBISON JOHN', 'ROMANCE', 'ROMAN HISTORY', 'STATISTICS OF ROME', 'ROOF', 'ROPE', 'ROSCOE WILLIAM', 'ROSCOMMON', 'ROSS-SHIRE', 'ROTATION', 'ROXBURGHSHIRE', 'RUDDIMAN THOMAS', 'RUSSIA', 'SABBATH', 'SACRIFICE', 'SALT', 'SARDINIA', 'SAURIN, JAMES', 'SAXONY', 'SCHILLER, JOHN CHRISTOPHER FREDERICK', 'SCHLEGEL, FREDERICK', 'SCOTISTS', 'STATISTICS', 'SCOTT, SIR WALTER', 'SCRIPTURE, HOLY', 'SEA-LIGHT', 'SELKIRKSHIRE', 'SEMIPELAGIANS', 'SENSES, PLEASURES AND PAINS OF', 'SENSITIVE PLANT', 'SHEFFIELD', 'SHERIDAN, RICHARD BRINSLEY', 'SHIP-BUILDING', 'SHIPS', 'SIGNALS, NAVAL', 'SILK SPINNING', 'SIMSON, DR', 'SKEW BRIDGE', 'SKINNER, JOHN', 'SLOANE, SIR HANS', 'SMELLIE, WILLIAM', 'SMELLING', 'SMELTING IRON', 'SMITH, ADAM', 'SMOLLETT, TOBIAS', 'SPRING', 'SQUARING', 'STATISTICS', 'STEAM', 'THE STEAM-ENGINE', 'STEAM NAVIGATION', 'STEEL', 'STENOGRAPHY', 'STIRLINGSHIRE', 'STOVE', 'STRENGTH OF MATERIALS, IN MECHANICS', 'STUART, GILBERT', 'SUGAR', 'SUMATRA', 'SUPPER', 'SURGERY', 'SURVEYING', 'SUSSEX', 'SWEDENBORG, EMANUEL', 'SWIFT, JONATHAN', 'SWIMMING', 'TASTE', 'TAXATION', 'TEMPLE, SIR WILLIAM', 'TENNANT, SMITHSON', 'TENNESSEE', 'THOMPSON, SIR BENJAMIN, COUNT RUMFORD', 'THOMSON, JAMES', 'THEOREM G', 'THEOREM M', 'TOOKE, J', 'TRIGONOMETRICAL SURVEY', 'THEOREM V', 'TRUMPET, ARTICULATE', 'TURNING', 'TYPE-FOUNDING', 'UNITED STATES OF NORTH AMERICA', 'UNIVERSITIES AND SCHOOLS', 'VACCINATION', 'VAN DIEMEN’S LAND', 'VARIATIONS, CALCULUS OF', 'VEGETABLE PHYSIOLOGY', 'VENEZUELA', 'VETERINARY SCIENCE', 'VIADUCT', 'VIENNA', 'VIRGINIA', 'VOLT', 'VOLTAIRE, FRANÇOIS MARIE A', 'WALES, NEW SOUTH', 'WALLER, EDMUND', 'WAR', 'WARBURTON, WILLIAM', 'WATER-WORKS', 'WATT, JAMES', 'WEIGHING MACHINES', 'WEIGHTS AND MEASURES', 'WHITAKER, JOHN', 'WIGTON', 'WINE-MAKING', 'WOOL, AND ITS MANUFACTURES', 'WÜRTEMBERG', 'WYCLIFFE, JOHN', 'YOUNG, EDWARD', 'ZEALAND, NEW']\n",
      "                      term  note alter_names  \\\n",
      "10779  FIGURE OF THE EARTH  None          []   \n",
      "\n",
      "                                 reference_terms  \\\n",
      "10779  [DELAMBRE, DELAMBRE, ASTRONOMIE, ALGEBRA]   \n",
      "\n",
      "                                              definition  startsAt  endsAt  \\\n",
      "10779  SECTION I.\\nINTRODUCTION.\\nThe determination o...       546     574   \n",
      "\n",
      "       position termType                                       filePath  ...  \\\n",
      "10779         6    Topic  ./eb07_TXT_v2/f9/kp-eb0709-054601-2356-v2.txt  ...   \n",
      "\n",
      "        volumeId                      permanentURL publisherPersons  \\\n",
      "10779  193696084  https://digital.nls.uk/193696084               []   \n",
      "\n",
      "       volumeNum  editionNum numberOfVolumes supplementTitle  \\\n",
      "10779          9           7              22                   \n",
      "\n",
      "      supplementSubTitle supplementsTo numberOfTerms  \n",
      "10779                               []          None  \n",
      "\n",
      "[1 rows x 40 columns]\n"
     ]
    }
   ],
   "source": [
    "# List topics only existing in this work\n",
    "# Remove the intersection from topics in this work\n",
    "# Many topics are recognised by this work, but it cannot get the topic name accurate, since provided source data does not have the header information. e.g. ACHROMATIC GLASSES -> ACHROMATIC, ADDISON -> ADDISON, JOSEPH\n",
    "topic_new_dif_result = new_topics[~new_topics[\"term\"].isin(intersection_topics[\"term\"])]\n",
    "print(topic_new_dif_result[\"term\"].values.tolist())\n",
    "print(topic_new_dif_result[topic_new_dif_result[\"term\"] == \"FIGURE OF THE EARTH\"])"
   ],
   "metadata": {
    "collapsed": false
   }
  },
  {
   "cell_type": "markdown",
   "source": [],
   "metadata": {
    "collapsed": false
   }
  },
  {
   "cell_type": "code",
   "execution_count": 50,
   "outputs": [
    {
     "name": "stdout",
     "output_type": "stream",
     "text": [
      "                             term  note                         alter_names  \\\n",
      "2113                           AD  None                                  []   \n",
      "2846           ARUNDELIAN MARBLES  None  [OXFORD MARBLES, PARIAN CHRONICLE]   \n",
      "3378         BAILLY, JEAN SYLVAIN  None                                  []   \n",
      "3487                BANDA ISLANDS  None                                  []   \n",
      "3990                         BELL  None                                  []   \n",
      "...                           ...   ...                                 ...   \n",
      "22443         TEMPLE, SIR WILLIAM  None                                  []   \n",
      "22459                   TENNESSEE  None                                  []   \n",
      "23227                   VENEZUELA  None                                  []   \n",
      "23388  VOLTAIRE, FRANÇOIS MARIE A  None                                  []   \n",
      "23666                      WIGTON  None                                  []   \n",
      "\n",
      "                             reference_terms  \\\n",
      "2113                                      []   \n",
      "2846                                      []   \n",
      "3378                                      []   \n",
      "3487                                      []   \n",
      "3990                                      []   \n",
      "...                                      ...   \n",
      "22443                                     []   \n",
      "22459                       [COLLEGE, RIVER]   \n",
      "23227  [ANDES, BOGOTA, SANTA MARTA, ORINOCO]   \n",
      "23388                                     []   \n",
      "23666                                     []   \n",
      "\n",
      "                                              definition  startsAt  endsAt  \\\n",
      "2113   and AD\" parallel to these will mark the triple...       130     132   \n",
      "2846   are ancient stones, as has been supposed, wher...       659     661   \n",
      "3378   a celebrated philosopher and astronomer, was b...       289     291   \n",
      "3487   These islands, situated 130 miles to the south...       340     342   \n",
      "3990   a well-known instrument, ranked by musicians a...       545     547   \n",
      "...                                                  ...       ...     ...   \n",
      "22443  was bom in London in the year 1628. The family...       175     177   \n",
      "22459  one of the principal states in the North Ameri...       182     184   \n",
      "23227  one of the provinces which composed the republ...       591     593   \n",
      "23388  rouet de, one of the most celebrated writers o...       700     702   \n",
      "23666  a county situated at the south-west corner of ...       882     884   \n",
      "\n",
      "       position termType                                        filePath  ...  \\\n",
      "2113          1    Topic   ./eb07_TXT_v2/a3/kp-eb0703-013001-7251-v2.txt  ...   \n",
      "2846          1    Topic   ./eb07_TXT_v2/a3/kp-eb0703-065901-4128-v2.txt  ...   \n",
      "3378          1    Topic   ./eb07_TXT_v2/b4/kp-eb0704-028901-3072-v2.txt  ...   \n",
      "3487          1    Topic   ./eb07_TXT_v2/b4/kp-eb0704-034001-3735-v2.txt  ...   \n",
      "3990          1    Topic   ./eb07_TXT_v2/b4/kp-eb0704-054501-6400-v2.txt  ...   \n",
      "...         ...      ...                                             ...  ...   \n",
      "22443         1    Topic  ./eb07_TXT_v2/t21/kp-eb0721-017501-0193-v2.txt  ...   \n",
      "22459         1    Topic  ./eb07_TXT_v2/t21/kp-eb0721-018201-0200-v2.txt  ...   \n",
      "23227         1    Topic  ./eb07_TXT_v2/v21/kp-eb0721-059101-0629-v2.txt  ...   \n",
      "23388         1    Topic  ./eb07_TXT_v2/v21/kp-eb0721-070001-0740-v2.txt  ...   \n",
      "23666         1    Topic  ./eb07_TXT_v2/w21/kp-eb0721-088201-0922-v2.txt  ...   \n",
      "\n",
      "        volumeId                      permanentURL publisherPersons  \\\n",
      "2113   193057500  https://digital.nls.uk/193057500               []   \n",
      "2846   193057500  https://digital.nls.uk/193057500               []   \n",
      "3378   193108322  https://digital.nls.uk/193108322               []   \n",
      "3487   193108322  https://digital.nls.uk/193108322               []   \n",
      "3990   193108322  https://digital.nls.uk/193108322               []   \n",
      "...          ...                               ...              ...   \n",
      "22443  193819045  https://digital.nls.uk/193819045               []   \n",
      "22459  193819045  https://digital.nls.uk/193819045               []   \n",
      "23227  193819045  https://digital.nls.uk/193819045               []   \n",
      "23388  193819045  https://digital.nls.uk/193819045               []   \n",
      "23666  193819045  https://digital.nls.uk/193819045               []   \n",
      "\n",
      "       volumeNum  editionNum numberOfVolumes supplementTitle  \\\n",
      "2113           3           7              22                   \n",
      "2846           3           7              22                   \n",
      "3378           4           7              22                   \n",
      "3487           4           7              22                   \n",
      "3990           4           7              22                   \n",
      "...          ...         ...             ...             ...   \n",
      "22443         21           7              22                   \n",
      "22459         21           7              22                   \n",
      "23227         21           7              22                   \n",
      "23388         21           7              22                   \n",
      "23666         21           7              22                   \n",
      "\n",
      "      supplementSubTitle supplementsTo numberOfTerms  \n",
      "2113                                []          None  \n",
      "2846                                []          None  \n",
      "3378                                []          None  \n",
      "3487                                []          None  \n",
      "3990                                []          None  \n",
      "...                  ...           ...           ...  \n",
      "22443                               []          None  \n",
      "22459                               []          None  \n",
      "23227                               []          None  \n",
      "23388                               []          None  \n",
      "23666                               []          None  \n",
      "\n",
      "[72 rows x 40 columns]\n"
     ]
    }
   ],
   "source": [
    "topic_with_less_than_4pages = topic_new_dif_result[topic_new_dif_result[\"endsAt\"] - topic_new_dif_result[\"startsAt\"] < 3]\n",
    "print(topic_with_less_than_4pages)"
   ],
   "metadata": {
    "collapsed": false
   }
  },
  {
   "cell_type": "code",
   "execution_count": 51,
   "outputs": [
    {
     "name": "stdout",
     "output_type": "stream",
     "text": [
      "9787 terms have been recognised by both dataframe.\n",
      "3563 terms have only been recognised by defoe's result.\n",
      "14183 terms have only been recognised by this work.\n"
     ]
    }
   ],
   "source": [
    "# Find different between the terms from two dataframes\n",
    "term_intersection = df[df[\"term\"].isin(defoe_df[\"term\"])]\n",
    "\n",
    "print(f\"{len(term_intersection)} terms have been recognised by both dataframe.\")\n",
    "\n",
    "# Remove the intersection from old_df\n",
    "term_defoe_dif_result = defoe_df[~defoe_df[\"term\"].isin(term_intersection[\"term\"])]\n",
    "\n",
    "# List the file path of term in old_df only\n",
    "print(f\"{len(term_defoe_dif_result)} terms have only been recognised by defoe's result.\")\n",
    "\n",
    "# Remove the intersection from df\n",
    "term_dif_result = df[~df[\"term\"].isin(term_intersection[\"term\"])]\n",
    "\n",
    "# List the file path of term in df only, Note that, lots of terms are not been processed in v21 folder since they are in xml files.\n",
    "print(f\"{len(term_dif_result)} terms have only been recognised by this work.\")"
   ],
   "metadata": {
    "collapsed": false
   }
  },
  {
   "cell_type": "code",
   "execution_count": 52,
   "outputs": [
    {
     "name": "stdout",
     "output_type": "stream",
     "text": [
      "               term                                         definition\n",
      "1          SCOTLAND  a general view of the history and statistics o...\n",
      "2           BRITAIN                                                   \n",
      "4             ROADS                                                   \n",
      "5                 C  where a great variety of additional particular...\n",
      "10      METEOROLOGY  &c. By consulting the Index, therefore, the st...\n",
      "11      AGRICULTURE                                                   \n",
      "12            BANKS                                                   \n",
      "17        RAILROADS  and so forth. The name of every subject to whi...\n",
      "19      AGRICULTURE                                                   \n",
      "21           CANALS                                              T h e\n",
      "23          AALBOBG                      a Danish see, II. 2—city, ib.\n",
      "28          AAHADOT                           a town in Norway, II. 3.\n",
      "30         AABASSUS                          a town of Pisidia, II. 3.\n",
      "33       AARDEXBURG                               a Dutch town, II. 3.\n",
      "34          AARGATJ   II. 3—manufactures of, XXI. 49—education in, 50.\n",
      "35         AARHUITS                                 in Denmark, II. 3.\n",
      "43       ABACJENTJM                            a Sicilian town, II. 5.\n",
      "51             AKJE                           a town of Phocis, II. 9.\n",
      "53     ABAGAITOUTES                                  in Russia, II. 9.\n",
      "56     ABAEIENATION                                     in law, II. 9.\n",
      "57         ABALEABA                                             II. 9.\n",
      "59            ABANA        a Phoenician river, II. 9. ABANGA. See Ady.\n",
      "60         ABANILEA                            a town in Spain, II. 9.\n",
      "68           ABARIM                        hills in Palestine, II. 10.\n",
      "70   ABARTICELATION                                in anatomy, II. 10.\n",
      "85         ABAUJVAB  in Hungary* II. 11. ABA—ABE ABAUZIT (Firmin), ...\n",
      "90            ABBAS  Mahomet’s uncle, II. 12 — (Schah), kings of Pe...\n",
      "94       ABBEHAGSEN                                in Germany, II. 12.\n",
      "98       ABBEYBOYEE                             an Irish town, II. 13.\n",
      "99        ABBEYHOEM                     in Cumberland, II. 13, ABBIATE\n",
      "100          GRAFFO                                  in Italy, II. 13.\n",
      "102               C  chosen Speaker of the House of Commons, V. 513...\n",
      "103   ABBOTSBROMLEY                                            II. 16.\n",
      "105   ABBOTSLANGLEY  II. 16. Abbott, Lord Tenterden, on average, IV...\n",
      "106   ABBREVIATIONS  II. 16—arithmetical, III. 543—characters of, V...\n",
      "108            ABBS                            St, promontory, II. 20.\n",
      "109        ABBUTAES                                            II. 20.\n",
      "113      ABDAEEATIF                                 traveller, II. 20.\n",
      "118             III                                 reign of, XX. 496.\n",
      "125       ABDUEPOOR                           a town in India, II. 23.\n",
      "128         ABELARD                                     Peter, II. 23.\n",
      "129     ABEEKERAMIN                                            II. 23.\n",
      "130     ABEEMEHOEAH                                            II. 23.\n",
      "131     ABEEMIZRAIM                                            II. 23.\n",
      "132      ABEESATTIM                                            II. 23.\n",
      "134          ABELEA                        a town of Campania, II. 25.\n",
      "138      ABENMEELER                                     rabbi, II. 25.\n",
      "144             OLD  II. 27—university, XXI. 515 ; XIX. 719, 765—li...\n",
      "145             NEW  11.27—dredging machine at, VIII. 195, 197—coll...\n",
      "158          ASIANS                                   or Abii, II. 36.\n"
     ]
    }
   ],
   "source": [
    "# Examine the terms only defoe's work\n",
    "# Scotland cannot be identified in this work, due to its extreme abnormal pattern (wrong segmentation)\n",
    "print(term_defoe_dif_result[0:50][[\"term\", \"definition\"]])"
   ],
   "metadata": {
    "collapsed": false
   }
  },
  {
   "cell_type": "code",
   "execution_count": 53,
   "outputs": [
    {
     "name": "stdout",
     "output_type": "stream",
     "text": [
      "                                     term  \\\n",
      "30               AARON AND JULIUS, SAINTS   \n",
      "32    AARSENS, FRANCIS, LORD OF SOMELDYCK   \n",
      "42                              ABACAENUM   \n",
      "49                           ABACUS MAJOR   \n",
      "52                                   ABAE   \n",
      "58                           ABALIENATION   \n",
      "70                                 ÀBARIM   \n",
      "72                         ABARTICULATTON   \n",
      "90                        ABAUZIT, FIRMIN   \n",
      "96                         ABBADIE, JAMES   \n",
      "97                 ABBAS, MAHOMET’S UNCLE   \n",
      "98                           ABBAS, SCHAH   \n",
      "99                           ABBAS, SCHAH   \n",
      "110                        ABBIATE GRAFFO   \n",
      "112                         ABBOT, GEORGE   \n",
      "113                         ABBOT, ROBERT   \n",
      "114                        ABBOTS-BROMLEY   \n",
      "116                        ABBOTS-LANGLEY   \n",
      "117                          ABBREVIATION   \n",
      "119                              ABBS, ST   \n",
      "132                     ABDIAS OF BABYLON   \n",
      "135                           ABDOMINALIS   \n",
      "142                          ABEL-KERAMIN   \n",
      "143                          ABEL-MEHOLΑH   \n",
      "144                          ABEL-MIZRAIM   \n",
      "145                           ABEL-SATTIM   \n",
      "146                        ABELARD, PETER   \n",
      "150                    ABEN-EZRA, ABRAHAM   \n",
      "159  ABERCROMBY, THE HONOURABLE ALEXANDER   \n",
      "160                 ABERCROMBY, SIR RALPH   \n",
      "161                         ABERDEEN, OLD   \n",
      "162                         ABERDEEN, NEW   \n",
      "167                       ABERNETHY, JOHN   \n",
      "168                             ABERNETHY   \n",
      "177                        ABGILLUS, JOHN   \n",
      "178                           ABIAD, BAHR   \n",
      "180                                ABIANS   \n",
      "196                  ABJURATION OF HERESY   \n",
      "204                     ABLATIVE ABSOLUTE   \n",
      "231                             ABRABANEL   \n",
      "234                   ABRAHAM, DEN CHAILA   \n",
      "235                         ABRAHAM USQUE   \n",
      "242                            ABRAVANÑUS   \n",
      "252                           ABRUD-BANYA   \n",
      "255               ABRUZZO ULTERIORE FIRST   \n",
      "256              ABRUZZO ULTERIORE SECOND   \n",
      "257                     ABRUZZO CITERIORE   \n",
      "267                   ABSOLUTE GOVERNMENT   \n",
      "268                    ABSOLUTE EQUATIONS   \n",
      "269                       ABSOLUTE NUMBER   \n",
      "\n",
      "                                            definition  \n",
      "30   were brothers who suffered martyrdom together,...  \n",
      "32   and Spyck, one of the greatest negotiators of ...  \n",
      "42   in Ancient Geography, a town of Sicily, whose ...  \n",
      "49   in metallurgic operations, the name of a troug...  \n",
      "52   in Ancient Geography, a town of Phocis in Gree...  \n",
      "58   in Law, the act of transferring one man’s prop...  \n",
      "70   high mountains of steep ascent separating the ...  \n",
      "72   in Anatomy, a species of articulation, admitti...  \n",
      "90   a learned Frenchman, was born at Usez, in Lang...  \n",
      "96   an eminent Protestant divine, born at Nay in B...  \n",
      "97   opposed his nephew with i all his power, regar...  \n",
      "98   the Great, was third son of Codabendi, 7th kin...  \n",
      "99   his grandson, 9th king of Persia of the race o...  \n",
      "110  a town in the Austrian delegation of Pavia, in...  \n",
      "112  archbishop of Canterbury, was born October 29....  \n",
      "113  elder brother to the former, was born at Guild...  \n",
      "114  a town in Staffordshire. After the dissolution...  \n",
      "116  a village in Herts, 4 miles from St Alban’s, f...  \n",
      "117  a contraction of a word or passage, made by dr...  \n",
      "119  a promontory on the eastern coast of Scotland,...  \n",
      "132  one of the boldest legendwriters, who boasted ...  \n",
      "135  constitute the Fourth Order of the Fourth Clas...  \n",
      "142  beyond Jordan, in the country of the Ammonites...  \n",
      "143  the country of the prophet Elisha, situated on...  \n",
      "144  called also the Threshing-floor of Atad) signi...  \n",
      "145  a town in the plains of Moab, to the north-eas...  \n",
      "146  an eminent scholastic philosopher of France, o...  \n",
      "150  a celebrated rabbi, born at Toledo in Spain, c...  \n",
      "159  Lord Abercromby), a Judge in the Courts of Ses...  \n",
      "160  knight of the Bath, arid a lieutenant-general ...  \n",
      "161  is a place of great antiquity. According to tr...  \n",
      "162  a considerable seaport, and capital of the cou...  \n",
      "167  an eminent dissenting minister, was the son of...  \n",
      "168  a town of Scotland, in Perthshire, situated at...  \n",
      "177  surnamed Prester John, was son to a king of th...  \n",
      "178  el, a great river of interior Africa, which, a...  \n",
      "180  anciently a people of Thrace, or (according to...  \n",
      "196  the solemn recantation of any doctrine as fals...  \n",
      "204  in Grammar, is a phrase detached or independen...  \n",
      "231  a celebrated rabbi, descended from King David,...  \n",
      "234  a Spanish rabbi, in the 13th century, who prof...  \n",
      "235  a Portuguese Jew, who, in conjunction with Tob...  \n",
      "242  in Ancient Geography, the name of a promontory...  \n",
      "252  a town of Hungary, in the province of Magyoren...  \n",
      "255  is a maritime province on tlιe Adriatic Sea,»w...  \n",
      "256  a province in the continental division of the ...  \n",
      "257  a province in the kingdom of Naples. It is bou...  \n",
      "267  that in which the prince is left solely to his...  \n",
      "268  in Astronomy, is the aggregate of the optic an...  \n",
      "269  in Algebra, is any pure number standing in any...  \n"
     ]
    }
   ],
   "source": [
    "# Examine the terms only this work\n",
    "print(term_dif_result[0:50][[\"term\", \"definition\"]])"
   ],
   "metadata": {
    "collapsed": false
   }
  },
  {
   "cell_type": "code",
   "execution_count": 53,
   "outputs": [],
   "source": [],
   "metadata": {
    "collapsed": false
   }
  }
 ],
 "metadata": {
  "kernelspec": {
   "display_name": ".venv",
   "language": "python",
   "name": "python3"
  },
  "language_info": {
   "codemirror_mode": {
    "name": "ipython",
    "version": 3
   },
   "file_extension": ".py",
   "mimetype": "text/x-python",
   "name": "python",
   "nbconvert_exporter": "python",
   "pygments_lexer": "ipython3",
   "version": "3.10.7"
  },
  "orig_nbformat": 4
 },
 "nbformat": 4,
 "nbformat_minor": 2
}
