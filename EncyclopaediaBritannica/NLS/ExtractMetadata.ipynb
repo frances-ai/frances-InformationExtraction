{
 "cells": [
  {
   "cell_type": "code",
   "execution_count": 2,
   "metadata": {
    "collapsed": true
   },
   "outputs": [],
   "source": [
    "import pandas as pd\n",
    "\n",
    "df = pd.read_json('final_eb_2_dataframe', orient=\"index\")"
   ]
  },
  {
   "cell_type": "code",
   "execution_count": 3,
   "outputs": [
    {
     "data": {
      "text/plain": "MMSID                                                    997902523804341\neditionTitle                             Second edition, Volume 1, A-AST\neditor                                                               NaN\neditor_date                                                          NaN\ngenre                                                       encyclopedia\nlanguage                                                             eng\ntermsOfAddress                                                       NaN\nnumberOfPages                                                        872\nphysicalDescription                             10v.,plates : maps ; 4to\nplace                                                          Edinburgh\npublisher              printed for J. Balfour and Co. W. Gordon, J. B...\nreferencedBy                             [ESTC T145358, Alston III.562 ]\nshelfLocator                                                        EB.4\neditionSubTitle        or, a dictionary of arts, sciences, &c. On a p...\nvolumeTitle                                     Encyclopaedia Britannica\nyear                                                                1778\nvolumeId                                                       144850370\nmetsXML                                               144850370-mets.xml\npermanentURL                            https://digital.nls.uk/144850370\npublisherPersons             [W. Gordon, J. Bell, J. Dickson, C. Elliot]\nvolumeNum                                                              1\nletters                                                            A-AST\npart                                                                   0\neditionNum                                                             2\nsupplementTitle                                                         \nsupplementSubTitle                                                      \nsupplementsTo                                                         []\nnumberOfVolumes                                                       10\nterm                                                                ARTS\ndefinition                                                              \nrelatedTerms                                                          []\nheader                                                                &C\nstartsAt                                                              15\nendsAt                                                                15\nnumberOfTerms                                                          7\nnumberOfWords                                                          0\npositionPage                                                           0\ntypeTerm                                                         Article\naltoXML                                  144850370/alto/188386616.34.xml\nName: 0, dtype: object"
     },
     "execution_count": 3,
     "metadata": {},
     "output_type": "execute_result"
    }
   ],
   "source": [
    "df.loc[0]"
   ],
   "metadata": {
    "collapsed": false
   }
  },
  {
   "cell_type": "code",
   "execution_count": 4,
   "outputs": [
    {
     "data": {
      "text/plain": "  editionNum volumeNum            MMSID  \\\n0          2         1  997902523804341   \n1          2         2  997902523804341   \n2          2         3  997902523804341   \n3          2         4  997902523804341   \n4          2         5  997902523804341   \n5          2         6  997902523804341   \n6          2         7  997902523804341   \n7          2         8  997902523804341   \n8          2         9  997902523804341   \n9          2        10  997902523804341   \n\n                                 editionTitle  \\\n0             Second edition, Volume 1, A-AST   \n1     Second edition, Volume 2, Astronomy-BZO   \n2                 Second edition, Volume 3, C   \n3               Second edition, Volume 4, D-F   \n4               Second edition, Volume 5, G-J   \n5        Second edition, Volume 6, K-Medicine   \n6  Second edition, Volume 7, Medicines-Optics   \n7     Second edition, Volume 8, Optics-Poetry   \n8           Second edition, Volume 9, POI-SCU   \n9     Second edition, Volume 10, SCU-Appendix   \n\n                                     editionSubTitle editor editor_date  \\\n0  or, a dictionary of arts, sciences, &c. On a p...    NaN         NaN   \n1  or, a dictionary of arts, sciences, &c. On a p...    NaN         NaN   \n2  or, a dictionary of arts, sciences, &c. On a p...    NaN         NaN   \n3  or, a dictionary of arts, sciences, &c. On a p...    NaN         NaN   \n4  or, a dictionary of arts, sciences, &c. On a p...    NaN         NaN   \n5  or, a dictionary of arts, sciences, &c. On a p...    NaN         NaN   \n6  or, a dictionary of arts, sciences, &c. On a p...    NaN         NaN   \n7  or, a dictionary of arts, sciences, &c. On a p...    NaN         NaN   \n8  or, a dictionary of arts, sciences, &c. On a p...    NaN         NaN   \n9  or, a dictionary of arts, sciences, &c. On a p...    NaN         NaN   \n\n          genre language termsOfAddress  ...  year   volumeId  \\\n0  encyclopedia      eng            NaN  ...  1778  144850370   \n1  encyclopedia      eng            NaN  ...  1778  144850373   \n2  encyclopedia      eng            NaN  ...  1778  144850374   \n3  encyclopedia      eng            NaN  ...  1778  144850375   \n4  encyclopedia      eng            NaN  ...  1778  144850376   \n5  encyclopedia      eng            NaN  ...  1778  144850377   \n6  encyclopedia      eng            NaN  ...  1778  144850378   \n7  encyclopedia      eng            NaN  ...  1778  144850379   \n8  encyclopedia      eng            NaN  ...  1778  190273289   \n9  encyclopedia      eng            NaN  ...  1778  190273290   \n\n                       permanentURL  \\\n0  https://digital.nls.uk/144850370   \n1  https://digital.nls.uk/144850373   \n2  https://digital.nls.uk/144850374   \n3  https://digital.nls.uk/144850375   \n4  https://digital.nls.uk/144850376   \n5  https://digital.nls.uk/144850377   \n6  https://digital.nls.uk/144850378   \n7  https://digital.nls.uk/144850379   \n8  https://digital.nls.uk/190273289   \n9  https://digital.nls.uk/190273290   \n\n                              publisherPersons           letters part  \\\n0  [W. Gordon, J. Bell, J. Dickson, C. Elliot]             A-AST    0   \n1  [W. Gordon, J. Bell, J. Dickson, C. Elliot]     Astronomy-BZO    0   \n2  [W. Gordon, J. Bell, J. Dickson, C. Elliot]                 C    0   \n3  [W. Gordon, J. Bell, J. Dickson, C. Elliot]               D-F    0   \n4  [W. Gordon, J. Bell, J. Dickson, C. Elliot]               G-J    0   \n5  [W. Gordon, J. Bell, J. Dickson, C. Elliot]        K-Medicine    0   \n6  [W. Gordon, J. Bell, J. Dickson, C. Elliot]  Medicines-Optics    0   \n7  [W. Gordon, J. Bell, J. Dickson, C. Elliot]     Optics-Poetry    0   \n8  [W. Gordon, J. Bell, J. Dickson, C. Elliot]           POI-SCU    0   \n9  [W. Gordon, J. Bell, J. Dickson, C. Elliot]      SCU-Appendix    0   \n\n  supplementTitle supplementSubTitle supplementsTo numberOfVolumes  \n0                                               []              10  \n1                                               []              10  \n2                                               []              10  \n3                                               []              10  \n4                                               []              10  \n5                                               []              10  \n6                                               []              10  \n7                                               []              10  \n8                                               []              10  \n9                                               []              10  \n\n[10 rows x 27 columns]",
      "text/html": "<div>\n<style scoped>\n    .dataframe tbody tr th:only-of-type {\n        vertical-align: middle;\n    }\n\n    .dataframe tbody tr th {\n        vertical-align: top;\n    }\n\n    .dataframe thead th {\n        text-align: right;\n    }\n</style>\n<table border=\"1\" class=\"dataframe\">\n  <thead>\n    <tr style=\"text-align: right;\">\n      <th></th>\n      <th>editionNum</th>\n      <th>volumeNum</th>\n      <th>MMSID</th>\n      <th>editionTitle</th>\n      <th>editionSubTitle</th>\n      <th>editor</th>\n      <th>editor_date</th>\n      <th>genre</th>\n      <th>language</th>\n      <th>termsOfAddress</th>\n      <th>...</th>\n      <th>year</th>\n      <th>volumeId</th>\n      <th>permanentURL</th>\n      <th>publisherPersons</th>\n      <th>letters</th>\n      <th>part</th>\n      <th>supplementTitle</th>\n      <th>supplementSubTitle</th>\n      <th>supplementsTo</th>\n      <th>numberOfVolumes</th>\n    </tr>\n  </thead>\n  <tbody>\n    <tr>\n      <th>0</th>\n      <td>2</td>\n      <td>1</td>\n      <td>997902523804341</td>\n      <td>Second edition, Volume 1, A-AST</td>\n      <td>or, a dictionary of arts, sciences, &amp;c. On a p...</td>\n      <td>NaN</td>\n      <td>NaN</td>\n      <td>encyclopedia</td>\n      <td>eng</td>\n      <td>NaN</td>\n      <td>...</td>\n      <td>1778</td>\n      <td>144850370</td>\n      <td>https://digital.nls.uk/144850370</td>\n      <td>[W. Gordon, J. Bell, J. Dickson, C. Elliot]</td>\n      <td>A-AST</td>\n      <td>0</td>\n      <td></td>\n      <td></td>\n      <td>[]</td>\n      <td>10</td>\n    </tr>\n    <tr>\n      <th>1</th>\n      <td>2</td>\n      <td>2</td>\n      <td>997902523804341</td>\n      <td>Second edition, Volume 2, Astronomy-BZO</td>\n      <td>or, a dictionary of arts, sciences, &amp;c. On a p...</td>\n      <td>NaN</td>\n      <td>NaN</td>\n      <td>encyclopedia</td>\n      <td>eng</td>\n      <td>NaN</td>\n      <td>...</td>\n      <td>1778</td>\n      <td>144850373</td>\n      <td>https://digital.nls.uk/144850373</td>\n      <td>[W. Gordon, J. Bell, J. Dickson, C. Elliot]</td>\n      <td>Astronomy-BZO</td>\n      <td>0</td>\n      <td></td>\n      <td></td>\n      <td>[]</td>\n      <td>10</td>\n    </tr>\n    <tr>\n      <th>2</th>\n      <td>2</td>\n      <td>3</td>\n      <td>997902523804341</td>\n      <td>Second edition, Volume 3, C</td>\n      <td>or, a dictionary of arts, sciences, &amp;c. On a p...</td>\n      <td>NaN</td>\n      <td>NaN</td>\n      <td>encyclopedia</td>\n      <td>eng</td>\n      <td>NaN</td>\n      <td>...</td>\n      <td>1778</td>\n      <td>144850374</td>\n      <td>https://digital.nls.uk/144850374</td>\n      <td>[W. Gordon, J. Bell, J. Dickson, C. Elliot]</td>\n      <td>C</td>\n      <td>0</td>\n      <td></td>\n      <td></td>\n      <td>[]</td>\n      <td>10</td>\n    </tr>\n    <tr>\n      <th>3</th>\n      <td>2</td>\n      <td>4</td>\n      <td>997902523804341</td>\n      <td>Second edition, Volume 4, D-F</td>\n      <td>or, a dictionary of arts, sciences, &amp;c. On a p...</td>\n      <td>NaN</td>\n      <td>NaN</td>\n      <td>encyclopedia</td>\n      <td>eng</td>\n      <td>NaN</td>\n      <td>...</td>\n      <td>1778</td>\n      <td>144850375</td>\n      <td>https://digital.nls.uk/144850375</td>\n      <td>[W. Gordon, J. Bell, J. Dickson, C. Elliot]</td>\n      <td>D-F</td>\n      <td>0</td>\n      <td></td>\n      <td></td>\n      <td>[]</td>\n      <td>10</td>\n    </tr>\n    <tr>\n      <th>4</th>\n      <td>2</td>\n      <td>5</td>\n      <td>997902523804341</td>\n      <td>Second edition, Volume 5, G-J</td>\n      <td>or, a dictionary of arts, sciences, &amp;c. On a p...</td>\n      <td>NaN</td>\n      <td>NaN</td>\n      <td>encyclopedia</td>\n      <td>eng</td>\n      <td>NaN</td>\n      <td>...</td>\n      <td>1778</td>\n      <td>144850376</td>\n      <td>https://digital.nls.uk/144850376</td>\n      <td>[W. Gordon, J. Bell, J. Dickson, C. Elliot]</td>\n      <td>G-J</td>\n      <td>0</td>\n      <td></td>\n      <td></td>\n      <td>[]</td>\n      <td>10</td>\n    </tr>\n    <tr>\n      <th>5</th>\n      <td>2</td>\n      <td>6</td>\n      <td>997902523804341</td>\n      <td>Second edition, Volume 6, K-Medicine</td>\n      <td>or, a dictionary of arts, sciences, &amp;c. On a p...</td>\n      <td>NaN</td>\n      <td>NaN</td>\n      <td>encyclopedia</td>\n      <td>eng</td>\n      <td>NaN</td>\n      <td>...</td>\n      <td>1778</td>\n      <td>144850377</td>\n      <td>https://digital.nls.uk/144850377</td>\n      <td>[W. Gordon, J. Bell, J. Dickson, C. Elliot]</td>\n      <td>K-Medicine</td>\n      <td>0</td>\n      <td></td>\n      <td></td>\n      <td>[]</td>\n      <td>10</td>\n    </tr>\n    <tr>\n      <th>6</th>\n      <td>2</td>\n      <td>7</td>\n      <td>997902523804341</td>\n      <td>Second edition, Volume 7, Medicines-Optics</td>\n      <td>or, a dictionary of arts, sciences, &amp;c. On a p...</td>\n      <td>NaN</td>\n      <td>NaN</td>\n      <td>encyclopedia</td>\n      <td>eng</td>\n      <td>NaN</td>\n      <td>...</td>\n      <td>1778</td>\n      <td>144850378</td>\n      <td>https://digital.nls.uk/144850378</td>\n      <td>[W. Gordon, J. Bell, J. Dickson, C. Elliot]</td>\n      <td>Medicines-Optics</td>\n      <td>0</td>\n      <td></td>\n      <td></td>\n      <td>[]</td>\n      <td>10</td>\n    </tr>\n    <tr>\n      <th>7</th>\n      <td>2</td>\n      <td>8</td>\n      <td>997902523804341</td>\n      <td>Second edition, Volume 8, Optics-Poetry</td>\n      <td>or, a dictionary of arts, sciences, &amp;c. On a p...</td>\n      <td>NaN</td>\n      <td>NaN</td>\n      <td>encyclopedia</td>\n      <td>eng</td>\n      <td>NaN</td>\n      <td>...</td>\n      <td>1778</td>\n      <td>144850379</td>\n      <td>https://digital.nls.uk/144850379</td>\n      <td>[W. Gordon, J. Bell, J. Dickson, C. Elliot]</td>\n      <td>Optics-Poetry</td>\n      <td>0</td>\n      <td></td>\n      <td></td>\n      <td>[]</td>\n      <td>10</td>\n    </tr>\n    <tr>\n      <th>8</th>\n      <td>2</td>\n      <td>9</td>\n      <td>997902523804341</td>\n      <td>Second edition, Volume 9, POI-SCU</td>\n      <td>or, a dictionary of arts, sciences, &amp;c. On a p...</td>\n      <td>NaN</td>\n      <td>NaN</td>\n      <td>encyclopedia</td>\n      <td>eng</td>\n      <td>NaN</td>\n      <td>...</td>\n      <td>1778</td>\n      <td>190273289</td>\n      <td>https://digital.nls.uk/190273289</td>\n      <td>[W. Gordon, J. Bell, J. Dickson, C. Elliot]</td>\n      <td>POI-SCU</td>\n      <td>0</td>\n      <td></td>\n      <td></td>\n      <td>[]</td>\n      <td>10</td>\n    </tr>\n    <tr>\n      <th>9</th>\n      <td>2</td>\n      <td>10</td>\n      <td>997902523804341</td>\n      <td>Second edition, Volume 10, SCU-Appendix</td>\n      <td>or, a dictionary of arts, sciences, &amp;c. On a p...</td>\n      <td>NaN</td>\n      <td>NaN</td>\n      <td>encyclopedia</td>\n      <td>eng</td>\n      <td>NaN</td>\n      <td>...</td>\n      <td>1778</td>\n      <td>190273290</td>\n      <td>https://digital.nls.uk/190273290</td>\n      <td>[W. Gordon, J. Bell, J. Dickson, C. Elliot]</td>\n      <td>SCU-Appendix</td>\n      <td>0</td>\n      <td></td>\n      <td></td>\n      <td>[]</td>\n      <td>10</td>\n    </tr>\n  </tbody>\n</table>\n<p>10 rows × 27 columns</p>\n</div>"
     },
     "execution_count": 4,
     "metadata": {},
     "output_type": "execute_result"
    }
   ],
   "source": [
    "edition_mmsids = df[\"MMSID\"].unique()\n",
    "metadata_cols = [\"editionNum\", \"volumeNum\", \"MMSID\", \"editionTitle\", \"editionSubTitle\", \"editor\", \"editor_date\", \"genre\", \"language\", \"termsOfAddress\", \"numberOfPages\", \"physicalDescription\", \"place\", \"publisher\", \"referencedBy\", \"shelfLocator\", \"volumeTitle\", \"year\", \"volumeId\", \"permanentURL\", \"publisherPersons\",  \"letters\", \"part\", \"supplementTitle\", \"supplementSubTitle\", \"supplementsTo\", \"numberOfVolumes\"]\n",
    "metadata_list = []\n",
    "for edition_mmsid in edition_mmsids:\n",
    "    df_edition = df[df[\"MMSID\"] == edition_mmsid].reset_index(drop=True)\n",
    "    vol_numbers = df_edition[\"volumeNum\"].unique()\n",
    "    for vol_number in vol_numbers:\n",
    "        df_vol = df_edition[df_edition[\"volumeNum\"] == vol_number].reset_index(drop=True)\n",
    "        meta_per_vol = df_vol.loc[0, metadata_cols]\n",
    "        metadata_list.append(meta_per_vol)\n",
    "\n",
    "metadata = pd.concat(metadata_list, axis=1).T.reset_index(drop=True)\n",
    "metadata"
   ],
   "metadata": {
    "collapsed": false
   }
  },
  {
   "cell_type": "code",
   "execution_count": 5,
   "outputs": [],
   "source": [
    "def extract_metadata(dataframe):\n",
    "    \"\"\"\n",
    "    This function extract metadata from source dataframe, it returns another dataframe with only following metadata: editionNum, volumeNum, MMSID, editionTitle, editionSubTitle, editor, editor_date, genre, language, termsOfAddress, numberOfPages, physicalDescription, place, publisher, referencedBy, shelfLocator, volumeTitle, year, volumeId, permanentURL, publisherPersons,  letters, part, supplementTitle, supplementSubtitle, supplementsTo, numberOfVolumes\n",
    "    :param dataframe: the source dataframe\n",
    "    :return: metadata dataframe\n",
    "    \"\"\"\n",
    "    edition_mmsids = dataframe[\"MMSID\"].unique()\n",
    "    metadata_cols = [\"editionNum\", \"volumeNum\", \"MMSID\", \"editionTitle\", \"editionSubTitle\", \"editor\", \"editor_date\", \"genre\", \"language\", \"termsOfAddress\", \"numberOfPages\", \"physicalDescription\", \"place\", \"publisher\", \"referencedBy\", \"shelfLocator\", \"volumeTitle\", \"year\", \"volumeId\", \"permanentURL\", \"publisherPersons\",  \"letters\", \"part\", \"supplementTitle\", \"supplementSubTitle\", \"supplementsTo\", \"numberOfVolumes\"]\n",
    "    metadata_list = []\n",
    "    for edition_mmsid in edition_mmsids:\n",
    "        df_edition = dataframe[dataframe[\"MMSID\"] == edition_mmsid].reset_index(drop=True)\n",
    "        vol_numbers = df_edition[\"volumeNum\"].unique()\n",
    "        for vol_number in vol_numbers:\n",
    "            df_vol = df_edition[df_edition[\"volumeNum\"] == vol_number].reset_index(drop=True)\n",
    "            meta_per_vol = df_vol.loc[0, metadata_cols]\n",
    "            metadata_list.append(meta_per_vol)\n",
    "\n",
    "    metadata = pd.concat(metadata_list, axis=1).T.reset_index(drop=True)\n",
    "    return metadata\n"
   ],
   "metadata": {
    "collapsed": false
   }
  },
  {
   "cell_type": "code",
   "execution_count": 6,
   "outputs": [
    {
     "name": "stdout",
     "output_type": "stream",
     "text": [
      "final_eb_1_dataframe\n",
      "final_eb_2_dataframe\n",
      "final_eb_3_dataframe\n",
      "final_eb_4_dataframe\n",
      "final_eb_5_dataframe\n",
      "final_eb_6_dataframe\n",
      "final_eb_7_dataframe\n",
      "final_eb_8_dataframe\n"
     ]
    }
   ],
   "source": [
    "metadata_total = []\n",
    "for edition_num in range(1, 9):\n",
    "    source_file_name = \"final_eb_%s_dataframe\" % edition_num\n",
    "    print(source_file_name)\n",
    "    dataframe = pd.read_json(source_file_name, orient=\"index\")\n",
    "    metadata = extract_metadata(dataframe)\n",
    "    metadata_total.append(metadata)\n",
    "\n",
    "dataframe = pd.read_json(\"final_eb_4_5_6_suplement_dataframe\", orient=\"index\")\n",
    "metadata = extract_metadata(dataframe)\n",
    "metadata_total.append(metadata)\n",
    "\n",
    "metadata_total_df = pd.concat(metadata_total, ignore_index=True)"
   ],
   "metadata": {
    "collapsed": false
   }
  },
  {
   "cell_type": "code",
   "execution_count": 7,
   "outputs": [
    {
     "data": {
      "text/plain": "    editionNum volumeNum             MMSID  \\\n0            1         1   992277653804341   \n1            1         2   992277653804341   \n2            1         3   992277653804341   \n3            1         1  9929192893804340   \n4            1         2  9929192893804340   \n..         ...       ...               ...   \n141          0         2  9910796373804340   \n142          0         6  9910796373804340   \n143          0         3  9910796373804340   \n144          0         1  9910796373804340   \n145          0         4  9910796373804340   \n\n                           editionTitle  \\\n0    First edition, 1771, Volume 1, A-B   \n1    First edition, 1771, Volume 2, C-L   \n2    First edition, 1771, Volume 3, M-Z   \n3    First edition, 1773, Volume 1, A-B   \n4    First edition, 1773, Volume 2, C-L   \n..                                  ...   \n141                            Volume 2   \n142                            Volume 6   \n143                            Volume 3   \n144                            Volume 1   \n145                            Volume 4   \n\n                                       editionSubTitle            editor  \\\n0    Illustrated with one hundred and sixty copperp...  Smellie, William   \n1    Illustrated with one hundred and sixty copperp...  Smellie, William   \n2    Illustrated with one hundred and sixty copperp...  Smellie, William   \n3    compiled upon a new plan. In which the differe...  Smellie, William   \n4    compiled upon a new plan. In which the differe...  Smellie, William   \n..                                                 ...               ...   \n141                                                      Stewart, Dugald   \n142                                                      Stewart, Dugald   \n143                                                      Stewart, Dugald   \n144                                                      Stewart, Dugald   \n145                                                      Stewart, Dugald   \n\n    editor_date         genre language termsOfAddress  ...  year   volumeId  \\\n0     1740-1795  encyclopedia      eng            NaN  ...  1771  144133901   \n1     1740-1795  encyclopedia      eng            NaN  ...  1771  144133902   \n2     1740-1795  encyclopedia      eng            NaN  ...  1771  144133903   \n3     1740-1795  encyclopedia      eng            NaN  ...  1773  144850366   \n4     1740-1795  encyclopedia      eng            NaN  ...  1773  144850367   \n..          ...           ...      ...            ...  ...   ...        ...   \n141   1753-1828  encyclopedia      eng            NaN  ...  1824  192693395   \n142   1753-1828  encyclopedia      eng            NaN  ...  1824  192693396   \n143   1753-1828  encyclopedia      eng            NaN  ...  1824  193057499   \n144   1753-1828  encyclopedia      eng            NaN  ...  1824  193108320   \n145   1753-1828  encyclopedia      eng            NaN  ...  1824  193696082   \n\n                         permanentURL                     publisherPersons  \\\n0    https://digital.nls.uk/144133901  [C. Macfarquhar, Colin Macfarquhar]   \n1    https://digital.nls.uk/144133902  [C. Macfarquhar, Colin Macfarquhar]   \n2    https://digital.nls.uk/144133903  [C. Macfarquhar, Colin Macfarquhar]   \n3    https://digital.nls.uk/144850366                     [John Donaldson]   \n4    https://digital.nls.uk/144850367                     [John Donaldson]   \n..                                ...                                  ...   \n141  https://digital.nls.uk/192693395                                   []   \n142  https://digital.nls.uk/192693396                                   []   \n143  https://digital.nls.uk/193057499                                   []   \n144  https://digital.nls.uk/193108320                                   []   \n145  https://digital.nls.uk/193696082                                   []   \n\n    letters part                                    supplementTitle  \\\n0       A-B    0                                                      \n1       C-L    0                                                      \n2       M-Z    0                                                      \n3       A-B    0                                                      \n4       C-L    0                                                      \n..      ...  ...                                                ...   \n141       2    0  Supplement to the fourth, fifth and sixth edit...   \n142       6    0  Supplement to the fourth, fifth and sixth edit...   \n143       3    0  Supplement to the fourth, fifth and sixth edit...   \n144       1    0  Supplement to the fourth, fifth and sixth edit...   \n145       4    0  Supplement to the fourth, fifth and sixth edit...   \n\n    supplementSubTitle supplementsTo numberOfVolumes  \n0                                 []               6  \n1                                 []               6  \n2                                 []               6  \n3                                 []               6  \n4                                 []               6  \n..                 ...           ...             ...  \n141                NaN     [4, 5, 6]               6  \n142                NaN     [4, 5, 6]               6  \n143                NaN     [4, 5, 6]               6  \n144                NaN     [4, 5, 6]               6  \n145                NaN     [4, 5, 6]               6  \n\n[146 rows x 27 columns]",
      "text/html": "<div>\n<style scoped>\n    .dataframe tbody tr th:only-of-type {\n        vertical-align: middle;\n    }\n\n    .dataframe tbody tr th {\n        vertical-align: top;\n    }\n\n    .dataframe thead th {\n        text-align: right;\n    }\n</style>\n<table border=\"1\" class=\"dataframe\">\n  <thead>\n    <tr style=\"text-align: right;\">\n      <th></th>\n      <th>editionNum</th>\n      <th>volumeNum</th>\n      <th>MMSID</th>\n      <th>editionTitle</th>\n      <th>editionSubTitle</th>\n      <th>editor</th>\n      <th>editor_date</th>\n      <th>genre</th>\n      <th>language</th>\n      <th>termsOfAddress</th>\n      <th>...</th>\n      <th>year</th>\n      <th>volumeId</th>\n      <th>permanentURL</th>\n      <th>publisherPersons</th>\n      <th>letters</th>\n      <th>part</th>\n      <th>supplementTitle</th>\n      <th>supplementSubTitle</th>\n      <th>supplementsTo</th>\n      <th>numberOfVolumes</th>\n    </tr>\n  </thead>\n  <tbody>\n    <tr>\n      <th>0</th>\n      <td>1</td>\n      <td>1</td>\n      <td>992277653804341</td>\n      <td>First edition, 1771, Volume 1, A-B</td>\n      <td>Illustrated with one hundred and sixty copperp...</td>\n      <td>Smellie, William</td>\n      <td>1740-1795</td>\n      <td>encyclopedia</td>\n      <td>eng</td>\n      <td>NaN</td>\n      <td>...</td>\n      <td>1771</td>\n      <td>144133901</td>\n      <td>https://digital.nls.uk/144133901</td>\n      <td>[C. Macfarquhar, Colin Macfarquhar]</td>\n      <td>A-B</td>\n      <td>0</td>\n      <td></td>\n      <td></td>\n      <td>[]</td>\n      <td>6</td>\n    </tr>\n    <tr>\n      <th>1</th>\n      <td>1</td>\n      <td>2</td>\n      <td>992277653804341</td>\n      <td>First edition, 1771, Volume 2, C-L</td>\n      <td>Illustrated with one hundred and sixty copperp...</td>\n      <td>Smellie, William</td>\n      <td>1740-1795</td>\n      <td>encyclopedia</td>\n      <td>eng</td>\n      <td>NaN</td>\n      <td>...</td>\n      <td>1771</td>\n      <td>144133902</td>\n      <td>https://digital.nls.uk/144133902</td>\n      <td>[C. Macfarquhar, Colin Macfarquhar]</td>\n      <td>C-L</td>\n      <td>0</td>\n      <td></td>\n      <td></td>\n      <td>[]</td>\n      <td>6</td>\n    </tr>\n    <tr>\n      <th>2</th>\n      <td>1</td>\n      <td>3</td>\n      <td>992277653804341</td>\n      <td>First edition, 1771, Volume 3, M-Z</td>\n      <td>Illustrated with one hundred and sixty copperp...</td>\n      <td>Smellie, William</td>\n      <td>1740-1795</td>\n      <td>encyclopedia</td>\n      <td>eng</td>\n      <td>NaN</td>\n      <td>...</td>\n      <td>1771</td>\n      <td>144133903</td>\n      <td>https://digital.nls.uk/144133903</td>\n      <td>[C. Macfarquhar, Colin Macfarquhar]</td>\n      <td>M-Z</td>\n      <td>0</td>\n      <td></td>\n      <td></td>\n      <td>[]</td>\n      <td>6</td>\n    </tr>\n    <tr>\n      <th>3</th>\n      <td>1</td>\n      <td>1</td>\n      <td>9929192893804340</td>\n      <td>First edition, 1773, Volume 1, A-B</td>\n      <td>compiled upon a new plan. In which the differe...</td>\n      <td>Smellie, William</td>\n      <td>1740-1795</td>\n      <td>encyclopedia</td>\n      <td>eng</td>\n      <td>NaN</td>\n      <td>...</td>\n      <td>1773</td>\n      <td>144850366</td>\n      <td>https://digital.nls.uk/144850366</td>\n      <td>[John Donaldson]</td>\n      <td>A-B</td>\n      <td>0</td>\n      <td></td>\n      <td></td>\n      <td>[]</td>\n      <td>6</td>\n    </tr>\n    <tr>\n      <th>4</th>\n      <td>1</td>\n      <td>2</td>\n      <td>9929192893804340</td>\n      <td>First edition, 1773, Volume 2, C-L</td>\n      <td>compiled upon a new plan. In which the differe...</td>\n      <td>Smellie, William</td>\n      <td>1740-1795</td>\n      <td>encyclopedia</td>\n      <td>eng</td>\n      <td>NaN</td>\n      <td>...</td>\n      <td>1773</td>\n      <td>144850367</td>\n      <td>https://digital.nls.uk/144850367</td>\n      <td>[John Donaldson]</td>\n      <td>C-L</td>\n      <td>0</td>\n      <td></td>\n      <td></td>\n      <td>[]</td>\n      <td>6</td>\n    </tr>\n    <tr>\n      <th>...</th>\n      <td>...</td>\n      <td>...</td>\n      <td>...</td>\n      <td>...</td>\n      <td>...</td>\n      <td>...</td>\n      <td>...</td>\n      <td>...</td>\n      <td>...</td>\n      <td>...</td>\n      <td>...</td>\n      <td>...</td>\n      <td>...</td>\n      <td>...</td>\n      <td>...</td>\n      <td>...</td>\n      <td>...</td>\n      <td>...</td>\n      <td>...</td>\n      <td>...</td>\n      <td>...</td>\n    </tr>\n    <tr>\n      <th>141</th>\n      <td>0</td>\n      <td>2</td>\n      <td>9910796373804340</td>\n      <td>Volume 2</td>\n      <td></td>\n      <td>Stewart, Dugald</td>\n      <td>1753-1828</td>\n      <td>encyclopedia</td>\n      <td>eng</td>\n      <td>NaN</td>\n      <td>...</td>\n      <td>1824</td>\n      <td>192693395</td>\n      <td>https://digital.nls.uk/192693395</td>\n      <td>[]</td>\n      <td>2</td>\n      <td>0</td>\n      <td>Supplement to the fourth, fifth and sixth edit...</td>\n      <td>NaN</td>\n      <td>[4, 5, 6]</td>\n      <td>6</td>\n    </tr>\n    <tr>\n      <th>142</th>\n      <td>0</td>\n      <td>6</td>\n      <td>9910796373804340</td>\n      <td>Volume 6</td>\n      <td></td>\n      <td>Stewart, Dugald</td>\n      <td>1753-1828</td>\n      <td>encyclopedia</td>\n      <td>eng</td>\n      <td>NaN</td>\n      <td>...</td>\n      <td>1824</td>\n      <td>192693396</td>\n      <td>https://digital.nls.uk/192693396</td>\n      <td>[]</td>\n      <td>6</td>\n      <td>0</td>\n      <td>Supplement to the fourth, fifth and sixth edit...</td>\n      <td>NaN</td>\n      <td>[4, 5, 6]</td>\n      <td>6</td>\n    </tr>\n    <tr>\n      <th>143</th>\n      <td>0</td>\n      <td>3</td>\n      <td>9910796373804340</td>\n      <td>Volume 3</td>\n      <td></td>\n      <td>Stewart, Dugald</td>\n      <td>1753-1828</td>\n      <td>encyclopedia</td>\n      <td>eng</td>\n      <td>NaN</td>\n      <td>...</td>\n      <td>1824</td>\n      <td>193057499</td>\n      <td>https://digital.nls.uk/193057499</td>\n      <td>[]</td>\n      <td>3</td>\n      <td>0</td>\n      <td>Supplement to the fourth, fifth and sixth edit...</td>\n      <td>NaN</td>\n      <td>[4, 5, 6]</td>\n      <td>6</td>\n    </tr>\n    <tr>\n      <th>144</th>\n      <td>0</td>\n      <td>1</td>\n      <td>9910796373804340</td>\n      <td>Volume 1</td>\n      <td></td>\n      <td>Stewart, Dugald</td>\n      <td>1753-1828</td>\n      <td>encyclopedia</td>\n      <td>eng</td>\n      <td>NaN</td>\n      <td>...</td>\n      <td>1824</td>\n      <td>193108320</td>\n      <td>https://digital.nls.uk/193108320</td>\n      <td>[]</td>\n      <td>1</td>\n      <td>0</td>\n      <td>Supplement to the fourth, fifth and sixth edit...</td>\n      <td>NaN</td>\n      <td>[4, 5, 6]</td>\n      <td>6</td>\n    </tr>\n    <tr>\n      <th>145</th>\n      <td>0</td>\n      <td>4</td>\n      <td>9910796373804340</td>\n      <td>Volume 4</td>\n      <td></td>\n      <td>Stewart, Dugald</td>\n      <td>1753-1828</td>\n      <td>encyclopedia</td>\n      <td>eng</td>\n      <td>NaN</td>\n      <td>...</td>\n      <td>1824</td>\n      <td>193696082</td>\n      <td>https://digital.nls.uk/193696082</td>\n      <td>[]</td>\n      <td>4</td>\n      <td>0</td>\n      <td>Supplement to the fourth, fifth and sixth edit...</td>\n      <td>NaN</td>\n      <td>[4, 5, 6]</td>\n      <td>6</td>\n    </tr>\n  </tbody>\n</table>\n<p>146 rows × 27 columns</p>\n</div>"
     },
     "execution_count": 7,
     "metadata": {},
     "output_type": "execute_result"
    }
   ],
   "source": [
    "metadata_total_df"
   ],
   "metadata": {
    "collapsed": false
   }
  },
  {
   "cell_type": "code",
   "execution_count": 8,
   "outputs": [
    {
     "data": {
      "text/plain": "34     Supplement to the third edition of the Encyclo...\n35     Supplement to the third edition of the Encyclo...\n140    Supplement to the fourth, fifth and sixth edit...\n141    Supplement to the fourth, fifth and sixth edit...\n142    Supplement to the fourth, fifth and sixth edit...\n143    Supplement to the fourth, fifth and sixth edit...\n144    Supplement to the fourth, fifth and sixth edit...\n145    Supplement to the fourth, fifth and sixth edit...\nName: supplementTitle, dtype: object"
     },
     "execution_count": 8,
     "metadata": {},
     "output_type": "execute_result"
    }
   ],
   "source": [
    "supplements = metadata_total_df[metadata_total_df[\"editionNum\"] == 0]\n",
    "supplements[\"supplementTitle\"]"
   ],
   "metadata": {
    "collapsed": false
   }
  },
  {
   "cell_type": "code",
   "execution_count": 9,
   "outputs": [],
   "source": [
    "metadata_total_df.to_json(\"nls_metadata_dataframe\",  orient=\"index\")"
   ],
   "metadata": {
    "collapsed": false
   }
  }
 ],
 "metadata": {
  "kernelspec": {
   "display_name": "Python 3",
   "language": "python",
   "name": "python3"
  },
  "language_info": {
   "codemirror_mode": {
    "name": "ipython",
    "version": 2
   },
   "file_extension": ".py",
   "mimetype": "text/x-python",
   "name": "python",
   "nbconvert_exporter": "python",
   "pygments_lexer": "ipython2",
   "version": "2.7.6"
  }
 },
 "nbformat": 4,
 "nbformat_minor": 0
}
