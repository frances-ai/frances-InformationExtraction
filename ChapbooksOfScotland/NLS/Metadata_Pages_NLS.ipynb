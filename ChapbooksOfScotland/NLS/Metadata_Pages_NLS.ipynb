{
 "cells": [
  {
   "cell_type": "markdown",
   "metadata": {},
   "source": [
    "# Metadata and Pages Text-  NLS \n"
   ]
  },
  {
   "cell_type": "markdown",
   "metadata": {},
   "source": [
    "We can have two types of digital collections:\n",
    "    - One that has a volume \n",
    "    - Has several books per collection\n"
   ]
  },
  {
   "cell_type": "markdown",
   "metadata": {},
   "source": [
    "### Loading the necessary libraries"
   ]
  },
  {
   "cell_type": "code",
   "execution_count": 30,
   "metadata": {},
   "outputs": [],
   "source": [
    "import yaml\n",
    "import numpy as np\n",
    "import collections\n",
    "import string\n",
    "import copy"
   ]
  },
  {
   "cell_type": "code",
   "execution_count": 31,
   "metadata": {},
   "outputs": [],
   "source": [
    "import pandas as pd\n",
    "from yaml import safe_load\n"
   ]
  },
  {
   "cell_type": "code",
   "execution_count": 32,
   "metadata": {},
   "outputs": [],
   "source": [
    "#!python -m spacy download en_core_web_sm"
   ]
  },
  {
   "cell_type": "code",
   "execution_count": 33,
   "metadata": {},
   "outputs": [],
   "source": [
    "import spacy"
   ]
  },
  {
   "cell_type": "code",
   "execution_count": 34,
   "metadata": {},
   "outputs": [],
   "source": [
    "nlp = spacy.load(\"en_core_web_sm\")"
   ]
  },
  {
   "cell_type": "markdown",
   "metadata": {},
   "source": [
    "### Functions"
   ]
  },
  {
   "cell_type": "code",
   "execution_count": 35,
   "metadata": {},
   "outputs": [],
   "source": [
    "def read_query_results(filename):\n",
    "    with open(filename, 'r') as f:\n",
    "        query_results = safe_load(f)\n",
    "    return query_results\n"
   ]
  },
  {
   "cell_type": "code",
   "execution_count": 36,
   "metadata": {},
   "outputs": [],
   "source": [
    "def write_query_results(filename, results):\n",
    "    with open(filename, 'w') as f:\n",
    "        documents = yaml.dump(results, f)"
   ]
  },
  {
   "cell_type": "code",
   "execution_count": 37,
   "metadata": {},
   "outputs": [],
   "source": [
    "def find_persons(text):\n",
    "    if text:\n",
    "        doc2 = nlp(text)\n",
    "    \n",
    "        # Identify the persons\n",
    "        persons = [ent.text for ent in doc2.ents if ent.label_ == 'PERSON']\n",
    "    \n",
    "        # Return persons\n",
    "        return persons\n",
    "    else:\n",
    "        return None"
   ]
  },
  {
   "cell_type": "code",
   "execution_count": 38,
   "metadata": {},
   "outputs": [],
   "source": [
    "def create_dataframe(metadata_results, collection_name):\n",
    "  \n",
    "    for volume in metadata_results:\n",
    "        for page in metadata_results[volume]:\n",
    "            print(page.keys())\n",
    "            column_list=list(page.keys())\n",
    "            break\n",
    "        break\n",
    "        \n",
    "    data=[]\n",
    "    for volume in metadata_results:\n",
    "        for page in metadata_results[volume]:\n",
    "            try:\n",
    "                data.append(page)\n",
    "            except:\n",
    "                pass\n",
    "    df = pd.DataFrame(data, columns = column_list)\n",
    "    \n",
    "     \n",
    "    df= df.rename(columns={\"serie\":\"serieTitle\", \"subtitle\":\"serieSubTitle\",\n",
    "                           \"num_words\":\"numberOfWords\",\\\n",
    "                           \"title\":\"volumeTitle\", \"referenced_by\":\"referencedBy\",\\\n",
    "                           \"num_pages\":\"numberOfPages\", \"name_termsOfAddress\":\"termsOfAddress\", \\\n",
    "                           \"source_text_file\": \"altoXML\", \"num_text_unit\": \"numberOfPages\", \\\n",
    "                           \"text_unit_id\":\"pageNum\",\\\n",
    "                           \"num_words\":\"numberOfWords\", \\\n",
    "                           \"physical_description\": \"physicalDescription\"})\n",
    "    \n",
    "    try:\n",
    "        df= df.drop(['geographic', 'country', 'topic', 'city', 'temporal', 'dateIssued'], axis=1)\n",
    "    except:\n",
    "        pass\n",
    "    alto=df[\"altoXML\"]\n",
    "\n",
    "    \n",
    "    df[\"altoXML\"]= df[\"volumeId\"]+\"/\"+alto\n",
    "    \n",
    "    list_mmsid=(df[\"MMSID\"].unique()).tolist()\n",
    "    \n",
    "    for i, row in df.iterrows():\n",
    "        position= list_mmsid.index(row['MMSID'])\n",
    "        df.at[i,'serieNum'] = position\n",
    "        \n",
    "    df[\"serieNum\"]=df[\"serieNum\"].fillna(0).astype(int)\n",
    "    df[\"part\"] = 0\n",
    "    df[\"year\"] = df[\"year\"].fillna(0).astype(int)\n",
    "    df[\"collectionName\"]=collection_name\n",
    "    df[\"serieTitle\"]=df[\"volumeTitle\"]\n",
    "    if df[\"edition\"].loc[0]!= None:\n",
    "        df[\"volumeTitle\"]=df[\"volumeTitle\"]+\" \"+df[\"edition\"]\n",
    "    \n",
    "    tmp = df['pageNum'].apply(lambda s:s.split('Page')[1])\n",
    "    df['pageNum']= tmp\n",
    "   \n",
    "    try:\n",
    "        df[\"referencedBy\"]=df[\"referencedBy\"].split(\"----\")\n",
    "    except:\n",
    "        pass\n",
    "    \n",
    "    ### this takes a while! \n",
    "    df[\"publisherPersons\"]=df[\"publisher\"].apply(lambda x: find_persons(x))\n",
    "\n",
    "    ### this should be improved in the future - these would not work for other collections\n",
    "    ##  i have detected copies of the same book, with different volumeID. \n",
    "    # So, going to add them as new vols, of the same serie. \n",
    "    \n",
    "    series_vol=df.groupby(['MMSID', 'volumeId']).size().reset_index()\n",
    "    count_vol=series_vol.groupby(['MMSID'])['volumeId'].size().reset_index()\n",
    "    for i, row in count_vol.iterrows():\n",
    "        mmsid=row['MMSID']\n",
    "        num_vol=row['volumeId']\n",
    "        df.loc[df['MMSID'] == mmsid, 'numberOfVolumes'] = num_vol\n",
    "    \n",
    "    \n",
    "    series_mmsid=series_vol.groupby(['MMSID'])['volumeId'].unique().reset_index()\n",
    "    if df[\"edition\"].loc[0] == None :\n",
    "        for i, row in series_mmsid.iterrows():\n",
    "            mmsid=row['MMSID']\n",
    "            num_vol=len(row['volumeId'])\n",
    "            list_vol=row['volumeId']\n",
    "            for nv in range(0, num_vol):\n",
    "                v_id=list_vol[nv]\n",
    "                df.loc[df['volumeId'] == v_id, 'volumeNum'] = nv+1\n",
    "    else:\n",
    "        for i, row in df.iterrows():\n",
    "            volum_num=row['edition']\n",
    "            if \"Volume\" in volum_num:\n",
    "                vnum=volum_num.split(\"Volume \")[1]\n",
    "                vn=vnum.split(\" \")[0]\n",
    "            else:\n",
    "                vn=\"1\"\n",
    "            row['volumeNum']=vn    \n",
    "            v_id=row['volumeId']\n",
    "            df.loc[df['volumeId'] == v_id, 'volumeNum'] = vn\n",
    "\n",
    "    df[\"volumeNum\"]=df[\"volumeNum\"].fillna(0).astype(int)\n",
    "    df[\"numberOfVolumes\"]=df[\"numberOfVolumes\"].fillna(0).astype(int)\n",
    "    \n",
    "    \n",
    "    return df"
   ]
  },
  {
   "cell_type": "markdown",
   "metadata": {},
   "source": [
    "### 1. Reading data"
   ]
  },
  {
   "cell_type": "markdown",
   "metadata": {},
   "source": [
    "Here we are going to take the output of the defoe files and we are going to create the final dataframe, that we will use later for creating the knowlege graph."
   ]
  },
  {
   "cell_type": "markdown",
   "metadata": {},
   "source": [
    "### Note: The next line takes time!"
   ]
  },
  {
   "cell_type": "code",
   "execution_count": 39,
   "metadata": {},
   "outputs": [],
   "source": [
    "query_results=read_query_results('results_chapbooks.yml')"
   ]
  },
  {
   "cell_type": "code",
   "execution_count": 40,
   "metadata": {},
   "outputs": [],
   "source": [
    "metadata_results = copy.deepcopy(query_results)"
   ]
  },
  {
   "cell_type": "markdown",
   "metadata": {},
   "source": [
    "### Note: The next line takes (a lot of) time!"
   ]
  },
  {
   "cell_type": "code",
   "execution_count": 41,
   "metadata": {},
   "outputs": [
    {
     "name": "stdout",
     "output_type": "stream",
     "text": [
      "dict_keys(['MMSID', 'city', 'country', 'dateIssued', 'edition', 'editor', 'editor_date', 'genre', 'geographic', 'language', 'metsXML', 'name_termsOfAddress', 'num_pages', 'num_words', 'permanentURL', 'physical_description', 'place', 'publisher', 'referenced_by', 'shelfLocator', 'source_text_file', 'subtitle', 'temporal', 'text', 'text_unit_id', 'title', 'topic', 'volumeId', 'year'])\n"
     ]
    }
   ],
   "source": [
    "df= create_dataframe(metadata_results, \"Chapbooks printed in Scotland\")"
   ]
  },
  {
   "cell_type": "markdown",
   "metadata": {},
   "source": [
    "### Listing the columns"
   ]
  },
  {
   "cell_type": "code",
   "execution_count": 42,
   "metadata": {},
   "outputs": [
    {
     "data": {
      "text/plain": "Index(['MMSID', 'edition', 'editor', 'editor_date', 'genre', 'language',\n       'metsXML', 'termsOfAddress', 'numberOfPages', 'numberOfWords',\n       'permanentURL', 'physicalDescription', 'place', 'publisher',\n       'referencedBy', 'shelfLocator', 'altoXML', 'serieSubTitle', 'text',\n       'pageNum', 'volumeTitle', 'volumeId', 'year', 'serieNum', 'part',\n       'collectionName', 'serieTitle', 'publisherPersons', 'numberOfVolumes',\n       'volumeNum'],\n      dtype='object')"
     },
     "execution_count": 42,
     "metadata": {},
     "output_type": "execute_result"
    }
   ],
   "source": [
    "df.columns"
   ]
  },
  {
   "cell_type": "code",
   "execution_count": 43,
   "metadata": {},
   "outputs": [],
   "source": [
    "#df.groupby(['MMSID', 'permanentURL']).size()\n",
    "#df[df[\"volumeId\"]==\"104185768\"][\"volumeNum\"]"
   ]
  },
  {
   "cell_type": "markdown",
   "metadata": {},
   "source": [
    "### Brief explanation of each column"
   ]
  },
  {
   "cell_type": "markdown",
   "metadata": {},
   "source": [
    "- MMSID: Metadata Management System ID\n",
    "- serieTitle:        Title of the collection\n",
    "- serieSubTilte:     Subtitle of the collection\n",
    "- editor:              Editor (person) of an edition or a supplement\n",
    "- termsOfAddress:      Terms of Address of the editor (e.g. Sir)\n",
    "- editor_date: Year of Birth - Year of Death\n",
    "- genre:        genre of the editions\n",
    "- language:     language used to write the volumes\n",
    "- numberOfPages: number of pages of a volume\n",
    "- physicalDescription: physical description of a collection\n",
    "- place: place printed of a edition or a supplement\n",
    "- publisher: publisher (organization or person) of a collection\n",
    "- referencedBy: books which reference a collection\n",
    "- shelfLocator: shelf locator of a collection\n",
    "- subTitle: subtitle of an edition\n",
    "- volumeTitle: title of a volume\n",
    "- year: year of print\n",
    "- volumeId: volume identifier\n",
    "- metsXML: XML mets file\n",
    "- permanentURL: URL of a volume\n",
    "- publisherPersons: list of publishers which are persons - we have applied NLP for detecting the people!\n",
    "- volumeNum: Number of a volume\n",
    "- part: Part of a volume\n",
    "- collectionNum: Number of a collection\n",
    "- numberOfVolumes: Number of volumes per edition or supplement\n",
    "- text: text of page\n",
    "- numberOfWords: number of words per page\n",
    "- altoXML: alto xml of each page\n",
    "- PageNum: number of page"
   ]
  },
  {
   "cell_type": "markdown",
   "metadata": {},
   "source": [
    "### Sanity checks"
   ]
  },
  {
   "cell_type": "code",
   "execution_count": 44,
   "metadata": {
    "scrolled": true
   },
   "outputs": [
    {
     "data": {
      "text/plain": "MMSID                                                   9937033633804341\nedition                                                             None\neditor                                                       Milne, John\neditor_date                                                    1792-1871\ngenre                              Chapbooks-Scotland-Aberdeen-1801-1900\nlanguage                                                             eng\nmetsXML                                               104184105-mets.xml\ntermsOfAddress                                                      None\nnumberOfPages                                                          8\nnumberOfWords                                                         53\npermanentURL                            https://digital.nls.uk/104184105\nphysicalDescription                                        8 p. ; 18 cm.\nplace                                                           Aberdeen\npublisher                             Printed by A. Imlay, 22, Long Acre\nreferencedBy                                                        None\nshelfLocator                                               L.C.2786.A(1)\naltoXML                                  104184105/alto/107134030.34.xml\nserieSubTitle                                  to the tune of Johnny Cop\ntext                   A SONG JRAISB OP THE ^ HIGHLAND LADS. To the T...\npageNum                                                                1\nvolumeTitle                          song in praise of the highland lads\nvolumeId                                                       104184105\nyear                                                                1826\nserieNum                                                               0\npart                                                                   0\ncollectionName                             Chapbooks printed in Scotland\nserieTitle                           song in praise of the highland lads\npublisherPersons                                                      []\nnumberOfVolumes                                                        1\nvolumeNum                                                              1\nName: 0, dtype: object"
     },
     "execution_count": 44,
     "metadata": {},
     "output_type": "execute_result"
    }
   ],
   "source": [
    "df.loc[0]"
   ]
  },
  {
   "cell_type": "code",
   "execution_count": 45,
   "metadata": {},
   "outputs": [
    {
     "data": {
      "text/plain": "        volumeId  numberOfVolumes\n0      104184105                1\n1      104184105                1\n2      104184105                1\n3      104184105                1\n4      104184105                1\n...          ...              ...\n47324  120101372                2\n47325  120101372                2\n47326  120101372                2\n47327  120101372                2\n47328  120101372                2\n\n[47329 rows x 2 columns]",
      "text/html": "<div>\n<style scoped>\n    .dataframe tbody tr th:only-of-type {\n        vertical-align: middle;\n    }\n\n    .dataframe tbody tr th {\n        vertical-align: top;\n    }\n\n    .dataframe thead th {\n        text-align: right;\n    }\n</style>\n<table border=\"1\" class=\"dataframe\">\n  <thead>\n    <tr style=\"text-align: right;\">\n      <th></th>\n      <th>volumeId</th>\n      <th>numberOfVolumes</th>\n    </tr>\n  </thead>\n  <tbody>\n    <tr>\n      <th>0</th>\n      <td>104184105</td>\n      <td>1</td>\n    </tr>\n    <tr>\n      <th>1</th>\n      <td>104184105</td>\n      <td>1</td>\n    </tr>\n    <tr>\n      <th>2</th>\n      <td>104184105</td>\n      <td>1</td>\n    </tr>\n    <tr>\n      <th>3</th>\n      <td>104184105</td>\n      <td>1</td>\n    </tr>\n    <tr>\n      <th>4</th>\n      <td>104184105</td>\n      <td>1</td>\n    </tr>\n    <tr>\n      <th>...</th>\n      <td>...</td>\n      <td>...</td>\n    </tr>\n    <tr>\n      <th>47324</th>\n      <td>120101372</td>\n      <td>2</td>\n    </tr>\n    <tr>\n      <th>47325</th>\n      <td>120101372</td>\n      <td>2</td>\n    </tr>\n    <tr>\n      <th>47326</th>\n      <td>120101372</td>\n      <td>2</td>\n    </tr>\n    <tr>\n      <th>47327</th>\n      <td>120101372</td>\n      <td>2</td>\n    </tr>\n    <tr>\n      <th>47328</th>\n      <td>120101372</td>\n      <td>2</td>\n    </tr>\n  </tbody>\n</table>\n<p>47329 rows × 2 columns</p>\n</div>"
     },
     "execution_count": 45,
     "metadata": {},
     "output_type": "execute_result"
    }
   ],
   "source": [
    "df[[\"volumeId\",\"numberOfVolumes\"]]"
   ]
  },
  {
   "cell_type": "markdown",
   "metadata": {},
   "source": [
    "## Saving the final dataframe into a json file"
   ]
  },
  {
   "cell_type": "code",
   "execution_count": 46,
   "metadata": {},
   "outputs": [],
   "source": [
    "df.to_json(r'chapbooks_dataframe', orient=\"index\")"
   ]
  },
  {
   "cell_type": "markdown",
   "metadata": {},
   "source": [
    "### A couple of explorations"
   ]
  },
  {
   "cell_type": "code",
   "execution_count": 47,
   "metadata": {},
   "outputs": [
    {
     "data": {
      "text/plain": "0        song in praise of the highland lads\n1        song in praise of the highland lads\n2        song in praise of the highland lads\n3        song in praise of the highland lads\n4        song in praise of the highland lads\n                        ...                 \n47324                   Burns' popular songs\n47325                   Burns' popular songs\n47326                   Burns' popular songs\n47327                   Burns' popular songs\n47328                   Burns' popular songs\nName: volumeTitle, Length: 47329, dtype: object"
     },
     "execution_count": 47,
     "metadata": {},
     "output_type": "execute_result"
    }
   ],
   "source": [
    "df[\"volumeTitle\"]"
   ]
  },
  {
   "cell_type": "code",
   "execution_count": 48,
   "metadata": {
    "scrolled": true
   },
   "outputs": [
    {
     "data": {
      "text/plain": "0          Milne, John\n1          Milne, John\n2          Milne, John\n3          Milne, John\n4          Milne, John\n             ...      \n47324    Burns, Robert\n47325    Burns, Robert\n47326    Burns, Robert\n47327    Burns, Robert\n47328    Burns, Robert\nName: editor, Length: 47329, dtype: object"
     },
     "execution_count": 48,
     "metadata": {},
     "output_type": "execute_result"
    }
   ],
   "source": [
    "df[\"editor\"]"
   ]
  },
  {
   "cell_type": "code",
   "execution_count": 49,
   "metadata": {},
   "outputs": [
    {
     "data": {
      "text/plain": "                   MMSID  edition  editor_date  genre  language  metsXML  \\\neditor                                                                     \nAbercromby, Ralph     24        0           24     24        24       24   \nAbraham               24        0            0     24        24       24   \nAesop.                24        0            0     24        24       24   \nAinslie, Hew          24        0           24     24        24       24   \nAitken, A.            12        0            0      0        12       12   \n...                  ...      ...          ...    ...       ...      ...   \nWolfe, Charles        48        0           48     48        48       48   \nWolfe, James          48        0           48     48        48       48   \nWoodward, Josiah      24        0           24      0        24       24   \nYarrington, Rob.       8        0            0      8         8        8   \nYoung Gentleman        8        0            0      8         8        8   \n\n                   termsOfAddress  numberOfPages  numberOfWords  permanentURL  \\\neditor                                                                          \nAbercromby, Ralph              24             24             24            24   \nAbraham                        24             24             24            24   \nAesop.                          0             24             24            24   \nAinslie, Hew                    0             24             24            24   \nAitken, A.                      0             12             12            12   \n...                           ...            ...            ...           ...   \nWolfe, Charles                  0             48             48            48   \nWolfe, James                    0             48             48            48   \nWoodward, Josiah                0             24             24            24   \nYarrington, Rob.                0              8              8             8   \nYoung Gentleman                 8              8              8             8   \n\n                   ...  volumeTitle  volumeId  year  serieNum  part  \\\neditor             ...                                                \nAbercromby, Ralph  ...           24        24    24        24    24   \nAbraham            ...           24        24    24        24    24   \nAesop.             ...           24        24    24        24    24   \nAinslie, Hew       ...           24        24    24        24    24   \nAitken, A.         ...           12        12    12        12    12   \n...                ...          ...       ...   ...       ...   ...   \nWolfe, Charles     ...           48        48    48        48    48   \nWolfe, James       ...           48        48    48        48    48   \nWoodward, Josiah   ...           24        24    24        24    24   \nYarrington, Rob.   ...            8         8     8         8     8   \nYoung Gentleman    ...            8         8     8         8     8   \n\n                   collectionName  serieTitle  publisherPersons  \\\neditor                                                            \nAbercromby, Ralph              24          24                24   \nAbraham                        24          24                24   \nAesop.                         24          24                24   \nAinslie, Hew                   24          24                24   \nAitken, A.                     12          12                12   \n...                           ...         ...               ...   \nWolfe, Charles                 48          48                48   \nWolfe, James                   48          48                48   \nWoodward, Josiah               24          24                24   \nYarrington, Rob.                8           8                 8   \nYoung Gentleman                 8           8                 8   \n\n                   numberOfVolumes  volumeNum  \neditor                                         \nAbercromby, Ralph               24         24  \nAbraham                         24         24  \nAesop.                          24         24  \nAinslie, Hew                    24         24  \nAitken, A.                      12         12  \n...                            ...        ...  \nWolfe, Charles                  48         48  \nWolfe, James                    48         48  \nWoodward, Josiah                24         24  \nYarrington, Rob.                 8          8  \nYoung Gentleman                  8          8  \n\n[366 rows x 29 columns]",
      "text/html": "<div>\n<style scoped>\n    .dataframe tbody tr th:only-of-type {\n        vertical-align: middle;\n    }\n\n    .dataframe tbody tr th {\n        vertical-align: top;\n    }\n\n    .dataframe thead th {\n        text-align: right;\n    }\n</style>\n<table border=\"1\" class=\"dataframe\">\n  <thead>\n    <tr style=\"text-align: right;\">\n      <th></th>\n      <th>MMSID</th>\n      <th>edition</th>\n      <th>editor_date</th>\n      <th>genre</th>\n      <th>language</th>\n      <th>metsXML</th>\n      <th>termsOfAddress</th>\n      <th>numberOfPages</th>\n      <th>numberOfWords</th>\n      <th>permanentURL</th>\n      <th>...</th>\n      <th>volumeTitle</th>\n      <th>volumeId</th>\n      <th>year</th>\n      <th>serieNum</th>\n      <th>part</th>\n      <th>collectionName</th>\n      <th>serieTitle</th>\n      <th>publisherPersons</th>\n      <th>numberOfVolumes</th>\n      <th>volumeNum</th>\n    </tr>\n    <tr>\n      <th>editor</th>\n      <th></th>\n      <th></th>\n      <th></th>\n      <th></th>\n      <th></th>\n      <th></th>\n      <th></th>\n      <th></th>\n      <th></th>\n      <th></th>\n      <th></th>\n      <th></th>\n      <th></th>\n      <th></th>\n      <th></th>\n      <th></th>\n      <th></th>\n      <th></th>\n      <th></th>\n      <th></th>\n      <th></th>\n    </tr>\n  </thead>\n  <tbody>\n    <tr>\n      <th>Abercromby, Ralph</th>\n      <td>24</td>\n      <td>0</td>\n      <td>24</td>\n      <td>24</td>\n      <td>24</td>\n      <td>24</td>\n      <td>24</td>\n      <td>24</td>\n      <td>24</td>\n      <td>24</td>\n      <td>...</td>\n      <td>24</td>\n      <td>24</td>\n      <td>24</td>\n      <td>24</td>\n      <td>24</td>\n      <td>24</td>\n      <td>24</td>\n      <td>24</td>\n      <td>24</td>\n      <td>24</td>\n    </tr>\n    <tr>\n      <th>Abraham</th>\n      <td>24</td>\n      <td>0</td>\n      <td>0</td>\n      <td>24</td>\n      <td>24</td>\n      <td>24</td>\n      <td>24</td>\n      <td>24</td>\n      <td>24</td>\n      <td>24</td>\n      <td>...</td>\n      <td>24</td>\n      <td>24</td>\n      <td>24</td>\n      <td>24</td>\n      <td>24</td>\n      <td>24</td>\n      <td>24</td>\n      <td>24</td>\n      <td>24</td>\n      <td>24</td>\n    </tr>\n    <tr>\n      <th>Aesop.</th>\n      <td>24</td>\n      <td>0</td>\n      <td>0</td>\n      <td>24</td>\n      <td>24</td>\n      <td>24</td>\n      <td>0</td>\n      <td>24</td>\n      <td>24</td>\n      <td>24</td>\n      <td>...</td>\n      <td>24</td>\n      <td>24</td>\n      <td>24</td>\n      <td>24</td>\n      <td>24</td>\n      <td>24</td>\n      <td>24</td>\n      <td>24</td>\n      <td>24</td>\n      <td>24</td>\n    </tr>\n    <tr>\n      <th>Ainslie, Hew</th>\n      <td>24</td>\n      <td>0</td>\n      <td>24</td>\n      <td>24</td>\n      <td>24</td>\n      <td>24</td>\n      <td>0</td>\n      <td>24</td>\n      <td>24</td>\n      <td>24</td>\n      <td>...</td>\n      <td>24</td>\n      <td>24</td>\n      <td>24</td>\n      <td>24</td>\n      <td>24</td>\n      <td>24</td>\n      <td>24</td>\n      <td>24</td>\n      <td>24</td>\n      <td>24</td>\n    </tr>\n    <tr>\n      <th>Aitken, A.</th>\n      <td>12</td>\n      <td>0</td>\n      <td>0</td>\n      <td>0</td>\n      <td>12</td>\n      <td>12</td>\n      <td>0</td>\n      <td>12</td>\n      <td>12</td>\n      <td>12</td>\n      <td>...</td>\n      <td>12</td>\n      <td>12</td>\n      <td>12</td>\n      <td>12</td>\n      <td>12</td>\n      <td>12</td>\n      <td>12</td>\n      <td>12</td>\n      <td>12</td>\n      <td>12</td>\n    </tr>\n    <tr>\n      <th>...</th>\n      <td>...</td>\n      <td>...</td>\n      <td>...</td>\n      <td>...</td>\n      <td>...</td>\n      <td>...</td>\n      <td>...</td>\n      <td>...</td>\n      <td>...</td>\n      <td>...</td>\n      <td>...</td>\n      <td>...</td>\n      <td>...</td>\n      <td>...</td>\n      <td>...</td>\n      <td>...</td>\n      <td>...</td>\n      <td>...</td>\n      <td>...</td>\n      <td>...</td>\n      <td>...</td>\n    </tr>\n    <tr>\n      <th>Wolfe, Charles</th>\n      <td>48</td>\n      <td>0</td>\n      <td>48</td>\n      <td>48</td>\n      <td>48</td>\n      <td>48</td>\n      <td>0</td>\n      <td>48</td>\n      <td>48</td>\n      <td>48</td>\n      <td>...</td>\n      <td>48</td>\n      <td>48</td>\n      <td>48</td>\n      <td>48</td>\n      <td>48</td>\n      <td>48</td>\n      <td>48</td>\n      <td>48</td>\n      <td>48</td>\n      <td>48</td>\n    </tr>\n    <tr>\n      <th>Wolfe, James</th>\n      <td>48</td>\n      <td>0</td>\n      <td>48</td>\n      <td>48</td>\n      <td>48</td>\n      <td>48</td>\n      <td>0</td>\n      <td>48</td>\n      <td>48</td>\n      <td>48</td>\n      <td>...</td>\n      <td>48</td>\n      <td>48</td>\n      <td>48</td>\n      <td>48</td>\n      <td>48</td>\n      <td>48</td>\n      <td>48</td>\n      <td>48</td>\n      <td>48</td>\n      <td>48</td>\n    </tr>\n    <tr>\n      <th>Woodward, Josiah</th>\n      <td>24</td>\n      <td>0</td>\n      <td>24</td>\n      <td>0</td>\n      <td>24</td>\n      <td>24</td>\n      <td>0</td>\n      <td>24</td>\n      <td>24</td>\n      <td>24</td>\n      <td>...</td>\n      <td>24</td>\n      <td>24</td>\n      <td>24</td>\n      <td>24</td>\n      <td>24</td>\n      <td>24</td>\n      <td>24</td>\n      <td>24</td>\n      <td>24</td>\n      <td>24</td>\n    </tr>\n    <tr>\n      <th>Yarrington, Rob.</th>\n      <td>8</td>\n      <td>0</td>\n      <td>0</td>\n      <td>8</td>\n      <td>8</td>\n      <td>8</td>\n      <td>0</td>\n      <td>8</td>\n      <td>8</td>\n      <td>8</td>\n      <td>...</td>\n      <td>8</td>\n      <td>8</td>\n      <td>8</td>\n      <td>8</td>\n      <td>8</td>\n      <td>8</td>\n      <td>8</td>\n      <td>8</td>\n      <td>8</td>\n      <td>8</td>\n    </tr>\n    <tr>\n      <th>Young Gentleman</th>\n      <td>8</td>\n      <td>0</td>\n      <td>0</td>\n      <td>8</td>\n      <td>8</td>\n      <td>8</td>\n      <td>8</td>\n      <td>8</td>\n      <td>8</td>\n      <td>8</td>\n      <td>...</td>\n      <td>8</td>\n      <td>8</td>\n      <td>8</td>\n      <td>8</td>\n      <td>8</td>\n      <td>8</td>\n      <td>8</td>\n      <td>8</td>\n      <td>8</td>\n      <td>8</td>\n    </tr>\n  </tbody>\n</table>\n<p>366 rows × 29 columns</p>\n</div>"
     },
     "execution_count": 49,
     "metadata": {},
     "output_type": "execute_result"
    }
   ],
   "source": [
    "df.groupby(df[\"editor\"]).count()"
   ]
  },
  {
   "cell_type": "code",
   "execution_count": 50,
   "metadata": {},
   "outputs": [
    {
     "data": {
      "text/plain": "                                                    MMSID  edition  editor  \\\npublisher                                                                    \n(Printed by J. Chalmers & Co. Castlestreet Aber...      8        0       8   \n- Printed and sold by M. Randall                        8        0       0   \n- Printed by C. Randall.                               16        0       0   \n-Printed by C. Randall                                  8        0       8   \n-Printed by J. Morren                                  16        0       0   \n...                                                   ...      ...     ...   \nprinted, for the author                                 8        0       8   \nre-printed and sold by James Watson                    24        0      24   \nreprinted, and sold by most book-sellers in town       20        0       0   \ns.n.                                                  272        0     156   \ns.n.]                                                 196        0      64   \n\n                                                    editor_date  genre  \\\npublisher                                                                \n(Printed by J. Chalmers & Co. Castlestreet Aber...            8      8   \n- Printed and sold by M. Randall                              0      8   \n- Printed by C. Randall.                                      0     16   \n-Printed by C. Randall                                        8      8   \n-Printed by J. Morren                                         0     16   \n...                                                         ...    ...   \nprinted, for the author                                       0      0   \nre-printed and sold by James Watson                           0      0   \nreprinted, and sold by most book-sellers in town              0      0   \ns.n.                                                         86    256   \ns.n.]                                                        40    196   \n\n                                                    language  metsXML  \\\npublisher                                                               \n(Printed by J. Chalmers & Co. Castlestreet Aber...         8        8   \n- Printed and sold by M. Randall                           8        8   \n- Printed by C. Randall.                                  16       16   \n-Printed by C. Randall                                     8        8   \n-Printed by J. Morren                                     16       16   \n...                                                      ...      ...   \nprinted, for the author                                    8        8   \nre-printed and sold by James Watson                       24       24   \nreprinted, and sold by most book-sellers in town          20       20   \ns.n.                                                     272      272   \ns.n.]                                                    196      196   \n\n                                                    termsOfAddress  \\\npublisher                                                            \n(Printed by J. Chalmers & Co. Castlestreet Aber...               0   \n- Printed and sold by M. Randall                                 0   \n- Printed by C. Randall.                                         0   \n-Printed by C. Randall                                           0   \n-Printed by J. Morren                                            0   \n...                                                            ...   \nprinted, for the author                                          0   \nre-printed and sold by James Watson                              0   \nreprinted, and sold by most book-sellers in town                 0   \ns.n.                                                            62   \ns.n.]                                                            0   \n\n                                                    numberOfPages  \\\npublisher                                                           \n(Printed by J. Chalmers & Co. Castlestreet Aber...              8   \n- Printed and sold by M. Randall                                8   \n- Printed by C. Randall.                                       16   \n-Printed by C. Randall                                          8   \n-Printed by J. Morren                                          16   \n...                                                           ...   \nprinted, for the author                                         8   \nre-printed and sold by James Watson                            24   \nreprinted, and sold by most book-sellers in town               20   \ns.n.                                                          272   \ns.n.]                                                         196   \n\n                                                    numberOfWords  ...  \\\npublisher                                                          ...   \n(Printed by J. Chalmers & Co. Castlestreet Aber...              8  ...   \n- Printed and sold by M. Randall                                8  ...   \n- Printed by C. Randall.                                       16  ...   \n-Printed by C. Randall                                          8  ...   \n-Printed by J. Morren                                          16  ...   \n...                                                           ...  ...   \nprinted, for the author                                         8  ...   \nre-printed and sold by James Watson                            24  ...   \nreprinted, and sold by most book-sellers in town               20  ...   \ns.n.                                                          272  ...   \ns.n.]                                                         196  ...   \n\n                                                    volumeTitle  volumeId  \\\npublisher                                                                   \n(Printed by J. Chalmers & Co. Castlestreet Aber...            8         8   \n- Printed and sold by M. Randall                              8         8   \n- Printed by C. Randall.                                     16        16   \n-Printed by C. Randall                                        8         8   \n-Printed by J. Morren                                        16        16   \n...                                                         ...       ...   \nprinted, for the author                                       8         8   \nre-printed and sold by James Watson                          24        24   \nreprinted, and sold by most book-sellers in town             20        20   \ns.n.                                                        272       272   \ns.n.]                                                       196       196   \n\n                                                    year  serieNum  part  \\\npublisher                                                                  \n(Printed by J. Chalmers & Co. Castlestreet Aber...     8         8     8   \n- Printed and sold by M. Randall                       8         8     8   \n- Printed by C. Randall.                              16        16    16   \n-Printed by C. Randall                                 8         8     8   \n-Printed by J. Morren                                 16        16    16   \n...                                                  ...       ...   ...   \nprinted, for the author                                8         8     8   \nre-printed and sold by James Watson                   24        24    24   \nreprinted, and sold by most book-sellers in town      20        20    20   \ns.n.                                                 272       272   272   \ns.n.]                                                196       196   196   \n\n                                                    collectionName  \\\npublisher                                                            \n(Printed by J. Chalmers & Co. Castlestreet Aber...               8   \n- Printed and sold by M. Randall                                 8   \n- Printed by C. Randall.                                        16   \n-Printed by C. Randall                                           8   \n-Printed by J. Morren                                           16   \n...                                                            ...   \nprinted, for the author                                          8   \nre-printed and sold by James Watson                             24   \nreprinted, and sold by most book-sellers in town                20   \ns.n.                                                           272   \ns.n.]                                                          196   \n\n                                                    serieTitle  \\\npublisher                                                        \n(Printed by J. Chalmers & Co. Castlestreet Aber...           8   \n- Printed and sold by M. Randall                             8   \n- Printed by C. Randall.                                    16   \n-Printed by C. Randall                                       8   \n-Printed by J. Morren                                       16   \n...                                                        ...   \nprinted, for the author                                      8   \nre-printed and sold by James Watson                         24   \nreprinted, and sold by most book-sellers in town            20   \ns.n.                                                       272   \ns.n.]                                                      196   \n\n                                                    publisherPersons  \\\npublisher                                                              \n(Printed by J. Chalmers & Co. Castlestreet Aber...                 8   \n- Printed and sold by M. Randall                                   8   \n- Printed by C. Randall.                                          16   \n-Printed by C. Randall                                             8   \n-Printed by J. Morren                                             16   \n...                                                              ...   \nprinted, for the author                                            8   \nre-printed and sold by James Watson                               24   \nreprinted, and sold by most book-sellers in town                  20   \ns.n.                                                             272   \ns.n.]                                                            196   \n\n                                                    numberOfVolumes  volumeNum  \npublisher                                                                       \n(Printed by J. Chalmers & Co. Castlestreet Aber...                8          8  \n- Printed and sold by M. Randall                                  8          8  \n- Printed by C. Randall.                                         16         16  \n-Printed by C. Randall                                            8          8  \n-Printed by J. Morren                                            16         16  \n...                                                             ...        ...  \nprinted, for the author                                           8          8  \nre-printed and sold by James Watson                              24         24  \nreprinted, and sold by most book-sellers in town                 20         20  \ns.n.                                                            272        272  \ns.n.]                                                           196        196  \n\n[522 rows x 29 columns]",
      "text/html": "<div>\n<style scoped>\n    .dataframe tbody tr th:only-of-type {\n        vertical-align: middle;\n    }\n\n    .dataframe tbody tr th {\n        vertical-align: top;\n    }\n\n    .dataframe thead th {\n        text-align: right;\n    }\n</style>\n<table border=\"1\" class=\"dataframe\">\n  <thead>\n    <tr style=\"text-align: right;\">\n      <th></th>\n      <th>MMSID</th>\n      <th>edition</th>\n      <th>editor</th>\n      <th>editor_date</th>\n      <th>genre</th>\n      <th>language</th>\n      <th>metsXML</th>\n      <th>termsOfAddress</th>\n      <th>numberOfPages</th>\n      <th>numberOfWords</th>\n      <th>...</th>\n      <th>volumeTitle</th>\n      <th>volumeId</th>\n      <th>year</th>\n      <th>serieNum</th>\n      <th>part</th>\n      <th>collectionName</th>\n      <th>serieTitle</th>\n      <th>publisherPersons</th>\n      <th>numberOfVolumes</th>\n      <th>volumeNum</th>\n    </tr>\n    <tr>\n      <th>publisher</th>\n      <th></th>\n      <th></th>\n      <th></th>\n      <th></th>\n      <th></th>\n      <th></th>\n      <th></th>\n      <th></th>\n      <th></th>\n      <th></th>\n      <th></th>\n      <th></th>\n      <th></th>\n      <th></th>\n      <th></th>\n      <th></th>\n      <th></th>\n      <th></th>\n      <th></th>\n      <th></th>\n      <th></th>\n    </tr>\n  </thead>\n  <tbody>\n    <tr>\n      <th>(Printed by J. Chalmers &amp; Co. Castlestreet Aberdeen.)</th>\n      <td>8</td>\n      <td>0</td>\n      <td>8</td>\n      <td>8</td>\n      <td>8</td>\n      <td>8</td>\n      <td>8</td>\n      <td>0</td>\n      <td>8</td>\n      <td>8</td>\n      <td>...</td>\n      <td>8</td>\n      <td>8</td>\n      <td>8</td>\n      <td>8</td>\n      <td>8</td>\n      <td>8</td>\n      <td>8</td>\n      <td>8</td>\n      <td>8</td>\n      <td>8</td>\n    </tr>\n    <tr>\n      <th>- Printed and sold by M. Randall</th>\n      <td>8</td>\n      <td>0</td>\n      <td>0</td>\n      <td>0</td>\n      <td>8</td>\n      <td>8</td>\n      <td>8</td>\n      <td>0</td>\n      <td>8</td>\n      <td>8</td>\n      <td>...</td>\n      <td>8</td>\n      <td>8</td>\n      <td>8</td>\n      <td>8</td>\n      <td>8</td>\n      <td>8</td>\n      <td>8</td>\n      <td>8</td>\n      <td>8</td>\n      <td>8</td>\n    </tr>\n    <tr>\n      <th>- Printed by C. Randall.</th>\n      <td>16</td>\n      <td>0</td>\n      <td>0</td>\n      <td>0</td>\n      <td>16</td>\n      <td>16</td>\n      <td>16</td>\n      <td>0</td>\n      <td>16</td>\n      <td>16</td>\n      <td>...</td>\n      <td>16</td>\n      <td>16</td>\n      <td>16</td>\n      <td>16</td>\n      <td>16</td>\n      <td>16</td>\n      <td>16</td>\n      <td>16</td>\n      <td>16</td>\n      <td>16</td>\n    </tr>\n    <tr>\n      <th>-Printed by C. Randall</th>\n      <td>8</td>\n      <td>0</td>\n      <td>8</td>\n      <td>8</td>\n      <td>8</td>\n      <td>8</td>\n      <td>8</td>\n      <td>0</td>\n      <td>8</td>\n      <td>8</td>\n      <td>...</td>\n      <td>8</td>\n      <td>8</td>\n      <td>8</td>\n      <td>8</td>\n      <td>8</td>\n      <td>8</td>\n      <td>8</td>\n      <td>8</td>\n      <td>8</td>\n      <td>8</td>\n    </tr>\n    <tr>\n      <th>-Printed by J. Morren</th>\n      <td>16</td>\n      <td>0</td>\n      <td>0</td>\n      <td>0</td>\n      <td>16</td>\n      <td>16</td>\n      <td>16</td>\n      <td>0</td>\n      <td>16</td>\n      <td>16</td>\n      <td>...</td>\n      <td>16</td>\n      <td>16</td>\n      <td>16</td>\n      <td>16</td>\n      <td>16</td>\n      <td>16</td>\n      <td>16</td>\n      <td>16</td>\n      <td>16</td>\n      <td>16</td>\n    </tr>\n    <tr>\n      <th>...</th>\n      <td>...</td>\n      <td>...</td>\n      <td>...</td>\n      <td>...</td>\n      <td>...</td>\n      <td>...</td>\n      <td>...</td>\n      <td>...</td>\n      <td>...</td>\n      <td>...</td>\n      <td>...</td>\n      <td>...</td>\n      <td>...</td>\n      <td>...</td>\n      <td>...</td>\n      <td>...</td>\n      <td>...</td>\n      <td>...</td>\n      <td>...</td>\n      <td>...</td>\n      <td>...</td>\n    </tr>\n    <tr>\n      <th>printed, for the author</th>\n      <td>8</td>\n      <td>0</td>\n      <td>8</td>\n      <td>0</td>\n      <td>0</td>\n      <td>8</td>\n      <td>8</td>\n      <td>0</td>\n      <td>8</td>\n      <td>8</td>\n      <td>...</td>\n      <td>8</td>\n      <td>8</td>\n      <td>8</td>\n      <td>8</td>\n      <td>8</td>\n      <td>8</td>\n      <td>8</td>\n      <td>8</td>\n      <td>8</td>\n      <td>8</td>\n    </tr>\n    <tr>\n      <th>re-printed and sold by James Watson</th>\n      <td>24</td>\n      <td>0</td>\n      <td>24</td>\n      <td>0</td>\n      <td>0</td>\n      <td>24</td>\n      <td>24</td>\n      <td>0</td>\n      <td>24</td>\n      <td>24</td>\n      <td>...</td>\n      <td>24</td>\n      <td>24</td>\n      <td>24</td>\n      <td>24</td>\n      <td>24</td>\n      <td>24</td>\n      <td>24</td>\n      <td>24</td>\n      <td>24</td>\n      <td>24</td>\n    </tr>\n    <tr>\n      <th>reprinted, and sold by most book-sellers in town</th>\n      <td>20</td>\n      <td>0</td>\n      <td>0</td>\n      <td>0</td>\n      <td>0</td>\n      <td>20</td>\n      <td>20</td>\n      <td>0</td>\n      <td>20</td>\n      <td>20</td>\n      <td>...</td>\n      <td>20</td>\n      <td>20</td>\n      <td>20</td>\n      <td>20</td>\n      <td>20</td>\n      <td>20</td>\n      <td>20</td>\n      <td>20</td>\n      <td>20</td>\n      <td>20</td>\n    </tr>\n    <tr>\n      <th>s.n.</th>\n      <td>272</td>\n      <td>0</td>\n      <td>156</td>\n      <td>86</td>\n      <td>256</td>\n      <td>272</td>\n      <td>272</td>\n      <td>62</td>\n      <td>272</td>\n      <td>272</td>\n      <td>...</td>\n      <td>272</td>\n      <td>272</td>\n      <td>272</td>\n      <td>272</td>\n      <td>272</td>\n      <td>272</td>\n      <td>272</td>\n      <td>272</td>\n      <td>272</td>\n      <td>272</td>\n    </tr>\n    <tr>\n      <th>s.n.]</th>\n      <td>196</td>\n      <td>0</td>\n      <td>64</td>\n      <td>40</td>\n      <td>196</td>\n      <td>196</td>\n      <td>196</td>\n      <td>0</td>\n      <td>196</td>\n      <td>196</td>\n      <td>...</td>\n      <td>196</td>\n      <td>196</td>\n      <td>196</td>\n      <td>196</td>\n      <td>196</td>\n      <td>196</td>\n      <td>196</td>\n      <td>196</td>\n      <td>196</td>\n      <td>196</td>\n    </tr>\n  </tbody>\n</table>\n<p>522 rows × 29 columns</p>\n</div>"
     },
     "execution_count": 50,
     "metadata": {},
     "output_type": "execute_result"
    }
   ],
   "source": [
    "df.groupby(df[\"publisher\"]).count()"
   ]
  },
  {
   "cell_type": "code",
   "execution_count": 51,
   "metadata": {},
   "outputs": [
    {
     "data": {
      "text/plain": "serieTitle                                                           volumeId \n history of Moll Flanders                                            104184799    24\n                                                                     104186700    24\n hundred] godly lessons                                              104184318     8\n'Twas on the morn of sweet May Day                                   104185804     8\n                                                                     104186584     8\n                                                                                  ..\nyoung lasses' song, or What wou'd a young lassie do wi' an auld man  104184876     8\nyoung man's dream                                                    104185671     8\nyoung squire's frolic                                                104185386     8\nyoung woman's wish                                                   104185681     8\nyounger brother or, The sufferings of Saint Andre                    104186596    24\nName: volumeId, Length: 3080, dtype: int64"
     },
     "execution_count": 51,
     "metadata": {},
     "output_type": "execute_result"
    }
   ],
   "source": [
    "collection=df.groupby(['serieTitle','volumeId'])['volumeId'].size()\n",
    "collection"
   ]
  },
  {
   "cell_type": "code",
   "execution_count": 52,
   "metadata": {},
   "outputs": [
    {
     "data": {
      "text/plain": "genre                         volumeId \nBiography                     104184957    144\n                              104184969     48\n                              104186348     48\n                              104186391     30\nChapbooks-England-1801-1900.  104187077      8\n                                          ... \nletter                        104184120     12\nshort story                   104184108     12\n                              104184119     24\n                              104184368     24\nspeech                        104185456     24\nLength: 2826, dtype: int64"
     },
     "execution_count": 52,
     "metadata": {},
     "output_type": "execute_result"
    }
   ],
   "source": [
    "a=df.groupby(['genre', 'volumeId']).size()\n",
    "a"
   ]
  },
  {
   "cell_type": "code",
   "execution_count": 53,
   "metadata": {},
   "outputs": [
    {
     "data": {
      "text/plain": "place        volumeId \nAberdeen     104184105     8\n             104184115     8\n             104184118     8\n             104184124     8\n             104184125     8\n                          ..\nStirling]    104186915     8\n             104186916     8\n             104186917     8\n             104186918     8\ns.n., s.d.]  104185838    20\nLength: 3079, dtype: int64"
     },
     "execution_count": 53,
     "metadata": {},
     "output_type": "execute_result"
    }
   ],
   "source": [
    "a=df.groupby(['place', 'volumeId']).size()\n",
    "a"
   ]
  },
  {
   "cell_type": "code",
   "execution_count": 53,
   "metadata": {},
   "outputs": [],
   "source": []
  },
  {
   "cell_type": "code",
   "execution_count": 53,
   "metadata": {},
   "outputs": [],
   "source": []
  }
 ],
 "metadata": {
  "kernelspec": {
   "display_name": "Python 3 (ipykernel)",
   "language": "python",
   "name": "python3"
  },
  "language_info": {
   "codemirror_mode": {
    "name": "ipython",
    "version": 3
   },
   "file_extension": ".py",
   "mimetype": "text/x-python",
   "name": "python",
   "nbconvert_exporter": "python",
   "pygments_lexer": "ipython3",
   "version": "3.9.7"
  }
 },
 "nbformat": 4,
 "nbformat_minor": 2
}
